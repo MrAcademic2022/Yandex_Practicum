{
 "cells": [
  {
   "cell_type": "markdown",
   "metadata": {},
   "source": [
    "# Рекомендация тарифов"
   ]
  },
  {
   "cell_type": "markdown",
   "metadata": {},
   "source": [
    "Оператор мобильной связи «Мегалайн» выяснил: многие клиенты пользуются архивными тарифами. Они хотят построить систему, способную проанализировать поведение клиентов и предложить пользователям новый тариф: «Смарт» или «Ультра».\n",
    "\n",
    "В нашем распоряжении данные о поведении клиентов, которые уже перешли на эти тарифы (из проекта курса «Статистический анализ данных»). Необходимо построить модель для задачи классификации, которая выберет подходящий тариф. \n",
    "\n",
    "Значение `accuracy` модели должно быть максимальным и больше, чем 0.75. Проверка `accuracy` должна производиться на тестовой выборке."
   ]
  },
  {
   "cell_type": "markdown",
   "metadata": {},
   "source": [
    "# Цель исследования\n",
    "\n",
    "1. Выделить все компоненты, необходимые для обучения модели, которая будет предсказывать тарифный план пользователям\n",
    "2. Рассмотреть разные модели с разными параметрами, выбрать среди них лучшие по значению `accuracy`\n",
    "3. Проверить эти модели на тестовой выборке и выбрать лучшую среди лучших (необходимо также добиться того, чтобы `accuracy` был выше 0.73)\n",
    "4. Проверить получившуюся модель на адекватность (цель со звездочкой)"
   ]
  },
  {
   "cell_type": "markdown",
   "metadata": {},
   "source": [
    "# Ход работы\n",
    "\n",
    "У нас есть датафрейм, содержащий данные о пользователях (их звонках, интернете, смсках) и тарифных планах, которые они используют. Необходимо прежде всего ознакомиться с ним, проверить типы данных, наличие пропусков и дубликатов. Затем необходимо разделить данные на три выборки: обучающую, валидационную и тестовую (в соотношении `3:1:1`). Затем необходимо будет обучить и проверить разные гиперпараметры на нескольких изученных нами моделях. Выбрать среди них лучшие по значению `accuracy`, а затем проверить их все на тестовой выборке (также получив для каждой значение `accuracy`). Выбрать модель с самым высоким `accuracy` на тестовой выборке (который также должен быть выше `0.73`) и проверить её на адекватность. После всего этого сделать соответствующие выводы. То есть у нас намечается 5 этапов:\n",
    "- знакомство с данными, предобработка\n",
    "- формовка выборок\n",
    "- обучение моделей\n",
    "- проверка лучших моделей на тестовой выборке\n",
    "- проверка лучшей модели на адекватность"
   ]
  },
  {
   "cell_type": "markdown",
   "metadata": {},
   "source": [
    "# Описание данных\n",
    "\n",
    "- `сalls` — количество звонков,\n",
    "- `minutes` — суммарная длительность звонков в минутах,\n",
    "- `messages` — количество sms-сообщений,\n",
    "- `mb_used` — израсходованный интернет-трафик в Мб,\n",
    "- `is_ultra` — каким тарифом пользовался в течение месяца («Ультра» — 1, «Смарт» — 0)."
   ]
  },
  {
   "cell_type": "markdown",
   "metadata": {},
   "source": [
    "## Откройте и изучите файл\n",
    "\n",
    "Импортируем датасет в переменную `behavior` и выведем первые пять строк на экран, а также основную информацию о нём"
   ]
  },
  {
   "cell_type": "code",
   "execution_count": 9,
   "metadata": {},
   "outputs": [
    {
     "data": {
      "text/html": [
       "<div>\n",
       "<style scoped>\n",
       "    .dataframe tbody tr th:only-of-type {\n",
       "        vertical-align: middle;\n",
       "    }\n",
       "\n",
       "    .dataframe tbody tr th {\n",
       "        vertical-align: top;\n",
       "    }\n",
       "\n",
       "    .dataframe thead th {\n",
       "        text-align: right;\n",
       "    }\n",
       "</style>\n",
       "<table border=\"1\" class=\"dataframe\">\n",
       "  <thead>\n",
       "    <tr style=\"text-align: right;\">\n",
       "      <th></th>\n",
       "      <th>calls</th>\n",
       "      <th>minutes</th>\n",
       "      <th>messages</th>\n",
       "      <th>mb_used</th>\n",
       "      <th>is_ultra</th>\n",
       "    </tr>\n",
       "  </thead>\n",
       "  <tbody>\n",
       "    <tr>\n",
       "      <th>0</th>\n",
       "      <td>40.0</td>\n",
       "      <td>311.90</td>\n",
       "      <td>83.0</td>\n",
       "      <td>19915.42</td>\n",
       "      <td>0</td>\n",
       "    </tr>\n",
       "    <tr>\n",
       "      <th>1</th>\n",
       "      <td>85.0</td>\n",
       "      <td>516.75</td>\n",
       "      <td>56.0</td>\n",
       "      <td>22696.96</td>\n",
       "      <td>0</td>\n",
       "    </tr>\n",
       "    <tr>\n",
       "      <th>2</th>\n",
       "      <td>77.0</td>\n",
       "      <td>467.66</td>\n",
       "      <td>86.0</td>\n",
       "      <td>21060.45</td>\n",
       "      <td>0</td>\n",
       "    </tr>\n",
       "    <tr>\n",
       "      <th>3</th>\n",
       "      <td>106.0</td>\n",
       "      <td>745.53</td>\n",
       "      <td>81.0</td>\n",
       "      <td>8437.39</td>\n",
       "      <td>1</td>\n",
       "    </tr>\n",
       "    <tr>\n",
       "      <th>4</th>\n",
       "      <td>66.0</td>\n",
       "      <td>418.74</td>\n",
       "      <td>1.0</td>\n",
       "      <td>14502.75</td>\n",
       "      <td>0</td>\n",
       "    </tr>\n",
       "  </tbody>\n",
       "</table>\n",
       "</div>"
      ],
      "text/plain": [
       "   calls  minutes  messages   mb_used  is_ultra\n",
       "0   40.0   311.90      83.0  19915.42         0\n",
       "1   85.0   516.75      56.0  22696.96         0\n",
       "2   77.0   467.66      86.0  21060.45         0\n",
       "3  106.0   745.53      81.0   8437.39         1\n",
       "4   66.0   418.74       1.0  14502.75         0"
      ]
     },
     "execution_count": 9,
     "metadata": {},
     "output_type": "execute_result"
    }
   ],
   "source": [
    "import pandas as pd\n",
    "from sklearn.tree import DecisionTreeClassifier\n",
    "from sklearn.ensemble import RandomForestClassifier\n",
    "from sklearn.linear_model import LogisticRegression \n",
    "from sklearn.model_selection import train_test_split\n",
    "from sklearn.metrics import mean_squared_error\n",
    "import numpy as np\n",
    "\n",
    "\n",
    "behavior = pd.read_csv(\"/datasets/users_behavior.csv\")\n",
    "behavior.head()"
   ]
  },
  {
   "cell_type": "code",
   "execution_count": 10,
   "metadata": {},
   "outputs": [
    {
     "name": "stdout",
     "output_type": "stream",
     "text": [
      "<class 'pandas.core.frame.DataFrame'>\n",
      "RangeIndex: 3214 entries, 0 to 3213\n",
      "Data columns (total 5 columns):\n",
      " #   Column    Non-Null Count  Dtype  \n",
      "---  ------    --------------  -----  \n",
      " 0   calls     3214 non-null   float64\n",
      " 1   minutes   3214 non-null   float64\n",
      " 2   messages  3214 non-null   float64\n",
      " 3   mb_used   3214 non-null   float64\n",
      " 4   is_ultra  3214 non-null   int64  \n",
      "dtypes: float64(4), int64(1)\n",
      "memory usage: 125.7 KB\n"
     ]
    }
   ],
   "source": [
    "behavior.info()"
   ]
  },
  {
   "cell_type": "markdown",
   "metadata": {},
   "source": [
    "Видим, что в нашем датафрейме 3214 строк, 5 столбцов, описание данных было представлено выше. Названия столбцов корректные, типы данных следует обновить, так как количество звонков и сообщений не может быть нецелочисленным.\n",
    "\n",
    "Нет пропусков (ниже подсчетом показано)"
   ]
  },
  {
   "cell_type": "code",
   "execution_count": 11,
   "metadata": {
    "scrolled": true
   },
   "outputs": [
    {
     "data": {
      "text/plain": [
       "calls       0\n",
       "minutes     0\n",
       "messages    0\n",
       "mb_used     0\n",
       "is_ultra    0\n",
       "dtype: int64"
      ]
     },
     "execution_count": 11,
     "metadata": {},
     "output_type": "execute_result"
    }
   ],
   "source": [
    "behavior.isna().sum()"
   ]
  },
  {
   "cell_type": "markdown",
   "metadata": {},
   "source": [
    "Приведем столбцы звонков и сообщений к целочисленному типу и выведем информацию об обновленном датафрейме на экран для проверки"
   ]
  },
  {
   "cell_type": "code",
   "execution_count": 12,
   "metadata": {
    "scrolled": true
   },
   "outputs": [
    {
     "name": "stdout",
     "output_type": "stream",
     "text": [
      "<class 'pandas.core.frame.DataFrame'>\n",
      "RangeIndex: 3214 entries, 0 to 3213\n",
      "Data columns (total 5 columns):\n",
      " #   Column    Non-Null Count  Dtype  \n",
      "---  ------    --------------  -----  \n",
      " 0   calls     3214 non-null   int64  \n",
      " 1   minutes   3214 non-null   float64\n",
      " 2   messages  3214 non-null   int64  \n",
      " 3   mb_used   3214 non-null   float64\n",
      " 4   is_ultra  3214 non-null   int64  \n",
      "dtypes: float64(2), int64(3)\n",
      "memory usage: 125.7 KB\n"
     ]
    }
   ],
   "source": [
    "behavior[['calls','messages']] = behavior[['calls','messages']].astype(int)\n",
    "behavior.info()"
   ]
  },
  {
   "cell_type": "markdown",
   "metadata": {},
   "source": [
    "Привели требуемые столбцы к целочисленному виду\n",
    "\n",
    "На всякий случай проверим, есть ли дубликаты"
   ]
  },
  {
   "cell_type": "code",
   "execution_count": 13,
   "metadata": {},
   "outputs": [
    {
     "data": {
      "text/plain": [
       "0"
      ]
     },
     "execution_count": 13,
     "metadata": {},
     "output_type": "execute_result"
    }
   ],
   "source": [
    "behavior.duplicated().sum()"
   ]
  },
  {
   "cell_type": "markdown",
   "metadata": {},
   "source": [
    "Дубликатов нет, предобработка не требуется (за исключением аномальных данных, если есть), но, в принципе, в шапке проекта было написано, что предобработка не требуется, просто на всякий случай пощупал данные"
   ]
  },
  {
   "cell_type": "markdown",
   "metadata": {},
   "source": [
    "Так какую задачу мы будем решать?\n",
    "\n",
    "Перед нами стоит задача обучения модели, обучение с учителем (целевой признак полностью известен), а так как он (целевой признак) являет собой качественный признак, следовательно, это задача классификации. "
   ]
  },
  {
   "cell_type": "markdown",
   "metadata": {},
   "source": [
    "Проверим соотношение классов:"
   ]
  },
  {
   "cell_type": "code",
   "execution_count": 22,
   "metadata": {},
   "outputs": [
    {
     "data": {
      "text/plain": [
       "2229"
      ]
     },
     "execution_count": 22,
     "metadata": {},
     "output_type": "execute_result"
    }
   ],
   "source": [
    "behavior.query('is_ultra == 0')['is_ultra'].count() # количество людей без тарифа ультра"
   ]
  },
  {
   "cell_type": "code",
   "execution_count": 23,
   "metadata": {},
   "outputs": [
    {
     "data": {
      "text/plain": [
       "985"
      ]
     },
     "execution_count": 23,
     "metadata": {},
     "output_type": "execute_result"
    }
   ],
   "source": [
    "behavior.query('is_ultra == 1')['is_ultra'].count() # количество людей с тарифом ультра"
   ]
  },
  {
   "cell_type": "code",
   "execution_count": 24,
   "metadata": {},
   "outputs": [
    {
     "data": {
      "text/plain": [
       "2.2629441624365483"
      ]
     },
     "execution_count": 24,
     "metadata": {},
     "output_type": "execute_result"
    }
   ],
   "source": [
    "behavior.query('is_ultra == 0')['is_ultra'].count()/behavior.query('is_ultra == 1')['is_ultra'].count() # соотношение"
   ]
  },
  {
   "cell_type": "markdown",
   "metadata": {},
   "source": [
    "Видим, что людей без тарифа у нас больше, чем людей с тарифом, примерно в 2.3 раза, что можно считать за дисбаланс классов, который решается, например, недосемплированием (недобор большего признака, чтобы был равен меньшему), пересемплированием (дублирование меньшего признака), взвешиванием (что проще всего)."
   ]
  },
  {
   "cell_type": "markdown",
   "metadata": {},
   "source": [
    "Построим матрицу корреляции признаков:"
   ]
  },
  {
   "cell_type": "code",
   "execution_count": 25,
   "metadata": {
    "scrolled": false
   },
   "outputs": [
    {
     "data": {
      "text/html": [
       "<div>\n",
       "<style scoped>\n",
       "    .dataframe tbody tr th:only-of-type {\n",
       "        vertical-align: middle;\n",
       "    }\n",
       "\n",
       "    .dataframe tbody tr th {\n",
       "        vertical-align: top;\n",
       "    }\n",
       "\n",
       "    .dataframe thead th {\n",
       "        text-align: right;\n",
       "    }\n",
       "</style>\n",
       "<table border=\"1\" class=\"dataframe\">\n",
       "  <thead>\n",
       "    <tr style=\"text-align: right;\">\n",
       "      <th></th>\n",
       "      <th>calls</th>\n",
       "      <th>minutes</th>\n",
       "      <th>messages</th>\n",
       "      <th>mb_used</th>\n",
       "      <th>is_ultra</th>\n",
       "    </tr>\n",
       "  </thead>\n",
       "  <tbody>\n",
       "    <tr>\n",
       "      <th>calls</th>\n",
       "      <td>1.000000</td>\n",
       "      <td>0.982083</td>\n",
       "      <td>0.177385</td>\n",
       "      <td>0.286442</td>\n",
       "      <td>0.207122</td>\n",
       "    </tr>\n",
       "    <tr>\n",
       "      <th>minutes</th>\n",
       "      <td>0.982083</td>\n",
       "      <td>1.000000</td>\n",
       "      <td>0.173110</td>\n",
       "      <td>0.280967</td>\n",
       "      <td>0.206955</td>\n",
       "    </tr>\n",
       "    <tr>\n",
       "      <th>messages</th>\n",
       "      <td>0.177385</td>\n",
       "      <td>0.173110</td>\n",
       "      <td>1.000000</td>\n",
       "      <td>0.195721</td>\n",
       "      <td>0.203830</td>\n",
       "    </tr>\n",
       "    <tr>\n",
       "      <th>mb_used</th>\n",
       "      <td>0.286442</td>\n",
       "      <td>0.280967</td>\n",
       "      <td>0.195721</td>\n",
       "      <td>1.000000</td>\n",
       "      <td>0.198568</td>\n",
       "    </tr>\n",
       "    <tr>\n",
       "      <th>is_ultra</th>\n",
       "      <td>0.207122</td>\n",
       "      <td>0.206955</td>\n",
       "      <td>0.203830</td>\n",
       "      <td>0.198568</td>\n",
       "      <td>1.000000</td>\n",
       "    </tr>\n",
       "  </tbody>\n",
       "</table>\n",
       "</div>"
      ],
      "text/plain": [
       "             calls   minutes  messages   mb_used  is_ultra\n",
       "calls     1.000000  0.982083  0.177385  0.286442  0.207122\n",
       "minutes   0.982083  1.000000  0.173110  0.280967  0.206955\n",
       "messages  0.177385  0.173110  1.000000  0.195721  0.203830\n",
       "mb_used   0.286442  0.280967  0.195721  1.000000  0.198568\n",
       "is_ultra  0.207122  0.206955  0.203830  0.198568  1.000000"
      ]
     },
     "execution_count": 25,
     "metadata": {},
     "output_type": "execute_result"
    }
   ],
   "source": [
    "behavior.corr()"
   ]
  },
  {
   "cell_type": "markdown",
   "metadata": {},
   "source": [
    "Визуаизируем корреляционную связь признаков:"
   ]
  },
  {
   "cell_type": "code",
   "execution_count": 33,
   "metadata": {},
   "outputs": [],
   "source": [
    "import matplotlib.pyplot as plt\n",
    "def show_corr_matrix(dataset, features, corr_method='pearson', figsize=(7, 7)):\n",
    "    \"\"\"Plots correlation matrix.\n",
    "\n",
    "    Parameters\n",
    "    ----------\n",
    "    dataset: pd.DataFrame. Dataset with all data.\n",
    "    features: array. Names of the features.\n",
    "    corr_method: str. Method of correlation: 'pearson', 'kendall', 'spearman'. \n",
    "    figsize: tuple. Size of figure.\n",
    "\n",
    "    Returns\n",
    "    -------\n",
    "    None.\n",
    "    \"\"\"\n",
    "    # Get correlation matrix\n",
    "    corr_matrix = dataset[features].corr(method=corr_method)\n",
    "    # Generate a mask for the upper triangle\n",
    "    mask = np.triu(np.ones_like(corr_matrix, dtype=bool))\n",
    "    fig, ax = plt.subplots(1, 1, figsize=figsize)\n",
    "    sns.heatmap(\n",
    "        corr_matrix,\n",
    "        mask=mask,\n",
    "        vmin=-1.,\n",
    "        vmax=1.,\n",
    "        annot=True,\n",
    "        cmap='coolwarm'\n",
    "    )\n",
    "    plt.show()"
   ]
  },
  {
   "cell_type": "code",
   "execution_count": 34,
   "metadata": {},
   "outputs": [
    {
     "data": {
      "image/png": "[encoded data removed]",
      "text/plain": [
       "<Figure size 504x504 with 2 Axes>"
      ]
     },
     "metadata": {
      "needs_background": "light"
     },
     "output_type": "display_data"
    }
   ],
   "source": [
    "show_corr_matrix(behavior, behavior.columns)"
   ]
  },
  {
   "cell_type": "markdown",
   "metadata": {},
   "source": [
    "Видим, что корреляция несвязанных признаков у нас низкая. Высокая она только для звонков и минут, но они явно связаны между собой.\n",
    "\n",
    "Для оценки мультиколлинеарности рассчитаем определитель матрицы корреляции признаков:"
   ]
  },
  {
   "cell_type": "code",
   "execution_count": 35,
   "metadata": {},
   "outputs": [
    {
     "data": {
      "text/plain": [
       "0.02815406364542676"
      ]
     },
     "execution_count": 35,
     "metadata": {},
     "output_type": "execute_result"
    }
   ],
   "source": [
    "np.linalg.det(behavior.corr())"
   ]
  },
  {
   "cell_type": "markdown",
   "metadata": {},
   "source": [
    "У нас наблюдается высокая мультиколлинеарность факторов, её можно решить с помощью отбора признаков методом графов (чтобы максимум признаков оставить, минимум исключить - минимум, который и даёт нам высокую мультиколлинеарность). На просторах интернета нашел алгоритм Брона-Кербоша, который ищет максимальные клики - подграфы, в которых все вершины соединены друг с другом. Таким образом можно добиться минимизации влияния мультиколлинеарности на прогноз модели."
   ]
  },
  {
   "cell_type": "markdown",
   "metadata": {},
   "source": [
    "### Промежуточный итог 1\n",
    "\n",
    "Мы загрузили данные, рассмотрели их, выявили практически полное отсутствие необходимости в предобработке (нет пропусков, нет дубликатов). Только заменили типы звонков и сообщений на целочисленные.\n",
    "\n",
    "Перед нами стоит задача обучения модели, обучение с учителем (целевой признак полностью известен), а так как он (целевой признак) являет собой качественный признак, следовательно, это задача классификации.\n",
    "\n",
    "Проверили данные на дисбаланс, соотношение классов примерно 1:2.3, что может вызвать проблемы при дальнейшем решении.\n",
    "Также выяснили, что у нас высокий уровень мультиколлинеарности данных, что также может влиять на итоговые параметры моделей."
   ]
  },
  {
   "cell_type": "markdown",
   "metadata": {},
   "source": [
    "## Разбейте данные на выборки\n",
    "\n",
    "Необходимо сформировать выборки для дальнейшей работы с моделями.\n",
    "\n",
    "Нам нужны обучающая, валидационная и тестовая выборки, но сначала нам надо понять, какой признак у нас целевой.\n",
    "\n",
    "Обратимся к задаче нашего исследования - нам надо предложить клиентам новый тариф: `Смарт` или `Ультра`, следовательно, в целевой признак мы положим столбец `is_ultra` - его положим в переменную `target`, остальные признаки положим в переменную `features`. \n",
    "\n",
    "К остальным признакам у нас относятся количество звонков, суммарная длительность звонков в минутах, количество смс и израсходованный интернет-трафик в Мб - все эти признаки у нас точно подходят под то, что будет необходимо при планирвоании и учете, какой тариф предложить пользователю."
   ]
  },
  {
   "cell_type": "code",
   "execution_count": 6,
   "metadata": {},
   "outputs": [],
   "source": [
    "features = behavior.drop('is_ultra', axis = 1)\n",
    "target = behavior['is_ultra']"
   ]
  },
  {
   "cell_type": "markdown",
   "metadata": {},
   "source": [
    "Выведем первые пять строк новых переменных на экран, чтобы убедиться, что все правильно разделилось"
   ]
  },
  {
   "cell_type": "code",
   "execution_count": 7,
   "metadata": {},
   "outputs": [
    {
     "data": {
      "text/html": [
       "<div>\n",
       "<style scoped>\n",
       "    .dataframe tbody tr th:only-of-type {\n",
       "        vertical-align: middle;\n",
       "    }\n",
       "\n",
       "    .dataframe tbody tr th {\n",
       "        vertical-align: top;\n",
       "    }\n",
       "\n",
       "    .dataframe thead th {\n",
       "        text-align: right;\n",
       "    }\n",
       "</style>\n",
       "<table border=\"1\" class=\"dataframe\">\n",
       "  <thead>\n",
       "    <tr style=\"text-align: right;\">\n",
       "      <th></th>\n",
       "      <th>calls</th>\n",
       "      <th>minutes</th>\n",
       "      <th>messages</th>\n",
       "      <th>mb_used</th>\n",
       "    </tr>\n",
       "  </thead>\n",
       "  <tbody>\n",
       "    <tr>\n",
       "      <th>0</th>\n",
       "      <td>40</td>\n",
       "      <td>311.90</td>\n",
       "      <td>83</td>\n",
       "      <td>19915.42</td>\n",
       "    </tr>\n",
       "    <tr>\n",
       "      <th>1</th>\n",
       "      <td>85</td>\n",
       "      <td>516.75</td>\n",
       "      <td>56</td>\n",
       "      <td>22696.96</td>\n",
       "    </tr>\n",
       "    <tr>\n",
       "      <th>2</th>\n",
       "      <td>77</td>\n",
       "      <td>467.66</td>\n",
       "      <td>86</td>\n",
       "      <td>21060.45</td>\n",
       "    </tr>\n",
       "    <tr>\n",
       "      <th>3</th>\n",
       "      <td>106</td>\n",
       "      <td>745.53</td>\n",
       "      <td>81</td>\n",
       "      <td>8437.39</td>\n",
       "    </tr>\n",
       "    <tr>\n",
       "      <th>4</th>\n",
       "      <td>66</td>\n",
       "      <td>418.74</td>\n",
       "      <td>1</td>\n",
       "      <td>14502.75</td>\n",
       "    </tr>\n",
       "  </tbody>\n",
       "</table>\n",
       "</div>"
      ],
      "text/plain": [
       "   calls  minutes  messages   mb_used\n",
       "0     40   311.90        83  19915.42\n",
       "1     85   516.75        56  22696.96\n",
       "2     77   467.66        86  21060.45\n",
       "3    106   745.53        81   8437.39\n",
       "4     66   418.74         1  14502.75"
      ]
     },
     "execution_count": 7,
     "metadata": {},
     "output_type": "execute_result"
    }
   ],
   "source": [
    "features.head()"
   ]
  },
  {
   "cell_type": "code",
   "execution_count": 8,
   "metadata": {},
   "outputs": [
    {
     "data": {
      "text/plain": [
       "0    0\n",
       "1    0\n",
       "2    0\n",
       "3    1\n",
       "4    0\n",
       "Name: is_ultra, dtype: int64"
      ]
     },
     "execution_count": 8,
     "metadata": {},
     "output_type": "execute_result"
    }
   ],
   "source": [
    "target.head()"
   ]
  },
  {
   "cell_type": "markdown",
   "metadata": {},
   "source": [
    "Теперь необходимо разделить данные на обучающую, валидационную и тестовую выборки. Делать это будем следующим образом: разделим на пять частей, три из которых пойдут на обучающую выборку, одна - на валидационную и оставшаяся - на тестовую выборку."
   ]
  },
  {
   "cell_type": "code",
   "execution_count": 9,
   "metadata": {},
   "outputs": [],
   "source": [
    "# сначала поделим выборку на две части: 0.8, которая будет содержать в себе обучающую \n",
    "# и тестовую выборки и 0.2 - валидационную\n",
    "features_train_test, features_valid, \\\n",
    "target_train_test, target_valid =\\\n",
    "train_test_split(features, target, train_size = 0.8, test_size = 0.2, random_state = 12345)\n",
    "\n",
    "# далее ту выборку, которая содержит в себе обучающую и тестовую, делим на 0.75 - обучающую\n",
    "# и 0.25 - тестовую (0.75*0.8 = 0.6, 0.24*0.8 = 0.2), таким образом мы получили:\n",
    "# 0.6 - обучающая выборка, 0.2 и 0.2 - валидационная и тестовая выборки соответственно.\n",
    "features_train, features_test,\\\n",
    "target_train, target_test =\\\n",
    "train_test_split(features_train_test, target_train_test, train_size = 0.75, test_size = 0.25, random_state = 12345)"
   ]
  },
  {
   "cell_type": "markdown",
   "metadata": {},
   "source": [
    "Убедимся, что размеры выборок соотносятся как 3:1:1:"
   ]
  },
  {
   "cell_type": "code",
   "execution_count": 10,
   "metadata": {},
   "outputs": [
    {
     "data": {
      "text/plain": [
       "2.998444790046656"
      ]
     },
     "execution_count": 10,
     "metadata": {},
     "output_type": "execute_result"
    }
   ],
   "source": [
    "features_train.shape[0]/features_test.shape[0]"
   ]
  },
  {
   "cell_type": "code",
   "execution_count": 11,
   "metadata": {},
   "outputs": [
    {
     "data": {
      "text/plain": [
       "2.998444790046656"
      ]
     },
     "execution_count": 11,
     "metadata": {},
     "output_type": "execute_result"
    }
   ],
   "source": [
    "features_train.shape[0]/features_valid.shape[0]"
   ]
  },
  {
   "cell_type": "markdown",
   "metadata": {},
   "source": [
    "Видим, что обучающая выборка в три раза больше тестовой и валидационной, следователь, данные разбились правильно."
   ]
  },
  {
   "cell_type": "markdown",
   "metadata": {},
   "source": [
    "### Промежуточный итог 2\n",
    "\n",
    "Мы выделили целевой признак (тариф), а также разделили выборки на обучающую, валидационную и тестовую в соотношении 3:1:1 и проверили размеры выборок."
   ]
  },
  {
   "cell_type": "markdown",
   "metadata": {},
   "source": [
    "## Исследуйте модели\n",
    "\n",
    "На этом шаге мы обучим, валидируем и протестируем основные освоенные нами модели и в конце сделаем вывод, какая модель и с какими параметрами лучше всего предсказывает, какой тариф следует брать клиенту"
   ]
  },
  {
   "cell_type": "markdown",
   "metadata": {},
   "source": [
    "### Решающее дерево\n",
    "\n",
    "Первой нашей моделью будет дерево решений.\n",
    "У него основным и самым важным гиперпараметром является `max_depth`, который мы будем оптимизировать до такого уровня, чтобы `accuracy` нашей модели был максимальный из возможных"
   ]
  },
  {
   "cell_type": "code",
   "execution_count": 12,
   "metadata": {
    "scrolled": true
   },
   "outputs": [
    {
     "name": "stdout",
     "output_type": "stream",
     "text": [
      "Max depth: 7 \n",
      "Accuracy max: 0.7884914463452566\n"
     ]
    }
   ],
   "source": [
    "depth_max = 0\n",
    "accuracy_max = 0\n",
    "best_model_decision_tree = None\n",
    "for depth in range(1,16):  # перебираем максимальную глубину от 1 до 16 \n",
    "                           # (захват с избытком, понятно, что уже после 5 должно быть что-то вроде переобучения)\n",
    "    model = DecisionTreeClassifier(random_state= 12345, max_depth = depth)\n",
    "    model.fit(features_train, target_train)\n",
    "    accuracy = model.score(features_valid, target_valid)\n",
    "    if accuracy >= accuracy_max:\n",
    "        depth_max = depth\n",
    "        accuracy_max = accuracy\n",
    "        best_model_decision_tree = model\n",
    "\n",
    "print('Max depth:', depth_max,'\\nAccuracy max:', accuracy_max)"
   ]
  },
  {
   "cell_type": "markdown",
   "metadata": {},
   "source": [
    "#### Вывод\n",
    "Лучший `accuracy` модели решающего дерева `DecisionTreeClassifier` равен `0.7884914463452566` и достигается при значении гиперпараметра `max_depth`, равным `7`"
   ]
  },
  {
   "cell_type": "markdown",
   "metadata": {},
   "source": [
    "### Случайный лес\n",
    "\n",
    "Следующая модель, которую мы проверим, - это случайный лес. У него два основных гиперпараметра: `n_estimators` и `max_depth`, которые мы будем оптимизировать для получения максимальной `accuracy` модели:"
   ]
  },
  {
   "cell_type": "code",
   "execution_count": 13,
   "metadata": {
    "scrolled": false
   },
   "outputs": [
    {
     "name": "stdout",
     "output_type": "stream",
     "text": [
      "Max depth: 9 \n",
      "N_estimators max: 96 \n",
      "Accuracy max: 0.8040435458786936\n"
     ]
    }
   ],
   "source": [
    "depth_max = 0\n",
    "est_max = 0\n",
    "accuracy_max = 0\n",
    "best_model_random_forest = None\n",
    "for est in range(1,100, 5):\n",
    "    for depth in range(1,16):\n",
    "        model = RandomForestClassifier(random_state= 12345, n_estimators= est, max_depth = depth)\n",
    "        model.fit(features_train, target_train)\n",
    "        accuracy = model.score(features_valid, target_valid)\n",
    "        if accuracy >= accuracy_max:\n",
    "            depth_max = depth\n",
    "            est_max = est\n",
    "            accuracy_max = accuracy\n",
    "            best_model_random_forest = model\n",
    "\n",
    "print('Max depth:', depth_max,'\\nN_estimators max:', est_max, '\\nAccuracy max:', accuracy_max)"
   ]
  },
  {
   "cell_type": "markdown",
   "metadata": {},
   "source": [
    "#### Вывод\n",
    "Лучший `accuracy` модели случайного леса `RandomForestClassifier` равен `0.8040435458786936` и достигается при значении гиперпараметров `n_estimators` и `max_depth`, равных `96` и `9` соответственно."
   ]
  },
  {
   "cell_type": "markdown",
   "metadata": {},
   "source": [
    "### Логистическая регрессия\n",
    "\n",
    "Итоговая модель, которую необходимо проферить - логистическая регрессия"
   ]
  },
  {
   "cell_type": "code",
   "execution_count": 14,
   "metadata": {},
   "outputs": [
    {
     "name": "stdout",
     "output_type": "stream",
     "text": [
      "Accuracy max: 0.7589424572317263\n"
     ]
    }
   ],
   "source": [
    "model = LogisticRegression(random_state=12345, solver='lbfgs') \n",
    "model.fit(features_train, target_train)\n",
    "model_logistic_regression = model\n",
    "print('Accuracy max:', model_logistic_regression.score(features_valid, target_valid))"
   ]
  },
  {
   "cell_type": "markdown",
   "metadata": {},
   "source": [
    "#### Вывод\n",
    "Лучший `accuracy` модели логистической регрессии `LogisticRegression` равен `0.7589424572317263`."
   ]
  },
  {
   "cell_type": "markdown",
   "metadata": {},
   "source": [
    "### Промежуточный итог 3\n",
    "Мы обучили три разные модели и перебрали гиперпараметры для них. Сохраняли те, которые показывали лучший `accuracy`:\n",
    "- Лучший **`accuracy`** модели решающего дерева `DecisionTreeClassifier` равен **`0.7884914463452566`** и достигается при значении гиперпараметра `max_depth`, равным `7`\n",
    "\n",
    "- Лучший **`accuracy`** модели случайного леса `RandomForestClassifier` равен **`0.8040435458786936`** и достигается при значении гиперпараметров `n_estimators` и `max_depth`, равных `96` и `9` соответственно.\n",
    "\n",
    "- Лучший **`accuracy`** модели логистической регрессии `LogisticRegression` равен **`0.7589424572317263`**."
   ]
  },
  {
   "cell_type": "markdown",
   "metadata": {},
   "source": [
    "## Проверьте модель на тестовой выборке\n",
    "Теперь проверим получившиеся модели на тестовой выборке"
   ]
  },
  {
   "cell_type": "markdown",
   "metadata": {},
   "source": [
    "### Решающее дерево\n",
    "\n",
    "Первой моделью на проверку будет решающее дерево. Её мы обучили и сохранили лучшую в переменной `best_model_decision_tree`. Её `accuracy` мы и проверим"
   ]
  },
  {
   "cell_type": "code",
   "execution_count": 15,
   "metadata": {},
   "outputs": [
    {
     "data": {
      "text/plain": [
       "0.7744945567651633"
      ]
     },
     "execution_count": 15,
     "metadata": {},
     "output_type": "execute_result"
    }
   ],
   "source": [
    "best_model_decision_tree.score(features_test, target_test)"
   ]
  },
  {
   "cell_type": "markdown",
   "metadata": {},
   "source": [
    "#### Вывод\n",
    "`accuracy` на тестовой выборке лучшей модели решающего дерева равен `0.7744945567651633`"
   ]
  },
  {
   "cell_type": "markdown",
   "metadata": {},
   "source": [
    "### Случайный лес\n",
    "\n",
    "Теперь проверим случайный лес. Эту модель мы сохранили в `best_model_random_forest`. Её `accuracy` мы и проверим"
   ]
  },
  {
   "cell_type": "code",
   "execution_count": 16,
   "metadata": {},
   "outputs": [
    {
     "data": {
      "text/plain": [
       "0.7884914463452566"
      ]
     },
     "execution_count": 16,
     "metadata": {},
     "output_type": "execute_result"
    }
   ],
   "source": [
    "best_model_random_forest.score(features_test, target_test)"
   ]
  },
  {
   "cell_type": "markdown",
   "metadata": {},
   "source": [
    "#### Вывод\n",
    "`accuracy` на тестовой выборке лучшей модели случайного леса равен `0.7884914463452566`"
   ]
  },
  {
   "cell_type": "markdown",
   "metadata": {},
   "source": [
    "### Логистическая регрессия\n",
    "\n",
    "Осталась модель логистической регрессии. Её мы сохраняли в `model_logistic_regression`"
   ]
  },
  {
   "cell_type": "code",
   "execution_count": 17,
   "metadata": {},
   "outputs": [
    {
     "data": {
      "text/plain": [
       "0.7262830482115086"
      ]
     },
     "execution_count": 17,
     "metadata": {},
     "output_type": "execute_result"
    }
   ],
   "source": [
    "model_logistic_regression.score(features_test, target_test)"
   ]
  },
  {
   "cell_type": "markdown",
   "metadata": {},
   "source": [
    "#### Вывод\n",
    "`accuracy` на тестовой выборке лучшей модели логистической регрессии равен `0.7262830482115086`"
   ]
  },
  {
   "cell_type": "markdown",
   "metadata": {},
   "source": [
    "### Промежуточный итог 4\n",
    "\n",
    "Получившиеся лучшие модели были проверены на тестовой выборке, в результате чего были получены следующие значения `accuracy`:\n",
    "- `accuracy` на тестовой выборке лучшей модели решающего дерева равен `0.7744945567651633`\n",
    "- `accuracy` на тестовой выборке лучшей модели случайного леса равен `0.7884914463452566`\n",
    "- `accuracy` на тестовой выборке лучшей модели логистической регрессии равен `0.7262830482115086`\n",
    "\n",
    "Видим, что:\n",
    "- лучше всего предсказывает значения тестовой выборки модель случайного леса, \n",
    "- только для модели логистической регрессии не удалось достичь значения `accuracy` больше, чем `0.75`"
   ]
  },
  {
   "cell_type": "markdown",
   "metadata": {},
   "source": [
    "## (бонус) Проверьте модели на адекватность"
   ]
  },
  {
   "cell_type": "code",
   "execution_count": 18,
   "metadata": {},
   "outputs": [
    {
     "data": {
      "text/plain": [
       "0.6951788491446346"
      ]
     },
     "execution_count": 18,
     "metadata": {},
     "output_type": "execute_result"
    }
   ],
   "source": [
    "from sklearn.dummy import DummyClassifier\n",
    "\n",
    "model = DummyClassifier(strategy = 'most_frequent')\n",
    "model.fit(features_train, target_train)\n",
    "\n",
    "model.score(features_valid, target_valid)"
   ]
  },
  {
   "cell_type": "markdown",
   "metadata": {},
   "source": [
    "Видно, что `accuracy` модели `DummyClassifier` у нас `0.6951788491446346`, что ниже, чем у лучшей модели - случайного леса (`0.7884914463452566`), следовательно полученную нами модель можно считать адекватной"
   ]
  },
  {
   "cell_type": "code",
   "execution_count": 19,
   "metadata": {
    "scrolled": true
   },
   "outputs": [
    {
     "data": {
      "image/png": "[encoded data removed]",
      "text/plain": [
       "<Figure size 432x288 with 2 Axes>"
      ]
     },
     "metadata": {
      "needs_background": "light"
     },
     "output_type": "display_data"
    }
   ],
   "source": [
    "from sklearn.metrics import confusion_matrix\n",
    "from sklearn.metrics import ConfusionMatrixDisplay\n",
    "\n",
    "target_pred = best_model_random_forest.predict(features_test)\n",
    "cm = confusion_matrix(target_test, target_pred)\n",
    "\n",
    "cm_display = ConfusionMatrixDisplay(cm).plot()"
   ]
  },
  {
   "cell_type": "markdown",
   "metadata": {},
   "source": [
    "Для лучшей модели была построена `ConfusionMatrix`, которая показала следующие значения (см. выше). Рассмотрим же основные статистические маркеры качественных тестов (рассчитаны с помощью [калькулятора](https://statpages.info/ctab2x2.html), где была сформирована следующая таблица:"
   ]
  },
  {
   "cell_type": "markdown",
   "metadata": {},
   "source": [
    "|                              | **Real positive value** | **Real negative value** |\n",
    "|------------------------------|-------------------------|-------------------------|\n",
    "| **Predicted positive value** |            88           |            24           |\n",
    "| **Predicted negative value** |           112           |           419           |"
   ]
  },
  {
   "cell_type": "markdown",
   "metadata": {},
   "source": [
    "В этом калькуляторе были получены следующие значения для прогностической ценности положительного и отрицательного результатов (positive predictive value и negative predictive value), а также чувствительности и специфичности (sensitivity и specificity):\n",
    "- PPV = 0.786, 95% CI: (0.706; 0.851)\n",
    "- NPV = 0.789, 95% CI: (0.772; 0.803)\n",
    "- Sensitivity = 0.44, 95% CI: (0.395; 0.477)\n",
    "- Specificity = 0.946, 95% CI: (0.926;0.962)\n",
    "\n",
    "(CI - confidence interval)\n",
    "\n",
    "Нижние границы доверительного интервала как для PPV, так и для NPV выше 0.7, а обычно принимают, что значения прогностической ценности выше, чем 0.7 (и ниже 0.8) уже говорят о хорошей прогностической ценности.\n",
    "\n",
    "Нижняя граница для чувствительности (sensitivity) ниже 0.5, что говорит о плохой чувствительности.\n",
    "\n",
    "Нижняя граница для специфичности (specificity) выше 0.9, что говорит о великолепной специфичности.\n",
    "\n",
    "Также взглянем на преваленс нашей выборки, он равен 0.311, что является низким показателем.\n",
    "\n",
    "Исходя из всего вышеперечисленного можно сказать, что на основании высоких значений specificity и npv, а также низких значений sensitivity и преваленса - данная модель хорошо работает как скрининговый тест и является вполне адекватной."
   ]
  },
  {
   "cell_type": "markdown",
   "metadata": {},
   "source": [
    "### Промежуточный итог 5\n",
    "\n",
    "На основании модели `DummyClassifier`, а также статистического анализа, мы можем быть уверены в адекватности лучшей модели случайного леса."
   ]
  },
  {
   "cell_type": "markdown",
   "metadata": {},
   "source": [
    "# ИТОГ\n",
    "\n",
    "Мы получили следующие выводы по шагам:"
   ]
  },
  {
   "cell_type": "markdown",
   "metadata": {},
   "source": [
    "### Промежуточный итог 1\n",
    "\n",
    "Мы загрузили данные, рассмотрели их, выявили практически полное отсутствие необходимости в предобработке (нет пропусков, нет дубликатов). Только заменили типы звонков и сообщений на целочисленные.\n",
    "\n",
    "Перед нами стоит задача обучения модели, обучение с учителем (целевой признак полностью известен), а так как он (целевой признак) являет собой качественный признак, следовательно, это задача классификации.\n",
    "\n",
    "Проверили данные на дисбаланс, соотношение классов примерно 1:2.3, что может вызвать проблемы при дальнейшем решении.\n",
    "Также выяснили, что у нас высокий уровень мультиколлинеарности данных, что также может влиять на итоговые параметры моделей."
   ]
  },
  {
   "cell_type": "markdown",
   "metadata": {},
   "source": [
    "### Промежуточный итог 2\n",
    "\n",
    "Мы выделили целевой признак (тариф), а также разделили выборки на обучающую, валидационную и тестовую в соотношении 3:1:1 и проверили размеры выборок."
   ]
  },
  {
   "cell_type": "markdown",
   "metadata": {},
   "source": [
    "### Промежуточный итог 3\n",
    "Мы обучили три разные модели и перебрали гиперпараметры для них. Сохраняли те, которые показывали лучший `accuracy`:\n",
    "- Лучший **`accuracy`** модели решающего дерева `DecisionTreeClassifier` равен **`0.7884914463452566`** и достигается при значении гиперпараметра `max_depth`, равным `7`\n",
    "\n",
    "- Лучший **`accuracy`** модели случайного леса `RandomForestClassifier` равен **`0.8040435458786936`** и достигается при значении гиперпараметров `n_estimators` и `max_depth`, равных `96` и `9` соответственно.\n",
    "\n",
    "- Лучший **`accuracy`** модели логистической регрессии `LogisticRegression` равен **`0.7589424572317263`**."
   ]
  },
  {
   "cell_type": "markdown",
   "metadata": {},
   "source": [
    "### Промежуточный итог 4\n",
    "\n",
    "Получившиеся лучшие модели были проверены на тестовой выборке, в результате чего были получены следующие значения `accuracy`:\n",
    "- `accuracy` на тестовой выборке лучшей модели решающего дерева равен `0.7744945567651633`\n",
    "- `accuracy` на тестовой выборке лучшей модели случайного леса равен `0.7884914463452566`\n",
    "- `accuracy` на тестовой выборке лучшей модели логистической регрессии равен `0.7262830482115086`\n",
    "\n",
    "Видим, что:\n",
    "- лучше всего предсказывает значения тестовой выборки модель случайного леса, \n",
    "- только для модели логистической регрессии не удалось достичь значения `accuracy` больше, чем `0.75`"
   ]
  },
  {
   "cell_type": "markdown",
   "metadata": {},
   "source": [
    "### Промежуточный итог 5\n",
    "\n",
    "На основании модели `DummyClassifier`, а также статистического анализа, мы можем быть уверены в адекватности лучшей модели случайного леса."
   ]
  },
  {
   "cell_type": "markdown",
   "metadata": {},
   "source": [
    "### Общий вывод исследования\n",
    "\n",
    "На основании полученных нами данных и их разбивки на необходимые выборки мы обучили разные модели и выяснили, какая из них является лучшей по предсказанию тарифов пользователей (на основании данных о звонках, сообщениях, количестве Мб интернета).\n",
    "\n",
    "Её `accuracy` нам удалось довести до значений, выше 0.75, а также проверили модель на адекватность путем сравнения со случайной и статистического анализа, убедившись в её правильности.\n",
    "\n",
    "Итого, можем сказать, что у нас на руках есть модель, готовая по данным, которые я отметил раньше, с точностью 0.78-0.8 предсказать тариф для каждого конкретного пользователя."
   ]
  },
  {
   "cell_type": "markdown",
   "metadata": {},
   "source": [
    "## Чек-лист готовности проекта"
   ]
  },
  {
   "cell_type": "markdown",
   "metadata": {},
   "source": [
    "Поставьте 'x' в выполненных пунктах. Далее нажмите Shift+Enter."
   ]
  },
  {
   "cell_type": "markdown",
   "metadata": {},
   "source": [
    "- [x] Jupyter Notebook открыт\n",
    "- [x] Весь код исполняется без ошибок\n",
    "- [x] Ячейки с кодом расположены в порядке исполнения\n",
    "- [x] Выполнено задание 1: данные загружены и изучены\n",
    "- [x] Выполнено задание 2: данные разбиты на три выборки\n",
    "- [x] Выполнено задание 3: проведено исследование моделей\n",
    "    - [x] Рассмотрено больше одной модели\n",
    "    - [x] Рассмотрено хотя бы 3 значения гипепараметров для какой-нибудь модели\n",
    "    - [x] Написаны выводы по результатам исследования\n",
    "- [x] Выполнено задание 3: Проведено тестирование\n",
    "- [x] Удалось достичь accuracy не меньше 0.75\n"
   ]
  }
 ],
 "metadata": {
  "ExecuteTimeLog": [
   {
    "duration": 3355,
    "start_time": "2023-06-14T18:49:51.390Z"
   },
   {
    "duration": 208,
    "start_time": "2023-06-14T19:02:58.132Z"
   },
   {
    "duration": 10,
    "start_time": "2023-06-14T19:03:06.530Z"
   },
   {
    "duration": 27,
    "start_time": "2023-06-14T19:03:21.796Z"
   },
   {
    "duration": 9,
    "start_time": "2023-06-14T19:03:34.552Z"
   },
   {
    "duration": 6,
    "start_time": "2023-06-14T19:03:47.327Z"
   },
   {
    "duration": 144,
    "start_time": "2023-06-14T19:04:03.728Z"
   },
   {
    "duration": 6,
    "start_time": "2023-06-14T19:10:56.238Z"
   },
   {
    "duration": 10,
    "start_time": "2023-06-14T19:11:16.497Z"
   },
   {
    "duration": 6,
    "start_time": "2023-06-14T19:11:22.622Z"
   },
   {
    "duration": 8,
    "start_time": "2023-06-14T19:13:29.036Z"
   },
   {
    "duration": 7,
    "start_time": "2023-06-14T19:13:32.942Z"
   },
   {
    "duration": 103,
    "start_time": "2023-06-14T19:13:43.834Z"
   },
   {
    "duration": 115,
    "start_time": "2023-06-14T19:17:20.411Z"
   },
   {
    "duration": 19874,
    "start_time": "2023-06-14T19:19:02.633Z"
   },
   {
    "duration": 354,
    "start_time": "2023-06-14T19:24:50.971Z"
   },
   {
    "duration": 132,
    "start_time": "2023-06-14T19:32:49.049Z"
   },
   {
    "duration": 145,
    "start_time": "2023-06-14T19:32:51.634Z"
   },
   {
    "duration": 2,
    "start_time": "2023-06-14T20:12:50.142Z"
   },
   {
    "duration": 40778,
    "start_time": "2023-06-14T20:14:42.998Z"
   },
   {
    "duration": 12,
    "start_time": "2023-06-14T20:19:16.922Z"
   },
   {
    "duration": 8,
    "start_time": "2023-06-14T20:19:23.626Z"
   },
   {
    "duration": 42717,
    "start_time": "2023-06-14T20:20:30.326Z"
   },
   {
    "duration": 16,
    "start_time": "2023-06-14T20:24:35.153Z"
   },
   {
    "duration": 20,
    "start_time": "2023-06-14T20:26:08.339Z"
   },
   {
    "duration": 30,
    "start_time": "2023-06-14T20:28:02.364Z"
   },
   {
    "duration": 6,
    "start_time": "2023-06-14T20:28:21.468Z"
   },
   {
    "duration": 1406,
    "start_time": "2023-06-15T10:09:28.343Z"
   },
   {
    "duration": 13,
    "start_time": "2023-06-15T10:09:29.751Z"
   },
   {
    "duration": 21,
    "start_time": "2023-06-15T10:09:29.766Z"
   },
   {
    "duration": 37,
    "start_time": "2023-06-15T10:09:29.789Z"
   },
   {
    "duration": 8,
    "start_time": "2023-06-15T10:09:29.830Z"
   },
   {
    "duration": 24,
    "start_time": "2023-06-15T10:09:29.840Z"
   },
   {
    "duration": 21,
    "start_time": "2023-06-15T10:09:29.867Z"
   },
   {
    "duration": 11,
    "start_time": "2023-06-15T10:09:29.890Z"
   },
   {
    "duration": 19,
    "start_time": "2023-06-15T10:09:29.903Z"
   },
   {
    "duration": 152,
    "start_time": "2023-06-15T10:09:29.924Z"
   },
   {
    "duration": 45349,
    "start_time": "2023-06-15T10:09:30.078Z"
   },
   {
    "duration": 52,
    "start_time": "2023-06-15T10:10:15.429Z"
   },
   {
    "duration": 8,
    "start_time": "2023-06-15T10:10:15.483Z"
   },
   {
    "duration": 40,
    "start_time": "2023-06-15T10:10:15.494Z"
   },
   {
    "duration": 7,
    "start_time": "2023-06-15T10:10:15.535Z"
   },
   {
    "duration": 80,
    "start_time": "2023-06-16T15:35:07.303Z"
   },
   {
    "duration": 1242,
    "start_time": "2023-06-16T15:44:16.096Z"
   },
   {
    "duration": 13,
    "start_time": "2023-06-16T15:44:17.340Z"
   },
   {
    "duration": 6,
    "start_time": "2023-06-16T15:44:17.358Z"
   },
   {
    "duration": 33,
    "start_time": "2023-06-16T15:44:17.366Z"
   },
   {
    "duration": 8,
    "start_time": "2023-06-16T15:44:17.401Z"
   },
   {
    "duration": 7,
    "start_time": "2023-06-16T15:44:17.414Z"
   },
   {
    "duration": 24,
    "start_time": "2023-06-16T15:44:17.422Z"
   },
   {
    "duration": 16,
    "start_time": "2023-06-16T15:44:17.449Z"
   },
   {
    "duration": 9,
    "start_time": "2023-06-16T15:44:17.466Z"
   },
   {
    "duration": 117,
    "start_time": "2023-06-16T15:44:17.476Z"
   },
   {
    "duration": 41442,
    "start_time": "2023-06-16T15:44:17.594Z"
   },
   {
    "duration": 47,
    "start_time": "2023-06-16T15:44:59.037Z"
   },
   {
    "duration": 5,
    "start_time": "2023-06-16T15:44:59.086Z"
   },
   {
    "duration": 33,
    "start_time": "2023-06-16T15:44:59.092Z"
   },
   {
    "duration": 7,
    "start_time": "2023-06-16T15:44:59.126Z"
   },
   {
    "duration": 128,
    "start_time": "2023-06-16T15:44:59.134Z"
   },
   {
    "duration": 7,
    "start_time": "2023-06-16T15:45:29.486Z"
   },
   {
    "duration": 6,
    "start_time": "2023-06-16T15:45:40.599Z"
   },
   {
    "duration": 5,
    "start_time": "2023-06-16T15:45:48.266Z"
   },
   {
    "duration": 6,
    "start_time": "2023-06-16T15:46:32.660Z"
   },
   {
    "duration": 541,
    "start_time": "2023-06-16T16:22:12.515Z"
   },
   {
    "duration": 62,
    "start_time": "2023-06-16T16:29:20.373Z"
   },
   {
    "duration": 1163,
    "start_time": "2023-06-17T10:37:36.024Z"
   },
   {
    "duration": 9,
    "start_time": "2023-06-17T10:37:37.189Z"
   },
   {
    "duration": 7,
    "start_time": "2023-06-17T10:37:37.200Z"
   },
   {
    "duration": 20,
    "start_time": "2023-06-17T10:37:37.209Z"
   },
   {
    "duration": 179,
    "start_time": "2023-06-17T10:37:37.231Z"
   },
   {
    "duration": 21,
    "start_time": "2023-06-17T10:37:37.412Z"
   },
   {
    "duration": 34,
    "start_time": "2023-06-17T10:37:37.434Z"
   },
   {
    "duration": 80,
    "start_time": "2023-06-17T10:37:37.469Z"
   },
   {
    "duration": 15,
    "start_time": "2023-06-17T10:37:37.550Z"
   },
   {
    "duration": 124,
    "start_time": "2023-06-17T10:37:37.566Z"
   },
   {
    "duration": 36771,
    "start_time": "2023-06-17T10:37:37.691Z"
   },
   {
    "duration": 27,
    "start_time": "2023-06-17T10:38:14.463Z"
   },
   {
    "duration": 5,
    "start_time": "2023-06-17T10:38:14.492Z"
   },
   {
    "duration": 33,
    "start_time": "2023-06-17T10:38:14.499Z"
   },
   {
    "duration": 4,
    "start_time": "2023-06-17T10:38:14.533Z"
   },
   {
    "duration": 21,
    "start_time": "2023-06-17T10:38:14.538Z"
   },
   {
    "duration": 476,
    "start_time": "2023-06-17T10:38:14.560Z"
   },
   {
    "duration": 4,
    "start_time": "2023-06-17T10:59:40.922Z"
   },
   {
    "duration": 3,
    "start_time": "2023-06-17T10:59:57.427Z"
   },
   {
    "duration": 1122,
    "start_time": "2023-06-17T11:05:54.686Z"
   },
   {
    "duration": 10,
    "start_time": "2023-06-17T11:05:55.810Z"
   },
   {
    "duration": 7,
    "start_time": "2023-06-17T11:05:55.822Z"
   },
   {
    "duration": 11,
    "start_time": "2023-06-17T11:05:55.832Z"
   },
   {
    "duration": 6,
    "start_time": "2023-06-17T11:05:55.845Z"
   },
   {
    "duration": 4,
    "start_time": "2023-06-17T11:05:55.853Z"
   },
   {
    "duration": 8,
    "start_time": "2023-06-17T11:05:55.859Z"
   },
   {
    "duration": 6,
    "start_time": "2023-06-17T11:05:55.868Z"
   },
   {
    "duration": 44,
    "start_time": "2023-06-17T11:05:55.876Z"
   },
   {
    "duration": 4,
    "start_time": "2023-06-17T11:05:55.923Z"
   },
   {
    "duration": 7,
    "start_time": "2023-06-17T11:05:55.929Z"
   },
   {
    "duration": 132,
    "start_time": "2023-06-17T11:05:55.938Z"
   },
   {
    "duration": 39849,
    "start_time": "2023-06-17T11:05:56.071Z"
   },
   {
    "duration": 30,
    "start_time": "2023-06-17T11:06:35.921Z"
   },
   {
    "duration": 39,
    "start_time": "2023-06-17T11:06:35.952Z"
   },
   {
    "duration": 37,
    "start_time": "2023-06-17T11:06:35.993Z"
   },
   {
    "duration": 6,
    "start_time": "2023-06-17T11:06:36.031Z"
   },
   {
    "duration": 14,
    "start_time": "2023-06-17T11:06:36.038Z"
   },
   {
    "duration": 371,
    "start_time": "2023-06-17T11:06:36.054Z"
   },
   {
    "duration": 1310,
    "start_time": "2023-06-17T13:49:29.369Z"
   },
   {
    "duration": 12,
    "start_time": "2023-06-17T13:49:30.682Z"
   },
   {
    "duration": 36,
    "start_time": "2023-06-17T13:49:30.696Z"
   },
   {
    "duration": 29,
    "start_time": "2023-06-17T13:49:30.734Z"
   },
   {
    "duration": 24,
    "start_time": "2023-06-17T13:49:30.764Z"
   },
   {
    "duration": 20,
    "start_time": "2023-06-17T13:49:30.790Z"
   },
   {
    "duration": 27,
    "start_time": "2023-06-17T13:49:30.812Z"
   },
   {
    "duration": 24,
    "start_time": "2023-06-17T13:49:30.841Z"
   },
   {
    "duration": 55,
    "start_time": "2023-06-17T13:49:30.867Z"
   },
   {
    "duration": 73,
    "start_time": "2023-06-17T13:49:30.924Z"
   },
   {
    "duration": 54,
    "start_time": "2023-06-17T13:49:30.998Z"
   },
   {
    "duration": 158,
    "start_time": "2023-06-17T13:49:31.054Z"
   },
   {
    "duration": 42484,
    "start_time": "2023-06-17T13:49:31.215Z"
   },
   {
    "duration": 42,
    "start_time": "2023-06-17T13:50:13.701Z"
   },
   {
    "duration": 19,
    "start_time": "2023-06-17T13:50:13.744Z"
   },
   {
    "duration": 29,
    "start_time": "2023-06-17T13:50:13.765Z"
   },
   {
    "duration": 8,
    "start_time": "2023-06-17T13:50:13.796Z"
   },
   {
    "duration": 8,
    "start_time": "2023-06-17T13:50:13.806Z"
   },
   {
    "duration": 631,
    "start_time": "2023-06-17T13:50:13.816Z"
   },
   {
    "duration": 45,
    "start_time": "2023-06-17T21:11:44.826Z"
   },
   {
    "duration": 1145,
    "start_time": "2023-06-17T21:11:53.033Z"
   },
   {
    "duration": 11,
    "start_time": "2023-06-17T21:11:54.180Z"
   },
   {
    "duration": 6,
    "start_time": "2023-06-17T21:11:54.754Z"
   },
   {
    "duration": 14,
    "start_time": "2023-06-17T21:11:55.962Z"
   },
   {
    "duration": 6,
    "start_time": "2023-06-17T21:11:57.339Z"
   },
   {
    "duration": 10,
    "start_time": "2023-06-17T21:11:59.400Z"
   },
   {
    "duration": 57,
    "start_time": "2023-06-17T21:15:58.449Z"
   },
   {
    "duration": 38,
    "start_time": "2023-06-17T21:16:09.149Z"
   },
   {
    "duration": 10,
    "start_time": "2023-06-17T21:16:09.539Z"
   },
   {
    "duration": 6,
    "start_time": "2023-06-17T21:16:09.948Z"
   },
   {
    "duration": 11,
    "start_time": "2023-06-17T21:16:10.355Z"
   },
   {
    "duration": 6,
    "start_time": "2023-06-17T21:16:10.977Z"
   },
   {
    "duration": 11,
    "start_time": "2023-06-17T21:16:12.299Z"
   },
   {
    "duration": 7,
    "start_time": "2023-06-17T21:16:13.857Z"
   },
   {
    "duration": 9,
    "start_time": "2023-06-17T21:32:16.606Z"
   },
   {
    "duration": 7,
    "start_time": "2023-06-17T21:32:20.352Z"
   },
   {
    "duration": 14,
    "start_time": "2023-06-17T21:32:43.696Z"
   },
   {
    "duration": 8,
    "start_time": "2023-06-17T21:32:53.728Z"
   },
   {
    "duration": 6,
    "start_time": "2023-06-17T21:33:03.499Z"
   },
   {
    "duration": 7,
    "start_time": "2023-06-17T21:33:14.540Z"
   },
   {
    "duration": 7,
    "start_time": "2023-06-17T21:33:17.861Z"
   },
   {
    "duration": 8,
    "start_time": "2023-06-17T21:33:24.039Z"
   },
   {
    "duration": 8,
    "start_time": "2023-06-17T21:33:41.794Z"
   },
   {
    "duration": 9,
    "start_time": "2023-06-17T21:36:23.220Z"
   },
   {
    "duration": 5,
    "start_time": "2023-06-17T21:36:24.120Z"
   },
   {
    "duration": 774,
    "start_time": "2023-06-17T21:38:22.329Z"
   },
   {
    "duration": 4,
    "start_time": "2023-06-17T21:41:12.497Z"
   },
   {
    "duration": 4,
    "start_time": "2023-06-17T21:41:30.504Z"
   },
   {
    "duration": 27,
    "start_time": "2023-06-17T21:41:36.236Z"
   },
   {
    "duration": 3,
    "start_time": "2023-06-17T21:41:58.151Z"
   },
   {
    "duration": 320,
    "start_time": "2023-06-17T21:41:59.468Z"
   },
   {
    "duration": 4,
    "start_time": "2023-06-17T21:43:01.472Z"
   },
   {
    "duration": 318,
    "start_time": "2023-06-17T21:43:02.070Z"
   },
   {
    "duration": 5,
    "start_time": "2023-06-17T21:43:21.744Z"
   }
  ],
  "kernelspec": {
   "display_name": "Python 3 (ipykernel)",
   "language": "python",
   "name": "python3"
  },
  "language_info": {
   "codemirror_mode": {
    "name": "ipython",
    "version": 3
   },
   "file_extension": ".py",
   "mimetype": "text/x-python",
   "name": "python",
   "nbconvert_exporter": "python",
   "pygments_lexer": "ipython3",
   "version": "3.9.5"
  },
  "toc": {
   "base_numbering": 1,
   "nav_menu": {},
   "number_sections": true,
   "sideBar": true,
   "skip_h1_title": true,
   "title_cell": "Table of Contents",
   "title_sidebar": "Contents",
   "toc_cell": false,
   "toc_position": {
    "height": "calc(100% - 180px)",
    "left": "10px",
    "top": "150px",
    "width": "165px"
   },
   "toc_section_display": true,
   "toc_window_display": false
  }
 },
 "nbformat": 4,
 "nbformat_minor": 2
}
