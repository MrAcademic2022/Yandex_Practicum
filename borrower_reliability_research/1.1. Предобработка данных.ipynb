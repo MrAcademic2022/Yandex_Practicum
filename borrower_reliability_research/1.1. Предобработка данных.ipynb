{
 "cells": [
  {
   "cell_type": "markdown",
   "id": "fe1c56ff",
   "metadata": {
    "deletable": false,
    "editable": false,
    "id": "c81daeeb"
   },
   "source": [
    "# Исследование надежности заемщиков\n"
   ]
  },
  {
   "cell_type": "markdown",
   "id": "71a26156",
   "metadata": {
    "deletable": false,
    "editable": false,
    "id": "827c20bf"
   },
   "source": [
    "Во второй части проекта вы выполните шаги 3 и 4. Их вручную проверит ревьюер.\n",
    "Чтобы вам не пришлось писать код заново для шагов 1 и 2, мы добавили авторские решения в ячейки с кодом. \n",
    "\n"
   ]
  },
  {
   "cell_type": "markdown",
   "id": "abb77cbc",
   "metadata": {
    "deletable": false,
    "editable": false,
    "id": "744d7639"
   },
   "source": [
    "## Откройте таблицу и изучите общую информацию о данных"
   ]
  },
  {
   "cell_type": "markdown",
   "id": "9d50fc6c",
   "metadata": {
    "deletable": false,
    "editable": false,
    "id": "e7a14c31"
   },
   "source": [
    "**Задание 1. Импортируйте библиотеку pandas. Считайте данные из csv-файла в датафрейм и сохраните в переменную `data`. Путь к файлу:**\n",
    "\n",
    "`/datasets/data.csv`"
   ]
  },
  {
   "cell_type": "code",
   "execution_count": 2,
   "id": "0000fbdf",
   "metadata": {
    "deletable": false,
    "id": "7bcf75c9"
   },
   "outputs": [],
   "source": [
    "import pandas as pd\n",
    "\n",
    "try:\n",
    "    data = pd.read_csv('/datasets/data.csv')\n",
    "except:\n",
    "    data = pd.read_csv('https://code.s3.yandex.net/datasets/data.csv')"
   ]
  },
  {
   "cell_type": "markdown",
   "id": "8cac41df",
   "metadata": {},
   "source": [
    "Импортировали библиотеку и считали данные из файла, путь к которому прописали в двух вариантах, используя оператор для безопасного получения результата - `try...except`"
   ]
  },
  {
   "cell_type": "markdown",
   "id": "782c596b",
   "metadata": {
    "deletable": false,
    "editable": false,
    "id": "b8038fe3"
   },
   "source": [
    "**Задание 2. Выведите первые 20 строчек датафрейма `data` на экран.**"
   ]
  },
  {
   "cell_type": "code",
   "execution_count": 3,
   "id": "af825f03",
   "metadata": {
    "deletable": false,
    "id": "2a7cab99",
    "outputId": "1a8f3ef2-d323-4ec2-ddf7-89670b5944c4"
   },
   "outputs": [
    {
     "data": {
      "text/html": [
       "<div>\n",
       "<style scoped>\n",
       "    .dataframe tbody tr th:only-of-type {\n",
       "        vertical-align: middle;\n",
       "    }\n",
       "\n",
       "    .dataframe tbody tr th {\n",
       "        vertical-align: top;\n",
       "    }\n",
       "\n",
       "    .dataframe thead th {\n",
       "        text-align: right;\n",
       "    }\n",
       "</style>\n",
       "<table border=\"1\" class=\"dataframe\">\n",
       "  <thead>\n",
       "    <tr style=\"text-align: right;\">\n",
       "      <th></th>\n",
       "      <th>children</th>\n",
       "      <th>days_employed</th>\n",
       "      <th>dob_years</th>\n",
       "      <th>education</th>\n",
       "      <th>education_id</th>\n",
       "      <th>family_status</th>\n",
       "      <th>family_status_id</th>\n",
       "      <th>gender</th>\n",
       "      <th>income_type</th>\n",
       "      <th>debt</th>\n",
       "      <th>total_income</th>\n",
       "      <th>purpose</th>\n",
       "    </tr>\n",
       "  </thead>\n",
       "  <tbody>\n",
       "    <tr>\n",
       "      <th>0</th>\n",
       "      <td>1</td>\n",
       "      <td>-8437.673028</td>\n",
       "      <td>42</td>\n",
       "      <td>высшее</td>\n",
       "      <td>0</td>\n",
       "      <td>женат / замужем</td>\n",
       "      <td>0</td>\n",
       "      <td>F</td>\n",
       "      <td>сотрудник</td>\n",
       "      <td>0</td>\n",
       "      <td>253875.639453</td>\n",
       "      <td>покупка жилья</td>\n",
       "    </tr>\n",
       "    <tr>\n",
       "      <th>1</th>\n",
       "      <td>1</td>\n",
       "      <td>-4024.803754</td>\n",
       "      <td>36</td>\n",
       "      <td>среднее</td>\n",
       "      <td>1</td>\n",
       "      <td>женат / замужем</td>\n",
       "      <td>0</td>\n",
       "      <td>F</td>\n",
       "      <td>сотрудник</td>\n",
       "      <td>0</td>\n",
       "      <td>112080.014102</td>\n",
       "      <td>приобретение автомобиля</td>\n",
       "    </tr>\n",
       "    <tr>\n",
       "      <th>2</th>\n",
       "      <td>0</td>\n",
       "      <td>-5623.422610</td>\n",
       "      <td>33</td>\n",
       "      <td>Среднее</td>\n",
       "      <td>1</td>\n",
       "      <td>женат / замужем</td>\n",
       "      <td>0</td>\n",
       "      <td>M</td>\n",
       "      <td>сотрудник</td>\n",
       "      <td>0</td>\n",
       "      <td>145885.952297</td>\n",
       "      <td>покупка жилья</td>\n",
       "    </tr>\n",
       "    <tr>\n",
       "      <th>3</th>\n",
       "      <td>3</td>\n",
       "      <td>-4124.747207</td>\n",
       "      <td>32</td>\n",
       "      <td>среднее</td>\n",
       "      <td>1</td>\n",
       "      <td>женат / замужем</td>\n",
       "      <td>0</td>\n",
       "      <td>M</td>\n",
       "      <td>сотрудник</td>\n",
       "      <td>0</td>\n",
       "      <td>267628.550329</td>\n",
       "      <td>дополнительное образование</td>\n",
       "    </tr>\n",
       "    <tr>\n",
       "      <th>4</th>\n",
       "      <td>0</td>\n",
       "      <td>340266.072047</td>\n",
       "      <td>53</td>\n",
       "      <td>среднее</td>\n",
       "      <td>1</td>\n",
       "      <td>гражданский брак</td>\n",
       "      <td>1</td>\n",
       "      <td>F</td>\n",
       "      <td>пенсионер</td>\n",
       "      <td>0</td>\n",
       "      <td>158616.077870</td>\n",
       "      <td>сыграть свадьбу</td>\n",
       "    </tr>\n",
       "    <tr>\n",
       "      <th>5</th>\n",
       "      <td>0</td>\n",
       "      <td>-926.185831</td>\n",
       "      <td>27</td>\n",
       "      <td>высшее</td>\n",
       "      <td>0</td>\n",
       "      <td>гражданский брак</td>\n",
       "      <td>1</td>\n",
       "      <td>M</td>\n",
       "      <td>компаньон</td>\n",
       "      <td>0</td>\n",
       "      <td>255763.565419</td>\n",
       "      <td>покупка жилья</td>\n",
       "    </tr>\n",
       "    <tr>\n",
       "      <th>6</th>\n",
       "      <td>0</td>\n",
       "      <td>-2879.202052</td>\n",
       "      <td>43</td>\n",
       "      <td>высшее</td>\n",
       "      <td>0</td>\n",
       "      <td>женат / замужем</td>\n",
       "      <td>0</td>\n",
       "      <td>F</td>\n",
       "      <td>компаньон</td>\n",
       "      <td>0</td>\n",
       "      <td>240525.971920</td>\n",
       "      <td>операции с жильем</td>\n",
       "    </tr>\n",
       "    <tr>\n",
       "      <th>7</th>\n",
       "      <td>0</td>\n",
       "      <td>-152.779569</td>\n",
       "      <td>50</td>\n",
       "      <td>СРЕДНЕЕ</td>\n",
       "      <td>1</td>\n",
       "      <td>женат / замужем</td>\n",
       "      <td>0</td>\n",
       "      <td>M</td>\n",
       "      <td>сотрудник</td>\n",
       "      <td>0</td>\n",
       "      <td>135823.934197</td>\n",
       "      <td>образование</td>\n",
       "    </tr>\n",
       "    <tr>\n",
       "      <th>8</th>\n",
       "      <td>2</td>\n",
       "      <td>-6929.865299</td>\n",
       "      <td>35</td>\n",
       "      <td>ВЫСШЕЕ</td>\n",
       "      <td>0</td>\n",
       "      <td>гражданский брак</td>\n",
       "      <td>1</td>\n",
       "      <td>F</td>\n",
       "      <td>сотрудник</td>\n",
       "      <td>0</td>\n",
       "      <td>95856.832424</td>\n",
       "      <td>на проведение свадьбы</td>\n",
       "    </tr>\n",
       "    <tr>\n",
       "      <th>9</th>\n",
       "      <td>0</td>\n",
       "      <td>-2188.756445</td>\n",
       "      <td>41</td>\n",
       "      <td>среднее</td>\n",
       "      <td>1</td>\n",
       "      <td>женат / замужем</td>\n",
       "      <td>0</td>\n",
       "      <td>M</td>\n",
       "      <td>сотрудник</td>\n",
       "      <td>0</td>\n",
       "      <td>144425.938277</td>\n",
       "      <td>покупка жилья для семьи</td>\n",
       "    </tr>\n",
       "    <tr>\n",
       "      <th>10</th>\n",
       "      <td>2</td>\n",
       "      <td>-4171.483647</td>\n",
       "      <td>36</td>\n",
       "      <td>высшее</td>\n",
       "      <td>0</td>\n",
       "      <td>женат / замужем</td>\n",
       "      <td>0</td>\n",
       "      <td>M</td>\n",
       "      <td>компаньон</td>\n",
       "      <td>0</td>\n",
       "      <td>113943.491460</td>\n",
       "      <td>покупка недвижимости</td>\n",
       "    </tr>\n",
       "    <tr>\n",
       "      <th>11</th>\n",
       "      <td>0</td>\n",
       "      <td>-792.701887</td>\n",
       "      <td>40</td>\n",
       "      <td>среднее</td>\n",
       "      <td>1</td>\n",
       "      <td>женат / замужем</td>\n",
       "      <td>0</td>\n",
       "      <td>F</td>\n",
       "      <td>сотрудник</td>\n",
       "      <td>0</td>\n",
       "      <td>77069.234271</td>\n",
       "      <td>покупка коммерческой недвижимости</td>\n",
       "    </tr>\n",
       "    <tr>\n",
       "      <th>12</th>\n",
       "      <td>0</td>\n",
       "      <td>NaN</td>\n",
       "      <td>65</td>\n",
       "      <td>среднее</td>\n",
       "      <td>1</td>\n",
       "      <td>гражданский брак</td>\n",
       "      <td>1</td>\n",
       "      <td>M</td>\n",
       "      <td>пенсионер</td>\n",
       "      <td>0</td>\n",
       "      <td>NaN</td>\n",
       "      <td>сыграть свадьбу</td>\n",
       "    </tr>\n",
       "    <tr>\n",
       "      <th>13</th>\n",
       "      <td>0</td>\n",
       "      <td>-1846.641941</td>\n",
       "      <td>54</td>\n",
       "      <td>неоконченное высшее</td>\n",
       "      <td>2</td>\n",
       "      <td>женат / замужем</td>\n",
       "      <td>0</td>\n",
       "      <td>F</td>\n",
       "      <td>сотрудник</td>\n",
       "      <td>0</td>\n",
       "      <td>130458.228857</td>\n",
       "      <td>приобретение автомобиля</td>\n",
       "    </tr>\n",
       "    <tr>\n",
       "      <th>14</th>\n",
       "      <td>0</td>\n",
       "      <td>-1844.956182</td>\n",
       "      <td>56</td>\n",
       "      <td>высшее</td>\n",
       "      <td>0</td>\n",
       "      <td>гражданский брак</td>\n",
       "      <td>1</td>\n",
       "      <td>F</td>\n",
       "      <td>компаньон</td>\n",
       "      <td>1</td>\n",
       "      <td>165127.911772</td>\n",
       "      <td>покупка жилой недвижимости</td>\n",
       "    </tr>\n",
       "    <tr>\n",
       "      <th>15</th>\n",
       "      <td>1</td>\n",
       "      <td>-972.364419</td>\n",
       "      <td>26</td>\n",
       "      <td>среднее</td>\n",
       "      <td>1</td>\n",
       "      <td>женат / замужем</td>\n",
       "      <td>0</td>\n",
       "      <td>F</td>\n",
       "      <td>сотрудник</td>\n",
       "      <td>0</td>\n",
       "      <td>116820.904450</td>\n",
       "      <td>строительство собственной недвижимости</td>\n",
       "    </tr>\n",
       "    <tr>\n",
       "      <th>16</th>\n",
       "      <td>0</td>\n",
       "      <td>-1719.934226</td>\n",
       "      <td>35</td>\n",
       "      <td>среднее</td>\n",
       "      <td>1</td>\n",
       "      <td>женат / замужем</td>\n",
       "      <td>0</td>\n",
       "      <td>F</td>\n",
       "      <td>сотрудник</td>\n",
       "      <td>0</td>\n",
       "      <td>289202.704229</td>\n",
       "      <td>недвижимость</td>\n",
       "    </tr>\n",
       "    <tr>\n",
       "      <th>17</th>\n",
       "      <td>0</td>\n",
       "      <td>-2369.999720</td>\n",
       "      <td>33</td>\n",
       "      <td>высшее</td>\n",
       "      <td>0</td>\n",
       "      <td>гражданский брак</td>\n",
       "      <td>1</td>\n",
       "      <td>M</td>\n",
       "      <td>сотрудник</td>\n",
       "      <td>0</td>\n",
       "      <td>90410.586745</td>\n",
       "      <td>строительство недвижимости</td>\n",
       "    </tr>\n",
       "    <tr>\n",
       "      <th>18</th>\n",
       "      <td>0</td>\n",
       "      <td>400281.136913</td>\n",
       "      <td>53</td>\n",
       "      <td>среднее</td>\n",
       "      <td>1</td>\n",
       "      <td>вдовец / вдова</td>\n",
       "      <td>2</td>\n",
       "      <td>F</td>\n",
       "      <td>пенсионер</td>\n",
       "      <td>0</td>\n",
       "      <td>56823.777243</td>\n",
       "      <td>на покупку подержанного автомобиля</td>\n",
       "    </tr>\n",
       "    <tr>\n",
       "      <th>19</th>\n",
       "      <td>0</td>\n",
       "      <td>-10038.818549</td>\n",
       "      <td>48</td>\n",
       "      <td>СРЕДНЕЕ</td>\n",
       "      <td>1</td>\n",
       "      <td>в разводе</td>\n",
       "      <td>3</td>\n",
       "      <td>F</td>\n",
       "      <td>сотрудник</td>\n",
       "      <td>0</td>\n",
       "      <td>242831.107982</td>\n",
       "      <td>на покупку своего автомобиля</td>\n",
       "    </tr>\n",
       "  </tbody>\n",
       "</table>\n",
       "</div>"
      ],
      "text/plain": [
       "    children  days_employed  dob_years            education  education_id  \\\n",
       "0          1   -8437.673028         42               высшее             0   \n",
       "1          1   -4024.803754         36              среднее             1   \n",
       "2          0   -5623.422610         33              Среднее             1   \n",
       "3          3   -4124.747207         32              среднее             1   \n",
       "4          0  340266.072047         53              среднее             1   \n",
       "5          0    -926.185831         27               высшее             0   \n",
       "6          0   -2879.202052         43               высшее             0   \n",
       "7          0    -152.779569         50              СРЕДНЕЕ             1   \n",
       "8          2   -6929.865299         35               ВЫСШЕЕ             0   \n",
       "9          0   -2188.756445         41              среднее             1   \n",
       "10         2   -4171.483647         36               высшее             0   \n",
       "11         0    -792.701887         40              среднее             1   \n",
       "12         0            NaN         65              среднее             1   \n",
       "13         0   -1846.641941         54  неоконченное высшее             2   \n",
       "14         0   -1844.956182         56               высшее             0   \n",
       "15         1    -972.364419         26              среднее             1   \n",
       "16         0   -1719.934226         35              среднее             1   \n",
       "17         0   -2369.999720         33               высшее             0   \n",
       "18         0  400281.136913         53              среднее             1   \n",
       "19         0  -10038.818549         48              СРЕДНЕЕ             1   \n",
       "\n",
       "       family_status  family_status_id gender income_type  debt  \\\n",
       "0    женат / замужем                 0      F   сотрудник     0   \n",
       "1    женат / замужем                 0      F   сотрудник     0   \n",
       "2    женат / замужем                 0      M   сотрудник     0   \n",
       "3    женат / замужем                 0      M   сотрудник     0   \n",
       "4   гражданский брак                 1      F   пенсионер     0   \n",
       "5   гражданский брак                 1      M   компаньон     0   \n",
       "6    женат / замужем                 0      F   компаньон     0   \n",
       "7    женат / замужем                 0      M   сотрудник     0   \n",
       "8   гражданский брак                 1      F   сотрудник     0   \n",
       "9    женат / замужем                 0      M   сотрудник     0   \n",
       "10   женат / замужем                 0      M   компаньон     0   \n",
       "11   женат / замужем                 0      F   сотрудник     0   \n",
       "12  гражданский брак                 1      M   пенсионер     0   \n",
       "13   женат / замужем                 0      F   сотрудник     0   \n",
       "14  гражданский брак                 1      F   компаньон     1   \n",
       "15   женат / замужем                 0      F   сотрудник     0   \n",
       "16   женат / замужем                 0      F   сотрудник     0   \n",
       "17  гражданский брак                 1      M   сотрудник     0   \n",
       "18    вдовец / вдова                 2      F   пенсионер     0   \n",
       "19         в разводе                 3      F   сотрудник     0   \n",
       "\n",
       "     total_income                                 purpose  \n",
       "0   253875.639453                           покупка жилья  \n",
       "1   112080.014102                 приобретение автомобиля  \n",
       "2   145885.952297                           покупка жилья  \n",
       "3   267628.550329              дополнительное образование  \n",
       "4   158616.077870                         сыграть свадьбу  \n",
       "5   255763.565419                           покупка жилья  \n",
       "6   240525.971920                       операции с жильем  \n",
       "7   135823.934197                             образование  \n",
       "8    95856.832424                   на проведение свадьбы  \n",
       "9   144425.938277                 покупка жилья для семьи  \n",
       "10  113943.491460                    покупка недвижимости  \n",
       "11   77069.234271       покупка коммерческой недвижимости  \n",
       "12            NaN                         сыграть свадьбу  \n",
       "13  130458.228857                 приобретение автомобиля  \n",
       "14  165127.911772              покупка жилой недвижимости  \n",
       "15  116820.904450  строительство собственной недвижимости  \n",
       "16  289202.704229                            недвижимость  \n",
       "17   90410.586745              строительство недвижимости  \n",
       "18   56823.777243      на покупку подержанного автомобиля  \n",
       "19  242831.107982            на покупку своего автомобиля  "
      ]
     },
     "execution_count": 3,
     "metadata": {},
     "output_type": "execute_result"
    }
   ],
   "source": [
    "data.head(20)"
   ]
  },
  {
   "cell_type": "markdown",
   "id": "515a62ce",
   "metadata": {},
   "source": [
    "Вывели первые 20 строчек датафрейма на экран. Видим, что данные считались без ошибок, оцениваем наличие предсуществующих ошибок в данных (не связанных со считыванием их в переменную data). \n",
    "Видим:\n",
    "- пропущенные значения\n",
    "- некорректный формат представления данных (разный регистр, неправильный знак (отрицательные дни))"
   ]
  },
  {
   "cell_type": "markdown",
   "id": "8ab8b3a8",
   "metadata": {
    "deletable": false,
    "editable": false,
    "id": "1c12e233"
   },
   "source": [
    "**Задание 3. Выведите основную информацию о датафрейме с помощью метода `info()`.**"
   ]
  },
  {
   "cell_type": "code",
   "execution_count": 4,
   "id": "885b2fba",
   "metadata": {
    "deletable": false,
    "id": "2b757bca",
    "outputId": "15376089-8dad-46c9-b520-c05248d43158",
    "scrolled": false
   },
   "outputs": [
    {
     "name": "stdout",
     "output_type": "stream",
     "text": [
      "<class 'pandas.core.frame.DataFrame'>\n",
      "RangeIndex: 21525 entries, 0 to 21524\n",
      "Data columns (total 12 columns):\n",
      " #   Column            Non-Null Count  Dtype  \n",
      "---  ------            --------------  -----  \n",
      " 0   children          21525 non-null  int64  \n",
      " 1   days_employed     19351 non-null  float64\n",
      " 2   dob_years         21525 non-null  int64  \n",
      " 3   education         21525 non-null  object \n",
      " 4   education_id      21525 non-null  int64  \n",
      " 5   family_status     21525 non-null  object \n",
      " 6   family_status_id  21525 non-null  int64  \n",
      " 7   gender            21525 non-null  object \n",
      " 8   income_type       21525 non-null  object \n",
      " 9   debt              21525 non-null  int64  \n",
      " 10  total_income      19351 non-null  float64\n",
      " 11  purpose           21525 non-null  object \n",
      "dtypes: float64(2), int64(5), object(5)\n",
      "memory usage: 2.0+ MB\n"
     ]
    }
   ],
   "source": [
    "data.info()"
   ]
  },
  {
   "cell_type": "markdown",
   "id": "f117e320",
   "metadata": {},
   "source": [
    "### Промежуточный итог №1\n",
    "Мы импортировали необходимую библиотеку, сохранили данные из датафрейма в переменной data и убедились, что все перенеслось хорошо, выведя первые 20 строчек датафрейма и информацию о нем."
   ]
  },
  {
   "cell_type": "markdown",
   "id": "46a17d00",
   "metadata": {
    "deletable": false,
    "editable": false,
    "id": "333ec665"
   },
   "source": [
    "## Предобработка данных"
   ]
  },
  {
   "cell_type": "markdown",
   "id": "a0bf1c7a",
   "metadata": {
    "deletable": false,
    "editable": false,
    "id": "02d92d53"
   },
   "source": [
    "### Удаление пропусков"
   ]
  },
  {
   "cell_type": "markdown",
   "id": "e546510f",
   "metadata": {
    "deletable": false,
    "editable": false,
    "id": "cd84967c"
   },
   "source": [
    "**Задание 4. Выведите количество пропущенных значений для каждого столбца. Используйте комбинацию двух методов.**"
   ]
  },
  {
   "cell_type": "code",
   "execution_count": 5,
   "id": "98a49ad1",
   "metadata": {
    "deletable": false,
    "id": "7f9b2309",
    "outputId": "81f4d817-781c-465c-ed15-91ce4446810d",
    "scrolled": true
   },
   "outputs": [
    {
     "data": {
      "text/plain": [
       "children               0\n",
       "days_employed       2174\n",
       "dob_years              0\n",
       "education              0\n",
       "education_id           0\n",
       "family_status          0\n",
       "family_status_id       0\n",
       "gender                 0\n",
       "income_type            0\n",
       "debt                   0\n",
       "total_income        2174\n",
       "purpose                0\n",
       "dtype: int64"
      ]
     },
     "execution_count": 5,
     "metadata": {},
     "output_type": "execute_result"
    }
   ],
   "source": [
    "data.isna().sum()"
   ]
  },
  {
   "cell_type": "markdown",
   "id": "4e7f3e1e",
   "metadata": {},
   "source": [
    "Пропущенные значения имеются только в столбцах с общим стажем и общим доходом клиентов"
   ]
  },
  {
   "cell_type": "markdown",
   "id": "5d99060d",
   "metadata": {
    "deletable": false,
    "editable": false,
    "id": "db86e27b"
   },
   "source": [
    "**Задание 5. В двух столбцах есть пропущенные значения. Один из них — `days_employed`. Пропуски в этом столбце вы обработаете на следующем этапе. Другой столбец с пропущенными значениями — `total_income` — хранит данные о доходах. На сумму дохода сильнее всего влияет тип занятости, поэтому заполнить пропуски в этом столбце нужно медианным значением по каждому типу из столбца `income_type`. Например, у человека с типом занятости `сотрудник` пропуск в столбце `total_income` должен быть заполнен медианным доходом среди всех записей с тем же типом.**"
   ]
  },
  {
   "cell_type": "code",
   "execution_count": 7,
   "id": "749525c4",
   "metadata": {
    "deletable": false,
    "id": "42006a93"
   },
   "outputs": [],
   "source": [
    "for t in data['income_type'].unique():\n",
    "    data.loc[(data['income_type'] == t) & (data['total_income'].isna()), 'total_income'] = \\\n",
    "    data.loc[(data['income_type'] == t), 'total_income'].median()"
   ]
  },
  {
   "cell_type": "markdown",
   "id": "29106b54",
   "metadata": {},
   "source": [
    "Заменили пропуски в столбце с доходами на медианное по категориям"
   ]
  },
  {
   "cell_type": "markdown",
   "id": "08016e90",
   "metadata": {
    "deletable": false,
    "editable": false,
    "id": "89da5ece"
   },
   "source": [
    "### Обработка аномальных значений"
   ]
  },
  {
   "cell_type": "markdown",
   "id": "5c55c780",
   "metadata": {
    "deletable": false,
    "editable": false,
    "id": "57964554"
   },
   "source": [
    "**Задание 6. В данных могут встречаться артефакты (аномалии) — значения, которые не отражают действительность и появились по какой-то ошибке. таким артефактом будет отрицательное количество дней трудового стажа в столбце `days_employed`. Для реальных данных это нормально. Обработайте значения в этом столбце: замените все отрицательные значения положительными с помощью метода `abs()`.**"
   ]
  },
  {
   "cell_type": "code",
   "execution_count": 6,
   "id": "30e45298",
   "metadata": {
    "deletable": false,
    "id": "f6f055bf"
   },
   "outputs": [],
   "source": [
    "data['days_employed'] = data['days_employed'].abs()"
   ]
  },
  {
   "cell_type": "markdown",
   "id": "a7c4d61b",
   "metadata": {},
   "source": [
    "Привели формат дней к нормальному виду - перевели все отрицательные значения в положительные"
   ]
  },
  {
   "cell_type": "markdown",
   "id": "c9a26794",
   "metadata": {
    "deletable": false,
    "editable": false,
    "id": "6107dd2f"
   },
   "source": [
    "**Задание 7. Для каждого типа занятости выведите медианное значение трудового стажа `days_employed` в днях.**"
   ]
  },
  {
   "cell_type": "code",
   "execution_count": 7,
   "id": "ff8be2ef",
   "metadata": {
    "deletable": false,
    "id": "85a5faf6",
    "outputId": "801ef80e-522b-4668-f34e-565af7432bcf"
   },
   "outputs": [
    {
     "data": {
      "text/plain": [
       "income_type\n",
       "безработный        366413.652744\n",
       "в декрете            3296.759962\n",
       "госслужащий          2689.368353\n",
       "компаньон            1547.382223\n",
       "пенсионер          365213.306266\n",
       "предприниматель       520.848083\n",
       "сотрудник            1574.202821\n",
       "студент               578.751554\n",
       "Name: days_employed, dtype: float64"
      ]
     },
     "execution_count": 7,
     "metadata": {},
     "output_type": "execute_result"
    }
   ],
   "source": [
    "data.groupby('income_type')['days_employed'].agg('median')"
   ]
  },
  {
   "cell_type": "markdown",
   "id": "7c5980a8",
   "metadata": {
    "deletable": false,
    "editable": false,
    "id": "38d1a030"
   },
   "source": [
    "У двух типов (безработные и пенсионеры) получатся аномально большие значения. Исправить такие значения сложно, поэтому оставьте их как есть. Тем более этот столбец не понадобится вам для исследования."
   ]
  },
  {
   "cell_type": "markdown",
   "id": "1cf9cf0f",
   "metadata": {
    "deletable": false,
    "editable": false,
    "id": "d8a9f147"
   },
   "source": [
    "**Задание 8. Выведите перечень уникальных значений столбца `children`.**"
   ]
  },
  {
   "cell_type": "code",
   "execution_count": 8,
   "id": "717eb3a6",
   "metadata": {
    "deletable": false,
    "id": "ef5056eb",
    "outputId": "6975b15c-7f95-4697-d16d-a0c79b657b03"
   },
   "outputs": [
    {
     "data": {
      "text/plain": [
       "array([ 1,  0,  3,  2, -1,  4, 20,  5])"
      ]
     },
     "execution_count": 8,
     "metadata": {},
     "output_type": "execute_result"
    }
   ],
   "source": [
    "data['children'].unique()"
   ]
  },
  {
   "cell_type": "markdown",
   "id": "f5e92f65",
   "metadata": {},
   "source": [
    "Видим, что есть аномалии в количестве детей - их отрицательное количество `-1` и аномально большое `20`"
   ]
  },
  {
   "cell_type": "markdown",
   "id": "423be428",
   "metadata": {
    "deletable": false,
    "editable": false,
    "id": "40b9ebf2"
   },
   "source": [
    "**Задание 9. В столбце `children` есть два аномальных значения. Удалите строки, в которых встречаются такие аномальные значения из датафрейма `data`.**"
   ]
  },
  {
   "cell_type": "code",
   "execution_count": 9,
   "id": "ebbc6dd5",
   "metadata": {
    "deletable": false,
    "id": "3ff9801d"
   },
   "outputs": [],
   "source": [
    "data = data[(data['children'] != -1) & (data['children'] != 20)]"
   ]
  },
  {
   "cell_type": "markdown",
   "id": "bb6d8978",
   "metadata": {},
   "source": [
    "Удалили строки с аномальными количествами детей"
   ]
  },
  {
   "cell_type": "markdown",
   "id": "7de81151",
   "metadata": {
    "deletable": false,
    "editable": false,
    "id": "bbc4d0ce"
   },
   "source": [
    "**Задание 10. Ещё раз выведите перечень уникальных значений столбца `children`, чтобы убедиться, что артефакты удалены.**"
   ]
  },
  {
   "cell_type": "code",
   "execution_count": 10,
   "id": "71b535d3",
   "metadata": {
    "deletable": false,
    "id": "ad4fa8b7",
    "outputId": "b2097101-d49d-44d9-901b-32a65c9463d1"
   },
   "outputs": [
    {
     "data": {
      "text/plain": [
       "array([1, 0, 3, 2, 4, 5])"
      ]
     },
     "execution_count": 10,
     "metadata": {},
     "output_type": "execute_result"
    }
   ],
   "source": [
    "data['children'].unique()"
   ]
  },
  {
   "cell_type": "markdown",
   "id": "b608b52f",
   "metadata": {},
   "source": [
    "Убедились, что теперь остались только строки с нормальным количеством детей. "
   ]
  },
  {
   "cell_type": "markdown",
   "id": "be1d9e5f",
   "metadata": {
    "deletable": false,
    "editable": false,
    "id": "75440b63"
   },
   "source": [
    "### Удаление пропусков (продолжение)"
   ]
  },
  {
   "cell_type": "markdown",
   "id": "931c7d11",
   "metadata": {
    "deletable": false,
    "editable": false,
    "id": "f4ea573f"
   },
   "source": [
    "**Задание 11. Заполните пропуски в столбце `days_employed` медианными значениями по каждого типа занятости `income_type`.**"
   ]
  },
  {
   "cell_type": "code",
   "execution_count": 11,
   "id": "0696a928",
   "metadata": {
    "deletable": false,
    "id": "af6b1a7e"
   },
   "outputs": [],
   "source": [
    "for t in data['income_type'].unique():\n",
    "    data.loc[(data['income_type'] == t) & (data['days_employed'].isna()), 'days_employed'] = \\\n",
    "    data.loc[(data['income_type'] == t), 'days_employed'].median()"
   ]
  },
  {
   "cell_type": "markdown",
   "id": "dea15d1c",
   "metadata": {},
   "source": [
    "Заменили пропуски в столбце со стажем работы на медианное по категориям"
   ]
  },
  {
   "cell_type": "markdown",
   "id": "8c784cbb",
   "metadata": {
    "deletable": false,
    "editable": false,
    "id": "2753f40d"
   },
   "source": [
    "**Задание 12. Убедитесь, что все пропуски заполнены. Проверьте себя и ещё раз выведите количество пропущенных значений для каждого столбца с помощью двух методов.**"
   ]
  },
  {
   "cell_type": "code",
   "execution_count": 12,
   "id": "6984db49",
   "metadata": {
    "deletable": false,
    "id": "55f78bc2",
    "outputId": "8da1e4e1-358e-4e87-98c9-f261bce0a7b2",
    "scrolled": true
   },
   "outputs": [
    {
     "data": {
      "text/plain": [
       "children            0\n",
       "days_employed       0\n",
       "dob_years           0\n",
       "education           0\n",
       "education_id        0\n",
       "family_status       0\n",
       "family_status_id    0\n",
       "gender              0\n",
       "income_type         0\n",
       "debt                0\n",
       "total_income        0\n",
       "purpose             0\n",
       "dtype: int64"
      ]
     },
     "execution_count": 12,
     "metadata": {},
     "output_type": "execute_result"
    }
   ],
   "source": [
    "data.isna().sum()"
   ]
  },
  {
   "cell_type": "markdown",
   "id": "6c448314",
   "metadata": {},
   "source": [
    "### Промежуточный итог №2\n",
    "Все пропуски заполнены и аномальные данные удалены!"
   ]
  },
  {
   "cell_type": "markdown",
   "id": "286826e6",
   "metadata": {
    "deletable": false,
    "editable": false,
    "id": "ddc81e43"
   },
   "source": [
    "### Изменение типов данных"
   ]
  },
  {
   "cell_type": "markdown",
   "id": "b8cee8c7",
   "metadata": {
    "deletable": false,
    "editable": false,
    "id": "42d19d24"
   },
   "source": [
    "**Задание 13. Замените вещественный тип данных в столбце `total_income` на целочисленный с помощью метода `astype()`.**"
   ]
  },
  {
   "cell_type": "code",
   "execution_count": 13,
   "id": "e5d61b0e",
   "metadata": {
    "deletable": false,
    "id": "920b65ad"
   },
   "outputs": [],
   "source": [
    "data['total_income'] = data['total_income'].astype(int)"
   ]
  },
  {
   "cell_type": "markdown",
   "id": "37c88c9e",
   "metadata": {},
   "source": [
    "Заменили тип данных в графе общего дохода с вещественного на целочисленный"
   ]
  },
  {
   "cell_type": "markdown",
   "id": "a07822cb",
   "metadata": {
    "deletable": false,
    "editable": false,
    "id": "80c420ba"
   },
   "source": [
    "### Обработка дубликатов"
   ]
  },
  {
   "cell_type": "markdown",
   "id": "8af5fdf6",
   "metadata": {
    "deletable": false,
    "editable": false
   },
   "source": [
    "**Задание 14. Обработайте неявные дубликаты в столбце `education`. В этом столбце есть одни и те же значения, но записанные по-разному: с использованием заглавных и строчных букв. Приведите их к нижнему регистру. Проверьте остальные столбцы.**"
   ]
  },
  {
   "cell_type": "code",
   "execution_count": 14,
   "id": "67132cbf",
   "metadata": {
    "deletable": false
   },
   "outputs": [],
   "source": [
    "data['education'] = data['education'].str.lower()"
   ]
  },
  {
   "cell_type": "markdown",
   "id": "1294600e",
   "metadata": {},
   "source": [
    "Привели столбец с образованием к нижнему регистру, чтобы было проще выяснить неявные дубликаты"
   ]
  },
  {
   "cell_type": "markdown",
   "id": "75409868",
   "metadata": {
    "deletable": false,
    "editable": false,
    "id": "dc587695"
   },
   "source": [
    "**Задание 15. Выведите на экран количество строк-дубликатов в данных. Если такие строки присутствуют, удалите их.**"
   ]
  },
  {
   "cell_type": "code",
   "execution_count": 15,
   "id": "6242a93e",
   "metadata": {
    "deletable": false,
    "id": "3ee445e4",
    "outputId": "9684deba-1934-42d1-99e1-cda61740f822"
   },
   "outputs": [
    {
     "data": {
      "text/plain": [
       "71"
      ]
     },
     "execution_count": 15,
     "metadata": {},
     "output_type": "execute_result"
    }
   ],
   "source": [
    "data.duplicated().sum()"
   ]
  },
  {
   "cell_type": "markdown",
   "id": "dd0b1842",
   "metadata": {},
   "source": [
    "Выявлен 71 дупликат после приведения к нижнему регистру"
   ]
  },
  {
   "cell_type": "code",
   "execution_count": 16,
   "id": "8ea245f0",
   "metadata": {
    "deletable": false,
    "id": "8575fe05"
   },
   "outputs": [],
   "source": [
    "data = data.drop_duplicates()"
   ]
  },
  {
   "cell_type": "markdown",
   "id": "b15f170e",
   "metadata": {},
   "source": [
    "Удаляем их"
   ]
  },
  {
   "cell_type": "markdown",
   "id": "fae2957c",
   "metadata": {},
   "source": [
    "### Промежуточный итог №3\n",
    "Все неявные дупликаты выявлены и удалены, а тип некоторых переменных изменен на требуемый"
   ]
  },
  {
   "cell_type": "markdown",
   "id": "a19649f3",
   "metadata": {
    "deletable": false,
    "editable": false,
    "id": "9904cf55"
   },
   "source": [
    "### Категоризация данных"
   ]
  },
  {
   "cell_type": "markdown",
   "id": "1bae4db5",
   "metadata": {
    "deletable": false,
    "editable": false,
    "id": "72fcc8a2"
   },
   "source": [
    "**Задание 16. На основании диапазонов, указанных ниже, создайте в датафрейме `data` столбец `total_income_category` с категориями:**\n",
    "\n",
    "- 0–30000 — `'E'`;\n",
    "- 30001–50000 — `'D'`;\n",
    "- 50001–200000 — `'C'`;\n",
    "- 200001–1000000 — `'B'`;\n",
    "- 1000001 и выше — `'A'`.\n",
    "\n",
    "\n",
    "**Например, кредитополучателю с доходом 25000 нужно назначить категорию `'E'`, а клиенту, получающему 235000, — `'B'`. Используйте собственную функцию с именем `categorize_income()` и метод `apply()`.**"
   ]
  },
  {
   "cell_type": "code",
   "execution_count": 17,
   "id": "98b3b369",
   "metadata": {
    "deletable": false,
    "id": "e1771346"
   },
   "outputs": [],
   "source": [
    "def categorize_income(income):\n",
    "    try:\n",
    "        if 0 <= income <= 30000:\n",
    "            return 'E'\n",
    "        elif 30001 <= income <= 50000:\n",
    "            return 'D'\n",
    "        elif 50001 <= income <= 200000:\n",
    "            return 'C'\n",
    "        elif 200001 <= income <= 1000000:\n",
    "            return 'B'\n",
    "        elif income >= 1000001:\n",
    "            return 'A'\n",
    "    except:\n",
    "        pass"
   ]
  },
  {
   "cell_type": "code",
   "execution_count": 18,
   "id": "c0759abe",
   "metadata": {
    "deletable": false,
    "id": "d5f3586d"
   },
   "outputs": [],
   "source": [
    "data['total_income_category'] = data['total_income'].apply(categorize_income)"
   ]
  },
  {
   "cell_type": "markdown",
   "id": "8c8f3b65",
   "metadata": {},
   "source": [
    "Разделили клиентов на категории по уровню дохода для удобства работы с ними и добавили в новый столбец"
   ]
  },
  {
   "cell_type": "markdown",
   "id": "ccc62613",
   "metadata": {
    "deletable": false,
    "editable": false,
    "id": "dde49b5c"
   },
   "source": [
    "**Задание 17. Выведите на экран перечень уникальных целей взятия кредита из столбца `purpose`.**"
   ]
  },
  {
   "cell_type": "code",
   "execution_count": 19,
   "id": "acd129c6",
   "metadata": {
    "deletable": false,
    "id": "f67ce9b3",
    "outputId": "673c12d9-7d7e-4ae0-9812-c622c89dd244"
   },
   "outputs": [
    {
     "data": {
      "text/plain": [
       "array(['покупка жилья', 'приобретение автомобиля',\n",
       "       'дополнительное образование', 'сыграть свадьбу',\n",
       "       'операции с жильем', 'образование', 'на проведение свадьбы',\n",
       "       'покупка жилья для семьи', 'покупка недвижимости',\n",
       "       'покупка коммерческой недвижимости', 'покупка жилой недвижимости',\n",
       "       'строительство собственной недвижимости', 'недвижимость',\n",
       "       'строительство недвижимости', 'на покупку подержанного автомобиля',\n",
       "       'на покупку своего автомобиля',\n",
       "       'операции с коммерческой недвижимостью',\n",
       "       'строительство жилой недвижимости', 'жилье',\n",
       "       'операции со своей недвижимостью', 'автомобили',\n",
       "       'заняться образованием', 'сделка с подержанным автомобилем',\n",
       "       'получение образования', 'автомобиль', 'свадьба',\n",
       "       'получение дополнительного образования', 'покупка своего жилья',\n",
       "       'операции с недвижимостью', 'получение высшего образования',\n",
       "       'свой автомобиль', 'сделка с автомобилем',\n",
       "       'профильное образование', 'высшее образование',\n",
       "       'покупка жилья для сдачи', 'на покупку автомобиля', 'ремонт жилью',\n",
       "       'заняться высшим образованием'], dtype=object)"
      ]
     },
     "execution_count": 19,
     "metadata": {},
     "output_type": "execute_result"
    }
   ],
   "source": [
    "data['purpose'].unique()"
   ]
  },
  {
   "cell_type": "markdown",
   "id": "05665ca0",
   "metadata": {
    "deletable": false,
    "editable": false,
    "id": "85d0aef0"
   },
   "source": [
    "**Задание 18. Создайте функцию, которая на основании данных из столбца `purpose` сформирует новый столбец `purpose_category`, в который войдут следующие категории:**\n",
    "\n",
    "- `'операции с автомобилем'`,\n",
    "- `'операции с недвижимостью'`,\n",
    "- `'проведение свадьбы'`,\n",
    "- `'получение образования'`.\n",
    "\n",
    "**Например, если в столбце `purpose` находится подстрока `'на покупку автомобиля'`, то в столбце `purpose_category` должна появиться строка `'операции с автомобилем'`.**\n",
    "\n",
    "**Используйте собственную функцию с именем `categorize_purpose()` и метод `apply()`. Изучите данные в столбце `purpose` и определите, какие подстроки помогут вам правильно определить категорию.**"
   ]
  },
  {
   "cell_type": "code",
   "execution_count": 20,
   "id": "54856f05",
   "metadata": {
    "deletable": false,
    "id": "e149fab4"
   },
   "outputs": [],
   "source": [
    "def categorize_purpose(row):\n",
    "    try:\n",
    "        if 'автом' in row:\n",
    "            return 'операции с автомобилем'\n",
    "        elif 'жил' in row or 'недвиж' in row:\n",
    "            return 'операции с недвижимостью'\n",
    "        elif 'свад' in row:\n",
    "            return 'проведение свадьбы'\n",
    "        elif 'образов' in row:\n",
    "            return 'получение образования'\n",
    "    except:\n",
    "        return 'нет категории'"
   ]
  },
  {
   "cell_type": "markdown",
   "id": "c0157d26",
   "metadata": {},
   "source": [
    "Заметили, что:\n",
    "- операции с автомобилем в своем содержании обязательно имеют строку `автом`, \n",
    "- операции с недвижимостью - `жил`, \n",
    "- проведение свадьбы - `свад`, \n",
    "- получение образования - `образов`, \n",
    "- все оставшиеся помечаем отсутствием категории: `нет категории`"
   ]
  },
  {
   "cell_type": "code",
   "execution_count": 21,
   "id": "730b0a21",
   "metadata": {
    "deletable": false,
    "id": "bf36e69b"
   },
   "outputs": [],
   "source": [
    "data['purpose_category'] = data['purpose'].apply(categorize_purpose)"
   ]
  },
  {
   "cell_type": "markdown",
   "id": "d7193747",
   "metadata": {},
   "source": [
    "Разделили клиентов на категории по цели кредита для удобства работы с ними и добавили в новый столбец"
   ]
  },
  {
   "cell_type": "markdown",
   "id": "5a0abb62",
   "metadata": {},
   "source": [
    "### Промежуточный итог №4\n",
    "Провели лемматизацию клиентов по уровням дохода и по цели кредита, чтобы было проще работать с этими категориями и выявлять зависимости по ним"
   ]
  },
  {
   "cell_type": "markdown",
   "id": "13b50f42",
   "metadata": {
    "deletable": false,
    "editable": false,
    "id": "09b242bf"
   },
   "source": [
    "### Шаг 3. Исследуйте данные и ответьте на вопросы"
   ]
  },
  {
   "cell_type": "markdown",
   "id": "d6246c01",
   "metadata": {
    "deletable": false,
    "editable": false,
    "id": "c5d66278"
   },
   "source": [
    "#### 3.1 Есть ли зависимость между количеством детей и возвратом кредита в срок?"
   ]
  },
  {
   "cell_type": "code",
   "execution_count": 22,
   "id": "2b6df513",
   "metadata": {
    "deletable": false,
    "id": "2cacfc4a"
   },
   "outputs": [
    {
     "data": {
      "image/png": "[encoded data removed]",
      "text/plain": [
       "<Figure size 144x288 with 2 Axes>"
      ]
     },
     "metadata": {
      "needs_background": "light"
     },
     "output_type": "display_data"
    }
   ],
   "source": [
    "# Ваш код будет здесь. Вы можете создавать новые ячейки.\n",
    "import seaborn as sns\n",
    "import matplotlib.pyplot as plt\n",
    "plt.rcParams['figure.figsize'] = (2, 4) \n",
    "plt.title('Зависимость возврата кредита в срок \\n от количества детей \\n', fontsize = 13)\n",
    "\n",
    "sns.heatmap(data.groupby('children').agg({'debt':'mean'}), cmap=\"coolwarm\", linewidths=1, linecolor='black')\n",
    "plt.show()"
   ]
  },
  {
   "cell_type": "code",
   "execution_count": 23,
   "id": "cd9c0025",
   "metadata": {},
   "outputs": [
    {
     "data": {
      "text/html": [
       "<div>\n",
       "<style scoped>\n",
       "    .dataframe tbody tr th:only-of-type {\n",
       "        vertical-align: middle;\n",
       "    }\n",
       "\n",
       "    .dataframe tbody tr th {\n",
       "        vertical-align: top;\n",
       "    }\n",
       "\n",
       "    .dataframe thead tr th {\n",
       "        text-align: left;\n",
       "    }\n",
       "\n",
       "    .dataframe thead tr:last-of-type th {\n",
       "        text-align: right;\n",
       "    }\n",
       "</style>\n",
       "<table border=\"1\" class=\"dataframe\">\n",
       "  <thead>\n",
       "    <tr>\n",
       "      <th></th>\n",
       "      <th colspan=\"2\" halign=\"left\">debt</th>\n",
       "      <th>debtors_percentage</th>\n",
       "    </tr>\n",
       "    <tr>\n",
       "      <th></th>\n",
       "      <th>total_creditors</th>\n",
       "      <th>debtors</th>\n",
       "      <th></th>\n",
       "    </tr>\n",
       "    <tr>\n",
       "      <th>children</th>\n",
       "      <th></th>\n",
       "      <th></th>\n",
       "      <th></th>\n",
       "    </tr>\n",
       "  </thead>\n",
       "  <tbody>\n",
       "    <tr>\n",
       "      <th>0</th>\n",
       "      <td>14091</td>\n",
       "      <td>1063</td>\n",
       "      <td>7.54</td>\n",
       "    </tr>\n",
       "    <tr>\n",
       "      <th>1</th>\n",
       "      <td>4808</td>\n",
       "      <td>444</td>\n",
       "      <td>9.23</td>\n",
       "    </tr>\n",
       "    <tr>\n",
       "      <th>2</th>\n",
       "      <td>2052</td>\n",
       "      <td>194</td>\n",
       "      <td>9.45</td>\n",
       "    </tr>\n",
       "    <tr>\n",
       "      <th>3</th>\n",
       "      <td>330</td>\n",
       "      <td>27</td>\n",
       "      <td>8.18</td>\n",
       "    </tr>\n",
       "    <tr>\n",
       "      <th>4</th>\n",
       "      <td>41</td>\n",
       "      <td>4</td>\n",
       "      <td>9.76</td>\n",
       "    </tr>\n",
       "    <tr>\n",
       "      <th>5</th>\n",
       "      <td>9</td>\n",
       "      <td>0</td>\n",
       "      <td>0.00</td>\n",
       "    </tr>\n",
       "  </tbody>\n",
       "</table>\n",
       "</div>"
      ],
      "text/plain": [
       "                    debt         debtors_percentage\n",
       "         total_creditors debtors                   \n",
       "children                                           \n",
       "0                  14091    1063               7.54\n",
       "1                   4808     444               9.23\n",
       "2                   2052     194               9.45\n",
       "3                    330      27               8.18\n",
       "4                     41       4               9.76\n",
       "5                      9       0               0.00"
      ]
     },
     "execution_count": 23,
     "metadata": {},
     "output_type": "execute_result"
    }
   ],
   "source": [
    "data_children = data.groupby(['children']).agg({'debt': ['count', 'sum']})  # count показывает нам общее количество кредиторов - total_creditors\n",
    "                                                                   # sum указывает нам на количество должников - debtors\n",
    "        \n",
    "data_children['debtors_percentage'] = data.groupby('children')['debt'].mean()*100  # процент неплательшиков -  debtors_percentage\n",
    "data_children['debtors_percentage'] = data_children['debtors_percentage'].apply(lambda x: round(x,2)) #округляем значение процентов, чтобы было приятнее воспринимать\n",
    "data_children = data_children.rename(columns = {'count':'total_creditors', 'sum':'debtors'}) # переименовываем технические столбцы для лучшего восприятия\n",
    "data_children"
   ]
  },
  {
   "cell_type": "markdown",
   "id": "10660961",
   "metadata": {
    "deletable": false,
    "id": "3a6b99ec"
   },
   "source": [
    "**Вывод:** \n",
    "На графике представлена зависимость возврата кредита в срок от количества детей. Для его построения я использовал метод `heatmap` из библиотеки `seaborn`. \n",
    "\n",
    ">**Принцип**: основываясь на том, что столбец `dept`, указывающий на возврат кредита в срок, хранит два значения: `0` и `1`, где `0` - отсутствие задолженностей по кредиту, `1` -, соответственно, их наличие, я решил использовать среднее значение этого параметра для когорт, сгруппированных по количеству детей. \n",
    "**Чем ближе его значение к 0, тем больший процент людей этой когорты выплачивали кредит в срок.**\n",
    "\n",
    "Имея в виду все вышеперечисленное, можно сделать вывод, что:\n",
    "- люди, имеющие в своём арсенале 1, 2 и 4 ребенка выплачивают кредиты хуже, чем люди, имеющие ни одного, 3 или 5 детей\n",
    "- люди, имеющие в своем арсенале 5 детей вообще выплачивали все кредиты вовремя\n",
    "\n",
    "Исходя из этого можно сделать **вывод**, что существует зависимость возврата кредита в срок от количества детей, однако она не линейна и однозначно можно сказать только то, что семьи с пятью детьми выплачивали все кредиты вовремя, в то время как семьи, имеющие меньшее количество детей (вплоть до их отсутствия), хуже выплачивали кредиты.\n",
    "\n",
    "\n",
    "**`НО есть один нюанс`**:\n",
    "\n",
    "Если посмотреть на общее количество клиентов по каждой категории детей, мы видим, что клиентов, не имеющих детей, практически в два раза больше, чем тех, кто имеет хотя бы одного ребёнка, поэтому, возможно, какие-то конкретные выводы делать сложно из-за сильной неравномерности групп, а тем более если учитывать ,что клиентов, имеющих два ребенка, в 4 раза больше тех, кто имеет хотя бы трёх детей.\n",
    "\n",
    "Можно попробовать сравнить две самые крупные разбивки: люди без детей и те, кто имеет хотя бы одного ребёнка:"
   ]
  },
  {
   "cell_type": "code",
   "execution_count": 24,
   "id": "9617386d",
   "metadata": {
    "scrolled": true
   },
   "outputs": [
    {
     "data": {
      "text/html": [
       "<div>\n",
       "<style scoped>\n",
       "    .dataframe tbody tr th:only-of-type {\n",
       "        vertical-align: middle;\n",
       "    }\n",
       "\n",
       "    .dataframe tbody tr th {\n",
       "        vertical-align: top;\n",
       "    }\n",
       "\n",
       "    .dataframe thead tr th {\n",
       "        text-align: left;\n",
       "    }\n",
       "\n",
       "    .dataframe thead tr:last-of-type th {\n",
       "        text-align: right;\n",
       "    }\n",
       "</style>\n",
       "<table border=\"1\" class=\"dataframe\">\n",
       "  <thead>\n",
       "    <tr>\n",
       "      <th></th>\n",
       "      <th colspan=\"2\" halign=\"left\">debt</th>\n",
       "      <th>debtors_percentage</th>\n",
       "    </tr>\n",
       "    <tr>\n",
       "      <th></th>\n",
       "      <th>total_creditors</th>\n",
       "      <th>debtors</th>\n",
       "      <th></th>\n",
       "    </tr>\n",
       "    <tr>\n",
       "      <th>children_presence</th>\n",
       "      <th></th>\n",
       "      <th></th>\n",
       "      <th></th>\n",
       "    </tr>\n",
       "  </thead>\n",
       "  <tbody>\n",
       "    <tr>\n",
       "      <th>client has children</th>\n",
       "      <td>7240</td>\n",
       "      <td>669</td>\n",
       "      <td>9.24</td>\n",
       "    </tr>\n",
       "    <tr>\n",
       "      <th>client has no children</th>\n",
       "      <td>14091</td>\n",
       "      <td>1063</td>\n",
       "      <td>7.54</td>\n",
       "    </tr>\n",
       "  </tbody>\n",
       "</table>\n",
       "</div>"
      ],
      "text/plain": [
       "                                  debt         debtors_percentage\n",
       "                       total_creditors debtors                   \n",
       "children_presence                                                \n",
       "client has children               7240     669               9.24\n",
       "client has no children           14091    1063               7.54"
      ]
     },
     "execution_count": 24,
     "metadata": {},
     "output_type": "execute_result"
    }
   ],
   "source": [
    "def children_presence(children): # результат наличия детей у клиента\n",
    "    if children >= 1:                 # если есть хотя бы один ребенок\n",
    "        return 'client has children'  # возвращаем 'у клиента есть дети'\n",
    "    else:                             # иначе (то есть, количество детей = 0)\n",
    "        return 'client has no children'          # детей нет\n",
    "    \n",
    "data['children_presence'] = data['children'].apply(children_presence) # проверяем, есть ли хотя бы один ребенок у клиента и возвращаем значение в столбец children_presence\n",
    "data_children_presence = data.groupby(['children_presence']).agg({'debt': ['count', 'sum']})  # count показывает нам общее количество кредиторов - total_creditors\n",
    "                                                                   # sum указывает нам на количество должников - debtors\n",
    "        \n",
    "data_children_presence['debtors_percentage'] = data.groupby('children_presence')['debt'].mean()*100  # процент неплательшиков -  debtors_percentage\n",
    "data_children_presence['debtors_percentage'] = data_children_presence['debtors_percentage'].apply(lambda x: round(x,2)) #округляем значение процентов, чтобы было приятнее воспринимать\n",
    "data_children_presence = data_children_presence.rename(columns = {'count':'total_creditors', 'sum':'debtors'}) # переименовываем технические столбцы для лучшего восприятия\n",
    "data_children_presence"
   ]
  },
  {
   "cell_type": "markdown",
   "id": "41fceefe",
   "metadata": {},
   "source": [
    "**Вывод** из данной таблицы можно сформулировать следующим образом:\n",
    "наличие детей у клиента снижает способность выплачивать кредит вовремя, но не сильно (опять же, разница в выборках в два раза, но это лучше, чем в прошлый раз)"
   ]
  },
  {
   "cell_type": "markdown",
   "id": "3aadce53",
   "metadata": {
    "deletable": false,
    "editable": false,
    "id": "97be82ca"
   },
   "source": [
    "#### 3.2 Есть ли зависимость между семейным положением и возвратом кредита в срок?"
   ]
  },
  {
   "cell_type": "code",
   "execution_count": 25,
   "id": "239b0326",
   "metadata": {
    "deletable": false,
    "id": "dc3f7ee8"
   },
   "outputs": [
    {
     "data": {
      "image/png": "[encoded data removed]",
      "text/plain": [
       "<Figure size 144x288 with 2 Axes>"
      ]
     },
     "metadata": {
      "needs_background": "light"
     },
     "output_type": "display_data"
    }
   ],
   "source": [
    "plt.title('Зависимость возврата кредита в срок \\n от семейного положения \\n', fontsize = 13)\n",
    "\n",
    "sns.heatmap(data.groupby('family_status').agg({'debt':'mean'}), cmap=\"coolwarm\", linewidths=1, linecolor='black')\n",
    "plt.show()"
   ]
  },
  {
   "cell_type": "code",
   "execution_count": 26,
   "id": "55882e00",
   "metadata": {},
   "outputs": [
    {
     "data": {
      "text/html": [
       "<div>\n",
       "<style scoped>\n",
       "    .dataframe tbody tr th:only-of-type {\n",
       "        vertical-align: middle;\n",
       "    }\n",
       "\n",
       "    .dataframe tbody tr th {\n",
       "        vertical-align: top;\n",
       "    }\n",
       "\n",
       "    .dataframe thead tr th {\n",
       "        text-align: left;\n",
       "    }\n",
       "\n",
       "    .dataframe thead tr:last-of-type th {\n",
       "        text-align: right;\n",
       "    }\n",
       "</style>\n",
       "<table border=\"1\" class=\"dataframe\">\n",
       "  <thead>\n",
       "    <tr>\n",
       "      <th></th>\n",
       "      <th colspan=\"2\" halign=\"left\">debt</th>\n",
       "      <th>debtors_percentage</th>\n",
       "    </tr>\n",
       "    <tr>\n",
       "      <th></th>\n",
       "      <th>total_creditors</th>\n",
       "      <th>debtors</th>\n",
       "      <th></th>\n",
       "    </tr>\n",
       "    <tr>\n",
       "      <th>family_status</th>\n",
       "      <th></th>\n",
       "      <th></th>\n",
       "      <th></th>\n",
       "    </tr>\n",
       "  </thead>\n",
       "  <tbody>\n",
       "    <tr>\n",
       "      <th>Не женат / не замужем</th>\n",
       "      <td>2796</td>\n",
       "      <td>273</td>\n",
       "      <td>9.76</td>\n",
       "    </tr>\n",
       "    <tr>\n",
       "      <th>в разводе</th>\n",
       "      <td>1189</td>\n",
       "      <td>84</td>\n",
       "      <td>7.06</td>\n",
       "    </tr>\n",
       "    <tr>\n",
       "      <th>вдовец / вдова</th>\n",
       "      <td>951</td>\n",
       "      <td>63</td>\n",
       "      <td>6.62</td>\n",
       "    </tr>\n",
       "    <tr>\n",
       "      <th>гражданский брак</th>\n",
       "      <td>4134</td>\n",
       "      <td>385</td>\n",
       "      <td>9.31</td>\n",
       "    </tr>\n",
       "    <tr>\n",
       "      <th>женат / замужем</th>\n",
       "      <td>12261</td>\n",
       "      <td>927</td>\n",
       "      <td>7.56</td>\n",
       "    </tr>\n",
       "  </tbody>\n",
       "</table>\n",
       "</div>"
      ],
      "text/plain": [
       "                                 debt         debtors_percentage\n",
       "                      total_creditors debtors                   \n",
       "family_status                                                   \n",
       "Не женат / не замужем            2796     273               9.76\n",
       "в разводе                        1189      84               7.06\n",
       "вдовец / вдова                    951      63               6.62\n",
       "гражданский брак                 4134     385               9.31\n",
       "женат / замужем                 12261     927               7.56"
      ]
     },
     "execution_count": 26,
     "metadata": {},
     "output_type": "execute_result"
    }
   ],
   "source": [
    "data_family_status = data.groupby(['family_status']).agg({'debt': ['count', 'sum']})  # count показывает нам общее количество кредиторов - total_creditors\n",
    "                                                                   # sum указывает нам на количество должников - debtors\n",
    "        \n",
    "data_family_status['debtors_percentage'] = data.groupby('family_status')['debt'].mean()*100  # процент неплательшиков -  debtors_percentage\n",
    "data_family_status['debtors_percentage'] = data_family_status['debtors_percentage'].apply(lambda x: round(x,2)) #округляем значение процентов, чтобы было приятнее воспринимать\n",
    "data_family_status = data_family_status.rename(columns = {'count':'total_creditors', 'sum':'debtors'}) # переименовываем технические столбцы для лучшего восприятия\n",
    "data_family_status "
   ]
  },
  {
   "cell_type": "markdown",
   "id": "55dd8251",
   "metadata": {
    "deletable": false,
    "id": "1cef7837"
   },
   "source": [
    "**Вывод:** \n",
    "На графике представлена зависимость возврата кредита в срок от семейного положения. Для его построения я использовал метод heatmap из библиотеки seaborn.\n",
    "\n",
    "Принцип тот же, что и с детьми.\n",
    "\n",
    "- люди, не вступавшие в брак или живущие в гражданском браке выплачивают кредиты хуже, чем люди, либо находящиеся в браке, либо разведенные или вдовцы\n",
    "\n",
    "___Итоговый вывод можно сформулировать следующим образом___:\n",
    "люди, не вступавшие в брачные отношения (если имеется в виду, что гражданский брак - это сожительство), хуже выплачивают кредиты, чем те, кто либо находятся в браке, либо бывшие в браке (разведенные, вдовцы), то есть возврат кредита вовремя зависит от семейного положения."
   ]
  },
  {
   "cell_type": "markdown",
   "id": "7882ee74",
   "metadata": {
    "deletable": false,
    "editable": false,
    "id": "1e8b2fca"
   },
   "source": [
    "#### 3.3 Есть ли зависимость между уровнем дохода и возвратом кредита в срок?"
   ]
  },
  {
   "cell_type": "code",
   "execution_count": 27,
   "id": "5d77c0c4",
   "metadata": {
    "deletable": false,
    "id": "cd7e3720"
   },
   "outputs": [
    {
     "data": {
      "image/png": "[encoded data removed]",
      "text/plain": [
       "<Figure size 144x288 with 2 Axes>"
      ]
     },
     "metadata": {
      "needs_background": "light"
     },
     "output_type": "display_data"
    }
   ],
   "source": [
    "plt.title('Зависимость возврата кредита в срок \\n от уровня дохода \\n', fontsize = 13)\n",
    "\n",
    "sns.heatmap(data.groupby('total_income_category').agg({'debt':'mean'}), cmap=\"coolwarm\", linewidths=1, linecolor='black')\n",
    "plt.show()"
   ]
  },
  {
   "cell_type": "code",
   "execution_count": 28,
   "id": "0655f797",
   "metadata": {},
   "outputs": [
    {
     "data": {
      "text/html": [
       "<div>\n",
       "<style scoped>\n",
       "    .dataframe tbody tr th:only-of-type {\n",
       "        vertical-align: middle;\n",
       "    }\n",
       "\n",
       "    .dataframe tbody tr th {\n",
       "        vertical-align: top;\n",
       "    }\n",
       "\n",
       "    .dataframe thead tr th {\n",
       "        text-align: left;\n",
       "    }\n",
       "\n",
       "    .dataframe thead tr:last-of-type th {\n",
       "        text-align: right;\n",
       "    }\n",
       "</style>\n",
       "<table border=\"1\" class=\"dataframe\">\n",
       "  <thead>\n",
       "    <tr>\n",
       "      <th></th>\n",
       "      <th colspan=\"2\" halign=\"left\">debt</th>\n",
       "      <th>debtors_percentage</th>\n",
       "    </tr>\n",
       "    <tr>\n",
       "      <th></th>\n",
       "      <th>total_creditors</th>\n",
       "      <th>debtors</th>\n",
       "      <th></th>\n",
       "    </tr>\n",
       "    <tr>\n",
       "      <th>total_income_category</th>\n",
       "      <th></th>\n",
       "      <th></th>\n",
       "      <th></th>\n",
       "    </tr>\n",
       "  </thead>\n",
       "  <tbody>\n",
       "    <tr>\n",
       "      <th>A: 0-30000</th>\n",
       "      <td>25</td>\n",
       "      <td>2</td>\n",
       "      <td>8.00</td>\n",
       "    </tr>\n",
       "    <tr>\n",
       "      <th>B: 30001–50000</th>\n",
       "      <td>5014</td>\n",
       "      <td>354</td>\n",
       "      <td>7.06</td>\n",
       "    </tr>\n",
       "    <tr>\n",
       "      <th>C: 50001–200000</th>\n",
       "      <td>15921</td>\n",
       "      <td>1353</td>\n",
       "      <td>8.50</td>\n",
       "    </tr>\n",
       "    <tr>\n",
       "      <th>D: 200001–1000000</th>\n",
       "      <td>349</td>\n",
       "      <td>21</td>\n",
       "      <td>6.02</td>\n",
       "    </tr>\n",
       "    <tr>\n",
       "      <th>E: 1000001 и выше</th>\n",
       "      <td>22</td>\n",
       "      <td>2</td>\n",
       "      <td>9.09</td>\n",
       "    </tr>\n",
       "  </tbody>\n",
       "</table>\n",
       "</div>"
      ],
      "text/plain": [
       "                                 debt         debtors_percentage\n",
       "                      total_creditors debtors                   \n",
       "total_income_category                                           \n",
       "A: 0-30000                         25       2               8.00\n",
       "B: 30001–50000                   5014     354               7.06\n",
       "C: 50001–200000                 15921    1353               8.50\n",
       "D: 200001–1000000                 349      21               6.02\n",
       "E: 1000001 и выше                  22       2               9.09"
      ]
     },
     "execution_count": 28,
     "metadata": {},
     "output_type": "execute_result"
    }
   ],
   "source": [
    "categories = {                     #формируем словарь с категориями\n",
    "    'A': 'A: 0-30000',\n",
    "    'B': 'B: 30001–50000',\n",
    "    'C': 'C: 50001–200000',\n",
    "    'D': 'D: 200001–1000000',\n",
    "    'E': 'E: 1000001 и выше'\n",
    "}\n",
    "\n",
    "data_total_income_category = data.groupby(['total_income_category']).agg({'debt': ['count', 'sum']})  # count показывает нам общее количество кредиторов - total_creditors\n",
    "                                                                   # sum указывает нам на количество должников - debtors\n",
    "        \n",
    "data_total_income_category['debtors_percentage'] = data.groupby('total_income_category')['debt'].mean() * 100  # процент неплательшиков -  debtors_percentage\n",
    "data_total_income_category['debtors_percentage'] = data_total_income_category['debtors_percentage'].apply(lambda x: round(x,2)) #округляем значение процентов, чтобы было приятнее воспринимать\n",
    "\n",
    "data_total_income_category = data_total_income_category.rename(index = categories) # переименовываем категории в соответствии со словарем\n",
    "\n",
    "data_total_income_category = data_total_income_category.rename(columns = {'count':'total_creditors', 'sum':'debtors'}) # переименовываем технические столбцы для лучшего восприятия\n",
    "\n",
    "data_total_income_category"
   ]
  },
  {
   "cell_type": "markdown",
   "id": "2ab23a25",
   "metadata": {
    "deletable": false,
    "id": "e8593def"
   },
   "source": [
    "**Вывод:** \n",
    "\n",
    ">Напомню разбивку на категории по уровню дохода:\n",
    ">- 0–30000 — `'E'`;\n",
    ">- 30001–50000 — `'D'`;\n",
    ">- 50001–200000 — `'C'`;\n",
    ">- 200001–1000000 — `'B'`;\n",
    ">- 1000001 и выше — `'A'`.\n",
    "\n",
    "*Наблюдаются следующие явления*:\n",
    "- люди, имеющие самый низкий уровень дохода `'E'`, хуже всех выплачивают кредиты в срок\n",
    "- люди, имеющие уровень дохода ниже среднего `'D'`, лучше всех выплачивают кредиты в срок \n",
    "- люди, имеющие самый высокий доход `'A'` и чуть поменьше - `'B'`, выплачивают кредиты чуть лучше, чем люди со средним уровнем дохода `'C'`\n",
    "\n",
    ">Возможно, на это может влиять тот факт, что люди, имеющие высокий доход, будут брать более крупные кредиты, чем те, что имеют более низкий доход, а люди, имеющие самый низкий доход в принципе будут более подвержены невыплачиванию кредита в срок вследствие недостаточности средств к существованию, от чего проценты по кредиту будут разные, что может отражаться на выплачивании кредита в срок, но это только мои догадки. \n",
    "\n",
    "___Итоговый вывод можно сформулировать следующим образом___: связь между уровнем дохода и возвратом кредита в срок есть, не линейная, но есть."
   ]
  },
  {
   "cell_type": "markdown",
   "id": "6051ccea",
   "metadata": {},
   "source": [
    "Однако, можно заметить, что группы у нас распределены сильно неравномерно, поэтому попробуем проанализировать только две самые крупные из них:\n",
    "- люди среднего уровня дохода `'C'`\n",
    "- люди с доходом выше среднего `'B'`\n",
    "\n",
    "Видно, что люди с доходом выше среднего реже допускают просрочку кредитов, чем люди со средним достатком.\n",
    "\n",
    "Но можно сделать ещё **более наглядное представление**: разбить группы на (например) 4 одинаковые выборки по доходам и сравнить просрочку по платежам между ними:"
   ]
  },
  {
   "cell_type": "code",
   "execution_count": 29,
   "id": "109939a1",
   "metadata": {
    "scrolled": true
   },
   "outputs": [
    {
     "data": {
      "text/plain": [
       "[(195842.0, 2265604.0], (107507.0, 142594.0], (142594.0, 195842.0], (20666.999, 107507.0]]\n",
       "Categories (4, interval[float64]): [(20666.999, 107507.0] < (107507.0, 142594.0] < (142594.0, 195842.0] < (195842.0, 2265604.0]]"
      ]
     },
     "execution_count": 29,
     "metadata": {},
     "output_type": "execute_result"
    }
   ],
   "source": [
    "total_income_quartiles = pd.qcut(data['total_income'], 4) # разбиваем выборку доходов на квартили\n",
    "total_income_quartiles.unique() # смотрим, какие значения стоит выбрать в качестве границ"
   ]
  },
  {
   "cell_type": "markdown",
   "id": "74c97c35",
   "metadata": {},
   "source": [
    "Построим новый столбец с категориями доходов клиентов, но уже разбитые на квартили, где:\n",
    "- 0–105000 — `'Q4'`;\n",
    "- 105001–140000 — `'Q3'`;\n",
    "- 140001–200000 — `'Q2'`;\n",
    "- 200001 и выше — `'Q1'`;\n",
    "\n",
    ">Делаем разбивку приближенную к квартилям, но более удобоваримую читательскому глазу и немного смещаем границы в сторону круглых значений.\n",
    "\n",
    "Создадим функцию, которая разобьёт доход на квартили по нашим границам:"
   ]
  },
  {
   "cell_type": "code",
   "execution_count": 30,
   "id": "e52c0939",
   "metadata": {
    "id": "e1771346"
   },
   "outputs": [],
   "source": [
    "def categorize_income_quartiles(income):\n",
    "    try:\n",
    "        if 0 <= income <= 110000:\n",
    "            return 'Q4'\n",
    "        elif 110001 <= income <= 145000:\n",
    "            return 'Q3'\n",
    "        elif 145001 <= income <= 200000:\n",
    "            return 'Q2'\n",
    "        elif income >= 200001:\n",
    "            return 'Q1'\n",
    "    except:\n",
    "        pass"
   ]
  },
  {
   "cell_type": "markdown",
   "id": "6aeba9ab",
   "metadata": {},
   "source": [
    "Теперь применяем её к столбцу дохода `total_income` и записываем значение в стобец `total_income_category_quartiles` и проверяем, сколько у нас получилось клиентов в каждом квартиле"
   ]
  },
  {
   "cell_type": "code",
   "execution_count": 31,
   "id": "b7120b8c",
   "metadata": {
    "id": "d5f3586d",
    "scrolled": true
   },
   "outputs": [
    {
     "data": {
      "text/plain": [
       "Q4    5617\n",
       "Q3    5450\n",
       "Q2    5225\n",
       "Q1    5039\n",
       "Name: total_income_category_quartiles, dtype: int64"
      ]
     },
     "execution_count": 31,
     "metadata": {},
     "output_type": "execute_result"
    }
   ],
   "source": [
    "data['total_income_category_quartiles'] = data['total_income'].apply(categorize_income_quartiles)\n",
    "data['total_income_category_quartiles'].value_counts()"
   ]
  },
  {
   "cell_type": "markdown",
   "id": "bde5d5e2",
   "metadata": {},
   "source": [
    "Получили примерно одинаковые выборки! Теперь можно строить график и таблицу для анализа выплачиваемости кредита, но уже по квартилям доходов"
   ]
  },
  {
   "cell_type": "code",
   "execution_count": 32,
   "id": "3cac0b98",
   "metadata": {
    "scrolled": true
   },
   "outputs": [
    {
     "data": {
      "text/html": [
       "<div>\n",
       "<style scoped>\n",
       "    .dataframe tbody tr th:only-of-type {\n",
       "        vertical-align: middle;\n",
       "    }\n",
       "\n",
       "    .dataframe tbody tr th {\n",
       "        vertical-align: top;\n",
       "    }\n",
       "\n",
       "    .dataframe thead tr th {\n",
       "        text-align: left;\n",
       "    }\n",
       "\n",
       "    .dataframe thead tr:last-of-type th {\n",
       "        text-align: right;\n",
       "    }\n",
       "</style>\n",
       "<table border=\"1\" class=\"dataframe\">\n",
       "  <thead>\n",
       "    <tr>\n",
       "      <th></th>\n",
       "      <th colspan=\"2\" halign=\"left\">debt</th>\n",
       "      <th>debtors_percentage</th>\n",
       "    </tr>\n",
       "    <tr>\n",
       "      <th></th>\n",
       "      <th>total_creditors</th>\n",
       "      <th>debtors</th>\n",
       "      <th></th>\n",
       "    </tr>\n",
       "    <tr>\n",
       "      <th>total_income_category_quartiles</th>\n",
       "      <th></th>\n",
       "      <th></th>\n",
       "      <th></th>\n",
       "    </tr>\n",
       "  </thead>\n",
       "  <tbody>\n",
       "    <tr>\n",
       "      <th>Q1: 200001 и выше</th>\n",
       "      <td>5039</td>\n",
       "      <td>356</td>\n",
       "      <td>7.06</td>\n",
       "    </tr>\n",
       "    <tr>\n",
       "      <th>Q2: 145001–200000</th>\n",
       "      <td>5225</td>\n",
       "      <td>443</td>\n",
       "      <td>8.48</td>\n",
       "    </tr>\n",
       "    <tr>\n",
       "      <th>Q3: 110001–1450000</th>\n",
       "      <td>5450</td>\n",
       "      <td>478</td>\n",
       "      <td>8.77</td>\n",
       "    </tr>\n",
       "    <tr>\n",
       "      <th>Q4: 0-110000</th>\n",
       "      <td>5617</td>\n",
       "      <td>455</td>\n",
       "      <td>8.10</td>\n",
       "    </tr>\n",
       "  </tbody>\n",
       "</table>\n",
       "</div>"
      ],
      "text/plain": [
       "                                           debt         debtors_percentage\n",
       "                                total_creditors debtors                   \n",
       "total_income_category_quartiles                                           \n",
       "Q1: 200001 и выше                          5039     356               7.06\n",
       "Q2: 145001–200000                          5225     443               8.48\n",
       "Q3: 110001–1450000                         5450     478               8.77\n",
       "Q4: 0-110000                               5617     455               8.10"
      ]
     },
     "execution_count": 32,
     "metadata": {},
     "output_type": "execute_result"
    }
   ],
   "source": [
    "quartiles = {                     #формируем словарь с категориями квартилей\n",
    "    'Q4': 'Q4: 0-110000',\n",
    "    'Q3': 'Q3: 110001–1450000',\n",
    "    'Q2': 'Q2: 145001–200000',\n",
    "    'Q1': 'Q1: 200001 и выше',\n",
    "}\n",
    "\n",
    "data_total_income_category_quartiles = data.groupby(['total_income_category_quartiles']).agg({'debt': ['count', 'sum']})  # count показывает нам общее количество кредиторов - total_creditors\n",
    "                                                                   # sum указывает нам на количество должников - debtors\n",
    "        \n",
    "data_total_income_category_quartiles['debtors_percentage'] = data.groupby('total_income_category_quartiles')['debt'].mean() * 100  # процент неплательшиков -  debtors_percentage\n",
    "data_total_income_category_quartiles['debtors_percentage'] = data_total_income_category_quartiles['debtors_percentage'].apply(lambda x: round(x,2)) #округляем значение процентов, чтобы было приятнее воспринимать\n",
    "\n",
    "data_total_income_category_quartiles = data_total_income_category_quartiles.rename(index = quartiles) # переименовываем категории в соответствии со словарем\n",
    "\n",
    "data_total_income_category_quartiles = data_total_income_category_quartiles.rename(columns = {'count':'total_creditors', 'sum':'debtors'}) # переименовываем технические столбцы для лучшего восприятия\n",
    "\n",
    "data_total_income_category_quartiles"
   ]
  },
  {
   "cell_type": "markdown",
   "id": "20b1603c",
   "metadata": {},
   "source": [
    "**Вывод**\n",
    "\n",
    "Видим, что после разбивки на квартили у нас выделяется (в хорошем смысле) только каста людей, чей доход начинается от 200000,- они лучше всех выплачивают кредиты. Все остальные категории примерно одинаково плохо выплачивают кредиты \n",
    "\n",
    ">Вообще разница не очень существенная получается, возможно, ей можно пренебречь и принять на веру тот факт, что квартили клиентов по доходам примерно одинаково выплачивают кредиты. "
   ]
  },
  {
   "cell_type": "markdown",
   "id": "e8f9c527",
   "metadata": {
    "deletable": false,
    "editable": false,
    "id": "99ecbd1f"
   },
   "source": [
    "#### 3.4 Как разные цели кредита влияют на его возврат в срок?"
   ]
  },
  {
   "cell_type": "code",
   "execution_count": 33,
   "id": "15c07b2e",
   "metadata": {
    "deletable": false,
    "id": "2b687290"
   },
   "outputs": [
    {
     "data": {
      "image/png": "[encoded data removed]",
      "text/plain": [
       "<Figure size 144x288 with 2 Axes>"
      ]
     },
     "metadata": {
      "needs_background": "light"
     },
     "output_type": "display_data"
    }
   ],
   "source": [
    "plt.title('Зависимость возврата кредита в срок \\n от цели кредита \\n', fontsize = 13)\n",
    "\n",
    "sns.heatmap(data.groupby('purpose_category').agg({'debt':'mean'}), cmap=\"coolwarm\", linewidths=1, linecolor='black')\n",
    "plt.show()"
   ]
  },
  {
   "cell_type": "code",
   "execution_count": 34,
   "id": "398bfd95",
   "metadata": {},
   "outputs": [
    {
     "data": {
      "text/html": [
       "<div>\n",
       "<style scoped>\n",
       "    .dataframe tbody tr th:only-of-type {\n",
       "        vertical-align: middle;\n",
       "    }\n",
       "\n",
       "    .dataframe tbody tr th {\n",
       "        vertical-align: top;\n",
       "    }\n",
       "\n",
       "    .dataframe thead tr th {\n",
       "        text-align: left;\n",
       "    }\n",
       "\n",
       "    .dataframe thead tr:last-of-type th {\n",
       "        text-align: right;\n",
       "    }\n",
       "</style>\n",
       "<table border=\"1\" class=\"dataframe\">\n",
       "  <thead>\n",
       "    <tr>\n",
       "      <th></th>\n",
       "      <th colspan=\"2\" halign=\"left\">debt</th>\n",
       "      <th>debtors_percentage</th>\n",
       "    </tr>\n",
       "    <tr>\n",
       "      <th></th>\n",
       "      <th>total_creditors</th>\n",
       "      <th>debtors</th>\n",
       "      <th></th>\n",
       "    </tr>\n",
       "    <tr>\n",
       "      <th>purpose_category</th>\n",
       "      <th></th>\n",
       "      <th></th>\n",
       "      <th></th>\n",
       "    </tr>\n",
       "  </thead>\n",
       "  <tbody>\n",
       "    <tr>\n",
       "      <th>операции с автомобилем</th>\n",
       "      <td>4279</td>\n",
       "      <td>400</td>\n",
       "      <td>9.35</td>\n",
       "    </tr>\n",
       "    <tr>\n",
       "      <th>операции с недвижимостью</th>\n",
       "      <td>10751</td>\n",
       "      <td>780</td>\n",
       "      <td>7.26</td>\n",
       "    </tr>\n",
       "    <tr>\n",
       "      <th>получение образования</th>\n",
       "      <td>3988</td>\n",
       "      <td>369</td>\n",
       "      <td>9.25</td>\n",
       "    </tr>\n",
       "    <tr>\n",
       "      <th>проведение свадьбы</th>\n",
       "      <td>2313</td>\n",
       "      <td>183</td>\n",
       "      <td>7.91</td>\n",
       "    </tr>\n",
       "  </tbody>\n",
       "</table>\n",
       "</div>"
      ],
      "text/plain": [
       "                                    debt         debtors_percentage\n",
       "                         total_creditors debtors                   \n",
       "purpose_category                                                   \n",
       "операции с автомобилем              4279     400               9.35\n",
       "операции с недвижимостью           10751     780               7.26\n",
       "получение образования               3988     369               9.25\n",
       "проведение свадьбы                  2313     183               7.91"
      ]
     },
     "execution_count": 34,
     "metadata": {},
     "output_type": "execute_result"
    }
   ],
   "source": [
    "data_purpose_category = data.groupby(['purpose_category']).agg({'debt': ['count', 'sum']})  # count показывает нам общее количество кредиторов - total_creditors\n",
    "                                                                   # sum указывает нам на количество должников - debtors\n",
    "        \n",
    "data_purpose_category['debtors_percentage'] = data.groupby('purpose_category')['debt'].mean() * 100  # процент неплательшиков -  debtors_percentage\n",
    "data_purpose_category['debtors_percentage'] = data_purpose_category['debtors_percentage'].apply(lambda x: round(x,2)) #округляем значение процентов, чтобы было приятнее воспринимать\n",
    "\n",
    "data_purpose_category = data_purpose_category.rename(columns = {'count':'total_creditors', 'sum':'debtors'}) # переименовываем технические столбцы для лучшего восприятия\n",
    "\n",
    "data_purpose_category"
   ]
  },
  {
   "cell_type": "markdown",
   "id": "2fd61119",
   "metadata": {
    "deletable": false,
    "id": "b4bb2ce6"
   },
   "source": [
    "**Вывод:** \n",
    "\n",
    "- люди, берущие кредит на операции с автомобилем и получение образования, примерно одинаково хуже всех закрывают кредиты\n",
    "- люди, берущие кредит на операции с недвижимостью, закрывают кредиты лучше всех\n",
    "\n",
    "**Подытоживая вышесказанное**, можно сказать, что зависимость между целью кредита и возвратом его в срок есть.\n",
    "\n",
    "Ниже приведу небольшую сводную таблицу, где по горизонтали отложены категории по уровню дохода, а по вертикали - цели кредита."
   ]
  },
  {
   "cell_type": "code",
   "execution_count": 35,
   "id": "2e6447f5",
   "metadata": {},
   "outputs": [
    {
     "data": {
      "image/png": "[encoded data removed]",
      "text/plain": [
       "<Figure size 360x216 with 2 Axes>"
      ]
     },
     "metadata": {
      "needs_background": "light"
     },
     "output_type": "display_data"
    },
    {
     "data": {
      "text/html": [
       "<div>\n",
       "<style scoped>\n",
       "    .dataframe tbody tr th:only-of-type {\n",
       "        vertical-align: middle;\n",
       "    }\n",
       "\n",
       "    .dataframe tbody tr th {\n",
       "        vertical-align: top;\n",
       "    }\n",
       "\n",
       "    .dataframe thead th {\n",
       "        text-align: right;\n",
       "    }\n",
       "</style>\n",
       "<table border=\"1\" class=\"dataframe\">\n",
       "  <thead>\n",
       "    <tr style=\"text-align: right;\">\n",
       "      <th>total_income_category</th>\n",
       "      <th>A</th>\n",
       "      <th>B</th>\n",
       "      <th>C</th>\n",
       "      <th>D</th>\n",
       "      <th>E</th>\n",
       "    </tr>\n",
       "    <tr>\n",
       "      <th>purpose_category</th>\n",
       "      <th></th>\n",
       "      <th></th>\n",
       "      <th></th>\n",
       "      <th></th>\n",
       "      <th></th>\n",
       "    </tr>\n",
       "  </thead>\n",
       "  <tbody>\n",
       "    <tr>\n",
       "      <th>операции с автомобилем</th>\n",
       "      <td>0.00</td>\n",
       "      <td>8.32</td>\n",
       "      <td>9.59</td>\n",
       "      <td>13.89</td>\n",
       "      <td>0.00</td>\n",
       "    </tr>\n",
       "    <tr>\n",
       "      <th>операции с недвижимостью</th>\n",
       "      <td>5.88</td>\n",
       "      <td>6.72</td>\n",
       "      <td>7.49</td>\n",
       "      <td>3.57</td>\n",
       "      <td>18.18</td>\n",
       "    </tr>\n",
       "    <tr>\n",
       "      <th>получение образования</th>\n",
       "      <td>25.00</td>\n",
       "      <td>7.75</td>\n",
       "      <td>9.85</td>\n",
       "      <td>2.67</td>\n",
       "      <td>0.00</td>\n",
       "    </tr>\n",
       "    <tr>\n",
       "      <th>проведение свадьбы</th>\n",
       "      <td>0.00</td>\n",
       "      <td>5.15</td>\n",
       "      <td>8.79</td>\n",
       "      <td>8.82</td>\n",
       "      <td>0.00</td>\n",
       "    </tr>\n",
       "  </tbody>\n",
       "</table>\n",
       "</div>"
      ],
      "text/plain": [
       "total_income_category         A     B     C      D      E\n",
       "purpose_category                                         \n",
       "операции с автомобилем     0.00  8.32  9.59  13.89   0.00\n",
       "операции с недвижимостью   5.88  6.72  7.49   3.57  18.18\n",
       "получение образования     25.00  7.75  9.85   2.67   0.00\n",
       "проведение свадьбы         0.00  5.15  8.79   8.82   0.00"
      ]
     },
     "execution_count": 35,
     "metadata": {},
     "output_type": "execute_result"
    }
   ],
   "source": [
    "plt.rcParams['figure.figsize'] = (5, 3) \n",
    "plt.title('Зависимость возврата кредита в срок \\n от цели кредита и уровня дохода \\n СВОДНАЯ ТАБЛИЦА \\n', fontsize = 13)\n",
    "\n",
    "data_pivot = data.pivot_table(index = 'purpose_category', columns = 'total_income_category', values = 'debt', aggfunc = 'mean')*100 # процент неплательшиков -  debtors_percentage\n",
    "\n",
    "data_pivot = data_pivot.apply(lambda x: round(x, 2)) #округляем значение процентов, чтобы было приятнее воспринимать\n",
    "sns.heatmap(data_pivot, cmap=\"coolwarm\", linewidths=1, linecolor='black')\n",
    "plt.show()\n",
    "data_pivot"
   ]
  },
  {
   "cell_type": "markdown",
   "id": "7a3c6600",
   "metadata": {},
   "source": [
    "Видно, что есть категории по уровню дохода, которые выплачивали абсолютно все кредиты в некоторых категориях по цели кредита (в графе задолженностей у них стоит 0).\n",
    "Необходимо проверить, вдруг этих целей у них просто не было:"
   ]
  },
  {
   "cell_type": "code",
   "execution_count": 36,
   "id": "20b72838",
   "metadata": {
    "scrolled": false
   },
   "outputs": [
    {
     "data": {
      "image/png": "[encoded data removed]",
      "text/plain": [
       "<Figure size 360x216 with 2 Axes>"
      ]
     },
     "metadata": {
      "needs_background": "light"
     },
     "output_type": "display_data"
    },
    {
     "data": {
      "text/html": [
       "<div>\n",
       "<style scoped>\n",
       "    .dataframe tbody tr th:only-of-type {\n",
       "        vertical-align: middle;\n",
       "    }\n",
       "\n",
       "    .dataframe tbody tr th {\n",
       "        vertical-align: top;\n",
       "    }\n",
       "\n",
       "    .dataframe thead th {\n",
       "        text-align: right;\n",
       "    }\n",
       "</style>\n",
       "<table border=\"1\" class=\"dataframe\">\n",
       "  <thead>\n",
       "    <tr style=\"text-align: right;\">\n",
       "      <th>total_income_category</th>\n",
       "      <th>A</th>\n",
       "      <th>B</th>\n",
       "      <th>C</th>\n",
       "      <th>D</th>\n",
       "      <th>E</th>\n",
       "    </tr>\n",
       "    <tr>\n",
       "      <th>purpose_category</th>\n",
       "      <th></th>\n",
       "      <th></th>\n",
       "      <th></th>\n",
       "      <th></th>\n",
       "      <th></th>\n",
       "    </tr>\n",
       "  </thead>\n",
       "  <tbody>\n",
       "    <tr>\n",
       "      <th>операции с автомобилем</th>\n",
       "      <td>2</td>\n",
       "      <td>1022</td>\n",
       "      <td>3181</td>\n",
       "      <td>72</td>\n",
       "      <td>2</td>\n",
       "    </tr>\n",
       "    <tr>\n",
       "      <th>операции с недвижимостью</th>\n",
       "      <td>17</td>\n",
       "      <td>2558</td>\n",
       "      <td>7997</td>\n",
       "      <td>168</td>\n",
       "      <td>11</td>\n",
       "    </tr>\n",
       "    <tr>\n",
       "      <th>получение образования</th>\n",
       "      <td>4</td>\n",
       "      <td>890</td>\n",
       "      <td>3014</td>\n",
       "      <td>75</td>\n",
       "      <td>5</td>\n",
       "    </tr>\n",
       "    <tr>\n",
       "      <th>проведение свадьбы</th>\n",
       "      <td>2</td>\n",
       "      <td>544</td>\n",
       "      <td>1729</td>\n",
       "      <td>34</td>\n",
       "      <td>4</td>\n",
       "    </tr>\n",
       "  </tbody>\n",
       "</table>\n",
       "</div>"
      ],
      "text/plain": [
       "total_income_category      A     B     C    D   E\n",
       "purpose_category                                 \n",
       "операции с автомобилем     2  1022  3181   72   2\n",
       "операции с недвижимостью  17  2558  7997  168  11\n",
       "получение образования      4   890  3014   75   5\n",
       "проведение свадьбы         2   544  1729   34   4"
      ]
     },
     "execution_count": 36,
     "metadata": {},
     "output_type": "execute_result"
    }
   ],
   "source": [
    "plt.rcParams['figure.figsize'] = (5, 3) \n",
    "plt.title('Количество кредиторов по уровням дохода\\n в зависимости от цели кредита \\n СВОДНАЯ ТАБЛИЦА \\n', fontsize = 13)\n",
    "data_pivot = data.pivot_table(index = 'purpose_category', columns = 'total_income_category', values = 'debt', aggfunc = 'count')\n",
    "\n",
    "sns.heatmap(data_pivot, cmap=\"coolwarm\", linewidths=1, linecolor='black')\n",
    "plt.show()\n",
    "data_pivot"
   ]
  },
  {
   "cell_type": "markdown",
   "id": "ff67ca78",
   "metadata": {},
   "source": [
    "Видим, что нет ни одной категории по цели кредита, где люди разных категорий по уровню дохода не брали бы кредиты, поэтому `нули` в сводной таблице по `зависимости возврата кредита от уровня дохода и цели кредита` мы смело можем считать как **стопроцентную** `выплату долгов вовремя`."
   ]
  },
  {
   "cell_type": "markdown",
   "id": "4cf1d93f",
   "metadata": {},
   "source": [
    "Видим, что лучше всего возвращаются кредиты на получение образования людьми, имеющие самый низкий доход `'E'`. Если вообще брать людей по категориям дохода, то хуже всего выплачивают кредиты люди с самым низким уровнем дохода - `'E'`. \n",
    "\n",
    "Если оценить ситуацию целом, можно сказать, что **есть зависимость по выплате кредитов в срок как от уровня дохода, так и от цели кредита**, что было только подтверждено этой таблицей."
   ]
  },
  {
   "cell_type": "markdown",
   "id": "d778b836",
   "metadata": {
    "deletable": false,
    "editable": false,
    "id": "09c3ac4c"
   },
   "source": [
    "#### 3.5 Приведите возможные причины появления пропусков в исходных данных."
   ]
  },
  {
   "cell_type": "markdown",
   "id": "9279728e",
   "metadata": {
    "deletable": false,
    "id": "9da2ceda"
   },
   "source": [
    "*Ответ:* \n",
    "\n",
    "- нежелание клиента раскрывать данные\n",
    "- невозможность получить данные\n",
    "- технические ошибки при (возможно) расчетах (общий трудовой стаж в днях)"
   ]
  },
  {
   "cell_type": "markdown",
   "id": "fe1d8498",
   "metadata": {
    "deletable": false,
    "editable": false,
    "id": "7b0487d6"
   },
   "source": [
    "#### 3.6 Объясните, почему заполнить пропуски медианным значением — лучшее решение для количественных переменных."
   ]
  },
  {
   "cell_type": "markdown",
   "id": "99804234",
   "metadata": {
    "deletable": false,
    "id": "7ecf2b8e"
   },
   "source": [
    "*Ответ:* \n",
    "\n",
    "дело в том, медианное значение гораздо точнее отражает меру центральной тенденции, чем среднее значение, так как среднее значение сильно сдвигается при наличии выбросов - значений параметра, которые несоизмеримо большие или маленькие по сравнению со средним значением без них"
   ]
  },
  {
   "cell_type": "code",
   "execution_count": 37,
   "id": "00cc90d6",
   "metadata": {
    "scrolled": false
   },
   "outputs": [
    {
     "data": {
      "image/png": "[encoded data removed]",
      "text/plain": [
       "<Figure size 360x216 with 2 Axes>"
      ]
     },
     "metadata": {
      "needs_background": "light"
     },
     "output_type": "display_data"
    },
    {
     "data": {
      "text/html": [
       "<div>\n",
       "<style scoped>\n",
       "    .dataframe tbody tr th:only-of-type {\n",
       "        vertical-align: middle;\n",
       "    }\n",
       "\n",
       "    .dataframe tbody tr th {\n",
       "        vertical-align: top;\n",
       "    }\n",
       "\n",
       "    .dataframe thead th {\n",
       "        text-align: right;\n",
       "    }\n",
       "</style>\n",
       "<table border=\"1\" class=\"dataframe\">\n",
       "  <thead>\n",
       "    <tr style=\"text-align: right;\">\n",
       "      <th>children</th>\n",
       "      <th>0</th>\n",
       "      <th>1</th>\n",
       "      <th>2</th>\n",
       "      <th>3</th>\n",
       "      <th>4</th>\n",
       "      <th>5</th>\n",
       "    </tr>\n",
       "    <tr>\n",
       "      <th>family_status</th>\n",
       "      <th></th>\n",
       "      <th></th>\n",
       "      <th></th>\n",
       "      <th></th>\n",
       "      <th></th>\n",
       "      <th></th>\n",
       "    </tr>\n",
       "  </thead>\n",
       "  <tbody>\n",
       "    <tr>\n",
       "      <th>Не женат / не замужем</th>\n",
       "      <td>9.28</td>\n",
       "      <td>11.58</td>\n",
       "      <td>12.00</td>\n",
       "      <td>12.50</td>\n",
       "      <td>50.00</td>\n",
       "      <td>NaN</td>\n",
       "    </tr>\n",
       "    <tr>\n",
       "      <th>в разводе</th>\n",
       "      <td>7.02</td>\n",
       "      <td>6.73</td>\n",
       "      <td>8.64</td>\n",
       "      <td>9.09</td>\n",
       "      <td>0.00</td>\n",
       "      <td>NaN</td>\n",
       "    </tr>\n",
       "    <tr>\n",
       "      <th>вдовец / вдова</th>\n",
       "      <td>6.26</td>\n",
       "      <td>9.09</td>\n",
       "      <td>15.00</td>\n",
       "      <td>0.00</td>\n",
       "      <td>0.00</td>\n",
       "      <td>NaN</td>\n",
       "    </tr>\n",
       "    <tr>\n",
       "      <th>гражданский брак</th>\n",
       "      <td>8.39</td>\n",
       "      <td>11.86</td>\n",
       "      <td>8.75</td>\n",
       "      <td>14.29</td>\n",
       "      <td>0.00</td>\n",
       "      <td>0.0</td>\n",
       "    </tr>\n",
       "    <tr>\n",
       "      <th>женат / замужем</th>\n",
       "      <td>6.91</td>\n",
       "      <td>8.27</td>\n",
       "      <td>9.46</td>\n",
       "      <td>6.83</td>\n",
       "      <td>10.34</td>\n",
       "      <td>0.0</td>\n",
       "    </tr>\n",
       "  </tbody>\n",
       "</table>\n",
       "</div>"
      ],
      "text/plain": [
       "children                  0      1      2      3      4    5\n",
       "family_status                                               \n",
       "Не женат / не замужем  9.28  11.58  12.00  12.50  50.00  NaN\n",
       "в разводе              7.02   6.73   8.64   9.09   0.00  NaN\n",
       "вдовец / вдова         6.26   9.09  15.00   0.00   0.00  NaN\n",
       "гражданский брак       8.39  11.86   8.75  14.29   0.00  0.0\n",
       "женат / замужем        6.91   8.27   9.46   6.83  10.34  0.0"
      ]
     },
     "execution_count": 37,
     "metadata": {},
     "output_type": "execute_result"
    }
   ],
   "source": [
    "plt.rcParams['figure.figsize'] = (5, 3) \n",
    "plt.title('Зависимость возврата кредита в срок \\n от количества детей и семейного положения \\n СВОДНАЯ ТАБЛИЦА \\n', fontsize = 13)\n",
    "\n",
    "data_pivot = data.pivot_table(index = 'family_status', columns = 'children', values = 'debt', aggfunc = 'mean') * 100 # процент неплательшиков -  debtors_percentage\n",
    "data_pivot = data_pivot.apply(lambda x: round(x, 2)) #округляем значение процентов, чтобы было приятнее воспринимать\n",
    "sns.heatmap(data_pivot, cmap=\"coolwarm\", linewidths=1, linecolor='black')\n",
    "plt.show()\n",
    "\n",
    "data_pivot"
   ]
  },
  {
   "cell_type": "markdown",
   "id": "7c2ee38c",
   "metadata": {},
   "source": [
    "**Немного дополнительной аналитики**\n",
    "\n",
    "В таблице выше рассмотрена зависимость выплачиваемости кредита от сводки семейного положения и детей.\n",
    ">Данную таблицу добавил только для наглядного представления исходного вопроса исследования, сам анализ проводил на отдельных срезах по семейному положению и по количеству детей.\n",
    "\n",
    "Видно, что чем больше детей, тем лучше факт погашения кредита вовремя (**однако** хуже всего выплачивают кредиты люди, находящиеся в статусе `не женат/не замужем` и имеющие `4` ребёнка.\n",
    "\n",
    "Если смотреть по данным срезам, выявляется слабая связь факта выплачивания кредита вовремя и семейного статуса клиента."
   ]
  },
  {
   "cell_type": "markdown",
   "id": "df0e3094",
   "metadata": {
    "deletable": false,
    "editable": false,
    "id": "6db5255a"
   },
   "source": [
    "### Шаг 4: общий вывод."
   ]
  },
  {
   "cell_type": "markdown",
   "id": "4416754f",
   "metadata": {
    "deletable": false,
    "id": "bad65432"
   },
   "source": [
    "Мы провели большую работу по предобработке исходных данных: избавились от пропусков, дупликатов, изменили тип некоторых данных, а также произвели их категоризацию.\n",
    "После этого, для ответа на поставленные вопросы, мы произвели расчет выплачиваемости кредитов вовремя для различных категорий и выывели результат данных расчетов в виде графиков `heatmap`. \n",
    "\n",
    "1. `Зависимость выплачиваемости кредитов от количества детей`\n",
    "    1. люди, имеющие в своём арсенале 1, 2 и 4 ребенка выплачивают кредиты хуже, чем люди, имеющие ни одного, 3 или 5 детей\n",
    "    2. люди, имеющие в своем арсенале 5 детей вообще выплачивали все кредиты вовремя\n",
    "\n",
    "    **Итоговый вывод можно сформулировать следующим образом**: существует зависимость возврата кредита в срок от количества детей, однако она не линейна и однозначно можно сказать только то, что семьи с пятью детьми выплачивали все кредиты вовремя, в то время как семьи, имеющие меньшее количество детей (вплоть до их отсутствия), хуже выплачивали кредиты.\n",
    "\n",
    "     <b>⚠️**Вывод 1 UPDATE** `Зависимость выплачиваемости кредитов от наличия/отсутствия детей`</b>\n",
    "     \n",
    "     Если посмотреть на общее количество клиентов по каждой категории детей, мы видим, что `клиентов, не имеющих детей, практически в два раза больше, чем тех, кто имеет хотя бы одного ребёнка`, поэтому, возможно, какие-то `конкретные выводы делать сложно из-за сильной неравномерности групп`, а тем более если учитывать ,что клиентов, имеющих два ребенка, в 4 раза больше тех, кто имеет хотя бы трёх детей. Если попробовать сравнить `две самые крупные разбивки`: люди `без детей` и те, кто имеет `хотя бы одного ребёнка`, то получаем:\n",
    "     \n",
    "    **Дополнительный итоговый вывод можно сформулировать следующим образом**: наличие детей у клиента снижает способность выплачивать кредит вовремя, но не сильно (опять же, разница в выборках в два раза, но это лучше, чем в прошлый раз)\n",
    "    \n",
    "\n",
    "2. `Зависимость выплачиваемости кредитов от семейного статуса`\n",
    "      \n",
    "    **Итоговый вывод можно сформулировать следующим образом**: люди, не вступавшие в брачные отношения (если имеется в виду, что гражданский брак - это сожительство), хуже выплачивают кредиты, чем те, кто либо находятся в браке, либо бывшие в браке (разведенные, вдовцы), то есть возврат кредита вовремя зависит от семейного положения.\n",
    "    \n",
    "    \n",
    "3. `Зависимость выплачиваемости кредитов от уровня дохода`\n",
    "\n",
    "    1. люди, имеющие самый низкий уровень дохода `'E'`, хуже всех выплачивают кредиты в срок\n",
    "    2. люди, имеющие уровень дохода ниже среднего `'D'`, лучше всех выплачивают кредиты в срок\n",
    "    3. люди, имеющие самый высокий доход `'A'` и чуть поменьше - `'B'`, выплачивают кредиты чуть лучше, чем люди со средним уровнем дохода `'C'`\n",
    "\n",
    "    **Итоговый вывод можно сформулировать следующим образом**: связь между уровнем дохода и возвратом кредита в срок есть, не линейная, но есть.\n",
    "    \n",
    "    Однако группы у нас распределены сильно неравномерно, поэтому попробуем проанализировать только две самые крупные из них:\n",
    "- люди среднего уровня дохода `'C'`\n",
    "- люди с доходом выше среднего `'B'`\n",
    "\n",
    "    Видно, что люди с доходом выше среднего реже допускают просрочку кредитов, чем люди со средним достатком.\n",
    "    \n",
    "    <b>⚠️**Вывод 3 UPDATE** `Зависимость выплачиваемости кредитов от уровня дохода по квартилям`</b>\n",
    "\n",
    "    Для более наглядного представления результатов нам надо добиться более высокой однородности категорий, поэтому разделим их на `4 примерно одинаковые группы - квартили` и также проанализируем. Видим, что после разбивки на квартили у нас выделяется (в хорошем смысле) только каста людей, чей `доход начинается от 200000`,- они `лучше всех выплачивают кредиты`. Все остальные категории примерно одинаково плохо выплачивают кредиты\n",
    "\n",
    "    >Вообще разница не очень существенная получается, возможно, ей можно пренебречь и принять на веру тот факт, что квартили клиентов по доходам примерно одинаково выплачивают кредиты.\n",
    "    \n",
    "\n",
    "4. `Зависимость выплачиваемости кредитов от цели кредита`\n",
    "    1. люди, берущие кредит на операции с автомобилем и получение образования, примерно одинаково хуже всех закрывают кредиты\n",
    "    2. люди, берущие кредит на операции с недвижимостью, закрывают кредиты лучше всех\n",
    "    \n",
    "    **Итоговый вывод можно сформулировать следующим образом**: зависимость между целью кредита и возвратом его в срок есть.\n",
    "\n",
    "\n",
    "5. Если построить сводную таблицу из семейного положения и количества детей и проследить связь её с выплачиваемостью кредитов, получаем:\n",
    "    1. Если детей в семье 4 или 5, выплачиваемость кредита будет выше, чем у кредиторов, где их меньше\n",
    "    2. В данных срезах прослеживается слабая связь между выплачиваемостью кредитов и семейным положением\n",
    "    3. Хуже всего выплачивают кредит люди, находящиеся в статусе `не женат/не замужем` и имеющие `4` ребёнка.\n",
    "\n",
    "Исходя из всего вышеперечисленного, ответ на поставленный заказчиком вопрос следующий: семейное положение и количество детей влияет на факт погашения кредита в срок, характер зависимости описан в выводах, представленных чуть выше.\n",
    "\n",
    "Данную информацию можно учитывать при рассмотрении заявки клиента на кредит и корректировать либо решение по выдаче кредита, либо по размеру выдаваемого клиенту кредита."
   ]
  }
 ],
 "metadata": {
  "ExecuteTimeLog": [
   {
    "duration": 67,
    "start_time": "2023-04-20T06:49:18.268Z"
   },
   {
    "duration": 819,
    "start_time": "2023-04-20T06:49:32.826Z"
   },
   {
    "duration": 20,
    "start_time": "2023-04-20T06:49:33.647Z"
   },
   {
    "duration": 15,
    "start_time": "2023-04-20T06:49:33.965Z"
   },
   {
    "duration": 16,
    "start_time": "2023-04-20T06:49:34.677Z"
   },
   {
    "duration": 38,
    "start_time": "2023-04-20T06:49:34.985Z"
   },
   {
    "duration": 3,
    "start_time": "2023-04-20T06:49:35.534Z"
   },
   {
    "duration": 21,
    "start_time": "2023-04-20T06:49:35.885Z"
   },
   {
    "duration": 4,
    "start_time": "2023-04-20T06:49:37.038Z"
   },
   {
    "duration": 6,
    "start_time": "2023-04-20T06:49:37.545Z"
   },
   {
    "duration": 4,
    "start_time": "2023-04-20T06:49:37.962Z"
   },
   {
    "duration": 32,
    "start_time": "2023-04-20T06:49:38.687Z"
   },
   {
    "duration": 10,
    "start_time": "2023-04-20T06:49:39.335Z"
   },
   {
    "duration": 4,
    "start_time": "2023-04-20T06:49:40.674Z"
   },
   {
    "duration": 12,
    "start_time": "2023-04-20T06:49:41.453Z"
   },
   {
    "duration": 18,
    "start_time": "2023-04-20T06:49:41.937Z"
   },
   {
    "duration": 28,
    "start_time": "2023-04-20T06:49:42.230Z"
   },
   {
    "duration": 3,
    "start_time": "2023-04-20T06:49:43.637Z"
   },
   {
    "duration": 9,
    "start_time": "2023-04-20T06:49:44.063Z"
   },
   {
    "duration": 6,
    "start_time": "2023-04-20T06:49:45.058Z"
   },
   {
    "duration": 3,
    "start_time": "2023-04-20T06:49:46.320Z"
   },
   {
    "duration": 16,
    "start_time": "2023-04-20T06:49:46.677Z"
   },
   {
    "duration": 1498,
    "start_time": "2023-04-20T06:49:48.948Z"
   },
   {
    "duration": 78,
    "start_time": "2023-04-20T06:50:20.998Z"
   },
   {
    "duration": 126,
    "start_time": "2023-04-20T06:50:27.430Z"
   },
   {
    "duration": 2387,
    "start_time": "2023-04-20T06:50:31.170Z"
   },
   {
    "duration": 20,
    "start_time": "2023-04-20T06:50:39.360Z"
   },
   {
    "duration": 13,
    "start_time": "2023-04-20T06:51:02.952Z"
   },
   {
    "duration": 27,
    "start_time": "2023-04-20T06:52:24.020Z"
   },
   {
    "duration": 18,
    "start_time": "2023-04-20T06:52:44.621Z"
   },
   {
    "duration": 18,
    "start_time": "2023-04-20T06:52:54.930Z"
   },
   {
    "duration": 17,
    "start_time": "2023-04-20T06:53:21.539Z"
   },
   {
    "duration": 23,
    "start_time": "2023-04-20T06:53:32.487Z"
   },
   {
    "duration": 23,
    "start_time": "2023-04-20T06:57:20.672Z"
   },
   {
    "duration": 10,
    "start_time": "2023-04-20T06:59:54.980Z"
   },
   {
    "duration": 11,
    "start_time": "2023-04-20T07:00:28.635Z"
   },
   {
    "duration": 6,
    "start_time": "2023-04-20T07:00:35.447Z"
   },
   {
    "duration": 8,
    "start_time": "2023-04-20T07:00:42.777Z"
   },
   {
    "duration": 7,
    "start_time": "2023-04-20T07:01:10.526Z"
   },
   {
    "duration": 7,
    "start_time": "2023-04-20T07:02:06.222Z"
   },
   {
    "duration": 8,
    "start_time": "2023-04-20T07:02:24.218Z"
   },
   {
    "duration": 4,
    "start_time": "2023-04-20T07:03:19.227Z"
   },
   {
    "duration": 40,
    "start_time": "2023-04-20T07:03:26.866Z"
   },
   {
    "duration": 9,
    "start_time": "2023-04-20T07:03:40.613Z"
   },
   {
    "duration": 8,
    "start_time": "2023-04-20T07:04:34.596Z"
   },
   {
    "duration": 11,
    "start_time": "2023-04-20T07:04:49.503Z"
   },
   {
    "duration": 13,
    "start_time": "2023-04-20T07:05:10.479Z"
   },
   {
    "duration": 7,
    "start_time": "2023-04-20T07:05:40.749Z"
   },
   {
    "duration": 7,
    "start_time": "2023-04-20T07:05:45.867Z"
   },
   {
    "duration": 15,
    "start_time": "2023-04-20T07:06:59.130Z"
   },
   {
    "duration": 11,
    "start_time": "2023-04-20T07:07:03.671Z"
   },
   {
    "duration": 8,
    "start_time": "2023-04-20T07:07:36.689Z"
   },
   {
    "duration": 10,
    "start_time": "2023-04-20T07:07:54.057Z"
   },
   {
    "duration": 12,
    "start_time": "2023-04-20T07:09:27.289Z"
   },
   {
    "duration": 18,
    "start_time": "2023-04-20T07:09:34.367Z"
   },
   {
    "duration": 10,
    "start_time": "2023-04-20T07:20:45.841Z"
   },
   {
    "duration": 18,
    "start_time": "2023-04-20T07:20:56.681Z"
   },
   {
    "duration": 12,
    "start_time": "2023-04-20T07:21:31.722Z"
   },
   {
    "duration": 21,
    "start_time": "2023-04-20T07:21:53.070Z"
   },
   {
    "duration": 2300,
    "start_time": "2023-04-20T07:22:24.652Z"
   },
   {
    "duration": 996,
    "start_time": "2023-04-20T07:22:43.228Z"
   },
   {
    "duration": 20,
    "start_time": "2023-04-20T07:22:48.722Z"
   },
   {
    "duration": 15,
    "start_time": "2023-04-20T07:23:08.541Z"
   },
   {
    "duration": 15,
    "start_time": "2023-04-20T07:24:03.784Z"
   },
   {
    "duration": 11,
    "start_time": "2023-04-20T07:24:52.101Z"
   },
   {
    "duration": 1570,
    "start_time": "2023-04-20T07:29:53.184Z"
   },
   {
    "duration": 416,
    "start_time": "2023-04-20T07:30:15.953Z"
   },
   {
    "duration": 282,
    "start_time": "2023-04-20T07:30:26.939Z"
   },
   {
    "duration": 276,
    "start_time": "2023-04-20T07:31:54.653Z"
   },
   {
    "duration": 234,
    "start_time": "2023-04-20T07:32:05.000Z"
   },
   {
    "duration": 12,
    "start_time": "2023-04-20T07:32:07.870Z"
   },
   {
    "duration": 268,
    "start_time": "2023-04-20T07:32:51.713Z"
   },
   {
    "duration": 350,
    "start_time": "2023-04-20T07:34:13.352Z"
   },
   {
    "duration": 312,
    "start_time": "2023-04-20T07:43:01.209Z"
   },
   {
    "duration": 202,
    "start_time": "2023-04-20T07:43:06.720Z"
   },
   {
    "duration": 257,
    "start_time": "2023-04-20T07:43:11.153Z"
   },
   {
    "duration": 230,
    "start_time": "2023-04-20T07:43:30.600Z"
   },
   {
    "duration": 224,
    "start_time": "2023-04-20T07:43:37.106Z"
   },
   {
    "duration": 207,
    "start_time": "2023-04-20T07:43:40.525Z"
   },
   {
    "duration": 240,
    "start_time": "2023-04-20T07:43:50.291Z"
   },
   {
    "duration": 259,
    "start_time": "2023-04-20T07:43:57.153Z"
   },
   {
    "duration": 270,
    "start_time": "2023-04-20T07:44:01.424Z"
   },
   {
    "duration": 265,
    "start_time": "2023-04-20T07:44:06.721Z"
   },
   {
    "duration": 260,
    "start_time": "2023-04-20T07:44:11.833Z"
   },
   {
    "duration": 351,
    "start_time": "2023-04-20T07:44:15.242Z"
   },
   {
    "duration": 291,
    "start_time": "2023-04-20T07:44:23.133Z"
   },
   {
    "duration": 521,
    "start_time": "2023-04-20T17:49:25.735Z"
   },
   {
    "duration": 24,
    "start_time": "2023-04-20T17:49:27.860Z"
   },
   {
    "duration": 20,
    "start_time": "2023-04-20T17:49:29.737Z"
   },
   {
    "duration": 10,
    "start_time": "2023-04-20T17:49:32.398Z"
   },
   {
    "duration": 36,
    "start_time": "2023-04-20T17:49:33.590Z"
   },
   {
    "duration": 4,
    "start_time": "2023-04-20T17:49:34.877Z"
   },
   {
    "duration": 8,
    "start_time": "2023-04-20T17:49:35.795Z"
   },
   {
    "duration": 6,
    "start_time": "2023-04-20T17:49:37.258Z"
   },
   {
    "duration": 8,
    "start_time": "2023-04-20T17:49:38.241Z"
   },
   {
    "duration": 5,
    "start_time": "2023-04-20T17:49:39.469Z"
   },
   {
    "duration": 35,
    "start_time": "2023-04-20T17:49:40.760Z"
   },
   {
    "duration": 10,
    "start_time": "2023-04-20T17:49:41.755Z"
   },
   {
    "duration": 5,
    "start_time": "2023-04-20T17:49:43.029Z"
   },
   {
    "duration": 12,
    "start_time": "2023-04-20T17:49:44.085Z"
   },
   {
    "duration": 20,
    "start_time": "2023-04-20T17:49:45.490Z"
   },
   {
    "duration": 23,
    "start_time": "2023-04-20T17:49:45.757Z"
   },
   {
    "duration": 3,
    "start_time": "2023-04-20T17:49:51.688Z"
   },
   {
    "duration": 10,
    "start_time": "2023-04-20T17:49:52.543Z"
   },
   {
    "duration": 9,
    "start_time": "2023-04-20T17:49:53.833Z"
   },
   {
    "duration": 3,
    "start_time": "2023-04-20T17:49:57.235Z"
   },
   {
    "duration": 9,
    "start_time": "2023-04-20T17:49:57.660Z"
   },
   {
    "duration": 1331,
    "start_time": "2023-04-20T17:50:04.594Z"
   },
   {
    "duration": 286,
    "start_time": "2023-04-20T17:52:21.093Z"
   },
   {
    "duration": 328,
    "start_time": "2023-04-20T17:55:38.648Z"
   },
   {
    "duration": 281,
    "start_time": "2023-04-20T17:56:00.412Z"
   },
   {
    "duration": 312,
    "start_time": "2023-04-20T17:56:04.978Z"
   },
   {
    "duration": 10,
    "start_time": "2023-04-20T17:57:04.261Z"
   },
   {
    "duration": 254,
    "start_time": "2023-04-20T17:57:39.086Z"
   },
   {
    "duration": 13,
    "start_time": "2023-04-20T17:57:59.143Z"
   },
   {
    "duration": 165,
    "start_time": "2023-04-20T17:58:13.884Z"
   },
   {
    "duration": 5,
    "start_time": "2023-04-20T17:58:18.905Z"
   },
   {
    "duration": 326,
    "start_time": "2023-04-20T17:58:44.559Z"
   },
   {
    "duration": 450,
    "start_time": "2023-04-20T17:58:58.547Z"
   },
   {
    "duration": 339,
    "start_time": "2023-04-20T17:59:05.933Z"
   },
   {
    "duration": 708,
    "start_time": "2023-04-20T17:59:24.327Z"
   },
   {
    "duration": 223,
    "start_time": "2023-04-20T18:00:55.753Z"
   },
   {
    "duration": 289,
    "start_time": "2023-04-20T18:01:12.381Z"
   },
   {
    "duration": 251,
    "start_time": "2023-04-20T18:01:18.209Z"
   },
   {
    "duration": 311,
    "start_time": "2023-04-20T18:01:45.404Z"
   },
   {
    "duration": 262,
    "start_time": "2023-04-20T18:01:56.338Z"
   },
   {
    "duration": 288,
    "start_time": "2023-04-20T18:02:06.550Z"
   },
   {
    "duration": 292,
    "start_time": "2023-04-20T18:02:12.384Z"
   },
   {
    "duration": 373,
    "start_time": "2023-04-20T18:02:19.828Z"
   },
   {
    "duration": 338,
    "start_time": "2023-04-20T18:02:25.677Z"
   },
   {
    "duration": 241,
    "start_time": "2023-04-20T18:02:46.139Z"
   },
   {
    "duration": 346,
    "start_time": "2023-04-20T18:02:50.527Z"
   },
   {
    "duration": 265,
    "start_time": "2023-04-20T18:02:54.921Z"
   },
   {
    "duration": 108,
    "start_time": "2023-04-20T18:04:28.246Z"
   },
   {
    "duration": 264,
    "start_time": "2023-04-20T18:04:31.456Z"
   },
   {
    "duration": 286,
    "start_time": "2023-04-20T18:18:12.316Z"
   },
   {
    "duration": 257,
    "start_time": "2023-04-20T18:18:27.139Z"
   },
   {
    "duration": 235,
    "start_time": "2023-04-20T18:18:32.748Z"
   },
   {
    "duration": 301,
    "start_time": "2023-04-20T18:20:12.463Z"
   },
   {
    "duration": 329,
    "start_time": "2023-04-20T18:53:36.075Z"
   },
   {
    "duration": 317,
    "start_time": "2023-04-20T18:55:09.880Z"
   },
   {
    "duration": 444,
    "start_time": "2023-04-20T18:59:55.579Z"
   },
   {
    "duration": 316,
    "start_time": "2023-04-20T19:00:10.212Z"
   },
   {
    "duration": 345,
    "start_time": "2023-04-20T19:04:55.513Z"
   },
   {
    "duration": 338,
    "start_time": "2023-04-20T19:06:49.375Z"
   },
   {
    "duration": 292,
    "start_time": "2023-04-20T19:07:31.625Z"
   },
   {
    "duration": 4,
    "start_time": "2023-04-20T19:08:06.420Z"
   },
   {
    "duration": 11,
    "start_time": "2023-04-20T19:08:06.826Z"
   },
   {
    "duration": 7,
    "start_time": "2023-04-20T19:08:07.123Z"
   },
   {
    "duration": 3,
    "start_time": "2023-04-20T19:08:07.397Z"
   },
   {
    "duration": 9,
    "start_time": "2023-04-20T19:08:07.547Z"
   },
   {
    "duration": 282,
    "start_time": "2023-04-20T19:08:08.213Z"
   },
   {
    "duration": 376,
    "start_time": "2023-04-20T19:08:08.924Z"
   },
   {
    "duration": 301,
    "start_time": "2023-04-20T19:08:11.125Z"
   },
   {
    "duration": 323,
    "start_time": "2023-04-20T19:18:22.527Z"
   },
   {
    "duration": 325,
    "start_time": "2023-04-20T19:18:24.866Z"
   },
   {
    "duration": 288,
    "start_time": "2023-04-20T19:19:00.136Z"
   },
   {
    "duration": 381,
    "start_time": "2023-04-20T19:19:04.242Z"
   },
   {
    "duration": 310,
    "start_time": "2023-04-20T19:23:03.039Z"
   },
   {
    "duration": 453,
    "start_time": "2023-04-20T19:25:12.164Z"
   },
   {
    "duration": 348,
    "start_time": "2023-04-20T19:28:07.891Z"
   },
   {
    "duration": 504,
    "start_time": "2023-04-20T19:28:29.642Z"
   },
   {
    "duration": 373,
    "start_time": "2023-04-20T19:30:27.254Z"
   },
   {
    "duration": 326,
    "start_time": "2023-04-20T19:31:19.588Z"
   },
   {
    "duration": 334,
    "start_time": "2023-04-20T19:31:20.404Z"
   },
   {
    "duration": 52,
    "start_time": "2023-04-20T19:31:21.931Z"
   },
   {
    "duration": 372,
    "start_time": "2023-04-20T19:33:41.249Z"
   },
   {
    "duration": 346,
    "start_time": "2023-04-20T19:33:47.911Z"
   },
   {
    "duration": 337,
    "start_time": "2023-04-20T19:33:54.614Z"
   },
   {
    "duration": 368,
    "start_time": "2023-04-20T19:34:18.228Z"
   },
   {
    "duration": 350,
    "start_time": "2023-04-20T19:34:23.032Z"
   },
   {
    "duration": 374,
    "start_time": "2023-04-20T19:34:28.359Z"
   },
   {
    "duration": 380,
    "start_time": "2023-04-20T19:37:05.787Z"
   },
   {
    "duration": 319,
    "start_time": "2023-04-20T19:37:07.011Z"
   },
   {
    "duration": 379,
    "start_time": "2023-04-20T19:37:07.756Z"
   },
   {
    "duration": 30,
    "start_time": "2023-04-20T19:45:52.499Z"
   },
   {
    "duration": 21,
    "start_time": "2023-04-20T19:46:06.889Z"
   },
   {
    "duration": 21,
    "start_time": "2023-04-20T19:46:31.183Z"
   },
   {
    "duration": 85,
    "start_time": "2023-04-20T19:46:42.951Z"
   },
   {
    "duration": 18,
    "start_time": "2023-04-20T19:46:44.173Z"
   },
   {
    "duration": 22,
    "start_time": "2023-04-20T19:46:55.936Z"
   },
   {
    "duration": 25,
    "start_time": "2023-04-20T19:48:08.948Z"
   },
   {
    "duration": 25,
    "start_time": "2023-04-20T19:48:09.352Z"
   },
   {
    "duration": 16,
    "start_time": "2023-04-20T19:48:10.028Z"
   },
   {
    "duration": 43,
    "start_time": "2023-04-20T19:48:10.380Z"
   },
   {
    "duration": 4,
    "start_time": "2023-04-20T19:48:11.022Z"
   },
   {
    "duration": 9,
    "start_time": "2023-04-20T19:48:11.655Z"
   },
   {
    "duration": 5,
    "start_time": "2023-04-20T19:48:12.389Z"
   },
   {
    "duration": 7,
    "start_time": "2023-04-20T19:48:12.891Z"
   },
   {
    "duration": 5,
    "start_time": "2023-04-20T19:48:13.423Z"
   },
   {
    "duration": 38,
    "start_time": "2023-04-20T19:48:14.055Z"
   },
   {
    "duration": 13,
    "start_time": "2023-04-20T19:48:14.491Z"
   },
   {
    "duration": 6,
    "start_time": "2023-04-20T19:48:15.248Z"
   },
   {
    "duration": 12,
    "start_time": "2023-04-20T19:48:15.985Z"
   },
   {
    "duration": 31,
    "start_time": "2023-04-20T19:48:16.461Z"
   },
   {
    "duration": 28,
    "start_time": "2023-04-20T19:48:16.819Z"
   },
   {
    "duration": 4,
    "start_time": "2023-04-20T19:48:18.394Z"
   },
   {
    "duration": 13,
    "start_time": "2023-04-20T19:48:18.889Z"
   },
   {
    "duration": 9,
    "start_time": "2023-04-20T19:48:19.647Z"
   },
   {
    "duration": 4,
    "start_time": "2023-04-20T19:48:20.099Z"
   },
   {
    "duration": 9,
    "start_time": "2023-04-20T19:48:20.291Z"
   },
   {
    "duration": 290,
    "start_time": "2023-04-20T19:48:21.281Z"
   },
   {
    "duration": 363,
    "start_time": "2023-04-20T19:48:23.621Z"
   },
   {
    "duration": 306,
    "start_time": "2023-04-20T19:48:25.822Z"
   },
   {
    "duration": 322,
    "start_time": "2023-04-20T19:48:27.939Z"
   },
   {
    "duration": 389,
    "start_time": "2023-04-20T19:48:29.760Z"
   },
   {
    "duration": 651,
    "start_time": "2023-04-20T19:57:18.430Z"
   },
   {
    "duration": 519,
    "start_time": "2023-04-20T19:57:30.133Z"
   },
   {
    "duration": 435,
    "start_time": "2023-04-20T19:58:16.088Z"
   },
   {
    "duration": 517,
    "start_time": "2023-04-20T19:58:39.894Z"
   },
   {
    "duration": 365,
    "start_time": "2023-04-20T20:00:09.359Z"
   },
   {
    "duration": 344,
    "start_time": "2023-04-20T20:14:17.253Z"
   },
   {
    "duration": 320,
    "start_time": "2023-04-20T20:21:48.137Z"
   },
   {
    "duration": 318,
    "start_time": "2023-04-20T20:22:49.947Z"
   },
   {
    "duration": 339,
    "start_time": "2023-04-20T20:25:56.437Z"
   },
   {
    "duration": 520,
    "start_time": "2023-04-20T20:30:33.513Z"
   },
   {
    "duration": 23,
    "start_time": "2023-04-20T20:30:45.513Z"
   },
   {
    "duration": 19,
    "start_time": "2023-04-20T20:30:46.644Z"
   },
   {
    "duration": 11,
    "start_time": "2023-04-20T20:30:47.955Z"
   },
   {
    "duration": 38,
    "start_time": "2023-04-20T20:30:48.671Z"
   },
   {
    "duration": 4,
    "start_time": "2023-04-20T20:30:49.420Z"
   },
   {
    "duration": 7,
    "start_time": "2023-04-20T20:30:50.107Z"
   },
   {
    "duration": 4,
    "start_time": "2023-04-20T20:30:51.053Z"
   },
   {
    "duration": 7,
    "start_time": "2023-04-20T20:30:51.646Z"
   },
   {
    "duration": 5,
    "start_time": "2023-04-20T20:30:52.321Z"
   },
   {
    "duration": 35,
    "start_time": "2023-04-20T20:30:53.615Z"
   },
   {
    "duration": 12,
    "start_time": "2023-04-20T20:30:54.885Z"
   },
   {
    "duration": 4,
    "start_time": "2023-04-20T20:30:56.281Z"
   },
   {
    "duration": 12,
    "start_time": "2023-04-20T20:30:57.586Z"
   },
   {
    "duration": 20,
    "start_time": "2023-04-20T20:30:58.473Z"
   },
   {
    "duration": 24,
    "start_time": "2023-04-20T20:30:58.939Z"
   },
   {
    "duration": 5,
    "start_time": "2023-04-20T20:31:00.375Z"
   },
   {
    "duration": 18,
    "start_time": "2023-04-20T20:31:01.206Z"
   },
   {
    "duration": 6,
    "start_time": "2023-04-20T20:31:02.279Z"
   },
   {
    "duration": 4,
    "start_time": "2023-04-20T20:31:03.513Z"
   },
   {
    "duration": 8,
    "start_time": "2023-04-20T20:31:04.065Z"
   },
   {
    "duration": 1062,
    "start_time": "2023-04-20T20:31:05.593Z"
   },
   {
    "duration": 309,
    "start_time": "2023-04-20T20:31:09.782Z"
   },
   {
    "duration": 282,
    "start_time": "2023-04-20T20:31:12.009Z"
   },
   {
    "duration": 288,
    "start_time": "2023-04-20T20:31:14.347Z"
   },
   {
    "duration": 332,
    "start_time": "2023-04-20T20:31:15.794Z"
   },
   {
    "duration": 345,
    "start_time": "2023-04-20T20:31:20.832Z"
   },
   {
    "duration": 580,
    "start_time": "2023-04-21T07:26:13.856Z"
   },
   {
    "duration": 31,
    "start_time": "2023-04-21T07:26:14.438Z"
   },
   {
    "duration": 13,
    "start_time": "2023-04-21T07:26:14.473Z"
   },
   {
    "duration": 13,
    "start_time": "2023-04-21T07:26:14.489Z"
   },
   {
    "duration": 39,
    "start_time": "2023-04-21T07:26:14.504Z"
   },
   {
    "duration": 4,
    "start_time": "2023-04-21T07:26:14.545Z"
   },
   {
    "duration": 20,
    "start_time": "2023-04-21T07:26:14.556Z"
   },
   {
    "duration": 5,
    "start_time": "2023-04-21T07:26:14.578Z"
   },
   {
    "duration": 10,
    "start_time": "2023-04-21T07:26:14.585Z"
   },
   {
    "duration": 5,
    "start_time": "2023-04-21T07:26:14.596Z"
   },
   {
    "duration": 39,
    "start_time": "2023-04-21T07:26:14.602Z"
   },
   {
    "duration": 16,
    "start_time": "2023-04-21T07:26:14.659Z"
   },
   {
    "duration": 23,
    "start_time": "2023-04-21T07:26:14.678Z"
   },
   {
    "duration": 15,
    "start_time": "2023-04-21T07:26:14.703Z"
   },
   {
    "duration": 33,
    "start_time": "2023-04-21T07:26:14.720Z"
   },
   {
    "duration": 29,
    "start_time": "2023-04-21T07:26:14.755Z"
   },
   {
    "duration": 4,
    "start_time": "2023-04-21T07:26:14.786Z"
   },
   {
    "duration": 39,
    "start_time": "2023-04-21T07:26:14.792Z"
   },
   {
    "duration": 7,
    "start_time": "2023-04-21T07:26:14.833Z"
   },
   {
    "duration": 11,
    "start_time": "2023-04-21T07:26:14.842Z"
   },
   {
    "duration": 21,
    "start_time": "2023-04-21T07:26:14.855Z"
   },
   {
    "duration": 1352,
    "start_time": "2023-04-21T07:26:14.879Z"
   },
   {
    "duration": 349,
    "start_time": "2023-04-21T07:26:16.233Z"
   },
   {
    "duration": 339,
    "start_time": "2023-04-21T07:26:16.584Z"
   },
   {
    "duration": 356,
    "start_time": "2023-04-21T07:26:16.924Z"
   },
   {
    "duration": 351,
    "start_time": "2023-04-21T07:26:17.282Z"
   },
   {
    "duration": 366,
    "start_time": "2023-04-21T07:26:17.634Z"
   },
   {
    "duration": 707,
    "start_time": "2023-04-21T18:17:28.146Z"
   },
   {
    "duration": 25,
    "start_time": "2023-04-21T18:17:28.855Z"
   },
   {
    "duration": 17,
    "start_time": "2023-04-21T18:17:28.882Z"
   },
   {
    "duration": 11,
    "start_time": "2023-04-21T18:17:28.901Z"
   },
   {
    "duration": 37,
    "start_time": "2023-04-21T18:17:28.914Z"
   },
   {
    "duration": 3,
    "start_time": "2023-04-21T18:17:28.954Z"
   },
   {
    "duration": 34,
    "start_time": "2023-04-21T18:17:28.959Z"
   },
   {
    "duration": 8,
    "start_time": "2023-04-21T18:17:28.994Z"
   },
   {
    "duration": 8,
    "start_time": "2023-04-21T18:17:29.005Z"
   },
   {
    "duration": 5,
    "start_time": "2023-04-21T18:17:29.017Z"
   },
   {
    "duration": 38,
    "start_time": "2023-04-21T18:17:29.023Z"
   },
   {
    "duration": 10,
    "start_time": "2023-04-21T18:17:29.088Z"
   },
   {
    "duration": 5,
    "start_time": "2023-04-21T18:17:29.100Z"
   },
   {
    "duration": 14,
    "start_time": "2023-04-21T18:17:29.107Z"
   },
   {
    "duration": 21,
    "start_time": "2023-04-21T18:17:29.123Z"
   },
   {
    "duration": 49,
    "start_time": "2023-04-21T18:17:29.146Z"
   },
   {
    "duration": 5,
    "start_time": "2023-04-21T18:17:29.196Z"
   },
   {
    "duration": 42,
    "start_time": "2023-04-21T18:17:29.202Z"
   },
   {
    "duration": 26,
    "start_time": "2023-04-21T18:17:29.246Z"
   },
   {
    "duration": 11,
    "start_time": "2023-04-21T18:17:29.274Z"
   },
   {
    "duration": 26,
    "start_time": "2023-04-21T18:17:29.287Z"
   },
   {
    "duration": 2209,
    "start_time": "2023-04-21T18:17:29.315Z"
   },
   {
    "duration": 486,
    "start_time": "2023-04-21T18:17:31.526Z"
   },
   {
    "duration": 261,
    "start_time": "2023-04-21T18:17:32.014Z"
   },
   {
    "duration": 333,
    "start_time": "2023-04-21T18:17:32.277Z"
   },
   {
    "duration": 352,
    "start_time": "2023-04-21T18:17:32.612Z"
   },
   {
    "duration": 377,
    "start_time": "2023-04-21T18:17:32.966Z"
   },
   {
    "duration": 1505,
    "start_time": "2023-04-21T20:03:52.370Z"
   },
   {
    "duration": 131,
    "start_time": "2023-04-21T20:04:09.014Z"
   },
   {
    "duration": 22,
    "start_time": "2023-04-21T20:04:09.419Z"
   },
   {
    "duration": 16,
    "start_time": "2023-04-21T20:04:10.002Z"
   },
   {
    "duration": 13,
    "start_time": "2023-04-21T20:04:11.441Z"
   },
   {
    "duration": 31,
    "start_time": "2023-04-21T20:04:11.478Z"
   },
   {
    "duration": 4,
    "start_time": "2023-04-21T20:04:12.045Z"
   },
   {
    "duration": 7,
    "start_time": "2023-04-21T20:04:12.698Z"
   },
   {
    "duration": 5,
    "start_time": "2023-04-21T20:04:14.080Z"
   },
   {
    "duration": 6,
    "start_time": "2023-04-21T20:04:14.682Z"
   },
   {
    "duration": 5,
    "start_time": "2023-04-21T20:04:15.538Z"
   },
   {
    "duration": 28,
    "start_time": "2023-04-21T20:04:16.482Z"
   },
   {
    "duration": 9,
    "start_time": "2023-04-21T20:04:17.044Z"
   },
   {
    "duration": 4,
    "start_time": "2023-04-21T20:04:17.878Z"
   },
   {
    "duration": 12,
    "start_time": "2023-04-21T20:04:18.599Z"
   },
   {
    "duration": 18,
    "start_time": "2023-04-21T20:04:19.077Z"
   },
   {
    "duration": 16,
    "start_time": "2023-04-21T20:04:19.316Z"
   },
   {
    "duration": 3,
    "start_time": "2023-04-21T20:04:20.635Z"
   },
   {
    "duration": 9,
    "start_time": "2023-04-21T20:04:20.998Z"
   },
   {
    "duration": 6,
    "start_time": "2023-04-21T20:04:21.799Z"
   },
   {
    "duration": 3,
    "start_time": "2023-04-21T20:04:22.624Z"
   },
   {
    "duration": 17,
    "start_time": "2023-04-21T20:04:23.051Z"
   },
   {
    "duration": 332,
    "start_time": "2023-04-21T20:04:24.099Z"
   },
   {
    "duration": 13,
    "start_time": "2023-04-21T20:09:58.798Z"
   },
   {
    "duration": 9,
    "start_time": "2023-04-21T20:10:07.305Z"
   },
   {
    "duration": 11,
    "start_time": "2023-04-21T20:10:34.299Z"
   },
   {
    "duration": 15,
    "start_time": "2023-04-21T20:10:41.611Z"
   },
   {
    "duration": 14,
    "start_time": "2023-04-21T20:13:00.899Z"
   },
   {
    "duration": 18,
    "start_time": "2023-04-21T20:13:29.408Z"
   },
   {
    "duration": 19,
    "start_time": "2023-04-21T20:13:37.195Z"
   },
   {
    "duration": 16,
    "start_time": "2023-04-21T20:14:03.613Z"
   },
   {
    "duration": 24,
    "start_time": "2023-04-21T20:14:17.957Z"
   },
   {
    "duration": 21,
    "start_time": "2023-04-21T20:15:39.070Z"
   },
   {
    "duration": 883,
    "start_time": "2023-04-21T20:17:45.826Z"
   },
   {
    "duration": 17,
    "start_time": "2023-04-21T20:17:56.726Z"
   },
   {
    "duration": 20,
    "start_time": "2023-04-21T20:18:14.496Z"
   },
   {
    "duration": 17,
    "start_time": "2023-04-21T20:19:11.765Z"
   },
   {
    "duration": 20,
    "start_time": "2023-04-21T20:19:24.612Z"
   },
   {
    "duration": 14,
    "start_time": "2023-04-21T20:20:27.231Z"
   },
   {
    "duration": 17,
    "start_time": "2023-04-21T20:20:39.065Z"
   },
   {
    "duration": 16,
    "start_time": "2023-04-21T20:21:31.164Z"
   },
   {
    "duration": 15,
    "start_time": "2023-04-21T20:21:41.167Z"
   },
   {
    "duration": 58,
    "start_time": "2023-04-21T20:26:37.126Z"
   },
   {
    "duration": 55,
    "start_time": "2023-04-21T20:26:53.134Z"
   },
   {
    "duration": 61,
    "start_time": "2023-04-21T20:27:18.518Z"
   },
   {
    "duration": 20,
    "start_time": "2023-04-21T20:28:30.984Z"
   },
   {
    "duration": 29,
    "start_time": "2023-04-21T20:29:40.211Z"
   },
   {
    "duration": 25,
    "start_time": "2023-04-21T20:31:39.441Z"
   },
   {
    "duration": 23,
    "start_time": "2023-04-21T20:31:51.776Z"
   },
   {
    "duration": 22,
    "start_time": "2023-04-21T20:35:26.374Z"
   },
   {
    "duration": 14,
    "start_time": "2023-04-21T20:42:31.858Z"
   },
   {
    "duration": 15,
    "start_time": "2023-04-21T20:42:36.812Z"
   },
   {
    "duration": 743,
    "start_time": "2023-04-21T20:43:03.016Z"
   },
   {
    "duration": 799,
    "start_time": "2023-04-21T20:43:32.379Z"
   },
   {
    "duration": 891,
    "start_time": "2023-04-21T20:44:00.101Z"
   },
   {
    "duration": 749,
    "start_time": "2023-04-21T20:44:25.212Z"
   },
   {
    "duration": 14,
    "start_time": "2023-04-21T20:45:28.371Z"
   },
   {
    "duration": 22,
    "start_time": "2023-04-21T20:45:36.761Z"
   },
   {
    "duration": 911,
    "start_time": "2023-04-21T20:45:44.447Z"
   },
   {
    "duration": 21,
    "start_time": "2023-04-21T20:45:49.574Z"
   },
   {
    "duration": 1025,
    "start_time": "2023-04-21T20:46:16.697Z"
   },
   {
    "duration": 1244,
    "start_time": "2023-04-21T20:46:19.499Z"
   },
   {
    "duration": 20,
    "start_time": "2023-04-21T20:46:27.467Z"
   },
   {
    "duration": 833,
    "start_time": "2023-04-21T20:46:32.465Z"
   },
   {
    "duration": 724,
    "start_time": "2023-04-21T20:46:41.834Z"
   },
   {
    "duration": 768,
    "start_time": "2023-04-21T20:46:56.554Z"
   },
   {
    "duration": 47,
    "start_time": "2023-04-21T20:47:02.200Z"
   },
   {
    "duration": 29,
    "start_time": "2023-04-21T20:47:04.941Z"
   },
   {
    "duration": 798,
    "start_time": "2023-04-21T20:47:16.532Z"
   },
   {
    "duration": 807,
    "start_time": "2023-04-21T20:47:27.837Z"
   },
   {
    "duration": 1164,
    "start_time": "2023-04-21T20:47:53.541Z"
   },
   {
    "duration": 22,
    "start_time": "2023-04-21T20:48:10.486Z"
   },
   {
    "duration": 47,
    "start_time": "2023-04-21T20:48:16.207Z"
   },
   {
    "duration": 803,
    "start_time": "2023-04-21T20:48:31.500Z"
   },
   {
    "duration": 19,
    "start_time": "2023-04-21T20:48:40.908Z"
   },
   {
    "duration": 775,
    "start_time": "2023-04-21T20:48:47.821Z"
   },
   {
    "duration": 16,
    "start_time": "2023-04-21T20:49:05.099Z"
   },
   {
    "duration": 875,
    "start_time": "2023-04-21T20:49:21.223Z"
   },
   {
    "duration": 53,
    "start_time": "2023-04-21T20:49:55.801Z"
   },
   {
    "duration": 19,
    "start_time": "2023-04-21T20:50:01.429Z"
   },
   {
    "duration": 32,
    "start_time": "2023-04-21T20:50:16.851Z"
   },
   {
    "duration": 22,
    "start_time": "2023-04-21T20:50:19.538Z"
   },
   {
    "duration": 27,
    "start_time": "2023-04-21T20:50:23.399Z"
   },
   {
    "duration": 15,
    "start_time": "2023-04-21T20:52:30.502Z"
   },
   {
    "duration": 17,
    "start_time": "2023-04-21T20:53:03.998Z"
   },
   {
    "duration": 15,
    "start_time": "2023-04-21T20:53:27.177Z"
   },
   {
    "duration": 4236,
    "start_time": "2023-04-21T20:53:43.315Z"
   },
   {
    "duration": 21,
    "start_time": "2023-04-21T20:54:11.376Z"
   },
   {
    "duration": 16,
    "start_time": "2023-04-21T20:55:46.944Z"
   },
   {
    "duration": 16,
    "start_time": "2023-04-21T20:55:55.116Z"
   },
   {
    "duration": 23,
    "start_time": "2023-04-21T20:56:08.045Z"
   },
   {
    "duration": 16,
    "start_time": "2023-04-21T20:56:26.820Z"
   },
   {
    "duration": 30,
    "start_time": "2023-04-21T20:56:52.100Z"
   },
   {
    "duration": 245,
    "start_time": "2023-04-21T20:57:05.781Z"
   },
   {
    "duration": 61,
    "start_time": "2023-04-21T20:58:34.247Z"
   },
   {
    "duration": 29,
    "start_time": "2023-04-21T20:58:44.369Z"
   },
   {
    "duration": 33,
    "start_time": "2023-04-21T20:59:04.775Z"
   },
   {
    "duration": 22,
    "start_time": "2023-04-21T20:59:52.983Z"
   },
   {
    "duration": 19,
    "start_time": "2023-04-21T21:00:58.472Z"
   },
   {
    "duration": 59,
    "start_time": "2023-04-21T21:01:07.630Z"
   },
   {
    "duration": 34,
    "start_time": "2023-04-21T21:03:00.284Z"
   },
   {
    "duration": 32,
    "start_time": "2023-04-21T21:03:04.151Z"
   },
   {
    "duration": 23,
    "start_time": "2023-04-21T21:03:28.370Z"
   },
   {
    "duration": 42,
    "start_time": "2023-04-21T21:03:52.169Z"
   },
   {
    "duration": 50,
    "start_time": "2023-04-21T21:06:19.266Z"
   },
   {
    "duration": 5,
    "start_time": "2023-04-21T21:06:54.826Z"
   },
   {
    "duration": 32,
    "start_time": "2023-04-21T21:07:06.761Z"
   },
   {
    "duration": 21,
    "start_time": "2023-04-21T21:07:46.392Z"
   },
   {
    "duration": 22,
    "start_time": "2023-04-21T21:09:22.354Z"
   },
   {
    "duration": 22,
    "start_time": "2023-04-21T21:16:12.938Z"
   },
   {
    "duration": 21,
    "start_time": "2023-04-21T21:16:19.051Z"
   },
   {
    "duration": 27,
    "start_time": "2023-04-21T21:16:40.247Z"
   },
   {
    "duration": 19,
    "start_time": "2023-04-21T21:17:06.215Z"
   },
   {
    "duration": 25,
    "start_time": "2023-04-21T21:17:23.300Z"
   },
   {
    "duration": 26,
    "start_time": "2023-04-21T21:17:50.632Z"
   },
   {
    "duration": 23,
    "start_time": "2023-04-21T21:17:55.264Z"
   },
   {
    "duration": 25,
    "start_time": "2023-04-21T21:17:58.845Z"
   },
   {
    "duration": 54,
    "start_time": "2023-04-21T21:18:23.750Z"
   },
   {
    "duration": 9,
    "start_time": "2023-04-21T21:18:40.881Z"
   },
   {
    "duration": 458,
    "start_time": "2023-04-21T21:18:49.308Z"
   },
   {
    "duration": 24,
    "start_time": "2023-04-21T21:18:49.768Z"
   },
   {
    "duration": 15,
    "start_time": "2023-04-21T21:18:50.232Z"
   },
   {
    "duration": 10,
    "start_time": "2023-04-21T21:18:50.926Z"
   },
   {
    "duration": 33,
    "start_time": "2023-04-21T21:18:51.254Z"
   },
   {
    "duration": 3,
    "start_time": "2023-04-21T21:18:51.729Z"
   },
   {
    "duration": 8,
    "start_time": "2023-04-21T21:18:52.063Z"
   },
   {
    "duration": 4,
    "start_time": "2023-04-21T21:18:52.533Z"
   },
   {
    "duration": 8,
    "start_time": "2023-04-21T21:18:52.899Z"
   },
   {
    "duration": 4,
    "start_time": "2023-04-21T21:18:53.224Z"
   },
   {
    "duration": 31,
    "start_time": "2023-04-21T21:18:53.764Z"
   },
   {
    "duration": 9,
    "start_time": "2023-04-21T21:18:54.106Z"
   },
   {
    "duration": 4,
    "start_time": "2023-04-21T21:18:54.651Z"
   },
   {
    "duration": 10,
    "start_time": "2023-04-21T21:18:55.575Z"
   },
   {
    "duration": 19,
    "start_time": "2023-04-21T21:18:55.587Z"
   },
   {
    "duration": 19,
    "start_time": "2023-04-21T21:18:55.854Z"
   },
   {
    "duration": 4,
    "start_time": "2023-04-21T21:18:56.306Z"
   },
   {
    "duration": 9,
    "start_time": "2023-04-21T21:18:56.499Z"
   },
   {
    "duration": 7,
    "start_time": "2023-04-21T21:18:56.900Z"
   },
   {
    "duration": 3,
    "start_time": "2023-04-21T21:18:57.500Z"
   },
   {
    "duration": 9,
    "start_time": "2023-04-21T21:18:57.925Z"
   },
   {
    "duration": 1000,
    "start_time": "2023-04-21T21:18:58.834Z"
   },
   {
    "duration": 32,
    "start_time": "2023-04-21T21:18:59.835Z"
   },
   {
    "duration": 323,
    "start_time": "2023-04-21T21:19:02.718Z"
   },
   {
    "duration": 21,
    "start_time": "2023-04-21T21:19:03.199Z"
   },
   {
    "duration": 299,
    "start_time": "2023-04-21T21:19:05.815Z"
   },
   {
    "duration": 61,
    "start_time": "2023-04-21T21:19:06.231Z"
   },
   {
    "duration": 25,
    "start_time": "2023-04-21T21:19:15.005Z"
   },
   {
    "duration": 23,
    "start_time": "2023-04-21T21:19:20.717Z"
   },
   {
    "duration": 81,
    "start_time": "2023-04-21T21:19:25.942Z"
   },
   {
    "duration": 21,
    "start_time": "2023-04-21T21:19:28.978Z"
   },
   {
    "duration": 23,
    "start_time": "2023-04-21T21:21:24.903Z"
   },
   {
    "duration": 130,
    "start_time": "2023-04-21T21:23:15.028Z"
   },
   {
    "duration": 124,
    "start_time": "2023-04-21T21:23:47.380Z"
   },
   {
    "duration": 138,
    "start_time": "2023-04-21T21:23:58.829Z"
   },
   {
    "duration": 138,
    "start_time": "2023-04-21T21:24:14.461Z"
   },
   {
    "duration": 127,
    "start_time": "2023-04-21T21:24:34.339Z"
   },
   {
    "duration": 380,
    "start_time": "2023-04-21T21:25:20.003Z"
   },
   {
    "duration": 321,
    "start_time": "2023-04-21T21:25:43.620Z"
   },
   {
    "duration": 22,
    "start_time": "2023-04-21T21:25:46.690Z"
   },
   {
    "duration": 266,
    "start_time": "2023-04-21T21:25:51.390Z"
   },
   {
    "duration": 23,
    "start_time": "2023-04-21T21:25:52.947Z"
   },
   {
    "duration": 23,
    "start_time": "2023-04-21T21:25:57.511Z"
   },
   {
    "duration": 234,
    "start_time": "2023-04-21T21:26:02.777Z"
   },
   {
    "duration": 22,
    "start_time": "2023-04-21T21:26:03.857Z"
   },
   {
    "duration": 299,
    "start_time": "2023-04-21T21:26:08.693Z"
   },
   {
    "duration": 297,
    "start_time": "2023-04-21T21:26:25.363Z"
   },
   {
    "duration": 307,
    "start_time": "2023-04-21T21:26:32.499Z"
   },
   {
    "duration": 305,
    "start_time": "2023-04-21T21:26:42.960Z"
   },
   {
    "duration": 388,
    "start_time": "2023-04-21T21:27:41.014Z"
   },
   {
    "duration": 366,
    "start_time": "2023-04-21T21:28:07.252Z"
   },
   {
    "duration": 401,
    "start_time": "2023-04-21T21:28:39.246Z"
   },
   {
    "duration": 226,
    "start_time": "2023-04-21T21:32:10.631Z"
   },
   {
    "duration": 347,
    "start_time": "2023-04-21T21:32:28.217Z"
   },
   {
    "duration": 310,
    "start_time": "2023-04-21T21:35:03.973Z"
   },
   {
    "duration": 332,
    "start_time": "2023-04-21T21:35:26.091Z"
   },
   {
    "duration": 331,
    "start_time": "2023-04-21T21:35:51.602Z"
   },
   {
    "duration": 354,
    "start_time": "2023-04-21T21:36:00.403Z"
   },
   {
    "duration": 286,
    "start_time": "2023-04-21T21:36:07.569Z"
   },
   {
    "duration": 9,
    "start_time": "2023-04-21T21:39:03.283Z"
   },
   {
    "duration": 9,
    "start_time": "2023-04-21T21:39:12.129Z"
   },
   {
    "duration": 7,
    "start_time": "2023-04-21T21:39:24.658Z"
   },
   {
    "duration": 313,
    "start_time": "2023-04-21T21:45:34.344Z"
   },
   {
    "duration": 7,
    "start_time": "2023-04-21T21:48:15.103Z"
   },
   {
    "duration": 6,
    "start_time": "2023-04-21T21:48:38.408Z"
   },
   {
    "duration": 309,
    "start_time": "2023-04-21T21:51:16.155Z"
   },
   {
    "duration": 7,
    "start_time": "2023-04-21T21:51:17.010Z"
   },
   {
    "duration": 315,
    "start_time": "2023-04-21T21:56:19.935Z"
   },
   {
    "duration": 308,
    "start_time": "2023-04-21T21:57:14.658Z"
   },
   {
    "duration": 404,
    "start_time": "2023-04-21T21:57:32.958Z"
   },
   {
    "duration": 335,
    "start_time": "2023-04-21T21:57:53.340Z"
   },
   {
    "duration": 288,
    "start_time": "2023-04-21T21:59:56.589Z"
   },
   {
    "duration": 360,
    "start_time": "2023-04-21T22:00:14.728Z"
   },
   {
    "duration": 294,
    "start_time": "2023-04-21T22:00:25.464Z"
   },
   {
    "duration": 14,
    "start_time": "2023-04-21T22:38:12.526Z"
   },
   {
    "duration": 49,
    "start_time": "2023-04-21T22:43:16.797Z"
   },
   {
    "duration": 57,
    "start_time": "2023-04-21T22:44:07.985Z"
   },
   {
    "duration": 7,
    "start_time": "2023-04-21T22:44:50.553Z"
   },
   {
    "duration": 11,
    "start_time": "2023-04-21T22:48:05.923Z"
   },
   {
    "duration": 32,
    "start_time": "2023-04-21T22:48:06.395Z"
   },
   {
    "duration": 3,
    "start_time": "2023-04-21T22:48:07.540Z"
   },
   {
    "duration": 8,
    "start_time": "2023-04-21T22:48:08.171Z"
   },
   {
    "duration": 4,
    "start_time": "2023-04-21T22:48:09.661Z"
   },
   {
    "duration": 7,
    "start_time": "2023-04-21T22:48:10.555Z"
   },
   {
    "duration": 4,
    "start_time": "2023-04-21T22:48:11.439Z"
   },
   {
    "duration": 30,
    "start_time": "2023-04-21T22:48:12.748Z"
   },
   {
    "duration": 10,
    "start_time": "2023-04-21T22:48:13.778Z"
   },
   {
    "duration": 80,
    "start_time": "2023-04-21T23:00:09.599Z"
   },
   {
    "duration": 3,
    "start_time": "2023-04-21T23:03:41.389Z"
   },
   {
    "duration": 11,
    "start_time": "2023-04-21T23:03:41.553Z"
   },
   {
    "duration": 5,
    "start_time": "2023-04-21T23:03:42.421Z"
   },
   {
    "duration": 3,
    "start_time": "2023-04-21T23:03:43.191Z"
   },
   {
    "duration": 8,
    "start_time": "2023-04-21T23:03:44.090Z"
   },
   {
    "duration": 262,
    "start_time": "2023-04-21T23:05:03.034Z"
   },
   {
    "duration": 18,
    "start_time": "2023-04-21T23:05:03.305Z"
   },
   {
    "duration": 305,
    "start_time": "2023-04-21T23:05:04.529Z"
   },
   {
    "duration": 26,
    "start_time": "2023-04-21T23:05:04.921Z"
   },
   {
    "duration": 255,
    "start_time": "2023-04-21T23:05:06.170Z"
   },
   {
    "duration": 36,
    "start_time": "2023-04-21T23:05:06.427Z"
   },
   {
    "duration": 285,
    "start_time": "2023-04-21T23:05:08.047Z"
   },
   {
    "duration": 28,
    "start_time": "2023-04-21T23:05:08.334Z"
   },
   {
    "duration": 316,
    "start_time": "2023-04-21T23:05:09.341Z"
   },
   {
    "duration": 284,
    "start_time": "2023-04-21T23:05:09.883Z"
   },
   {
    "duration": 435,
    "start_time": "2023-04-21T23:05:13.396Z"
   },
   {
    "duration": 438,
    "start_time": "2023-04-21T23:07:45.472Z"
   },
   {
    "duration": 20,
    "start_time": "2023-04-21T23:07:47.815Z"
   },
   {
    "duration": 15,
    "start_time": "2023-04-21T23:07:49.259Z"
   },
   {
    "duration": 10,
    "start_time": "2023-04-21T23:07:51.031Z"
   },
   {
    "duration": 34,
    "start_time": "2023-04-21T23:07:52.041Z"
   },
   {
    "duration": 3,
    "start_time": "2023-04-21T23:07:53.368Z"
   },
   {
    "duration": 8,
    "start_time": "2023-04-21T23:07:54.132Z"
   },
   {
    "duration": 4,
    "start_time": "2023-04-21T23:07:55.063Z"
   },
   {
    "duration": 7,
    "start_time": "2023-04-21T23:07:55.707Z"
   },
   {
    "duration": 3,
    "start_time": "2023-04-21T23:07:56.393Z"
   },
   {
    "duration": 28,
    "start_time": "2023-04-21T23:07:57.222Z"
   },
   {
    "duration": 9,
    "start_time": "2023-04-21T23:07:57.869Z"
   },
   {
    "duration": 4,
    "start_time": "2023-04-21T23:07:58.748Z"
   },
   {
    "duration": 10,
    "start_time": "2023-04-21T23:07:59.605Z"
   },
   {
    "duration": 18,
    "start_time": "2023-04-21T23:08:00.253Z"
   },
   {
    "duration": 19,
    "start_time": "2023-04-21T23:08:00.645Z"
   },
   {
    "duration": 4,
    "start_time": "2023-04-21T23:08:01.670Z"
   },
   {
    "duration": 9,
    "start_time": "2023-04-21T23:08:01.874Z"
   },
   {
    "duration": 5,
    "start_time": "2023-04-21T23:08:02.457Z"
   },
   {
    "duration": 3,
    "start_time": "2023-04-21T23:08:02.885Z"
   },
   {
    "duration": 8,
    "start_time": "2023-04-21T23:08:03.270Z"
   },
   {
    "duration": 1147,
    "start_time": "2023-04-21T23:08:04.288Z"
   },
   {
    "duration": 35,
    "start_time": "2023-04-21T23:08:05.437Z"
   },
   {
    "duration": 292,
    "start_time": "2023-04-21T23:08:05.988Z"
   },
   {
    "duration": 27,
    "start_time": "2023-04-21T23:08:06.351Z"
   },
   {
    "duration": 266,
    "start_time": "2023-04-21T23:08:08.290Z"
   },
   {
    "duration": 21,
    "start_time": "2023-04-21T23:08:08.703Z"
   },
   {
    "duration": 268,
    "start_time": "2023-04-21T23:08:11.462Z"
   },
   {
    "duration": 22,
    "start_time": "2023-04-21T23:08:11.775Z"
   },
   {
    "duration": 326,
    "start_time": "2023-04-21T23:08:12.969Z"
   },
   {
    "duration": 323,
    "start_time": "2023-04-21T23:08:14.013Z"
   },
   {
    "duration": 315,
    "start_time": "2023-04-21T23:08:18.456Z"
   },
   {
    "duration": 503,
    "start_time": "2023-04-22T07:19:36.565Z"
   },
   {
    "duration": 22,
    "start_time": "2023-04-22T07:19:37.070Z"
   },
   {
    "duration": 22,
    "start_time": "2023-04-22T07:19:37.093Z"
   },
   {
    "duration": 10,
    "start_time": "2023-04-22T07:19:37.116Z"
   },
   {
    "duration": 39,
    "start_time": "2023-04-22T07:19:37.128Z"
   },
   {
    "duration": 16,
    "start_time": "2023-04-22T07:19:37.169Z"
   },
   {
    "duration": 9,
    "start_time": "2023-04-22T07:19:37.187Z"
   },
   {
    "duration": 5,
    "start_time": "2023-04-22T07:19:37.197Z"
   },
   {
    "duration": 8,
    "start_time": "2023-04-22T07:19:37.204Z"
   },
   {
    "duration": 7,
    "start_time": "2023-04-22T07:19:37.214Z"
   },
   {
    "duration": 72,
    "start_time": "2023-04-22T07:19:37.223Z"
   },
   {
    "duration": 10,
    "start_time": "2023-04-22T07:19:37.296Z"
   },
   {
    "duration": 4,
    "start_time": "2023-04-22T07:19:37.307Z"
   },
   {
    "duration": 15,
    "start_time": "2023-04-22T07:19:37.313Z"
   },
   {
    "duration": 36,
    "start_time": "2023-04-22T07:19:37.330Z"
   },
   {
    "duration": 18,
    "start_time": "2023-04-22T07:19:37.368Z"
   },
   {
    "duration": 4,
    "start_time": "2023-04-22T07:19:37.388Z"
   },
   {
    "duration": 14,
    "start_time": "2023-04-22T07:19:37.393Z"
   },
   {
    "duration": 8,
    "start_time": "2023-04-22T07:19:37.409Z"
   },
   {
    "duration": 14,
    "start_time": "2023-04-22T07:19:37.419Z"
   },
   {
    "duration": 15,
    "start_time": "2023-04-22T07:19:37.435Z"
   },
   {
    "duration": 1845,
    "start_time": "2023-04-22T07:19:37.452Z"
   },
   {
    "duration": 31,
    "start_time": "2023-04-22T07:19:39.300Z"
   },
   {
    "duration": 427,
    "start_time": "2023-04-22T07:19:39.385Z"
   },
   {
    "duration": 76,
    "start_time": "2023-04-22T07:19:39.813Z"
   },
   {
    "duration": 450,
    "start_time": "2023-04-22T07:19:39.890Z"
   },
   {
    "duration": 26,
    "start_time": "2023-04-22T07:19:40.341Z"
   },
   {
    "duration": 336,
    "start_time": "2023-04-22T07:19:40.368Z"
   },
   {
    "duration": 23,
    "start_time": "2023-04-22T07:19:40.706Z"
   },
   {
    "duration": 382,
    "start_time": "2023-04-22T07:19:40.731Z"
   },
   {
    "duration": 378,
    "start_time": "2023-04-22T07:19:41.115Z"
   },
   {
    "duration": 370,
    "start_time": "2023-04-22T07:19:41.495Z"
   },
   {
    "duration": 419,
    "start_time": "2023-04-22T07:35:40.568Z"
   },
   {
    "duration": 462,
    "start_time": "2023-04-22T07:35:49.412Z"
   },
   {
    "duration": 22,
    "start_time": "2023-04-22T07:35:49.876Z"
   },
   {
    "duration": 16,
    "start_time": "2023-04-22T07:35:49.900Z"
   },
   {
    "duration": 10,
    "start_time": "2023-04-22T07:35:49.918Z"
   },
   {
    "duration": 36,
    "start_time": "2023-04-22T07:35:49.929Z"
   },
   {
    "duration": 19,
    "start_time": "2023-04-22T07:35:49.966Z"
   },
   {
    "duration": 8,
    "start_time": "2023-04-22T07:35:49.987Z"
   },
   {
    "duration": 11,
    "start_time": "2023-04-22T07:35:49.996Z"
   },
   {
    "duration": 10,
    "start_time": "2023-04-22T07:35:50.009Z"
   },
   {
    "duration": 14,
    "start_time": "2023-04-22T07:35:50.020Z"
   },
   {
    "duration": 51,
    "start_time": "2023-04-22T07:35:50.035Z"
   },
   {
    "duration": 10,
    "start_time": "2023-04-22T07:35:50.088Z"
   },
   {
    "duration": 4,
    "start_time": "2023-04-22T07:35:50.100Z"
   },
   {
    "duration": 35,
    "start_time": "2023-04-22T07:35:50.106Z"
   },
   {
    "duration": 22,
    "start_time": "2023-04-22T07:35:50.143Z"
   },
   {
    "duration": 20,
    "start_time": "2023-04-22T07:35:50.167Z"
   },
   {
    "duration": 5,
    "start_time": "2023-04-22T07:35:50.189Z"
   },
   {
    "duration": 17,
    "start_time": "2023-04-22T07:35:50.195Z"
   },
   {
    "duration": 8,
    "start_time": "2023-04-22T07:35:50.213Z"
   },
   {
    "duration": 9,
    "start_time": "2023-04-22T07:35:50.223Z"
   },
   {
    "duration": 20,
    "start_time": "2023-04-22T07:35:50.233Z"
   },
   {
    "duration": 1263,
    "start_time": "2023-04-22T07:35:50.254Z"
   },
   {
    "duration": 76,
    "start_time": "2023-04-22T07:35:51.519Z"
   },
   {
    "duration": 491,
    "start_time": "2023-04-22T07:35:51.596Z"
   },
   {
    "duration": 23,
    "start_time": "2023-04-22T07:35:52.089Z"
   },
   {
    "duration": 401,
    "start_time": "2023-04-22T07:35:52.113Z"
   },
   {
    "duration": 77,
    "start_time": "2023-04-22T07:35:52.516Z"
   },
   {
    "duration": 510,
    "start_time": "2023-04-22T07:35:52.595Z"
   },
   {
    "duration": 81,
    "start_time": "2023-04-22T07:35:53.106Z"
   },
   {
    "duration": 404,
    "start_time": "2023-04-22T07:35:53.189Z"
   },
   {
    "duration": 318,
    "start_time": "2023-04-22T07:35:53.594Z"
   },
   {
    "duration": 394,
    "start_time": "2023-04-22T07:35:53.913Z"
   },
   {
    "duration": 53,
    "start_time": "2023-04-22T12:22:53.763Z"
   },
   {
    "duration": 789,
    "start_time": "2023-04-22T12:23:00.945Z"
   },
   {
    "duration": 25,
    "start_time": "2023-04-22T12:23:01.736Z"
   },
   {
    "duration": 24,
    "start_time": "2023-04-22T12:23:01.955Z"
   },
   {
    "duration": 16,
    "start_time": "2023-04-22T12:23:02.873Z"
   },
   {
    "duration": 53,
    "start_time": "2023-04-22T12:23:03.374Z"
   },
   {
    "duration": 3,
    "start_time": "2023-04-22T12:23:04.112Z"
   },
   {
    "duration": 8,
    "start_time": "2023-04-22T12:23:04.699Z"
   },
   {
    "duration": 4,
    "start_time": "2023-04-22T12:23:05.290Z"
   },
   {
    "duration": 7,
    "start_time": "2023-04-22T12:23:05.690Z"
   },
   {
    "duration": 13,
    "start_time": "2023-04-22T12:23:05.699Z"
   },
   {
    "duration": 37,
    "start_time": "2023-04-22T12:23:06.265Z"
   },
   {
    "duration": 11,
    "start_time": "2023-04-22T12:23:06.380Z"
   },
   {
    "duration": 6,
    "start_time": "2023-04-22T12:23:06.529Z"
   },
   {
    "duration": 13,
    "start_time": "2023-04-22T12:23:06.651Z"
   },
   {
    "duration": 23,
    "start_time": "2023-04-22T12:23:06.747Z"
   },
   {
    "duration": 23,
    "start_time": "2023-04-22T12:23:07.303Z"
   },
   {
    "duration": 4,
    "start_time": "2023-04-22T12:23:08.734Z"
   },
   {
    "duration": 10,
    "start_time": "2023-04-22T12:23:08.936Z"
   },
   {
    "duration": 6,
    "start_time": "2023-04-22T12:23:09.692Z"
   },
   {
    "duration": 3,
    "start_time": "2023-04-22T12:23:10.060Z"
   },
   {
    "duration": 9,
    "start_time": "2023-04-22T12:23:10.580Z"
   },
   {
    "duration": 1439,
    "start_time": "2023-04-22T12:23:11.804Z"
   },
   {
    "duration": 24,
    "start_time": "2023-04-22T12:23:13.245Z"
   },
   {
    "duration": 1382,
    "start_time": "2023-04-22T12:23:16.333Z"
   },
   {
    "duration": 14,
    "start_time": "2023-04-22T12:23:28.604Z"
   },
   {
    "duration": 23,
    "start_time": "2023-04-22T12:23:51.594Z"
   },
   {
    "duration": 17,
    "start_time": "2023-04-22T12:23:57.535Z"
   },
   {
    "duration": 316,
    "start_time": "2023-04-22T12:29:30.928Z"
   },
   {
    "duration": 28,
    "start_time": "2023-04-22T12:29:31.308Z"
   },
   {
    "duration": 296,
    "start_time": "2023-04-22T12:29:35.561Z"
   },
   {
    "duration": 27,
    "start_time": "2023-04-22T12:29:37.547Z"
   },
   {
    "duration": 1459,
    "start_time": "2023-04-22T12:32:09.007Z"
   },
   {
    "duration": 8,
    "start_time": "2023-04-22T12:34:45.897Z"
   },
   {
    "duration": 37,
    "start_time": "2023-04-22T12:35:32.640Z"
   },
   {
    "duration": 39,
    "start_time": "2023-04-22T12:38:12.710Z"
   },
   {
    "duration": 9,
    "start_time": "2023-04-22T13:23:09.036Z"
   },
   {
    "duration": 47,
    "start_time": "2023-04-22T13:23:19.110Z"
   },
   {
    "duration": 7,
    "start_time": "2023-04-22T13:23:33.655Z"
   },
   {
    "duration": 13,
    "start_time": "2023-04-22T13:23:38.551Z"
   },
   {
    "duration": 12,
    "start_time": "2023-04-22T13:23:54.395Z"
   },
   {
    "duration": 12,
    "start_time": "2023-04-22T13:25:05.060Z"
   },
   {
    "duration": 4,
    "start_time": "2023-04-22T13:32:20.779Z"
   },
   {
    "duration": 10,
    "start_time": "2023-04-22T13:32:21.406Z"
   },
   {
    "duration": 5,
    "start_time": "2023-04-22T13:33:06.701Z"
   },
   {
    "duration": 3,
    "start_time": "2023-04-22T13:33:36.474Z"
   },
   {
    "duration": 10,
    "start_time": "2023-04-22T13:33:54.258Z"
   },
   {
    "duration": 15,
    "start_time": "2023-04-22T13:34:42.080Z"
   },
   {
    "duration": 4,
    "start_time": "2023-04-22T13:35:22.311Z"
   },
   {
    "duration": 23,
    "start_time": "2023-04-22T13:35:23.257Z"
   },
   {
    "duration": 4,
    "start_time": "2023-04-22T13:35:35.573Z"
   },
   {
    "duration": 14,
    "start_time": "2023-04-22T13:35:37.382Z"
   },
   {
    "duration": 4,
    "start_time": "2023-04-22T13:36:02.973Z"
   },
   {
    "duration": 23,
    "start_time": "2023-04-22T13:36:04.394Z"
   },
   {
    "duration": 5,
    "start_time": "2023-04-22T13:36:11.935Z"
   },
   {
    "duration": 14,
    "start_time": "2023-04-22T13:36:13.567Z"
   },
   {
    "duration": 3,
    "start_time": "2023-04-22T13:36:32.984Z"
   },
   {
    "duration": 14,
    "start_time": "2023-04-22T13:36:34.450Z"
   },
   {
    "duration": 4,
    "start_time": "2023-04-22T13:36:54.632Z"
   },
   {
    "duration": 19,
    "start_time": "2023-04-22T13:36:56.116Z"
   },
   {
    "duration": 23,
    "start_time": "2023-04-22T13:40:45.348Z"
   },
   {
    "duration": 25,
    "start_time": "2023-04-22T13:40:53.445Z"
   },
   {
    "duration": 4,
    "start_time": "2023-04-22T13:56:25.391Z"
   },
   {
    "duration": 18,
    "start_time": "2023-04-22T13:56:26.709Z"
   },
   {
    "duration": 27,
    "start_time": "2023-04-22T13:56:27.155Z"
   },
   {
    "duration": 90,
    "start_time": "2023-04-22T13:56:30.206Z"
   },
   {
    "duration": 31,
    "start_time": "2023-04-22T13:56:30.298Z"
   },
   {
    "duration": 90,
    "start_time": "2023-04-22T13:56:30.332Z"
   },
   {
    "duration": 41,
    "start_time": "2023-04-22T13:56:30.427Z"
   },
   {
    "duration": 95,
    "start_time": "2023-04-22T13:56:30.470Z"
   },
   {
    "duration": 14,
    "start_time": "2023-04-22T13:56:30.567Z"
   },
   {
    "duration": 41,
    "start_time": "2023-04-22T13:56:30.583Z"
   },
   {
    "duration": 48,
    "start_time": "2023-04-22T13:56:30.631Z"
   },
   {
    "duration": 34,
    "start_time": "2023-04-22T13:56:30.680Z"
   },
   {
    "duration": 52,
    "start_time": "2023-04-22T13:56:30.716Z"
   },
   {
    "duration": 94,
    "start_time": "2023-04-22T13:56:30.770Z"
   },
   {
    "duration": 35,
    "start_time": "2023-04-22T13:56:30.866Z"
   },
   {
    "duration": 57,
    "start_time": "2023-04-22T13:56:30.903Z"
   },
   {
    "duration": 63,
    "start_time": "2023-04-22T13:56:30.965Z"
   },
   {
    "duration": 48,
    "start_time": "2023-04-22T13:56:31.031Z"
   },
   {
    "duration": 42,
    "start_time": "2023-04-22T13:56:31.081Z"
   },
   {
    "duration": 15,
    "start_time": "2023-04-22T13:56:31.125Z"
   },
   {
    "duration": 27,
    "start_time": "2023-04-22T13:56:31.142Z"
   },
   {
    "duration": 23,
    "start_time": "2023-04-22T13:56:31.173Z"
   },
   {
    "duration": 52,
    "start_time": "2023-04-22T13:56:31.199Z"
   },
   {
    "duration": 50,
    "start_time": "2023-04-22T13:56:31.253Z"
   },
   {
    "duration": 298,
    "start_time": "2023-04-22T13:56:31.305Z"
   },
   {
    "duration": 38,
    "start_time": "2023-04-22T13:56:31.605Z"
   },
   {
    "duration": 41,
    "start_time": "2023-04-22T13:56:31.645Z"
   },
   {
    "duration": 365,
    "start_time": "2023-04-22T13:56:31.688Z"
   },
   {
    "duration": 24,
    "start_time": "2023-04-22T13:56:32.055Z"
   },
   {
    "duration": 306,
    "start_time": "2023-04-22T13:56:32.081Z"
   },
   {
    "duration": 42,
    "start_time": "2023-04-22T13:56:32.388Z"
   },
   {
    "duration": 20,
    "start_time": "2023-04-22T13:56:32.431Z"
   },
   {
    "duration": 21,
    "start_time": "2023-04-22T13:56:32.453Z"
   },
   {
    "duration": 35,
    "start_time": "2023-04-22T13:56:32.476Z"
   },
   {
    "duration": 57,
    "start_time": "2023-04-22T13:56:32.513Z"
   },
   {
    "duration": 366,
    "start_time": "2023-04-22T13:56:32.572Z"
   },
   {
    "duration": 32,
    "start_time": "2023-04-22T13:56:32.940Z"
   },
   {
    "duration": 371,
    "start_time": "2023-04-22T13:56:32.975Z"
   },
   {
    "duration": 324,
    "start_time": "2023-04-22T13:56:33.347Z"
   },
   {
    "duration": 402,
    "start_time": "2023-04-22T13:56:33.672Z"
   },
   {
    "duration": 12,
    "start_time": "2023-04-22T14:00:50.957Z"
   },
   {
    "duration": 8,
    "start_time": "2023-04-22T14:00:52.414Z"
   },
   {
    "duration": 612,
    "start_time": "2023-04-22T14:08:00.387Z"
   },
   {
    "duration": 40,
    "start_time": "2023-04-22T14:08:01.005Z"
   },
   {
    "duration": 63,
    "start_time": "2023-04-22T14:08:01.051Z"
   },
   {
    "duration": 49,
    "start_time": "2023-04-22T14:08:01.117Z"
   },
   {
    "duration": 73,
    "start_time": "2023-04-22T14:08:01.168Z"
   },
   {
    "duration": 50,
    "start_time": "2023-04-22T14:08:01.243Z"
   },
   {
    "duration": 67,
    "start_time": "2023-04-22T14:08:01.295Z"
   },
   {
    "duration": 50,
    "start_time": "2023-04-22T14:08:01.363Z"
   },
   {
    "duration": 67,
    "start_time": "2023-04-22T14:08:01.414Z"
   },
   {
    "duration": 73,
    "start_time": "2023-04-22T14:08:01.484Z"
   },
   {
    "duration": 92,
    "start_time": "2023-04-22T14:08:01.559Z"
   },
   {
    "duration": 16,
    "start_time": "2023-04-22T14:08:01.654Z"
   },
   {
    "duration": 33,
    "start_time": "2023-04-22T14:08:01.671Z"
   },
   {
    "duration": 76,
    "start_time": "2023-04-22T14:08:01.705Z"
   },
   {
    "duration": 84,
    "start_time": "2023-04-22T14:08:01.783Z"
   },
   {
    "duration": 63,
    "start_time": "2023-04-22T14:08:01.869Z"
   },
   {
    "duration": 60,
    "start_time": "2023-04-22T14:08:01.935Z"
   },
   {
    "duration": 66,
    "start_time": "2023-04-22T14:08:01.997Z"
   },
   {
    "duration": 31,
    "start_time": "2023-04-22T14:08:02.065Z"
   },
   {
    "duration": 15,
    "start_time": "2023-04-22T14:08:02.097Z"
   },
   {
    "duration": 43,
    "start_time": "2023-04-22T14:08:02.114Z"
   },
   {
    "duration": 1271,
    "start_time": "2023-04-22T14:08:02.160Z"
   },
   {
    "duration": 25,
    "start_time": "2023-04-22T14:08:03.433Z"
   },
   {
    "duration": 31,
    "start_time": "2023-04-22T14:08:03.460Z"
   },
   {
    "duration": 380,
    "start_time": "2023-04-22T14:08:03.492Z"
   },
   {
    "duration": 42,
    "start_time": "2023-04-22T14:08:03.875Z"
   },
   {
    "duration": 289,
    "start_time": "2023-04-22T14:08:03.919Z"
   },
   {
    "duration": 38,
    "start_time": "2023-04-22T14:08:04.219Z"
   },
   {
    "duration": 108,
    "start_time": "2023-04-22T14:08:04.259Z"
   },
   {
    "duration": 4,
    "start_time": "2023-04-22T14:08:04.369Z"
   },
   {
    "duration": 91,
    "start_time": "2023-04-22T14:08:04.375Z"
   },
   {
    "duration": 57,
    "start_time": "2023-04-22T14:08:04.469Z"
   },
   {
    "duration": 402,
    "start_time": "2023-04-22T14:08:04.528Z"
   },
   {
    "duration": 43,
    "start_time": "2023-04-22T14:08:04.933Z"
   },
   {
    "duration": 416,
    "start_time": "2023-04-22T14:08:04.979Z"
   },
   {
    "duration": 373,
    "start_time": "2023-04-22T14:08:05.397Z"
   },
   {
    "duration": 394,
    "start_time": "2023-04-22T14:08:05.771Z"
   },
   {
    "duration": 26,
    "start_time": "2023-04-22T14:10:41.046Z"
   },
   {
    "duration": 522,
    "start_time": "2023-04-22T14:11:27.165Z"
   },
   {
    "duration": 24,
    "start_time": "2023-04-22T14:11:27.690Z"
   },
   {
    "duration": 33,
    "start_time": "2023-04-22T14:11:27.716Z"
   },
   {
    "duration": 15,
    "start_time": "2023-04-22T14:11:27.751Z"
   },
   {
    "duration": 76,
    "start_time": "2023-04-22T14:11:27.769Z"
   },
   {
    "duration": 4,
    "start_time": "2023-04-22T14:11:27.847Z"
   },
   {
    "duration": 45,
    "start_time": "2023-04-22T14:11:27.853Z"
   },
   {
    "duration": 10,
    "start_time": "2023-04-22T14:11:27.900Z"
   },
   {
    "duration": 43,
    "start_time": "2023-04-22T14:11:27.913Z"
   },
   {
    "duration": 31,
    "start_time": "2023-04-22T14:11:27.958Z"
   },
   {
    "duration": 75,
    "start_time": "2023-04-22T14:11:27.992Z"
   },
   {
    "duration": 12,
    "start_time": "2023-04-22T14:11:28.069Z"
   },
   {
    "duration": 77,
    "start_time": "2023-04-22T14:11:28.082Z"
   },
   {
    "duration": 40,
    "start_time": "2023-04-22T14:11:28.167Z"
   },
   {
    "duration": 62,
    "start_time": "2023-04-22T14:11:28.209Z"
   },
   {
    "duration": 28,
    "start_time": "2023-04-22T14:11:28.273Z"
   },
   {
    "duration": 6,
    "start_time": "2023-04-22T14:11:28.303Z"
   },
   {
    "duration": 37,
    "start_time": "2023-04-22T14:11:28.311Z"
   },
   {
    "duration": 26,
    "start_time": "2023-04-22T14:11:28.350Z"
   },
   {
    "duration": 18,
    "start_time": "2023-04-22T14:11:28.378Z"
   },
   {
    "duration": 24,
    "start_time": "2023-04-22T14:11:28.398Z"
   },
   {
    "duration": 1091,
    "start_time": "2023-04-22T14:11:28.423Z"
   },
   {
    "duration": 28,
    "start_time": "2023-04-22T14:11:29.523Z"
   },
   {
    "duration": 37,
    "start_time": "2023-04-22T14:11:29.553Z"
   },
   {
    "duration": 348,
    "start_time": "2023-04-22T14:11:29.592Z"
   },
   {
    "duration": 25,
    "start_time": "2023-04-22T14:11:29.942Z"
   },
   {
    "duration": 333,
    "start_time": "2023-04-22T14:11:29.969Z"
   },
   {
    "duration": 48,
    "start_time": "2023-04-22T14:11:30.304Z"
   },
   {
    "duration": 128,
    "start_time": "2023-04-22T14:11:30.354Z"
   },
   {
    "duration": 126,
    "start_time": "2023-04-22T14:11:30.484Z"
   },
   {
    "duration": 102,
    "start_time": "2023-04-22T14:11:30.612Z"
   },
   {
    "duration": 86,
    "start_time": "2023-04-22T14:11:30.721Z"
   },
   {
    "duration": 432,
    "start_time": "2023-04-22T14:11:30.809Z"
   },
   {
    "duration": 25,
    "start_time": "2023-04-22T14:11:31.243Z"
   },
   {
    "duration": 430,
    "start_time": "2023-04-22T14:11:31.271Z"
   },
   {
    "duration": 387,
    "start_time": "2023-04-22T14:11:31.703Z"
   },
   {
    "duration": 401,
    "start_time": "2023-04-22T14:11:32.092Z"
   },
   {
    "duration": 563,
    "start_time": "2023-04-22T19:00:05.314Z"
   },
   {
    "duration": 32,
    "start_time": "2023-04-22T19:00:05.880Z"
   },
   {
    "duration": 34,
    "start_time": "2023-04-22T19:00:05.915Z"
   },
   {
    "duration": 41,
    "start_time": "2023-04-22T19:00:05.956Z"
   },
   {
    "duration": 85,
    "start_time": "2023-04-22T19:00:05.999Z"
   },
   {
    "duration": 5,
    "start_time": "2023-04-22T19:00:06.086Z"
   },
   {
    "duration": 21,
    "start_time": "2023-04-22T19:00:06.093Z"
   },
   {
    "duration": 55,
    "start_time": "2023-04-22T19:00:06.116Z"
   },
   {
    "duration": 35,
    "start_time": "2023-04-22T19:00:06.174Z"
   },
   {
    "duration": 10,
    "start_time": "2023-04-22T19:00:06.214Z"
   },
   {
    "duration": 71,
    "start_time": "2023-04-22T19:00:06.226Z"
   },
   {
    "duration": 15,
    "start_time": "2023-04-22T19:00:06.299Z"
   },
   {
    "duration": 6,
    "start_time": "2023-04-22T19:00:06.317Z"
   },
   {
    "duration": 32,
    "start_time": "2023-04-22T19:00:06.324Z"
   },
   {
    "duration": 29,
    "start_time": "2023-04-22T19:00:06.359Z"
   },
   {
    "duration": 20,
    "start_time": "2023-04-22T19:00:06.390Z"
   },
   {
    "duration": 4,
    "start_time": "2023-04-22T19:00:06.412Z"
   },
   {
    "duration": 45,
    "start_time": "2023-04-22T19:00:06.418Z"
   },
   {
    "duration": 40,
    "start_time": "2023-04-22T19:00:06.465Z"
   },
   {
    "duration": 5,
    "start_time": "2023-04-22T19:00:06.508Z"
   },
   {
    "duration": 19,
    "start_time": "2023-04-22T19:00:06.515Z"
   },
   {
    "duration": 2607,
    "start_time": "2023-04-22T19:00:06.536Z"
   },
   {
    "duration": 29,
    "start_time": "2023-04-22T19:00:09.145Z"
   },
   {
    "duration": 85,
    "start_time": "2023-04-22T19:00:09.176Z"
   },
   {
    "duration": 383,
    "start_time": "2023-04-22T19:00:09.263Z"
   },
   {
    "duration": 29,
    "start_time": "2023-04-22T19:00:09.659Z"
   },
   {
    "duration": 321,
    "start_time": "2023-04-22T19:00:09.690Z"
   },
   {
    "duration": 46,
    "start_time": "2023-04-22T19:00:10.016Z"
   },
   {
    "duration": 49,
    "start_time": "2023-04-22T19:00:10.064Z"
   },
   {
    "duration": 5,
    "start_time": "2023-04-22T19:00:10.115Z"
   },
   {
    "duration": 70,
    "start_time": "2023-04-22T19:00:10.123Z"
   },
   {
    "duration": 53,
    "start_time": "2023-04-22T19:00:10.195Z"
   },
   {
    "duration": 311,
    "start_time": "2023-04-22T19:00:10.250Z"
   },
   {
    "duration": 26,
    "start_time": "2023-04-22T19:00:10.563Z"
   },
   {
    "duration": 421,
    "start_time": "2023-04-22T19:00:10.590Z"
   },
   {
    "duration": 383,
    "start_time": "2023-04-22T19:00:11.014Z"
   },
   {
    "duration": 415,
    "start_time": "2023-04-22T19:00:11.400Z"
   },
   {
    "duration": 44,
    "start_time": "2023-05-08T19:50:56.785Z"
   },
   {
    "duration": 698,
    "start_time": "2023-05-08T19:51:07.435Z"
   },
   {
    "duration": 25,
    "start_time": "2023-05-08T19:51:08.136Z"
   },
   {
    "duration": 15,
    "start_time": "2023-05-08T19:51:08.162Z"
   },
   {
    "duration": 10,
    "start_time": "2023-05-08T19:51:08.180Z"
   },
   {
    "duration": 55,
    "start_time": "2023-05-08T19:51:08.191Z"
   },
   {
    "duration": 39,
    "start_time": "2023-05-08T19:51:13.252Z"
   },
   {
    "duration": 14,
    "start_time": "2023-05-08T19:51:14.158Z"
   }
  ],
  "colab": {
   "name": "dpp_template_part2.ipynb",
   "provenance": []
  },
  "kernelspec": {
   "display_name": "Python 3 (ipykernel)",
   "language": "python",
   "name": "python3"
  },
  "language_info": {
   "codemirror_mode": {
    "name": "ipython",
    "version": 3
   },
   "file_extension": ".py",
   "mimetype": "text/x-python",
   "name": "python",
   "nbconvert_exporter": "python",
   "pygments_lexer": "ipython3",
   "version": "3.9.5"
  },
  "toc": {
   "base_numbering": 1,
   "nav_menu": {},
   "number_sections": true,
   "sideBar": true,
   "skip_h1_title": true,
   "title_cell": "Table of Contents",
   "title_sidebar": "Contents",
   "toc_cell": false,
   "toc_position": {
    "height": "calc(100% - 180px)",
    "left": "10px",
    "top": "150px",
    "width": "165px"
   },
   "toc_section_display": true,
   "toc_window_display": false
  }
 },
 "nbformat": 4,
 "nbformat_minor": 5
}
