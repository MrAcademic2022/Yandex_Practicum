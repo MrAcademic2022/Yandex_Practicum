{
 "cells": [
  {
   "cell_type": "markdown",
   "id": "22cea672",
   "metadata": {},
   "source": [
    "# Описание проекта\n",
    "Вы аналитик популярного сервиса аренды самокатов GoFast. Вам передали данные о некоторых пользователях из нескольких городов, а также об их поездках. Проанализируйте данные и проверьте некоторые гипотезы, которые могут помочь бизнесу вырасти."
   ]
  },
  {
   "cell_type": "markdown",
   "id": "591986cd",
   "metadata": {},
   "source": [
    "Чтобы совершать поездки по городу, пользователи сервиса GoFast пользуются мобильным приложением. Сервисом можно пользоваться:\n",
    "- без подписки\n",
    "    - абонентская плата отсутствует;\n",
    "    - стоимость одной минуты поездки — 8 рублей;\n",
    "    - стоимость старта (начала поездки) — 50 рублей;\n",
    "- с подпиской Ultra\n",
    "    - абонентская плата — 199 рублей в месяц;\n",
    "    - стоимость одной минуты поездки — 6 рублей;\n",
    "    - стоимость старта — бесплатно."
   ]
  },
  {
   "cell_type": "markdown",
   "id": "463b2de5",
   "metadata": {},
   "source": [
    "# Цель исследования\n",
    "\n",
    "1. Определить, какая доля пользователей пользуется подпиской\n",
    "2. Выяснить, насколько больше люди с подпиской пользуются сервисом и как это отражается на износе техники\n",
    "3. Рассчитать помесячную выручку от пользователей с подпиской и без и выяснить, кто приносит больше денег"
   ]
  },
  {
   "cell_type": "markdown",
   "id": "94206738",
   "metadata": {},
   "source": [
    "# Ход работы\n",
    "Нам даны три датасета: `users_go.csv`, `rides_go.csv` и `subscriptions_go.csv`, содержащих данные о пользователях, их поездках и подписках соответственно. О качестве данных ничего неизвестно, поэтому сначала мы проверим наличие в них пропусков, дубликатов. \n",
    "\n",
    "Проверив данные на эти аномалии, постараемся исправить их, выяснить влияние ошибок и исправлений на результаты.\n",
    "\n",
    "Далее приступим  к исследовательскому анализу данных. Для анализа также будет необходимо объединить эти три датафрейма в один, а после этого сделать необходимые срезы уже из объединенного датафрейма. \n",
    "\n",
    "Итого, в нашем исследовании можно выделить следующие шаги:\n",
    "- загрузка и обзор данных\n",
    "- предобработка данных\n",
    "- расчеты и добавление необходимых элементов к исходным датасетам\n",
    "- объединение данных\n",
    "- получение необходимых срезов и расчеты по ним\n",
    "- анализ статистических гипотез и формулировка выводов\n",
    "- формовка общего вывода и предложений по улучшению сервиса"
   ]
  },
  {
   "cell_type": "markdown",
   "id": "cf56f12a",
   "metadata": {},
   "source": [
    "# Описание данных\n",
    "В основных данных есть информация о пользователях, их поездках и подписках.\n",
    "\n",
    "**Пользователи** — **`users_go.csv`**\n",
    "\n",
    "- **`user_id`**\tуникальный идентификатор пользователя\n",
    "- **`name`**\tимя пользователя\n",
    "- **`age`**\tвозраст\n",
    "- **`city`**\tгород\n",
    "- **`subscription_type`**\tтип подписки (free, ultra)\n",
    "\n",
    "**Поездки** — **`rides_go.csv`**\n",
    "\n",
    "- **`user_id`**\tуникальный идентификатор пользователя\n",
    "- **`distance`**\tрасстояние, которое пользователь проехал в текущей сессии (в метрах)\n",
    "- **`duration`**\tпродолжительность сессии (в минутах) — время с того момента, как пользователь нажал кнопку «Начать поездку» до момента, как он нажал кнопку «Завершить поездку»\n",
    "- **`date`**\tдата совершения поездки\n",
    "\n",
    "**Подписки** — **`subscriptions_go.csv`**\n",
    "\n",
    "- **`subscription_type`**\tтип подписки\n",
    "- **`minute_price`**\tстоимость одной минуты поездки по данной подписке\n",
    "- **`start_ride_price`**\tстоимость начала поездки\n",
    "- **`subscription_fee`**\tстоимость ежемесячного платежа"
   ]
  },
  {
   "cell_type": "markdown",
   "id": "c0096025",
   "metadata": {},
   "source": [
    "import pandas as pd\n",
    "from matplotlib import pyplot as plt\n",
    "from scipy import stats as st\n",
    "import seaborn as sns\n",
    "import numpy as np\n",
    "from math import factorial, sqrt"
   ]
  },
  {
   "cell_type": "markdown",
   "id": "c42cbe00",
   "metadata": {},
   "source": [
    "## Шаг 1. Загрузка данных\n",
    "### Считайте CSV-файлы с данными с помощью библиотеки Pandas и сохраните их в датафреймы. Пути к файлам:\n",
    "- `/datasets/users_go.csv`\n",
    "- `/datasets/rides_go.csv`\n",
    "- `/datasets/subscriptions_go.csv`"
   ]
  },
  {
   "cell_type": "markdown",
   "id": "470c22e2",
   "metadata": {},
   "source": [
    "Считываем данные и сохраняем с переменные `users`, `rides` и `subscriptions` соответственно"
   ]
  },
  {
   "cell_type": "code",
   "execution_count": 1,
   "id": "1db97389",
   "metadata": {},
   "outputs": [],
   "source": [
    "import pandas as pd\n",
    "import seaborn as sns\n",
    "from math import factorial, sqrt\n",
    "from scipy import stats as st\n",
    "import matplotlib.pyplot as plt\n",
    "import numpy as np\n",
    "\n",
    "users = pd.read_csv('/datasets/users_go.csv')\n",
    "rides = pd.read_csv('/datasets/rides_go.csv')\n",
    "subscriptions = pd.read_csv('/datasets/subscriptions_go.csv')"
   ]
  },
  {
   "cell_type": "markdown",
   "id": "c3e9f03e",
   "metadata": {},
   "source": [
    "### Выведите первые строки каждого набора данных. Изучите общую информацию о каждом датафрейме."
   ]
  },
  {
   "cell_type": "markdown",
   "id": "f0529c4f",
   "metadata": {},
   "source": [
    "Выводим по пять первых строк каждого датафрейма и саруз после вывда - общую информацию о них."
   ]
  },
  {
   "cell_type": "markdown",
   "id": "0ff8179e",
   "metadata": {},
   "source": [
    "#### Пользователи"
   ]
  },
  {
   "cell_type": "code",
   "execution_count": 2,
   "id": "37c10f7f",
   "metadata": {
    "scrolled": true
   },
   "outputs": [
    {
     "data": {
      "text/html": [
       "<div>\n",
       "<style scoped>\n",
       "    .dataframe tbody tr th:only-of-type {\n",
       "        vertical-align: middle;\n",
       "    }\n",
       "\n",
       "    .dataframe tbody tr th {\n",
       "        vertical-align: top;\n",
       "    }\n",
       "\n",
       "    .dataframe thead th {\n",
       "        text-align: right;\n",
       "    }\n",
       "</style>\n",
       "<table border=\"1\" class=\"dataframe\">\n",
       "  <thead>\n",
       "    <tr style=\"text-align: right;\">\n",
       "      <th></th>\n",
       "      <th>user_id</th>\n",
       "      <th>name</th>\n",
       "      <th>age</th>\n",
       "      <th>city</th>\n",
       "      <th>subscription_type</th>\n",
       "    </tr>\n",
       "  </thead>\n",
       "  <tbody>\n",
       "    <tr>\n",
       "      <th>0</th>\n",
       "      <td>1</td>\n",
       "      <td>Кира</td>\n",
       "      <td>22</td>\n",
       "      <td>Тюмень</td>\n",
       "      <td>ultra</td>\n",
       "    </tr>\n",
       "    <tr>\n",
       "      <th>1</th>\n",
       "      <td>2</td>\n",
       "      <td>Станислав</td>\n",
       "      <td>31</td>\n",
       "      <td>Омск</td>\n",
       "      <td>ultra</td>\n",
       "    </tr>\n",
       "    <tr>\n",
       "      <th>2</th>\n",
       "      <td>3</td>\n",
       "      <td>Алексей</td>\n",
       "      <td>20</td>\n",
       "      <td>Москва</td>\n",
       "      <td>ultra</td>\n",
       "    </tr>\n",
       "    <tr>\n",
       "      <th>3</th>\n",
       "      <td>4</td>\n",
       "      <td>Константин</td>\n",
       "      <td>26</td>\n",
       "      <td>Ростов-на-Дону</td>\n",
       "      <td>ultra</td>\n",
       "    </tr>\n",
       "    <tr>\n",
       "      <th>4</th>\n",
       "      <td>5</td>\n",
       "      <td>Адель</td>\n",
       "      <td>28</td>\n",
       "      <td>Омск</td>\n",
       "      <td>ultra</td>\n",
       "    </tr>\n",
       "  </tbody>\n",
       "</table>\n",
       "</div>"
      ],
      "text/plain": [
       "   user_id        name  age            city subscription_type\n",
       "0        1        Кира   22          Тюмень             ultra\n",
       "1        2   Станислав   31            Омск             ultra\n",
       "2        3     Алексей   20          Москва             ultra\n",
       "3        4  Константин   26  Ростов-на-Дону             ultra\n",
       "4        5       Адель   28            Омск             ultra"
      ]
     },
     "execution_count": 2,
     "metadata": {},
     "output_type": "execute_result"
    }
   ],
   "source": [
    "users.head()"
   ]
  },
  {
   "cell_type": "code",
   "execution_count": 3,
   "id": "cb23d563",
   "metadata": {
    "scrolled": true
   },
   "outputs": [
    {
     "name": "stdout",
     "output_type": "stream",
     "text": [
      "<class 'pandas.core.frame.DataFrame'>\n",
      "RangeIndex: 1565 entries, 0 to 1564\n",
      "Data columns (total 5 columns):\n",
      " #   Column             Non-Null Count  Dtype \n",
      "---  ------             --------------  ----- \n",
      " 0   user_id            1565 non-null   int64 \n",
      " 1   name               1565 non-null   object\n",
      " 2   age                1565 non-null   int64 \n",
      " 3   city               1565 non-null   object\n",
      " 4   subscription_type  1565 non-null   object\n",
      "dtypes: int64(2), object(3)\n",
      "memory usage: 61.3+ KB\n"
     ]
    }
   ],
   "source": [
    "users.info()"
   ]
  },
  {
   "cell_type": "markdown",
   "id": "56ae2966",
   "metadata": {},
   "source": [
    "Видим, что у нас в датафрейме с пользователями 5 столбцов:\n",
    "- **`user_id`**\tуникальный идентификатор пользователя\n",
    "- **`name`**\tимя пользователя\n",
    "- **`age`**\tвозраст\n",
    "- **`city`**\tгород\n",
    "- **`subscription_type`**\tтип подписки (free, ultra)\n",
    "\n",
    "В каждом из них по 1565 ненулевых значений.\n",
    "\n",
    "Уникальный идентификатор пользователя и возраст - целочисленный тип, все остальные - строковый."
   ]
  },
  {
   "cell_type": "markdown",
   "id": "86d18429",
   "metadata": {},
   "source": [
    "#### Поездки"
   ]
  },
  {
   "cell_type": "code",
   "execution_count": 4,
   "id": "69ef095a",
   "metadata": {
    "scrolled": false
   },
   "outputs": [
    {
     "data": {
      "text/html": [
       "<div>\n",
       "<style scoped>\n",
       "    .dataframe tbody tr th:only-of-type {\n",
       "        vertical-align: middle;\n",
       "    }\n",
       "\n",
       "    .dataframe tbody tr th {\n",
       "        vertical-align: top;\n",
       "    }\n",
       "\n",
       "    .dataframe thead th {\n",
       "        text-align: right;\n",
       "    }\n",
       "</style>\n",
       "<table border=\"1\" class=\"dataframe\">\n",
       "  <thead>\n",
       "    <tr style=\"text-align: right;\">\n",
       "      <th></th>\n",
       "      <th>user_id</th>\n",
       "      <th>distance</th>\n",
       "      <th>duration</th>\n",
       "      <th>date</th>\n",
       "    </tr>\n",
       "  </thead>\n",
       "  <tbody>\n",
       "    <tr>\n",
       "      <th>0</th>\n",
       "      <td>1</td>\n",
       "      <td>4409.919140</td>\n",
       "      <td>25.599769</td>\n",
       "      <td>2021-01-01</td>\n",
       "    </tr>\n",
       "    <tr>\n",
       "      <th>1</th>\n",
       "      <td>1</td>\n",
       "      <td>2617.592153</td>\n",
       "      <td>15.816871</td>\n",
       "      <td>2021-01-18</td>\n",
       "    </tr>\n",
       "    <tr>\n",
       "      <th>2</th>\n",
       "      <td>1</td>\n",
       "      <td>754.159807</td>\n",
       "      <td>6.232113</td>\n",
       "      <td>2021-04-20</td>\n",
       "    </tr>\n",
       "    <tr>\n",
       "      <th>3</th>\n",
       "      <td>1</td>\n",
       "      <td>2694.783254</td>\n",
       "      <td>18.511000</td>\n",
       "      <td>2021-08-11</td>\n",
       "    </tr>\n",
       "    <tr>\n",
       "      <th>4</th>\n",
       "      <td>1</td>\n",
       "      <td>4028.687306</td>\n",
       "      <td>26.265803</td>\n",
       "      <td>2021-08-28</td>\n",
       "    </tr>\n",
       "  </tbody>\n",
       "</table>\n",
       "</div>"
      ],
      "text/plain": [
       "   user_id     distance   duration        date\n",
       "0        1  4409.919140  25.599769  2021-01-01\n",
       "1        1  2617.592153  15.816871  2021-01-18\n",
       "2        1   754.159807   6.232113  2021-04-20\n",
       "3        1  2694.783254  18.511000  2021-08-11\n",
       "4        1  4028.687306  26.265803  2021-08-28"
      ]
     },
     "execution_count": 4,
     "metadata": {},
     "output_type": "execute_result"
    }
   ],
   "source": [
    "rides.head()"
   ]
  },
  {
   "cell_type": "code",
   "execution_count": 5,
   "id": "408ab629",
   "metadata": {
    "scrolled": true
   },
   "outputs": [
    {
     "name": "stdout",
     "output_type": "stream",
     "text": [
      "<class 'pandas.core.frame.DataFrame'>\n",
      "RangeIndex: 18068 entries, 0 to 18067\n",
      "Data columns (total 4 columns):\n",
      " #   Column    Non-Null Count  Dtype  \n",
      "---  ------    --------------  -----  \n",
      " 0   user_id   18068 non-null  int64  \n",
      " 1   distance  18068 non-null  float64\n",
      " 2   duration  18068 non-null  float64\n",
      " 3   date      18068 non-null  object \n",
      "dtypes: float64(2), int64(1), object(1)\n",
      "memory usage: 564.8+ KB\n"
     ]
    }
   ],
   "source": [
    "rides.info()"
   ]
  },
  {
   "cell_type": "markdown",
   "id": "8c6d61d1",
   "metadata": {},
   "source": [
    "В датафрейме с поездками у нас 4 столбца:\n",
    "- **`user_id`**\tуникальный идентификатор пользователя\n",
    "- **`distance`**\tрасстояние, которое пользователь проехал в текущей сессии (в метрах)\n",
    "- **`duration`**\tпродолжительность сессии (в минутах) — время с того момента, как пользователь нажал кнопку «Начать поездку» до момента, как он нажал кнопку «Завершить поездку»\n",
    "- **`date`**\tдата совершения поездки\n",
    "\n",
    "В каждом из них 18068 ненулевых значений. \n",
    "\n",
    "Уникальный идентификатор пользователя - целочисленное значение, дистанция и продолжительность - вещественные, а дата - строковый типы (запоминаем про дату, её тип точно надо поменять на тип `DateTime`)"
   ]
  },
  {
   "cell_type": "markdown",
   "id": "755775ed",
   "metadata": {},
   "source": [
    "#### Подписки"
   ]
  },
  {
   "cell_type": "code",
   "execution_count": 6,
   "id": "b35f5153",
   "metadata": {},
   "outputs": [
    {
     "data": {
      "text/html": [
       "<div>\n",
       "<style scoped>\n",
       "    .dataframe tbody tr th:only-of-type {\n",
       "        vertical-align: middle;\n",
       "    }\n",
       "\n",
       "    .dataframe tbody tr th {\n",
       "        vertical-align: top;\n",
       "    }\n",
       "\n",
       "    .dataframe thead th {\n",
       "        text-align: right;\n",
       "    }\n",
       "</style>\n",
       "<table border=\"1\" class=\"dataframe\">\n",
       "  <thead>\n",
       "    <tr style=\"text-align: right;\">\n",
       "      <th></th>\n",
       "      <th>subscription_type</th>\n",
       "      <th>minute_price</th>\n",
       "      <th>start_ride_price</th>\n",
       "      <th>subscription_fee</th>\n",
       "    </tr>\n",
       "  </thead>\n",
       "  <tbody>\n",
       "    <tr>\n",
       "      <th>0</th>\n",
       "      <td>free</td>\n",
       "      <td>8</td>\n",
       "      <td>50</td>\n",
       "      <td>0</td>\n",
       "    </tr>\n",
       "    <tr>\n",
       "      <th>1</th>\n",
       "      <td>ultra</td>\n",
       "      <td>6</td>\n",
       "      <td>0</td>\n",
       "      <td>199</td>\n",
       "    </tr>\n",
       "  </tbody>\n",
       "</table>\n",
       "</div>"
      ],
      "text/plain": [
       "  subscription_type  minute_price  start_ride_price  subscription_fee\n",
       "0              free             8                50                 0\n",
       "1             ultra             6                 0               199"
      ]
     },
     "execution_count": 6,
     "metadata": {},
     "output_type": "execute_result"
    }
   ],
   "source": [
    "subscriptions.head()"
   ]
  },
  {
   "cell_type": "code",
   "execution_count": 7,
   "id": "2fa5282c",
   "metadata": {},
   "outputs": [
    {
     "name": "stdout",
     "output_type": "stream",
     "text": [
      "<class 'pandas.core.frame.DataFrame'>\n",
      "RangeIndex: 2 entries, 0 to 1\n",
      "Data columns (total 4 columns):\n",
      " #   Column             Non-Null Count  Dtype \n",
      "---  ------             --------------  ----- \n",
      " 0   subscription_type  2 non-null      object\n",
      " 1   minute_price       2 non-null      int64 \n",
      " 2   start_ride_price   2 non-null      int64 \n",
      " 3   subscription_fee   2 non-null      int64 \n",
      "dtypes: int64(3), object(1)\n",
      "memory usage: 192.0+ bytes\n"
     ]
    }
   ],
   "source": [
    "subscriptions.info()"
   ]
  },
  {
   "cell_type": "markdown",
   "id": "57894353",
   "metadata": {},
   "source": [
    "В датафрейме с подписками у нас 4 колонки:\n",
    "- **`subscription_type`**\tтип подписки\n",
    "- **`minute_price`**\tстоимость одной минуты поездки по данной подписке\n",
    "- **`start_ride_price`**\tстоимость начала поездки\n",
    "- **`subscription_fee`**\tстоимость ежемесячного платежа\n",
    "\n",
    "В каждой из них по 2 ненулевых значения, тип подписки - строковый тип, остальные - целочисленный."
   ]
  },
  {
   "cell_type": "markdown",
   "id": "47f55de3",
   "metadata": {},
   "source": [
    "### **Промежуточный итог №1**\n",
    "Мы рассмотрели каждый из датафреймов, присвоили их переменным. Рассмотрели информацию о каждом из них, выяснили, что пропусков в данных нет, есть несостыковки с типами переменных, будем решать их на следующем этапе."
   ]
  },
  {
   "cell_type": "markdown",
   "id": "e95ebca7",
   "metadata": {},
   "source": [
    "## Шаг 2. Предобработка данных"
   ]
  },
  {
   "cell_type": "markdown",
   "id": "9cbcc233",
   "metadata": {},
   "source": [
    "### Приведите столбец date к типу даты Pandas."
   ]
  },
  {
   "cell_type": "markdown",
   "id": "d9ed478a",
   "metadata": {},
   "source": [
    "Видим, что столбец `date` представляет собой строковый тип данных, надо привести его к типу даты Pandas"
   ]
  },
  {
   "cell_type": "code",
   "execution_count": 8,
   "id": "1453949e",
   "metadata": {
    "scrolled": true
   },
   "outputs": [
    {
     "name": "stdout",
     "output_type": "stream",
     "text": [
      "<class 'pandas.core.frame.DataFrame'>\n",
      "RangeIndex: 18068 entries, 0 to 18067\n",
      "Data columns (total 4 columns):\n",
      " #   Column    Non-Null Count  Dtype         \n",
      "---  ------    --------------  -----         \n",
      " 0   user_id   18068 non-null  int64         \n",
      " 1   distance  18068 non-null  float64       \n",
      " 2   duration  18068 non-null  float64       \n",
      " 3   date      18068 non-null  datetime64[ns]\n",
      "dtypes: datetime64[ns](1), float64(2), int64(1)\n",
      "memory usage: 564.8 KB\n"
     ]
    }
   ],
   "source": [
    "rides['date'] = pd.to_datetime(rides['date'], format = '%Y-%m-%d')\n",
    "rides.info()"
   ]
  },
  {
   "cell_type": "markdown",
   "id": "a34b2609",
   "metadata": {},
   "source": [
    "Как видим на представленной информации о датафрейме поездок, тип даты был успешно изменён на требуемый"
   ]
  },
  {
   "cell_type": "markdown",
   "id": "d532b44d",
   "metadata": {},
   "source": [
    "### Создайте новый столбец с номером месяца на основе столбца date."
   ]
  },
  {
   "cell_type": "markdown",
   "id": "9c469e5e",
   "metadata": {},
   "source": [
    "Теперь необходимо на основании столбца даты создать столбец с номером месяца в этом же датафрейме. После добавления выведем шапку датафрейма на экран"
   ]
  },
  {
   "cell_type": "code",
   "execution_count": 9,
   "id": "be476c7b",
   "metadata": {
    "scrolled": true
   },
   "outputs": [
    {
     "data": {
      "text/html": [
       "<div>\n",
       "<style scoped>\n",
       "    .dataframe tbody tr th:only-of-type {\n",
       "        vertical-align: middle;\n",
       "    }\n",
       "\n",
       "    .dataframe tbody tr th {\n",
       "        vertical-align: top;\n",
       "    }\n",
       "\n",
       "    .dataframe thead th {\n",
       "        text-align: right;\n",
       "    }\n",
       "</style>\n",
       "<table border=\"1\" class=\"dataframe\">\n",
       "  <thead>\n",
       "    <tr style=\"text-align: right;\">\n",
       "      <th></th>\n",
       "      <th>user_id</th>\n",
       "      <th>distance</th>\n",
       "      <th>duration</th>\n",
       "      <th>date</th>\n",
       "      <th>month</th>\n",
       "    </tr>\n",
       "  </thead>\n",
       "  <tbody>\n",
       "    <tr>\n",
       "      <th>0</th>\n",
       "      <td>1</td>\n",
       "      <td>4409.919140</td>\n",
       "      <td>25.599769</td>\n",
       "      <td>2021-01-01</td>\n",
       "      <td>1</td>\n",
       "    </tr>\n",
       "    <tr>\n",
       "      <th>1</th>\n",
       "      <td>1</td>\n",
       "      <td>2617.592153</td>\n",
       "      <td>15.816871</td>\n",
       "      <td>2021-01-18</td>\n",
       "      <td>1</td>\n",
       "    </tr>\n",
       "    <tr>\n",
       "      <th>2</th>\n",
       "      <td>1</td>\n",
       "      <td>754.159807</td>\n",
       "      <td>6.232113</td>\n",
       "      <td>2021-04-20</td>\n",
       "      <td>4</td>\n",
       "    </tr>\n",
       "    <tr>\n",
       "      <th>3</th>\n",
       "      <td>1</td>\n",
       "      <td>2694.783254</td>\n",
       "      <td>18.511000</td>\n",
       "      <td>2021-08-11</td>\n",
       "      <td>8</td>\n",
       "    </tr>\n",
       "    <tr>\n",
       "      <th>4</th>\n",
       "      <td>1</td>\n",
       "      <td>4028.687306</td>\n",
       "      <td>26.265803</td>\n",
       "      <td>2021-08-28</td>\n",
       "      <td>8</td>\n",
       "    </tr>\n",
       "  </tbody>\n",
       "</table>\n",
       "</div>"
      ],
      "text/plain": [
       "   user_id     distance   duration       date  month\n",
       "0        1  4409.919140  25.599769 2021-01-01      1\n",
       "1        1  2617.592153  15.816871 2021-01-18      1\n",
       "2        1   754.159807   6.232113 2021-04-20      4\n",
       "3        1  2694.783254  18.511000 2021-08-11      8\n",
       "4        1  4028.687306  26.265803 2021-08-28      8"
      ]
     },
     "execution_count": 9,
     "metadata": {},
     "output_type": "execute_result"
    }
   ],
   "source": [
    "rides['month'] = pd.DatetimeIndex(rides['date']).month\n",
    "rides.head()"
   ]
  },
  {
   "cell_type": "markdown",
   "id": "d9fab576",
   "metadata": {},
   "source": [
    "Как видим, мы успешно добавили новый столбец с номером месяца на основании стобца с датой."
   ]
  },
  {
   "cell_type": "markdown",
   "id": "b36c7424",
   "metadata": {},
   "source": [
    "Проверим также, к какому году/каким годам у нас относятся наши данные:"
   ]
  },
  {
   "cell_type": "code",
   "execution_count": 10,
   "id": "267c9347",
   "metadata": {},
   "outputs": [
    {
     "data": {
      "text/plain": [
       "2021    18068\n",
       "Name: date, dtype: int64"
      ]
     },
     "execution_count": 10,
     "metadata": {},
     "output_type": "execute_result"
    }
   ],
   "source": [
    "pd.DatetimeIndex(rides['date']).year.value_counts()"
   ]
  },
  {
   "cell_type": "markdown",
   "id": "70b0ec91",
   "metadata": {},
   "source": [
    "Видим, что все данные у нас за 2021 год, аномалий не обнаружено"
   ]
  },
  {
   "cell_type": "markdown",
   "id": "32f22a38",
   "metadata": {},
   "source": [
    "### Проверьте наличие пропущенных значений и дубликатов в датафреймах. Обработайте их, если такие значения присутствуют."
   ]
  },
  {
   "cell_type": "markdown",
   "id": "620bdd0d",
   "metadata": {},
   "source": [
    "Теперь необходимо проверить наличие пропусков и дубликатов в каждом датафрейме"
   ]
  },
  {
   "cell_type": "markdown",
   "id": "9c7dc177",
   "metadata": {},
   "source": [
    "#### Пользователи\n",
    "##### Пропуски\n",
    "Рассмотрим датафрейм с пользователями: есть ли в нём пропуски"
   ]
  },
  {
   "cell_type": "code",
   "execution_count": 11,
   "id": "41bc54f6",
   "metadata": {
    "scrolled": true
   },
   "outputs": [
    {
     "data": {
      "text/plain": [
       "user_id              0\n",
       "name                 0\n",
       "age                  0\n",
       "city                 0\n",
       "subscription_type    0\n",
       "dtype: int64"
      ]
     },
     "execution_count": 11,
     "metadata": {},
     "output_type": "execute_result"
    }
   ],
   "source": [
    "users.isna().sum()"
   ]
  },
  {
   "cell_type": "markdown",
   "id": "b0903255",
   "metadata": {},
   "source": [
    "Пропусков нет"
   ]
  },
  {
   "cell_type": "markdown",
   "id": "c33c6e76",
   "metadata": {},
   "source": [
    "##### Дубликаты\n",
    "Проверим наличие явных и неявных дубликатов. Сначала явные:"
   ]
  },
  {
   "cell_type": "code",
   "execution_count": 12,
   "id": "85270b55",
   "metadata": {},
   "outputs": [
    {
     "data": {
      "text/plain": [
       "31"
      ]
     },
     "execution_count": 12,
     "metadata": {},
     "output_type": "execute_result"
    }
   ],
   "source": [
    "users.duplicated().sum()"
   ]
  },
  {
   "cell_type": "markdown",
   "id": "2db89b0d",
   "metadata": {},
   "source": [
    "Явные дубликаты в наличии, удаляем их c обновлением индексов и проверяем, удалились ли"
   ]
  },
  {
   "cell_type": "code",
   "execution_count": 13,
   "id": "6b9b6209",
   "metadata": {
    "scrolled": true
   },
   "outputs": [
    {
     "data": {
      "text/plain": [
       "0"
      ]
     },
     "execution_count": 13,
     "metadata": {},
     "output_type": "execute_result"
    }
   ],
   "source": [
    "users = users.drop_duplicates().reset_index(drop = True)\n",
    "users.duplicated().sum()"
   ]
  },
  {
   "cell_type": "markdown",
   "id": "5859edad",
   "metadata": {},
   "source": [
    "Проверяем, есть ли неявные дубликаты, смотрим на город"
   ]
  },
  {
   "cell_type": "code",
   "execution_count": 14,
   "id": "4544560a",
   "metadata": {},
   "outputs": [
    {
     "data": {
      "text/plain": [
       "array(['Тюмень', 'Омск', 'Москва', 'Ростов-на-Дону', 'Краснодар',\n",
       "       'Пятигорск', 'Екатеринбург', 'Сочи'], dtype=object)"
      ]
     },
     "execution_count": 14,
     "metadata": {},
     "output_type": "execute_result"
    }
   ],
   "source": [
    "users['city'].unique()"
   ]
  },
  {
   "cell_type": "markdown",
   "id": "575973a5",
   "metadata": {},
   "source": [
    "С городами все чисто, смотрим на тип подписки"
   ]
  },
  {
   "cell_type": "code",
   "execution_count": 15,
   "id": "2b3d570e",
   "metadata": {},
   "outputs": [
    {
     "data": {
      "text/plain": [
       "array(['ultra', 'free'], dtype=object)"
      ]
     },
     "execution_count": 15,
     "metadata": {},
     "output_type": "execute_result"
    }
   ],
   "source": [
    "users['subscription_type'].unique()"
   ]
  },
  {
   "cell_type": "markdown",
   "id": "6912a249",
   "metadata": {},
   "source": [
    "Тоже порядок. Наконец, взглянем на имена"
   ]
  },
  {
   "cell_type": "code",
   "execution_count": 16,
   "id": "47574255",
   "metadata": {
    "scrolled": true
   },
   "outputs": [
    {
     "name": "stdout",
     "output_type": "stream",
     "text": [
      "['Агата', 'Аделина', 'Адель', 'Айдар', 'Александр', 'Александра', 'Алексей', 'Алина', 'Алиса', 'Алия', 'Алла', 'Альберт', 'Альбина', 'Алёна', 'Амалия', 'Амина', 'Амир', 'Анастасия', 'Анатолий', 'Ангелина', 'Андрей', 'Анжелика', 'Анна', 'Антон', 'Антонина', 'Ариана', 'Арина', 'Арсен', 'Арсений', 'Артемий', 'Артур', 'Артём', 'Богдан', 'Борис', 'Вадим', 'Валентина', 'Валерий', 'Валерия', 'Варвара', 'Василий', 'Василина', 'Василиса', 'Вера', 'Вероника', 'Виктор', 'Виктория', 'Виолетта', 'Виталий', 'Виталина', 'Влад', 'Влада', 'Владимир', 'Владислав', 'Владислава', 'Всеволод', 'Вячеслав', 'Галина', 'Георгий', 'Герман', 'Глеб', 'Гордей', 'Григорий', 'Давид', 'Дамир', 'Даниил', 'Данил', 'Данила', 'Даниэль', 'Дарина', 'Дарья', 'Демид', 'Денис', 'Диана', 'Дмитрий', 'Ева', 'Евгений', 'Евгения', 'Егор', 'Екатерина', 'Елена', 'Елизавета', 'Елисей', 'Есения', 'Жанна', 'Зарина', 'Захар', 'Злата', 'Иван', 'Игнат', 'Игорь', 'Ильдар', 'Илья', 'Инна', 'Ирина', 'Камилла', 'Карина', 'Каролина', 'Кира', 'Кирилл', 'Константин', 'Кристина', 'Ксения', 'Лариса', 'Лев', 'Леонид', 'Лиана', 'Лидия', 'Лилия', 'Любовь', 'Людмила', 'Мадина', 'Майя', 'Макар', 'Максим', 'Марат', 'Маргарита', 'Марина', 'Мария', 'Марк', 'Марсель', 'Матвей', 'Мелания', 'Милана', 'Милена', 'Мирон', 'Мирослав', 'Мирослава', 'Михаил', 'Назар', 'Наталия', 'Наталья', 'Наташа', 'Нелли', 'Ника', 'Никита', 'Николай', 'Нина', 'Одиссей', 'Оксана', 'Олег', 'Олеся', 'Ольга', 'Павел', 'Петр', 'Платон', 'Полина', 'Радмир', 'Рамиль', 'Регина', 'Роберт', 'Родион', 'Роман', 'Ростислав', 'Руслан', 'Рустам', 'Савелий', 'Самир', 'Самира', 'Светлана', 'Святогор', 'Святослав', 'Семен', 'Сергей', 'Снежана', 'София', 'Софья', 'Станислав', 'Степан', 'Стефания', 'Таисия', 'Тамара', 'Тамерлан', 'Татьяна', 'Тимофей', 'Тимур', 'Тихон', 'Ульяна', 'Федор', 'Эвелина', 'Эдуард', 'Элина', 'Эльвира', 'Эльмира', 'Эмилия', 'Эмиль', 'Юлиана', 'Юлия', 'Юрий', 'Ян', 'Яна', 'Яромир', 'Ярослав', 'Ярослава', 'Ясмина']\n"
     ]
    }
   ],
   "source": [
    "print(sorted(users['name'].unique()), sep = '')"
   ]
  },
  {
   "cell_type": "markdown",
   "id": "f6af3b7e",
   "metadata": {},
   "source": [
    "Видим, что вроде с именами все хорошо, только смущает немного момент с именами `Наталья`, `Наталия` и `Наташа`. Проверим, не совпадает ли между ними хоть один id пользователя"
   ]
  },
  {
   "cell_type": "code",
   "execution_count": 17,
   "id": "4a8fe442",
   "metadata": {
    "scrolled": false
   },
   "outputs": [
    {
     "name": "stdout",
     "output_type": "stream",
     "text": [
      "id пользователей с такими именами не совпадают, можно не считать их за неявные дупликаты\n"
     ]
    }
   ],
   "source": [
    "wrong_ids = []\n",
    "for id_1 in users.query('name == \"Наташа\"')['user_id']:\n",
    "    for id_2 in users.query('name == \"Наталья\"')['user_id']:\n",
    "        if id_1 == id_2:    \n",
    "            wrong_ids.append(id_1)\n",
    "\n",
    "for id_1 in users.query('name == \"Наташа\"')['user_id']:\n",
    "    for id_2 in users.query('name == \"Наталия\"')['user_id']:\n",
    "        if id_1 == id_2:    \n",
    "            wrong_ids.append(id_1)\n",
    "if len(wrong_ids) ==0:\n",
    "    print('id пользователей с такими именами не совпадают, можно не считать их за неявные дупликаты')\n",
    "else:\n",
    "    print('id пользователей с такими именами совпадают,- это неявные дупликаты')"
   ]
  },
  {
   "cell_type": "markdown",
   "id": "65f6e72c",
   "metadata": {},
   "source": [
    "Видим, что с именами `Наталья`, `Наталия` и `Наташа` все благополучно разрешилось.\n",
    "\n",
    "Посмотрим на количество уникальных id пользователей и выведем их на экран:"
   ]
  },
  {
   "cell_type": "code",
   "execution_count": 18,
   "id": "53fdbf00",
   "metadata": {},
   "outputs": [
    {
     "data": {
      "text/plain": [
       "1534"
      ]
     },
     "execution_count": 18,
     "metadata": {},
     "output_type": "execute_result"
    }
   ],
   "source": [
    "users['user_id'].nunique()"
   ]
  },
  {
   "cell_type": "markdown",
   "id": "daf8e340",
   "metadata": {},
   "source": [
    "Проверим, есть ли в нем какие-либо выбросы по уникальным id. Мы знаем, что они идут по порядку, поэтому циклом сравним список номеров от 1 до 1534 с отсортированным списком уникальных номеров id пользователей."
   ]
  },
  {
   "cell_type": "code",
   "execution_count": 19,
   "id": "d1c0f89a",
   "metadata": {
    "scrolled": true
   },
   "outputs": [
    {
     "name": "stdout",
     "output_type": "stream",
     "text": [
      "Номера id пользователей записаны верно!\n"
     ]
    }
   ],
   "source": [
    "wrong_ids_positions = [] # создаем список, в который будем добавлять позиции неправильных id\n",
    "for i in range(users.shape[0]): \n",
    "    if sorted(users['user_id'].unique())[i] != (i+1): # если id пользователя не соответствует тому, \n",
    "                                                      # что должен идти по порядку (счетчик на это)\n",
    "        wrong_ids_positions.append(i) # добавляем его позицию в списке в список с неправильными\n",
    "if len(wrong_ids_positions) == 0: # проверяем, есть ли у нас  неправильные номера\n",
    "    print('Номера id пользователей записаны верно!') \n",
    "else: # если они есть, тогда выводим их на экран для ознакомления\n",
    "    for i in range(len(wrong_ids_positions)):\n",
    "        wrong_id = sorted(users['user_id'].unique())[wrong_ids_positions[i]]\n",
    "        print(f'Проверить номер пользователя {wrong_id}')"
   ]
  },
  {
   "cell_type": "markdown",
   "id": "8e99d92d",
   "metadata": {},
   "source": [
    "Видим, что неправильных номеров нет"
   ]
  },
  {
   "cell_type": "markdown",
   "id": "4ffe84a2",
   "metadata": {},
   "source": [
    "Выведем информацию об этом датафрейме на экран, чтобы проверить, не резанули ли мы лишнего"
   ]
  },
  {
   "cell_type": "code",
   "execution_count": 20,
   "id": "aef91657",
   "metadata": {
    "scrolled": false
   },
   "outputs": [
    {
     "name": "stdout",
     "output_type": "stream",
     "text": [
      "<class 'pandas.core.frame.DataFrame'>\n",
      "RangeIndex: 1534 entries, 0 to 1533\n",
      "Data columns (total 5 columns):\n",
      " #   Column             Non-Null Count  Dtype \n",
      "---  ------             --------------  ----- \n",
      " 0   user_id            1534 non-null   int64 \n",
      " 1   name               1534 non-null   object\n",
      " 2   age                1534 non-null   int64 \n",
      " 3   city               1534 non-null   object\n",
      " 4   subscription_type  1534 non-null   object\n",
      "dtypes: int64(2), object(3)\n",
      "memory usage: 60.0+ KB\n"
     ]
    }
   ],
   "source": [
    "users.info()"
   ]
  },
  {
   "cell_type": "markdown",
   "id": "279dd1d4",
   "metadata": {},
   "source": [
    "Все в порядке, сначала было 1565 строк, убрали 31 дубликат, соответственно, осталось 1534 строки"
   ]
  },
  {
   "cell_type": "markdown",
   "id": "e39e0db8",
   "metadata": {},
   "source": [
    "#### Поездки\n",
    "##### Пропуски\n",
    "Рассмотрим датафрейм поездок на наличие пропусков"
   ]
  },
  {
   "cell_type": "code",
   "execution_count": 21,
   "id": "760fc042",
   "metadata": {
    "scrolled": true
   },
   "outputs": [
    {
     "data": {
      "text/plain": [
       "user_id     0\n",
       "distance    0\n",
       "duration    0\n",
       "date        0\n",
       "month       0\n",
       "dtype: int64"
      ]
     },
     "execution_count": 21,
     "metadata": {},
     "output_type": "execute_result"
    }
   ],
   "source": [
    "rides.isna().sum()"
   ]
  },
  {
   "cell_type": "markdown",
   "id": "4677f5fb",
   "metadata": {},
   "source": [
    "Пропусков нет"
   ]
  },
  {
   "cell_type": "markdown",
   "id": "a187aec2",
   "metadata": {},
   "source": [
    "##### Дубликаты\n",
    "Проверим, есть ли в нем явные и неявные дубликаты"
   ]
  },
  {
   "cell_type": "code",
   "execution_count": 22,
   "id": "70dd8d6b",
   "metadata": {
    "scrolled": true
   },
   "outputs": [
    {
     "data": {
      "text/plain": [
       "0"
      ]
     },
     "execution_count": 22,
     "metadata": {},
     "output_type": "execute_result"
    }
   ],
   "source": [
    "rides.duplicated().sum()"
   ]
  },
  {
   "cell_type": "markdown",
   "id": "d58f5ae9",
   "metadata": {},
   "source": [
    "Неявных дубликатов не выявлено. А что по явным? Посмотрим на количество уникальных id пользователей"
   ]
  },
  {
   "cell_type": "code",
   "execution_count": 23,
   "id": "6ba7af6a",
   "metadata": {},
   "outputs": [
    {
     "data": {
      "text/plain": [
       "1534"
      ]
     },
     "execution_count": 23,
     "metadata": {},
     "output_type": "execute_result"
    }
   ],
   "source": [
    "rides['user_id'].nunique()"
   ]
  },
  {
   "cell_type": "markdown",
   "id": "4cf59535",
   "metadata": {},
   "source": [
    "Оно совпадает с теми, что в датафрейме пользователей, проверим, есть ли несовпадения"
   ]
  },
  {
   "cell_type": "code",
   "execution_count": 24,
   "id": "ea093ffd",
   "metadata": {
    "scrolled": true
   },
   "outputs": [
    {
     "name": "stdout",
     "output_type": "stream",
     "text": [
      "Несовпадений между датафреймами пользователей и поездок по уникальным id пользователей нет\n"
     ]
    }
   ],
   "source": [
    "blowout = [] # создаем список с выбросами\n",
    "for i in range(len(rides['user_id'].unique())):\n",
    "    if sorted(rides['user_id'].unique())[i] != sorted(users['user_id'].unique())[i]:\n",
    "        blowout.append(i)\n",
    "if len(blowout) == 0: # проверяем, есть ли у нас  несовпадения\n",
    "    print('Несовпадений между датафреймами пользователей и поездок по уникальным id пользователей нет') \n",
    "else: # если они есть, тогда выводим их на экран для ознакомления\n",
    "    for i in range(len(blowout)):\n",
    "        wrong_id = sorted(rides['user_id'].unique())[blowout[i]]\n",
    "        print(f'Проверить номер пользователя {wrong_id}')"
   ]
  },
  {
   "cell_type": "markdown",
   "id": "429fb311",
   "metadata": {},
   "source": [
    "#### Подписки\n",
    "##### Пропуски\n",
    "Проверим наличие пропусков в подписках"
   ]
  },
  {
   "cell_type": "code",
   "execution_count": 25,
   "id": "c15c390e",
   "metadata": {
    "scrolled": true
   },
   "outputs": [
    {
     "data": {
      "text/plain": [
       "subscription_type    0\n",
       "minute_price         0\n",
       "start_ride_price     0\n",
       "subscription_fee     0\n",
       "dtype: int64"
      ]
     },
     "execution_count": 25,
     "metadata": {},
     "output_type": "execute_result"
    }
   ],
   "source": [
    "subscriptions.isna().sum()"
   ]
  },
  {
   "cell_type": "markdown",
   "id": "b034f4f1",
   "metadata": {},
   "source": [
    "Пропусков нет"
   ]
  },
  {
   "cell_type": "markdown",
   "id": "de968b3a",
   "metadata": {},
   "source": [
    "##### Дубликаты\n",
    "Проверим наличие явных и неявных дубликатов (датафрейм состоит всего из двух строк, поэтому ограничимся визуальной проверкой)"
   ]
  },
  {
   "cell_type": "code",
   "execution_count": 26,
   "id": "6510193e",
   "metadata": {
    "scrolled": false
   },
   "outputs": [
    {
     "data": {
      "text/html": [
       "<div>\n",
       "<style scoped>\n",
       "    .dataframe tbody tr th:only-of-type {\n",
       "        vertical-align: middle;\n",
       "    }\n",
       "\n",
       "    .dataframe tbody tr th {\n",
       "        vertical-align: top;\n",
       "    }\n",
       "\n",
       "    .dataframe thead th {\n",
       "        text-align: right;\n",
       "    }\n",
       "</style>\n",
       "<table border=\"1\" class=\"dataframe\">\n",
       "  <thead>\n",
       "    <tr style=\"text-align: right;\">\n",
       "      <th></th>\n",
       "      <th>subscription_type</th>\n",
       "      <th>minute_price</th>\n",
       "      <th>start_ride_price</th>\n",
       "      <th>subscription_fee</th>\n",
       "    </tr>\n",
       "  </thead>\n",
       "  <tbody>\n",
       "    <tr>\n",
       "      <th>0</th>\n",
       "      <td>free</td>\n",
       "      <td>8</td>\n",
       "      <td>50</td>\n",
       "      <td>0</td>\n",
       "    </tr>\n",
       "    <tr>\n",
       "      <th>1</th>\n",
       "      <td>ultra</td>\n",
       "      <td>6</td>\n",
       "      <td>0</td>\n",
       "      <td>199</td>\n",
       "    </tr>\n",
       "  </tbody>\n",
       "</table>\n",
       "</div>"
      ],
      "text/plain": [
       "  subscription_type  minute_price  start_ride_price  subscription_fee\n",
       "0              free             8                50                 0\n",
       "1             ultra             6                 0               199"
      ]
     },
     "execution_count": 26,
     "metadata": {},
     "output_type": "execute_result"
    }
   ],
   "source": [
    "subscriptions"
   ]
  },
  {
   "cell_type": "markdown",
   "id": "e7563b1f",
   "metadata": {},
   "source": [
    "Дубликатов нет"
   ]
  },
  {
   "cell_type": "markdown",
   "id": "0a8682c9",
   "metadata": {},
   "source": [
    "### **Промежуточный итог №2**\n",
    "Мы проверили каждый датафрейм на наличие пропусков и дубликатов, пропусков ни в одном из них не было.\n",
    "В датафрейме пользователей удалили явные дубликаты, также проверили, есть ли неявные (`Наталья`, `Наталия` и `Наташа`), выяснилось, что нет, больше неявных дупликатов в этом датафрейме не было обнаружено. Проверили, есть ли аномалии с годом, к которому относятся данные, - все хороши, данные у нас за 2021 год.\n",
    "Проверили правильность записи уникальных id пользователей, городов, с ними все было в порядке.\n",
    "В датафрейме поездок также проверили id пользователей, а также сравнили с id пользователей датафрейма пользователей, несовпадений не выявлено.\n",
    "В датафрейме подписок не было ни пропусков, ни дубликатов."
   ]
  },
  {
   "cell_type": "markdown",
   "id": "212593c7",
   "metadata": {},
   "source": [
    "## Шаг 3. Исследовательский анализ данных\n",
    "Опишите и визуализируйте общую информацию о пользователях и поездках:"
   ]
  },
  {
   "cell_type": "markdown",
   "id": "123dd4b5",
   "metadata": {},
   "source": [
    "### Частота встречаемости городов\n",
    "Выведем на экран частоту встречаемости городов и построим наглядный барплот"
   ]
  },
  {
   "cell_type": "code",
   "execution_count": 27,
   "id": "96739f4d",
   "metadata": {
    "scrolled": false
   },
   "outputs": [
    {
     "data": {
      "text/plain": [
       "Пятигорск         219\n",
       "Екатеринбург      204\n",
       "Ростов-на-Дону    198\n",
       "Краснодар         193\n",
       "Сочи              189\n",
       "Омск              183\n",
       "Тюмень            180\n",
       "Москва            168\n",
       "Name: city, dtype: int64"
      ]
     },
     "execution_count": 27,
     "metadata": {},
     "output_type": "execute_result"
    }
   ],
   "source": [
    "users['city'].value_counts()"
   ]
  },
  {
   "cell_type": "code",
   "execution_count": 28,
   "id": "9c2e52cd",
   "metadata": {
    "scrolled": true
   },
   "outputs": [
    {
     "data": {
      "image/png": "[encoded data removed]",
      "text/plain": [
       "<Figure size 432x288 with 1 Axes>"
      ]
     },
     "metadata": {
      "needs_background": "light"
     },
     "output_type": "display_data"
    }
   ],
   "source": [
    "users['city'].value_counts(ascending = True).plot.bar()\n",
    "plt.ylabel('Частота встречаемости')\n",
    "plt.title('График частоты встречаемости городов в наших данных')\n",
    "plt.show()"
   ]
  },
  {
   "cell_type": "markdown",
   "id": "1c0935ef",
   "metadata": {},
   "source": [
    "Видим, что чаще всего встречается Пятигорск, реже всего Москва"
   ]
  },
  {
   "cell_type": "markdown",
   "id": "f1ff0dd1",
   "metadata": {},
   "source": [
    "### Соотношение пользователей с подпиской и без подписки\n",
    "Выведем на соотношение пользователей с подпиской и без, сначала рассчитав и пересчитав на проценты"
   ]
  },
  {
   "cell_type": "code",
   "execution_count": 29,
   "id": "e14388ea",
   "metadata": {},
   "outputs": [
    {
     "data": {
      "image/png": "[encoded data removed]",
      "text/plain": [
       "<Figure size 432x288 with 1 Axes>"
      ]
     },
     "metadata": {},
     "output_type": "display_data"
    }
   ],
   "source": [
    "values = users['subscription_type'].value_counts()/users.shape[0]  # считаем долю каждой подписки\n",
    "values = round(values*100, 2)  # переводим в более удобный вид с процентами и двумя знаками после запятой\n",
    "names = []  # задаем пустой список подписей для круговой диагнаммы\n",
    "for i in range(values.shape[0]):\n",
    "    names.append(values.index[i] + ': ' + str(values[i]) + '%') # формируем подпись круговой диаграммы как: \n",
    "                                                                # название подписки: процент пользователей с такой подпиской\n",
    "plt.pie(values, labels=names, labeldistance=1.15)  # строим круговую диаграмму\n",
    "plt.title('Круговая диаграмма, иллюстрирующая соотношение пользователей \\nс подпиской - \"ultra\", и без подписки - \"free\"')\n",
    "plt.show()"
   ]
  },
  {
   "cell_type": "markdown",
   "id": "e1fefae1",
   "metadata": {},
   "source": [
    "Видим, что пользователей без подписки у нас больше: 54.43%, против 44.57% пользователей с подпиской"
   ]
  },
  {
   "cell_type": "markdown",
   "id": "229dd446",
   "metadata": {},
   "source": [
    "### Возраст пользователей\n",
    "Выведем барплот по возрасту пользователей"
   ]
  },
  {
   "cell_type": "code",
   "execution_count": 30,
   "id": "e6e2be94",
   "metadata": {
    "scrolled": false
   },
   "outputs": [
    {
     "data": {
      "image/png": "[encoded data removed]",
      "text/plain": [
       "<Figure size 432x288 with 1 Axes>"
      ]
     },
     "metadata": {
      "needs_background": "light"
     },
     "output_type": "display_data"
    },
    {
     "data": {
      "image/png": "[encoded data removed]",
      "text/plain": [
       "<Figure size 432x288 with 1 Axes>"
      ]
     },
     "metadata": {
      "needs_background": "light"
     },
     "output_type": "display_data"
    }
   ],
   "source": [
    "users.groupby('age')['age'].count().plot.bar()\n",
    "plt.ylabel('Частота встречаемости')\n",
    "plt.xlabel('Возраст')\n",
    "plt.title('График распределения пользователей по возрасту')\n",
    "plt.show()\n",
    "\n",
    "users.boxplot('age')\n",
    "plt.title('Иллюстрация распределения возрастов пользователей')\n",
    "plt.show()"
   ]
  },
  {
   "cell_type": "markdown",
   "id": "3f51e35c",
   "metadata": {},
   "source": [
    "На гистограмме видим, что пользователи по возрасту распределены практически нормально, больше всего людей возрастом от 20 до 30 лет.\n",
    "\n",
    "На ящике с усами четко видно, что медиана возрастов приходится на 25 лет, нижний квартиль - примерно 22 года, верхний - около 28 лет. Также видим, что есть выбросы, соответствующие возрасту либо старше 37 лет, либо моложе 13."
   ]
  },
  {
   "cell_type": "markdown",
   "id": "c82cd5da",
   "metadata": {},
   "source": [
    "### Расстояние, которое пользователь преодолел за одну поездку\n",
    "Выведем гистограмму по расстоянию, которое пользователь преодолел за одну поездку"
   ]
  },
  {
   "cell_type": "code",
   "execution_count": 31,
   "id": "9856f698",
   "metadata": {
    "scrolled": true
   },
   "outputs": [
    {
     "data": {
      "image/png": "[encoded data removed]",
      "text/plain": [
       "<Figure size 432x288 with 1 Axes>"
      ]
     },
     "metadata": {
      "needs_background": "light"
     },
     "output_type": "display_data"
    }
   ],
   "source": [
    "sns.histplot(data=rides, x=\"distance\", color=\"blue\", kde=True)\n",
    "\n",
    "plt.ylabel('Частота встречаемости')\n",
    "plt.xlabel('Расстояние в метрах')\n",
    "plt.title('График распределения расстояний, пройденных за одну поездку')\n",
    "plt.show()"
   ]
  },
  {
   "cell_type": "markdown",
   "id": "ddb9e137",
   "metadata": {},
   "source": [
    "Видим, что максимум по расстояниям приходится на 3000 метров, но есть и небольшой пичок в начале, где-то на 1000 метрах"
   ]
  },
  {
   "cell_type": "code",
   "execution_count": 32,
   "id": "88b2ef21",
   "metadata": {
    "scrolled": true
   },
   "outputs": [
    {
     "data": {
      "image/png": "[encoded data removed]",
      "text/plain": [
       "<Figure size 432x288 with 1 Axes>"
      ]
     },
     "metadata": {
      "needs_background": "light"
     },
     "output_type": "display_data"
    }
   ],
   "source": [
    "rides.boxplot('distance')\n",
    "plt.title('Иллюстрация распределения расстояний, \\nкоторые пользователи преодолевали за одну поездку')\n",
    "plt.show()"
   ]
  },
  {
   "cell_type": "markdown",
   "id": "952c652e",
   "metadata": {},
   "source": [
    "Видим, что медиана находится около 3000 метров, нижний квартиль - около 2600, верхний - около 3900. Также видим выбросы, соответствующим расстояниям меньше 800 или больше 5600 метров."
   ]
  },
  {
   "cell_type": "markdown",
   "id": "0bcfcbad",
   "metadata": {},
   "source": [
    "### Продолжительность поездок\n",
    "Выведем гистограмму по продолжительности поездок"
   ]
  },
  {
   "cell_type": "code",
   "execution_count": 33,
   "id": "2920563b",
   "metadata": {},
   "outputs": [
    {
     "data": {
      "image/png": "[encoded data removed]",
      "text/plain": [
       "<Figure size 432x288 with 1 Axes>"
      ]
     },
     "metadata": {},
     "output_type": "display_data"
    }
   ],
   "source": [
    "sns.set(style=\"darkgrid\")\n",
    "\n",
    "sns.histplot(data=rides, x=\"duration\", color=\"red\", kde=True)\n",
    "\n",
    "plt.ylabel('Частота встречаемости')\n",
    "plt.xlabel('Время в минутах')\n",
    "plt.title('График распределения продолжительности поездок')\n",
    "plt.show()"
   ]
  },
  {
   "cell_type": "markdown",
   "id": "4b141d39",
   "metadata": {},
   "source": [
    "В целом, распределение по продолжительности поездок распределено нормально, максимум приходится на 17-18 минут, большинство пользователей укладывается в 10-25 минут"
   ]
  },
  {
   "cell_type": "code",
   "execution_count": 34,
   "id": "4f2904a4",
   "metadata": {
    "scrolled": true
   },
   "outputs": [
    {
     "data": {
      "image/png": "[encoded data removed]",
      "text/plain": [
       "<Figure size 432x288 with 1 Axes>"
      ]
     },
     "metadata": {},
     "output_type": "display_data"
    }
   ],
   "source": [
    "rides.boxplot('duration')\n",
    "plt.title('Иллюстрация распределения времени, \\nкоторые пользователи тратили на одну поездку')\n",
    "plt.show()"
   ]
  },
  {
   "cell_type": "markdown",
   "id": "119bf28c",
   "metadata": {},
   "source": [
    "Видим, что медиана около 18 минут, нижний квартиль в районе 14 минут, верхний - 22 минуты. Также видим выбросы, соответствующие времени, которое либо меньше 2 минут, либо больше 34."
   ]
  },
  {
   "cell_type": "markdown",
   "id": "ab4945fe",
   "metadata": {},
   "source": [
    "### **Промежуточный итог №3**\n",
    "\n",
    "Мы рассмотрели следующие данные:\n",
    "- **`частота встречаемости городов`**\n",
    "        чаще всего встречается Пятигорск, реже всего Москва\n",
    "- **`соотношение пользователей с подпиской и без подписки`**\n",
    "        пользователей без подписки у нас больше: 54.43%, против 44.57% пользователей с подпиской\n",
    "- **`возраст пользователей`**\n",
    "        На гистограмме видим, что пользователи по возрасту распределены практически нормально, больше всего людей возрастом от 20 до 30 лет.\n",
    "        На боксплоте четко видно, что медиана возрастов приходится на 25 лет, нижний квартиль - примерно 22 года, верхний - около 28 лет. Также видим, что есть выбросы, соответствующие возрасту либо старше 37 лет, либо моложе 13.\n",
    "        \n",
    "- **`расстояние, которое пользователь преодолел за одну поездку`**\n",
    "        максимум по расстояниям приходится на 3000 метров, но есть и небольшой пичок в начале, где-то на 1000 метрах\n",
    "        На боксплоте видим, что медиана находится около 3000 метров, нижний квартиль - около 2600, верхний - около 3900. Также видим выбросы, соответствующим расстояниям меньше 800 или больше 5600 метров.\n",
    "- **`продолжительность поездок`**\n",
    "        В целом, распределение по продолжительности поездок распределено нормально, максимум приходится на 17-18 минут, большинство пользователей укладывается в 10-25 минут\n",
    "        На боксплоте видим, что медиана около 18 минут, нижний квартиль в районе 14 минут, верхний - 22 минуты. Также видим выбросы, соответствующие времени, которое либо меньше 2 минут, либо больше 34."
   ]
  },
  {
   "cell_type": "markdown",
   "id": "4ef51331",
   "metadata": {},
   "source": [
    "## Шаг 4. Объединение данных"
   ]
  },
  {
   "cell_type": "markdown",
   "id": "0affce29",
   "metadata": {},
   "source": [
    "### Объедините данные о пользователях, поездках и подписках в один датафрейм\n",
    "Для этого воспользуйтесь методом `merge()`."
   ]
  },
  {
   "cell_type": "markdown",
   "id": "fbca19be",
   "metadata": {},
   "source": [
    "Сначала объединим пользователей и поездки. Заметим, что у них есть общий столбец - `user_id`. По нему и будем объединять:"
   ]
  },
  {
   "cell_type": "code",
   "execution_count": 35,
   "id": "920cac57",
   "metadata": {},
   "outputs": [],
   "source": [
    "users_rides = users.merge(rides, on = 'user_id', how = 'right')"
   ]
  },
  {
   "cell_type": "markdown",
   "id": "9d65c187",
   "metadata": {},
   "source": [
    "Выведем первые пять строк получившегося датафрейма и информацию о нём"
   ]
  },
  {
   "cell_type": "code",
   "execution_count": 36,
   "id": "27078f1a",
   "metadata": {
    "scrolled": true
   },
   "outputs": [
    {
     "data": {
      "text/html": [
       "<div>\n",
       "<style scoped>\n",
       "    .dataframe tbody tr th:only-of-type {\n",
       "        vertical-align: middle;\n",
       "    }\n",
       "\n",
       "    .dataframe tbody tr th {\n",
       "        vertical-align: top;\n",
       "    }\n",
       "\n",
       "    .dataframe thead th {\n",
       "        text-align: right;\n",
       "    }\n",
       "</style>\n",
       "<table border=\"1\" class=\"dataframe\">\n",
       "  <thead>\n",
       "    <tr style=\"text-align: right;\">\n",
       "      <th></th>\n",
       "      <th>user_id</th>\n",
       "      <th>name</th>\n",
       "      <th>age</th>\n",
       "      <th>city</th>\n",
       "      <th>subscription_type</th>\n",
       "      <th>distance</th>\n",
       "      <th>duration</th>\n",
       "      <th>date</th>\n",
       "      <th>month</th>\n",
       "    </tr>\n",
       "  </thead>\n",
       "  <tbody>\n",
       "    <tr>\n",
       "      <th>0</th>\n",
       "      <td>1</td>\n",
       "      <td>Кира</td>\n",
       "      <td>22</td>\n",
       "      <td>Тюмень</td>\n",
       "      <td>ultra</td>\n",
       "      <td>4409.919140</td>\n",
       "      <td>25.599769</td>\n",
       "      <td>2021-01-01</td>\n",
       "      <td>1</td>\n",
       "    </tr>\n",
       "    <tr>\n",
       "      <th>1</th>\n",
       "      <td>1</td>\n",
       "      <td>Кира</td>\n",
       "      <td>22</td>\n",
       "      <td>Тюмень</td>\n",
       "      <td>ultra</td>\n",
       "      <td>2617.592153</td>\n",
       "      <td>15.816871</td>\n",
       "      <td>2021-01-18</td>\n",
       "      <td>1</td>\n",
       "    </tr>\n",
       "    <tr>\n",
       "      <th>2</th>\n",
       "      <td>1</td>\n",
       "      <td>Кира</td>\n",
       "      <td>22</td>\n",
       "      <td>Тюмень</td>\n",
       "      <td>ultra</td>\n",
       "      <td>754.159807</td>\n",
       "      <td>6.232113</td>\n",
       "      <td>2021-04-20</td>\n",
       "      <td>4</td>\n",
       "    </tr>\n",
       "    <tr>\n",
       "      <th>3</th>\n",
       "      <td>1</td>\n",
       "      <td>Кира</td>\n",
       "      <td>22</td>\n",
       "      <td>Тюмень</td>\n",
       "      <td>ultra</td>\n",
       "      <td>2694.783254</td>\n",
       "      <td>18.511000</td>\n",
       "      <td>2021-08-11</td>\n",
       "      <td>8</td>\n",
       "    </tr>\n",
       "    <tr>\n",
       "      <th>4</th>\n",
       "      <td>1</td>\n",
       "      <td>Кира</td>\n",
       "      <td>22</td>\n",
       "      <td>Тюмень</td>\n",
       "      <td>ultra</td>\n",
       "      <td>4028.687306</td>\n",
       "      <td>26.265803</td>\n",
       "      <td>2021-08-28</td>\n",
       "      <td>8</td>\n",
       "    </tr>\n",
       "  </tbody>\n",
       "</table>\n",
       "</div>"
      ],
      "text/plain": [
       "   user_id  name  age    city subscription_type     distance   duration  \\\n",
       "0        1  Кира   22  Тюмень             ultra  4409.919140  25.599769   \n",
       "1        1  Кира   22  Тюмень             ultra  2617.592153  15.816871   \n",
       "2        1  Кира   22  Тюмень             ultra   754.159807   6.232113   \n",
       "3        1  Кира   22  Тюмень             ultra  2694.783254  18.511000   \n",
       "4        1  Кира   22  Тюмень             ultra  4028.687306  26.265803   \n",
       "\n",
       "        date  month  \n",
       "0 2021-01-01      1  \n",
       "1 2021-01-18      1  \n",
       "2 2021-04-20      4  \n",
       "3 2021-08-11      8  \n",
       "4 2021-08-28      8  "
      ]
     },
     "execution_count": 36,
     "metadata": {},
     "output_type": "execute_result"
    }
   ],
   "source": [
    "users_rides.head()"
   ]
  },
  {
   "cell_type": "code",
   "execution_count": 37,
   "id": "223e7aa3",
   "metadata": {
    "scrolled": true
   },
   "outputs": [
    {
     "name": "stdout",
     "output_type": "stream",
     "text": [
      "<class 'pandas.core.frame.DataFrame'>\n",
      "Int64Index: 18068 entries, 0 to 18067\n",
      "Data columns (total 9 columns):\n",
      " #   Column             Non-Null Count  Dtype         \n",
      "---  ------             --------------  -----         \n",
      " 0   user_id            18068 non-null  int64         \n",
      " 1   name               18068 non-null  object        \n",
      " 2   age                18068 non-null  int64         \n",
      " 3   city               18068 non-null  object        \n",
      " 4   subscription_type  18068 non-null  object        \n",
      " 5   distance           18068 non-null  float64       \n",
      " 6   duration           18068 non-null  float64       \n",
      " 7   date               18068 non-null  datetime64[ns]\n",
      " 8   month              18068 non-null  int64         \n",
      "dtypes: datetime64[ns](1), float64(2), int64(3), object(3)\n",
      "memory usage: 1.4+ MB\n"
     ]
    }
   ],
   "source": [
    "users_rides.info()"
   ]
  },
  {
   "cell_type": "markdown",
   "id": "16d899f4",
   "metadata": {},
   "source": [
    "Прекрасно, первый этап прошёл без проблем, теперь объединим получившийся датафрейм пользователей и поездок с датафреймом подписок. Заметим, что теперь общие столбец - `subscription_type`,- по нему и объединяем"
   ]
  },
  {
   "cell_type": "markdown",
   "id": "e6ebe030",
   "metadata": {},
   "source": []
  },
  {
   "cell_type": "code",
   "execution_count": 38,
   "id": "bb129577",
   "metadata": {},
   "outputs": [],
   "source": [
    "users_rides_subs = users_rides.merge(subscriptions, on = 'subscription_type', how = 'left')"
   ]
  },
  {
   "cell_type": "markdown",
   "id": "d8c90f70",
   "metadata": {},
   "source": [
    "Выведем первые пять строк получившегося датафрейма и информацию о нём"
   ]
  },
  {
   "cell_type": "code",
   "execution_count": 39,
   "id": "f6e79b3f",
   "metadata": {},
   "outputs": [
    {
     "data": {
      "text/html": [
       "<div>\n",
       "<style scoped>\n",
       "    .dataframe tbody tr th:only-of-type {\n",
       "        vertical-align: middle;\n",
       "    }\n",
       "\n",
       "    .dataframe tbody tr th {\n",
       "        vertical-align: top;\n",
       "    }\n",
       "\n",
       "    .dataframe thead th {\n",
       "        text-align: right;\n",
       "    }\n",
       "</style>\n",
       "<table border=\"1\" class=\"dataframe\">\n",
       "  <thead>\n",
       "    <tr style=\"text-align: right;\">\n",
       "      <th></th>\n",
       "      <th>user_id</th>\n",
       "      <th>name</th>\n",
       "      <th>age</th>\n",
       "      <th>city</th>\n",
       "      <th>subscription_type</th>\n",
       "      <th>distance</th>\n",
       "      <th>duration</th>\n",
       "      <th>date</th>\n",
       "      <th>month</th>\n",
       "      <th>minute_price</th>\n",
       "      <th>start_ride_price</th>\n",
       "      <th>subscription_fee</th>\n",
       "    </tr>\n",
       "  </thead>\n",
       "  <tbody>\n",
       "    <tr>\n",
       "      <th>0</th>\n",
       "      <td>1</td>\n",
       "      <td>Кира</td>\n",
       "      <td>22</td>\n",
       "      <td>Тюмень</td>\n",
       "      <td>ultra</td>\n",
       "      <td>4409.919140</td>\n",
       "      <td>25.599769</td>\n",
       "      <td>2021-01-01</td>\n",
       "      <td>1</td>\n",
       "      <td>6</td>\n",
       "      <td>0</td>\n",
       "      <td>199</td>\n",
       "    </tr>\n",
       "    <tr>\n",
       "      <th>1</th>\n",
       "      <td>1</td>\n",
       "      <td>Кира</td>\n",
       "      <td>22</td>\n",
       "      <td>Тюмень</td>\n",
       "      <td>ultra</td>\n",
       "      <td>2617.592153</td>\n",
       "      <td>15.816871</td>\n",
       "      <td>2021-01-18</td>\n",
       "      <td>1</td>\n",
       "      <td>6</td>\n",
       "      <td>0</td>\n",
       "      <td>199</td>\n",
       "    </tr>\n",
       "    <tr>\n",
       "      <th>2</th>\n",
       "      <td>1</td>\n",
       "      <td>Кира</td>\n",
       "      <td>22</td>\n",
       "      <td>Тюмень</td>\n",
       "      <td>ultra</td>\n",
       "      <td>754.159807</td>\n",
       "      <td>6.232113</td>\n",
       "      <td>2021-04-20</td>\n",
       "      <td>4</td>\n",
       "      <td>6</td>\n",
       "      <td>0</td>\n",
       "      <td>199</td>\n",
       "    </tr>\n",
       "    <tr>\n",
       "      <th>3</th>\n",
       "      <td>1</td>\n",
       "      <td>Кира</td>\n",
       "      <td>22</td>\n",
       "      <td>Тюмень</td>\n",
       "      <td>ultra</td>\n",
       "      <td>2694.783254</td>\n",
       "      <td>18.511000</td>\n",
       "      <td>2021-08-11</td>\n",
       "      <td>8</td>\n",
       "      <td>6</td>\n",
       "      <td>0</td>\n",
       "      <td>199</td>\n",
       "    </tr>\n",
       "    <tr>\n",
       "      <th>4</th>\n",
       "      <td>1</td>\n",
       "      <td>Кира</td>\n",
       "      <td>22</td>\n",
       "      <td>Тюмень</td>\n",
       "      <td>ultra</td>\n",
       "      <td>4028.687306</td>\n",
       "      <td>26.265803</td>\n",
       "      <td>2021-08-28</td>\n",
       "      <td>8</td>\n",
       "      <td>6</td>\n",
       "      <td>0</td>\n",
       "      <td>199</td>\n",
       "    </tr>\n",
       "  </tbody>\n",
       "</table>\n",
       "</div>"
      ],
      "text/plain": [
       "   user_id  name  age    city subscription_type     distance   duration  \\\n",
       "0        1  Кира   22  Тюмень             ultra  4409.919140  25.599769   \n",
       "1        1  Кира   22  Тюмень             ultra  2617.592153  15.816871   \n",
       "2        1  Кира   22  Тюмень             ultra   754.159807   6.232113   \n",
       "3        1  Кира   22  Тюмень             ultra  2694.783254  18.511000   \n",
       "4        1  Кира   22  Тюмень             ultra  4028.687306  26.265803   \n",
       "\n",
       "        date  month  minute_price  start_ride_price  subscription_fee  \n",
       "0 2021-01-01      1             6                 0               199  \n",
       "1 2021-01-18      1             6                 0               199  \n",
       "2 2021-04-20      4             6                 0               199  \n",
       "3 2021-08-11      8             6                 0               199  \n",
       "4 2021-08-28      8             6                 0               199  "
      ]
     },
     "execution_count": 39,
     "metadata": {},
     "output_type": "execute_result"
    }
   ],
   "source": [
    "users_rides_subs.head()"
   ]
  },
  {
   "cell_type": "code",
   "execution_count": 40,
   "id": "88cd3fb3",
   "metadata": {
    "scrolled": true
   },
   "outputs": [
    {
     "name": "stdout",
     "output_type": "stream",
     "text": [
      "<class 'pandas.core.frame.DataFrame'>\n",
      "Int64Index: 18068 entries, 0 to 18067\n",
      "Data columns (total 12 columns):\n",
      " #   Column             Non-Null Count  Dtype         \n",
      "---  ------             --------------  -----         \n",
      " 0   user_id            18068 non-null  int64         \n",
      " 1   name               18068 non-null  object        \n",
      " 2   age                18068 non-null  int64         \n",
      " 3   city               18068 non-null  object        \n",
      " 4   subscription_type  18068 non-null  object        \n",
      " 5   distance           18068 non-null  float64       \n",
      " 6   duration           18068 non-null  float64       \n",
      " 7   date               18068 non-null  datetime64[ns]\n",
      " 8   month              18068 non-null  int64         \n",
      " 9   minute_price       18068 non-null  int64         \n",
      " 10  start_ride_price   18068 non-null  int64         \n",
      " 11  subscription_fee   18068 non-null  int64         \n",
      "dtypes: datetime64[ns](1), float64(2), int64(6), object(3)\n",
      "memory usage: 1.8+ MB\n"
     ]
    }
   ],
   "source": [
    "users_rides_subs.info()"
   ]
  },
  {
   "cell_type": "markdown",
   "id": "2c6ee522",
   "metadata": {},
   "source": [
    "Мы сформировали объединенный датафрейм пользователей с их поездками и подписками!"
   ]
  },
  {
   "cell_type": "markdown",
   "id": "ef22b906",
   "metadata": {},
   "source": [
    "### Создайте ещё два датафрейма из датафрейма, созданного на предыдущем этапе\n",
    "- c данными о пользователях без подписки;\n",
    "- с данными о пользователях с подпиской.\n",
    "\n",
    "В каждом обновляем индексы"
   ]
  },
  {
   "cell_type": "code",
   "execution_count": 41,
   "id": "3cca372c",
   "metadata": {},
   "outputs": [],
   "source": [
    "# датафрейм пользователей без подписки\n",
    "no_sub_users = users_rides_subs.query('subscription_type == \"free\"').reset_index(drop=True)\n",
    "\n",
    "# датафрейм пользователей c подпиской\n",
    "sub_users = users_rides_subs.query('~(subscription_type == \"free\")').reset_index(drop=True)"
   ]
  },
  {
   "cell_type": "markdown",
   "id": "1f0852fa",
   "metadata": {},
   "source": [
    "Выведем каждый из них на экран:"
   ]
  },
  {
   "cell_type": "code",
   "execution_count": 42,
   "id": "1cca3b8f",
   "metadata": {
    "scrolled": true
   },
   "outputs": [
    {
     "data": {
      "text/html": [
       "<div>\n",
       "<style scoped>\n",
       "    .dataframe tbody tr th:only-of-type {\n",
       "        vertical-align: middle;\n",
       "    }\n",
       "\n",
       "    .dataframe tbody tr th {\n",
       "        vertical-align: top;\n",
       "    }\n",
       "\n",
       "    .dataframe thead th {\n",
       "        text-align: right;\n",
       "    }\n",
       "</style>\n",
       "<table border=\"1\" class=\"dataframe\">\n",
       "  <thead>\n",
       "    <tr style=\"text-align: right;\">\n",
       "      <th></th>\n",
       "      <th>user_id</th>\n",
       "      <th>name</th>\n",
       "      <th>age</th>\n",
       "      <th>city</th>\n",
       "      <th>subscription_type</th>\n",
       "      <th>distance</th>\n",
       "      <th>duration</th>\n",
       "      <th>date</th>\n",
       "      <th>month</th>\n",
       "      <th>minute_price</th>\n",
       "      <th>start_ride_price</th>\n",
       "      <th>subscription_fee</th>\n",
       "    </tr>\n",
       "  </thead>\n",
       "  <tbody>\n",
       "    <tr>\n",
       "      <th>0</th>\n",
       "      <td>700</td>\n",
       "      <td>Айдар</td>\n",
       "      <td>22</td>\n",
       "      <td>Омск</td>\n",
       "      <td>free</td>\n",
       "      <td>2515.690719</td>\n",
       "      <td>14.944286</td>\n",
       "      <td>2021-01-02</td>\n",
       "      <td>1</td>\n",
       "      <td>8</td>\n",
       "      <td>50</td>\n",
       "      <td>0</td>\n",
       "    </tr>\n",
       "    <tr>\n",
       "      <th>1</th>\n",
       "      <td>700</td>\n",
       "      <td>Айдар</td>\n",
       "      <td>22</td>\n",
       "      <td>Омск</td>\n",
       "      <td>free</td>\n",
       "      <td>846.932642</td>\n",
       "      <td>16.234663</td>\n",
       "      <td>2021-02-01</td>\n",
       "      <td>2</td>\n",
       "      <td>8</td>\n",
       "      <td>50</td>\n",
       "      <td>0</td>\n",
       "    </tr>\n",
       "    <tr>\n",
       "      <th>2</th>\n",
       "      <td>700</td>\n",
       "      <td>Айдар</td>\n",
       "      <td>22</td>\n",
       "      <td>Омск</td>\n",
       "      <td>free</td>\n",
       "      <td>4004.434142</td>\n",
       "      <td>20.016628</td>\n",
       "      <td>2021-02-04</td>\n",
       "      <td>2</td>\n",
       "      <td>8</td>\n",
       "      <td>50</td>\n",
       "      <td>0</td>\n",
       "    </tr>\n",
       "    <tr>\n",
       "      <th>3</th>\n",
       "      <td>700</td>\n",
       "      <td>Айдар</td>\n",
       "      <td>22</td>\n",
       "      <td>Омск</td>\n",
       "      <td>free</td>\n",
       "      <td>1205.911290</td>\n",
       "      <td>9.782872</td>\n",
       "      <td>2021-02-10</td>\n",
       "      <td>2</td>\n",
       "      <td>8</td>\n",
       "      <td>50</td>\n",
       "      <td>0</td>\n",
       "    </tr>\n",
       "    <tr>\n",
       "      <th>4</th>\n",
       "      <td>700</td>\n",
       "      <td>Айдар</td>\n",
       "      <td>22</td>\n",
       "      <td>Омск</td>\n",
       "      <td>free</td>\n",
       "      <td>3047.379435</td>\n",
       "      <td>17.427673</td>\n",
       "      <td>2021-02-14</td>\n",
       "      <td>2</td>\n",
       "      <td>8</td>\n",
       "      <td>50</td>\n",
       "      <td>0</td>\n",
       "    </tr>\n",
       "  </tbody>\n",
       "</table>\n",
       "</div>"
      ],
      "text/plain": [
       "   user_id   name  age  city subscription_type     distance   duration  \\\n",
       "0      700  Айдар   22  Омск              free  2515.690719  14.944286   \n",
       "1      700  Айдар   22  Омск              free   846.932642  16.234663   \n",
       "2      700  Айдар   22  Омск              free  4004.434142  20.016628   \n",
       "3      700  Айдар   22  Омск              free  1205.911290   9.782872   \n",
       "4      700  Айдар   22  Омск              free  3047.379435  17.427673   \n",
       "\n",
       "        date  month  minute_price  start_ride_price  subscription_fee  \n",
       "0 2021-01-02      1             8                50                 0  \n",
       "1 2021-02-01      2             8                50                 0  \n",
       "2 2021-02-04      2             8                50                 0  \n",
       "3 2021-02-10      2             8                50                 0  \n",
       "4 2021-02-14      2             8                50                 0  "
      ]
     },
     "execution_count": 42,
     "metadata": {},
     "output_type": "execute_result"
    }
   ],
   "source": [
    "no_sub_users.head()"
   ]
  },
  {
   "cell_type": "code",
   "execution_count": 43,
   "id": "2dc4a068",
   "metadata": {
    "scrolled": true
   },
   "outputs": [
    {
     "data": {
      "text/html": [
       "<div>\n",
       "<style scoped>\n",
       "    .dataframe tbody tr th:only-of-type {\n",
       "        vertical-align: middle;\n",
       "    }\n",
       "\n",
       "    .dataframe tbody tr th {\n",
       "        vertical-align: top;\n",
       "    }\n",
       "\n",
       "    .dataframe thead th {\n",
       "        text-align: right;\n",
       "    }\n",
       "</style>\n",
       "<table border=\"1\" class=\"dataframe\">\n",
       "  <thead>\n",
       "    <tr style=\"text-align: right;\">\n",
       "      <th></th>\n",
       "      <th>user_id</th>\n",
       "      <th>name</th>\n",
       "      <th>age</th>\n",
       "      <th>city</th>\n",
       "      <th>subscription_type</th>\n",
       "      <th>distance</th>\n",
       "      <th>duration</th>\n",
       "      <th>date</th>\n",
       "      <th>month</th>\n",
       "      <th>minute_price</th>\n",
       "      <th>start_ride_price</th>\n",
       "      <th>subscription_fee</th>\n",
       "    </tr>\n",
       "  </thead>\n",
       "  <tbody>\n",
       "    <tr>\n",
       "      <th>0</th>\n",
       "      <td>1</td>\n",
       "      <td>Кира</td>\n",
       "      <td>22</td>\n",
       "      <td>Тюмень</td>\n",
       "      <td>ultra</td>\n",
       "      <td>4409.919140</td>\n",
       "      <td>25.599769</td>\n",
       "      <td>2021-01-01</td>\n",
       "      <td>1</td>\n",
       "      <td>6</td>\n",
       "      <td>0</td>\n",
       "      <td>199</td>\n",
       "    </tr>\n",
       "    <tr>\n",
       "      <th>1</th>\n",
       "      <td>1</td>\n",
       "      <td>Кира</td>\n",
       "      <td>22</td>\n",
       "      <td>Тюмень</td>\n",
       "      <td>ultra</td>\n",
       "      <td>2617.592153</td>\n",
       "      <td>15.816871</td>\n",
       "      <td>2021-01-18</td>\n",
       "      <td>1</td>\n",
       "      <td>6</td>\n",
       "      <td>0</td>\n",
       "      <td>199</td>\n",
       "    </tr>\n",
       "    <tr>\n",
       "      <th>2</th>\n",
       "      <td>1</td>\n",
       "      <td>Кира</td>\n",
       "      <td>22</td>\n",
       "      <td>Тюмень</td>\n",
       "      <td>ultra</td>\n",
       "      <td>754.159807</td>\n",
       "      <td>6.232113</td>\n",
       "      <td>2021-04-20</td>\n",
       "      <td>4</td>\n",
       "      <td>6</td>\n",
       "      <td>0</td>\n",
       "      <td>199</td>\n",
       "    </tr>\n",
       "    <tr>\n",
       "      <th>3</th>\n",
       "      <td>1</td>\n",
       "      <td>Кира</td>\n",
       "      <td>22</td>\n",
       "      <td>Тюмень</td>\n",
       "      <td>ultra</td>\n",
       "      <td>2694.783254</td>\n",
       "      <td>18.511000</td>\n",
       "      <td>2021-08-11</td>\n",
       "      <td>8</td>\n",
       "      <td>6</td>\n",
       "      <td>0</td>\n",
       "      <td>199</td>\n",
       "    </tr>\n",
       "    <tr>\n",
       "      <th>4</th>\n",
       "      <td>1</td>\n",
       "      <td>Кира</td>\n",
       "      <td>22</td>\n",
       "      <td>Тюмень</td>\n",
       "      <td>ultra</td>\n",
       "      <td>4028.687306</td>\n",
       "      <td>26.265803</td>\n",
       "      <td>2021-08-28</td>\n",
       "      <td>8</td>\n",
       "      <td>6</td>\n",
       "      <td>0</td>\n",
       "      <td>199</td>\n",
       "    </tr>\n",
       "  </tbody>\n",
       "</table>\n",
       "</div>"
      ],
      "text/plain": [
       "   user_id  name  age    city subscription_type     distance   duration  \\\n",
       "0        1  Кира   22  Тюмень             ultra  4409.919140  25.599769   \n",
       "1        1  Кира   22  Тюмень             ultra  2617.592153  15.816871   \n",
       "2        1  Кира   22  Тюмень             ultra   754.159807   6.232113   \n",
       "3        1  Кира   22  Тюмень             ultra  2694.783254  18.511000   \n",
       "4        1  Кира   22  Тюмень             ultra  4028.687306  26.265803   \n",
       "\n",
       "        date  month  minute_price  start_ride_price  subscription_fee  \n",
       "0 2021-01-01      1             6                 0               199  \n",
       "1 2021-01-18      1             6                 0               199  \n",
       "2 2021-04-20      4             6                 0               199  \n",
       "3 2021-08-11      8             6                 0               199  \n",
       "4 2021-08-28      8             6                 0               199  "
      ]
     },
     "execution_count": 43,
     "metadata": {},
     "output_type": "execute_result"
    }
   ],
   "source": [
    "sub_users.head()"
   ]
  },
  {
   "cell_type": "markdown",
   "id": "d773eef1",
   "metadata": {},
   "source": [
    "Мы получили два датафрейма для пользователей с и без подписки из исходного"
   ]
  },
  {
   "cell_type": "markdown",
   "id": "238c6e78",
   "metadata": {},
   "source": [
    "### Визуализируйте информацию о расстоянии и времени поездок для пользователей обеих категорий"
   ]
  },
  {
   "cell_type": "markdown",
   "id": "51412619",
   "metadata": {},
   "source": [
    "#### Расстояние и время поездок для пользователей с подпиской"
   ]
  },
  {
   "cell_type": "markdown",
   "id": "8938cd29",
   "metadata": {},
   "source": [
    "Расстояние для пользователей с подпиской:"
   ]
  },
  {
   "cell_type": "code",
   "execution_count": 44,
   "id": "d9d1ec8c",
   "metadata": {},
   "outputs": [
    {
     "data": {
      "image/png": "[encoded data removed]",
      "text/plain": [
       "<Figure size 432x288 with 1 Axes>"
      ]
     },
     "metadata": {},
     "output_type": "display_data"
    }
   ],
   "source": [
    "sns.set(style=\"darkgrid\")\n",
    "\n",
    "sns.histplot(data=sub_users, x=\"distance\", color=\"blue\", kde=True)\n",
    "\n",
    "plt.ylabel('Частота встречаемости')\n",
    "plt.xlabel('Расстояние в метрах')\n",
    "plt.title('График распределения расстояний, пройденных за одну поездку\\\n",
    "          \\nдля пользователей с подпиской')\n",
    "plt.show()"
   ]
  },
  {
   "cell_type": "markdown",
   "id": "07ecffbf",
   "metadata": {},
   "source": [
    "Видим четкий пик на 3000 метрах, а также присутствует пичок на 1000 метрах"
   ]
  },
  {
   "cell_type": "markdown",
   "id": "352446e1",
   "metadata": {},
   "source": [
    "Время для пользователей с подпиской"
   ]
  },
  {
   "cell_type": "code",
   "execution_count": 45,
   "id": "4038403f",
   "metadata": {},
   "outputs": [
    {
     "data": {
      "image/png": "[encoded data removed]",
      "text/plain": [
       "<Figure size 432x288 with 1 Axes>"
      ]
     },
     "metadata": {},
     "output_type": "display_data"
    }
   ],
   "source": [
    "sns.set(style=\"darkgrid\")\n",
    "\n",
    "sns.histplot(data=sub_users, x=\"duration\", color=\"red\", kde=True)\n",
    "\n",
    "plt.ylabel('Частота встречаемости')\n",
    "plt.xlabel('Время в минутах')\n",
    "plt.title('График распределения времени, затраченного на одну поездку\\\n",
    "          \\nдля пользователей с подпиской')\n",
    "plt.show()"
   ]
  },
  {
   "cell_type": "markdown",
   "id": "a72bd1ef",
   "metadata": {},
   "source": [
    "Большинство тратит на поездку от 10 до 25 минут"
   ]
  },
  {
   "cell_type": "markdown",
   "id": "78271576",
   "metadata": {},
   "source": [
    "#### Расстояние и время поездок для пользователей без подписки"
   ]
  },
  {
   "cell_type": "markdown",
   "id": "8a518425",
   "metadata": {},
   "source": [
    "Расстояние для пользователей без подписки"
   ]
  },
  {
   "cell_type": "code",
   "execution_count": 46,
   "id": "ba65f530",
   "metadata": {
    "scrolled": true
   },
   "outputs": [
    {
     "data": {
      "image/png": "[encoded data removed]",
      "text/plain": [
       "<Figure size 432x288 with 1 Axes>"
      ]
     },
     "metadata": {},
     "output_type": "display_data"
    }
   ],
   "source": [
    "sns.set(style=\"darkgrid\")\n",
    "\n",
    "sns.histplot(data=no_sub_users, x=\"distance\", color=\"blue\", kde=True)\n",
    "\n",
    "plt.ylabel('Частота встречаемости')\n",
    "plt.xlabel('Расстояние в метрах')\n",
    "plt.title('График распределения расстояний, пройденных за одну поездку\\\n",
    "          \\nдля пользователей без подписки')\n",
    "plt.show()"
   ]
  },
  {
   "cell_type": "markdown",
   "id": "98749dc2",
   "metadata": {},
   "source": [
    "Видим плато на максимуме поездок от 2500 до 4000 метров, также видим более выраженный, чем у пользователей с подпиской, пик на примерно 500 метрах. Судя по такой разнице, можно предположить, что подписка дает более продолжительную короткую поездку с бонусом или скидкой или чем-то около того. Без подписки это расстояние раза в два меньше"
   ]
  },
  {
   "cell_type": "markdown",
   "id": "eb89c984",
   "metadata": {},
   "source": [
    "Время для пользователей без подписки"
   ]
  },
  {
   "cell_type": "code",
   "execution_count": 47,
   "id": "314167fe",
   "metadata": {
    "scrolled": true
   },
   "outputs": [
    {
     "data": {
      "image/png": "[encoded data removed]",
      "text/plain": [
       "<Figure size 432x288 with 1 Axes>"
      ]
     },
     "metadata": {},
     "output_type": "display_data"
    }
   ],
   "source": [
    "sns.set(style=\"darkgrid\")\n",
    "\n",
    "sns.histplot(data=no_sub_users, x=\"duration\", color=\"red\", kde=True)\n",
    "\n",
    "plt.ylabel('Частота встречаемости')\n",
    "plt.xlabel('Время в минутах')\n",
    "plt.title('График распределения времени, затраченного на одну поездку\\\n",
    "          \\nдля пользователей без подписки')\n",
    "plt.show()"
   ]
  },
  {
   "cell_type": "markdown",
   "id": "bb5df0e7",
   "metadata": {},
   "source": [
    "Видим, что большинство пользователей укладываются в те же 10-25 минут, что и пользователи с подпиской"
   ]
  },
  {
   "cell_type": "markdown",
   "id": "6595749b",
   "metadata": {},
   "source": [
    "Попробуем построить по два графика для расстояния и времени для этих пользователей рядом, чтобы оценить разницу визуально: "
   ]
  },
  {
   "cell_type": "code",
   "execution_count": 48,
   "id": "53f0a7ab",
   "metadata": {
    "scrolled": true
   },
   "outputs": [
    {
     "data": {
      "image/png": "[encoded data removed]",
      "text/plain": [
       "<Figure size 432x288 with 1 Axes>"
      ]
     },
     "metadata": {},
     "output_type": "display_data"
    }
   ],
   "source": [
    "sns.histplot(data=sub_users, x=\"distance\", color=\"blue\", label=\"С подпиской\", kde=True)\n",
    "sns.histplot(data=no_sub_users, x=\"distance\", color=\"red\", label=\"Без подписки\", kde=True)\n",
    "\n",
    "plt.ylabel('Частота встречаемости')\n",
    "plt.xlabel('Расстояние за поездку в метрах')\n",
    "plt.legend() \n",
    "plt.title('Общий график распределения расстояний, пройденных за одну поездку\\\n",
    "          \\nдля пользователей с подпиской и без')\n",
    "plt.show()"
   ]
  },
  {
   "cell_type": "markdown",
   "id": "33985ed8",
   "metadata": {},
   "source": [
    "Видим это смещение маленького пика для пользователей с подпиской и без. Для пользователей без подписки его максимум приходится на меньшее расстояние, чем для пользователей с подпиской. Также четко видно разницу в форме распределений для расстояний между пользователями с подпиской и без - у пользователей без подписки более в зоне максимума плато от 2 до 4 тысяч метров, в то время как у пользователей с подпиской виден ярко выраженный пик на 3000 метрах. После 3 тысяч метров у пользователей без подписки идёт плавное снижение в ноль к 7 тысячам метров, в то время как у пользователей с подпиской идет снижение до примерно трети от максимума к 4 тысячам метров, небольшое замедение падения с пологостью до 4300 метров, и затем падение в ноль к 5500 метров.\n",
    "\n",
    "Видно, что распределение по расстояниям у пользователей без подписки шире (вполне логично, что без подписки особо бонусов или скидок нет, поэтому и пользоваться самокатами они будут для более длительных целей, не просто так покататься)."
   ]
  },
  {
   "cell_type": "code",
   "execution_count": 49,
   "id": "7c5e270a",
   "metadata": {
    "scrolled": true
   },
   "outputs": [
    {
     "data": {
      "image/png": "[encoded data removed]",
      "text/plain": [
       "<Figure size 432x288 with 1 Axes>"
      ]
     },
     "metadata": {},
     "output_type": "display_data"
    }
   ],
   "source": [
    "sns.histplot(data=sub_users, x=\"duration\", color=\"blue\", label=\"С подпиской\", kde=True)\n",
    "sns.histplot(data=no_sub_users, x=\"duration\", color=\"red\", label=\"Без подписки\", kde=True)\n",
    "\n",
    "plt.ylabel('Частота встречаемости')\n",
    "plt.xlabel('Время, затраченное на поездку')\n",
    "plt.title('Общий график распределения времени, затраченного на одну поездку\\\n",
    "          \\nдля пользователей с подпиской и без')\n",
    "plt.legend() \n",
    "plt.show()"
   ]
  },
  {
   "cell_type": "markdown",
   "id": "bdbf3793",
   "metadata": {},
   "source": [
    "Время поездки распределно примерно одинаково, только пользователи с подпиской смещены примерно на 5 минут вправо относительно пользователей без подписки"
   ]
  },
  {
   "cell_type": "markdown",
   "id": "22dd1758",
   "metadata": {},
   "source": [
    "### **Промежуточный итог №4**"
   ]
  },
  {
   "cell_type": "markdown",
   "id": "e698c930",
   "metadata": {},
   "source": [
    "Мы проделали несколько действий:\n",
    "- объединили данные о пользователях, поездках и подписках в один датафрейм (пользователей и поездки по id пользователей, получившийся датафрейм объединили с подписками по типу подписки)\n",
    "- добавили два новых датафрейма из объединенного, в один включили пользователей с подпиской, в другой - без подписки\n",
    "- провели визуализацию данных по расстоянию и длительности поездки для пользователей с подпиской и без неё\n",
    "    - **Растояния** распределены по-разному:        \n",
    "        Для пользователей `с подпиской`. Видим четкий пик на 3000 метрах, а также присутствует пичок на 1000 метрах.         \n",
    "        Пользователи `без подписки`. Видим плато на максимуме поездок от 2500 до 4000 метров, также видим более выраженный, чем у пользователей с подпиской, пик на примерно 500 метрах. Судя по такой разнице, можно предположить, что подписка дает более продолжительную короткую поездку с бонусом или скидкой или чем-то около того. Без подписки это расстояние раза в два меньше.     \n",
    "        Если сравнивать на одном графике: видим это смещение маленького пика для пользователей с подпиской и без. Для пользователей без подписки его максимум приходится на меньшее расстояние, чем для пользователей с подпиской. Также четко видно разницу в форме распределений для расстояний между пользователями с подпиской и без - у пользователей без подписки более в зоне максимума плато от 2 до 4 тысяч метров, в то время как у пользователей с подпиской виден ярко выраженный пик на 3000 метрах. После 3 тысяч метров у пользователей без подписки идёт плавное снижение в ноль к 7 тысячам метров, в то время как у пользователей с подпиской идет снижение до примерно трети от максимума к 4 тысячам метров, небольшое замедение падения с пологостью до 4300 метров, и затем падение в ноль к 5500 метров. \n",
    "        Также видно, что распределение по расстояниям у пользователей без подписки шире (вполне логично, что без подписки особо бонусов или скидок нет, поэтому и пользоваться самокатами они будут для более длительных целей, не просто так покататься).        \n",
    "\n",
    "    - **Время поездки** распределено очень похоже: большинство пользователей что с подпиской, что без неё укладываются в примерно 10-25 минут поездки, единственное, времена поездкок пользователей с подпиской смещены относительно пользователей без подписки на примерно 5 минут."
   ]
  },
  {
   "cell_type": "markdown",
   "id": "402d620f",
   "metadata": {},
   "source": [
    "## Шаг 5. Подсчёт выручки"
   ]
  },
  {
   "cell_type": "markdown",
   "id": "92f9ee1d",
   "metadata": {},
   "source": [
    "### Агрегация данных\n",
    "Создайте датафрейм с агрегированными данными о поездках на основе датафрейма с объединёнными данными из шага 4: найдите суммарное расстояние, количество поездок и суммарное время для каждого пользователя за каждый месяц."
   ]
  },
  {
   "cell_type": "markdown",
   "id": "77c0c729",
   "metadata": {},
   "source": [
    "Сгруппируем данные по пользователям и месяцам и рассчитаем необходимые стобцы. После обсчета выведем первые десять строк на экран"
   ]
  },
  {
   "cell_type": "markdown",
   "id": "008db7b8",
   "metadata": {},
   "source": [
    "Проверим объединенный датафрейм на наличие пропусков и дупликатов:"
   ]
  },
  {
   "cell_type": "code",
   "execution_count": 50,
   "id": "6dca7db5",
   "metadata": {
    "scrolled": true
   },
   "outputs": [
    {
     "data": {
      "text/plain": [
       "user_id              0\n",
       "name                 0\n",
       "age                  0\n",
       "city                 0\n",
       "subscription_type    0\n",
       "distance             0\n",
       "duration             0\n",
       "date                 0\n",
       "month                0\n",
       "minute_price         0\n",
       "start_ride_price     0\n",
       "subscription_fee     0\n",
       "dtype: int64"
      ]
     },
     "execution_count": 50,
     "metadata": {},
     "output_type": "execute_result"
    }
   ],
   "source": [
    "users_rides_subs.isna().sum()"
   ]
  },
  {
   "cell_type": "code",
   "execution_count": 51,
   "id": "7996617d",
   "metadata": {},
   "outputs": [
    {
     "data": {
      "text/plain": [
       "0"
      ]
     },
     "execution_count": 51,
     "metadata": {},
     "output_type": "execute_result"
    }
   ],
   "source": [
    "users_rides_subs.duplicated().sum()"
   ]
  },
  {
   "cell_type": "markdown",
   "id": "ff2985ca",
   "metadata": {},
   "source": [
    "Пропусков и дупликатов нет, строим сводную таблицу"
   ]
  },
  {
   "cell_type": "code",
   "execution_count": 52,
   "id": "1c3fd59d",
   "metadata": {
    "scrolled": false
   },
   "outputs": [
    {
     "data": {
      "text/html": [
       "<div>\n",
       "<style scoped>\n",
       "    .dataframe tbody tr th:only-of-type {\n",
       "        vertical-align: middle;\n",
       "    }\n",
       "\n",
       "    .dataframe tbody tr th {\n",
       "        vertical-align: top;\n",
       "    }\n",
       "\n",
       "    .dataframe thead tr th {\n",
       "        text-align: left;\n",
       "    }\n",
       "\n",
       "    .dataframe thead tr:last-of-type th {\n",
       "        text-align: right;\n",
       "    }\n",
       "</style>\n",
       "<table border=\"1\" class=\"dataframe\">\n",
       "  <thead>\n",
       "    <tr>\n",
       "      <th></th>\n",
       "      <th></th>\n",
       "      <th colspan=\"2\" halign=\"left\">distance</th>\n",
       "      <th>duration</th>\n",
       "      <th>minute_price</th>\n",
       "      <th>start_ride_price</th>\n",
       "      <th>subscription_fee</th>\n",
       "      <th>subscription_type</th>\n",
       "    </tr>\n",
       "    <tr>\n",
       "      <th></th>\n",
       "      <th></th>\n",
       "      <th>count</th>\n",
       "      <th>per_month</th>\n",
       "      <th>per_month</th>\n",
       "      <th>first</th>\n",
       "      <th>first</th>\n",
       "      <th>first</th>\n",
       "      <th>first</th>\n",
       "    </tr>\n",
       "    <tr>\n",
       "      <th>user_id</th>\n",
       "      <th>month</th>\n",
       "      <th></th>\n",
       "      <th></th>\n",
       "      <th></th>\n",
       "      <th></th>\n",
       "      <th></th>\n",
       "      <th></th>\n",
       "      <th></th>\n",
       "    </tr>\n",
       "  </thead>\n",
       "  <tbody>\n",
       "    <tr>\n",
       "      <th rowspan=\"5\" valign=\"top\">1</th>\n",
       "      <th>1</th>\n",
       "      <td>2.0</td>\n",
       "      <td>7027.511294</td>\n",
       "      <td>42.0</td>\n",
       "      <td>6</td>\n",
       "      <td>0</td>\n",
       "      <td>199</td>\n",
       "      <td>ultra</td>\n",
       "    </tr>\n",
       "    <tr>\n",
       "      <th>4</th>\n",
       "      <td>1.0</td>\n",
       "      <td>754.159807</td>\n",
       "      <td>7.0</td>\n",
       "      <td>6</td>\n",
       "      <td>0</td>\n",
       "      <td>199</td>\n",
       "      <td>ultra</td>\n",
       "    </tr>\n",
       "    <tr>\n",
       "      <th>8</th>\n",
       "      <td>2.0</td>\n",
       "      <td>6723.470560</td>\n",
       "      <td>45.0</td>\n",
       "      <td>6</td>\n",
       "      <td>0</td>\n",
       "      <td>199</td>\n",
       "      <td>ultra</td>\n",
       "    </tr>\n",
       "    <tr>\n",
       "      <th>10</th>\n",
       "      <td>2.0</td>\n",
       "      <td>5809.911100</td>\n",
       "      <td>32.0</td>\n",
       "      <td>6</td>\n",
       "      <td>0</td>\n",
       "      <td>199</td>\n",
       "      <td>ultra</td>\n",
       "    </tr>\n",
       "    <tr>\n",
       "      <th>11</th>\n",
       "      <td>3.0</td>\n",
       "      <td>7003.499363</td>\n",
       "      <td>54.0</td>\n",
       "      <td>6</td>\n",
       "      <td>0</td>\n",
       "      <td>199</td>\n",
       "      <td>ultra</td>\n",
       "    </tr>\n",
       "  </tbody>\n",
       "</table>\n",
       "</div>"
      ],
      "text/plain": [
       "              distance               duration minute_price start_ride_price  \\\n",
       "                 count    per_month per_month        first            first   \n",
       "user_id month                                                                 \n",
       "1       1          2.0  7027.511294      42.0            6                0   \n",
       "        4          1.0   754.159807       7.0            6                0   \n",
       "        8          2.0  6723.470560      45.0            6                0   \n",
       "        10         2.0  5809.911100      32.0            6                0   \n",
       "        11         3.0  7003.499363      54.0            6                0   \n",
       "\n",
       "              subscription_fee subscription_type  \n",
       "                         first             first  \n",
       "user_id month                                     \n",
       "1       1                  199             ultra  \n",
       "        4                  199             ultra  \n",
       "        8                  199             ultra  \n",
       "        10                 199             ultra  \n",
       "        11                 199             ultra  "
      ]
     },
     "execution_count": 52,
     "metadata": {},
     "output_type": "execute_result"
    }
   ],
   "source": [
    "sum_users = pd.pivot_table(users_rides_subs, \n",
    "                           index = ['user_id','month'], \n",
    "                           values = ['distance','duration','start_ride_price', 'minute_price', 'subscription_fee', 'subscription_type'], \n",
    "                           aggfunc = {\"distance\": [sum, len], \"duration\": sum,\n",
    "                                      'minute_price':'first', 'subscription_fee':'first',\n",
    "                                      'start_ride_price':'first', 'subscription_type':'first'})\n",
    "sum_users = sum_users.rename(columns = {'sum':'per_month', 'len':'count'})\n",
    "sum_users['duration'] = np.ceil(sum_users['duration'])\n",
    "sum_users.head()"
   ]
  },
  {
   "cell_type": "markdown",
   "id": "7471a8aa",
   "metadata": {},
   "source": [
    "Проверим также сводную таблицу на наличие пропусков и дупликатов:"
   ]
  },
  {
   "cell_type": "code",
   "execution_count": 53,
   "id": "9802360a",
   "metadata": {
    "scrolled": false
   },
   "outputs": [
    {
     "data": {
      "text/plain": [
       "distance           count        0\n",
       "                   per_month    0\n",
       "duration           per_month    0\n",
       "minute_price       first        0\n",
       "start_ride_price   first        0\n",
       "subscription_fee   first        0\n",
       "subscription_type  first        0\n",
       "dtype: int64"
      ]
     },
     "execution_count": 53,
     "metadata": {},
     "output_type": "execute_result"
    }
   ],
   "source": [
    "sum_users.isna().sum()"
   ]
  },
  {
   "cell_type": "code",
   "execution_count": 54,
   "id": "51eb2a24",
   "metadata": {},
   "outputs": [
    {
     "data": {
      "text/plain": [
       "0"
      ]
     },
     "execution_count": 54,
     "metadata": {},
     "output_type": "execute_result"
    }
   ],
   "source": [
    "sum_users.duplicated().sum()"
   ]
  },
  {
   "cell_type": "markdown",
   "id": "6ab3d5a0",
   "metadata": {},
   "source": [
    "Ни пропусков, ни дупликатов не обнаружено, все супер"
   ]
  },
  {
   "cell_type": "markdown",
   "id": "596b1089",
   "metadata": {},
   "source": [
    "Мы провели агрегацию данных по уникальным id пользователей и месяцам, рассчитав суммарное расстояние за месяц, количество поездок и суммарное время каждого пользователя за месяц и добавили в агрегированный датафрейм"
   ]
  },
  {
   "cell_type": "markdown",
   "id": "2838c990",
   "metadata": {},
   "source": [
    "### Помесячная выручка\n",
    "В этот же датафрейм добавьте столбец с помесячной выручкой, которую принёс каждый пользователь. Для этого обратитесь к информации об условиях оплаты для подписчиков и тех, у кого нет подписки. Продолжительность каждой поездки в каждой строке исходного датафрейма для подсчёта стоимости округляется до следующего целого числа: например, значения 25.3, 25.5 и 26.0 должны быть преобразованы к 26."
   ]
  },
  {
   "cell_type": "code",
   "execution_count": 55,
   "id": "ef3e1628",
   "metadata": {
    "scrolled": false
   },
   "outputs": [
    {
     "data": {
      "text/html": [
       "<div>\n",
       "<style scoped>\n",
       "    .dataframe tbody tr th:only-of-type {\n",
       "        vertical-align: middle;\n",
       "    }\n",
       "\n",
       "    .dataframe tbody tr th {\n",
       "        vertical-align: top;\n",
       "    }\n",
       "\n",
       "    .dataframe thead tr th {\n",
       "        text-align: left;\n",
       "    }\n",
       "\n",
       "    .dataframe thead tr:last-of-type th {\n",
       "        text-align: right;\n",
       "    }\n",
       "</style>\n",
       "<table border=\"1\" class=\"dataframe\">\n",
       "  <thead>\n",
       "    <tr>\n",
       "      <th></th>\n",
       "      <th></th>\n",
       "      <th colspan=\"2\" halign=\"left\">distance</th>\n",
       "      <th>duration</th>\n",
       "      <th>month_revenue</th>\n",
       "      <th>subscription_type</th>\n",
       "    </tr>\n",
       "    <tr>\n",
       "      <th></th>\n",
       "      <th></th>\n",
       "      <th>count</th>\n",
       "      <th>per_month</th>\n",
       "      <th>per_month</th>\n",
       "      <th></th>\n",
       "      <th></th>\n",
       "    </tr>\n",
       "    <tr>\n",
       "      <th>user_id</th>\n",
       "      <th>month</th>\n",
       "      <th></th>\n",
       "      <th></th>\n",
       "      <th></th>\n",
       "      <th></th>\n",
       "      <th></th>\n",
       "    </tr>\n",
       "  </thead>\n",
       "  <tbody>\n",
       "    <tr>\n",
       "      <th rowspan=\"5\" valign=\"top\">1</th>\n",
       "      <th>1</th>\n",
       "      <td>2.0</td>\n",
       "      <td>7027.511294</td>\n",
       "      <td>42.0</td>\n",
       "      <td>451.0</td>\n",
       "      <td>ultra</td>\n",
       "    </tr>\n",
       "    <tr>\n",
       "      <th>4</th>\n",
       "      <td>1.0</td>\n",
       "      <td>754.159807</td>\n",
       "      <td>7.0</td>\n",
       "      <td>241.0</td>\n",
       "      <td>ultra</td>\n",
       "    </tr>\n",
       "    <tr>\n",
       "      <th>8</th>\n",
       "      <td>2.0</td>\n",
       "      <td>6723.470560</td>\n",
       "      <td>45.0</td>\n",
       "      <td>469.0</td>\n",
       "      <td>ultra</td>\n",
       "    </tr>\n",
       "    <tr>\n",
       "      <th>10</th>\n",
       "      <td>2.0</td>\n",
       "      <td>5809.911100</td>\n",
       "      <td>32.0</td>\n",
       "      <td>391.0</td>\n",
       "      <td>ultra</td>\n",
       "    </tr>\n",
       "    <tr>\n",
       "      <th>11</th>\n",
       "      <td>3.0</td>\n",
       "      <td>7003.499363</td>\n",
       "      <td>54.0</td>\n",
       "      <td>523.0</td>\n",
       "      <td>ultra</td>\n",
       "    </tr>\n",
       "  </tbody>\n",
       "</table>\n",
       "</div>"
      ],
      "text/plain": [
       "              distance               duration month_revenue subscription_type\n",
       "                 count    per_month per_month                                \n",
       "user_id month                                                                \n",
       "1       1          2.0  7027.511294      42.0         451.0             ultra\n",
       "        4          1.0   754.159807       7.0         241.0             ultra\n",
       "        8          2.0  6723.470560      45.0         469.0             ultra\n",
       "        10         2.0  5809.911100      32.0         391.0             ultra\n",
       "        11         3.0  7003.499363      54.0         523.0             ultra"
      ]
     },
     "execution_count": 55,
     "metadata": {},
     "output_type": "execute_result"
    }
   ],
   "source": [
    "sum_users['month_revenue'] = (sum_users['distance']['count'] * sum_users['start_ride_price']['first']) + \\\n",
    "(sum_users['duration']['per_month'] * sum_users['minute_price']['first']) + \\\n",
    "sum_users['subscription_fee']['first'] \n",
    "sum_users = sum_users[['distance', 'duration', 'month_revenue', 'subscription_type']]\n",
    "sum_users = sum_users.rename(columns = {'first':''})\n",
    "sum_users.head()"
   ]
  },
  {
   "cell_type": "markdown",
   "id": "37d38864",
   "metadata": {},
   "source": [
    "На основании предыдущего шага мы рассчитали помесячную выручку для каждого пользователя и добавили в агрегированный датафрейм"
   ]
  },
  {
   "cell_type": "markdown",
   "id": "eb29e80e",
   "metadata": {},
   "source": [
    "### **Промежуточный итог №5**\n",
    "\n",
    "Мы создали агрегированный датафрейм с данными по суммарному расстоянию за месяц, количестве поездок, суммарному времени поездок за месяц, а также рассчитали помесячную выручку для каждого пользователя, проверив перед этим наличие пропусков и дупликатов в общем датафрейме. Агрегированный датафрейм также проверили на наличие пропусков и дупликатов."
   ]
  },
  {
   "cell_type": "markdown",
   "id": "41545ac0",
   "metadata": {},
   "source": [
    "## Шаг 6. Проверка гипотез\n",
    "Продакт-менеджеры сервиса хотят увеличить количество пользователей с подпиской. Для этого они будут проводить различные акции, но сначала нужно выяснить несколько важных моментов."
   ]
  },
  {
   "cell_type": "markdown",
   "id": "6da023a2",
   "metadata": {},
   "source": [
    "### Тратят ли пользователи с подпиской больше времени на поездки?\n",
    "Если да, то пользователи с подпиской могут быть «выгоднее» для компании. Проверьте гипотезу. Используйте исходные данные о продолжительности каждой сессии — отдельно для подписчиков и тех, у кого нет подписки."
   ]
  },
  {
   "cell_type": "markdown",
   "id": "9b059736",
   "metadata": {},
   "source": [
    "- $H_0$: различий между временем поездки пользователей с подпиской и без нет\n",
    "- $H_1$: пользователи с подпиской тратят больше времени на поездку"
   ]
  },
  {
   "cell_type": "markdown",
   "id": "9979cb91",
   "metadata": {},
   "source": [
    "Для начала получим необходимые срезы данных: время, затраченное пользователями с подпиской и без за одну поездку."
   ]
  },
  {
   "cell_type": "code",
   "execution_count": 56,
   "id": "96345346",
   "metadata": {
    "scrolled": false
   },
   "outputs": [
    {
     "name": "stdout",
     "output_type": "stream",
     "text": [
      "Размер выборки без подписчиков больше\n"
     ]
    }
   ],
   "source": [
    "import random\n",
    "subs_duration = sub_users['duration']\n",
    "no_subs_duration = no_sub_users['duration']\n",
    "\n",
    "if len(subs_duration) == len(no_subs_duration):\n",
    "    print('Размеры выборок совпадают')\n",
    "elif len(subs_duration) > len(no_subs_duration):\n",
    "    print('Размер выборки с подписчиками больше')\n",
    "else:\n",
    "    print('Размер выборки без подписчиков больше')"
   ]
  },
  {
   "cell_type": "markdown",
   "id": "b20fabd1",
   "metadata": {},
   "source": [
    "Видим, что у нас разные размеры выборок, поэтому надо сделать их одинаковыми. Сгенерируем в список `res` рандомные индексы от 0 до длины минимальной выборки, количество генерируемых индексов положим столько, сколько у нас в минимальной выборке (то есть, её индексы выбирать не придется, только в выборке, которая больше)"
   ]
  },
  {
   "cell_type": "code",
   "execution_count": 57,
   "id": "607b5e53",
   "metadata": {
    "scrolled": false
   },
   "outputs": [
    {
     "name": "stdout",
     "output_type": "stream",
     "text": [
      "Дупликатов в индексах у нас: 0 и 0\n",
      "Проверяем длины итоговых выборок. Первая: 6500 , вторая: 6500\n"
     ]
    }
   ],
   "source": [
    "#генерируем список случайных индексов и проверяем, есть ли дупликаты\n",
    "if len(subs_duration) > len(no_subs_duration):\n",
    "    res_1 = random.sample(range(0, len(no_subs_duration)), len(no_subs_duration))\n",
    "    res_2 = random.sample(range(0, len(subs_duration)), len(no_subs_duration))\n",
    "    dup_1 = [x for i, x in enumerate(res_1) if i != res_1.index(x)]\n",
    "    dup_2 = [x for i, x in enumerate(res_2) if i != res_2.index(x)]\n",
    "    subs_duration_final = sub_users.query('index == @res_2')['duration']\n",
    "    no_subs_duration_final = sub_users.query('index == @res_1')['duration']\n",
    "elif len(subs_duration) < len(no_subs_duration):\n",
    "    res_1 = random.sample(range(0, len(no_subs_duration)), len(subs_duration))\n",
    "    res_2 = random.sample(range(0, len(subs_duration)), len(subs_duration))\n",
    "    dup_1 = [x for i, x in enumerate(res_1) if i != res_1.index(x)]\n",
    "    dup_2 = [x for i, x in enumerate(res_2) if i != res_2.index(x)]\n",
    "    subs_duration_final = sub_users.query('index == @res_2')['duration']\n",
    "    no_subs_duration_final = no_sub_users.query('index == @res_1')['duration']\n",
    "    \n",
    "print('Дупликатов в индексах у нас:',len(dup_1),'и',len(dup_2)) \n",
    "print('Проверяем длины итоговых выборок. Первая:', len(subs_duration_final),', вторая:', len(no_subs_duration_final))"
   ]
  },
  {
   "cell_type": "markdown",
   "id": "044f9f49",
   "metadata": {},
   "source": [
    "Видим, что дупликатов индексов у нас нет, размеры выборок одинаковые, индексы в них сгенерированы рандомно, чтобы получить эти длины (при этом границы рандомизации брал для каждой выборки от 0 до её длины)"
   ]
  },
  {
   "cell_type": "code",
   "execution_count": 58,
   "id": "637c4323",
   "metadata": {
    "scrolled": true
   },
   "outputs": [
    {
     "name": "stdout",
     "output_type": "stream",
     "text": [
      "p-значение равно:3.0555486573064216e-26. Отвергаем нулевую гипотезу\n"
     ]
    }
   ],
   "source": [
    "# проводим ttest для двух выборок, в качестве альтернативной используем одностороннюю гипотезу \"меньше\"\n",
    "# в первую выборку положим продолжительности поездок пользователей с подпиской\n",
    "# во вторую - без подписки\n",
    "\n",
    "alpha = 0.01 # уровень статистической значимости положим 0.01\n",
    "\n",
    "hypotesis_1 = (st.ttest_ind(subs_duration_final, no_subs_duration_final, alternative = 'greater'))\n",
    "\n",
    "if hypotesis_1.pvalue < alpha:\n",
    "    print(f'p-значение равно:{hypotesis_1.pvalue}. Отвергаем нулевую гипотезу')\n",
    "else:\n",
    "    print(f'p-значение равно:{hypotesis_1.pvalue}. Нет оснований отвергнуть нулевую гипотезу')"
   ]
  },
  {
   "cell_type": "markdown",
   "id": "7d3453b2",
   "metadata": {},
   "source": [
    "**Вывод**: Есть основания предполагать, что пользователи с подпиской тратят больше времени на поездку"
   ]
  },
  {
   "cell_type": "markdown",
   "id": "eed44a80",
   "metadata": {},
   "source": [
    "### Можно ли сказать, что расстояние, которое проезжают пользователи с подпиской за одну поездку, не превышает 3130 метров?\n",
    "Проверьте гипотезу и сделайте выводы\n"
   ]
  },
  {
   "cell_type": "markdown",
   "id": "d9db59b7",
   "metadata": {},
   "source": [
    "- $H_0$: расстояние, проезжаемое пользователями с подпиской за одну поездку, не превышает 3130 метров\n",
    "- $H_1$: расстояние, проезжаемое пользователями с подпиской за одну поездку, больше 3130 метров"
   ]
  },
  {
   "cell_type": "code",
   "execution_count": 59,
   "id": "29607a74",
   "metadata": {
    "scrolled": false
   },
   "outputs": [
    {
     "name": "stdout",
     "output_type": "stream",
     "text": [
      "p-значение равно:0.920. Нет оснований отвергнуть нулевую гипотезу\n"
     ]
    }
   ],
   "source": [
    "# статистическая значимость та же, что и в предыдущей гипотезе\n",
    "distance = 3130 #ставим ограничение по расстоянию, равное 3130 метрам, оптимальное по уровню износа самоката\n",
    "\n",
    "hypotesis_2 = st.ttest_1samp(users_rides_subs.query('~(subscription_type == \"free\")')['distance'], \n",
    "    distance, alternative='greater')\n",
    "\n",
    "if hypotesis_2.pvalue < alpha:\n",
    "    print(f'p-значение равно:{hypotesis_2.pvalue:.3f}. Отвергаем нулевую гипотезу')\n",
    "else:\n",
    "    print(f'p-значение равно:{hypotesis_2.pvalue:.3f}. Нет оснований отвергнуть нулевую гипотезу')"
   ]
  },
  {
   "cell_type": "markdown",
   "id": "9e97a1ae",
   "metadata": {},
   "source": [
    "**Вывод**: расстояние, проезжаемое пользователями с подпиской за одну поездку, не превышает 3130 метров"
   ]
  },
  {
   "cell_type": "markdown",
   "id": "2f01143f",
   "metadata": {},
   "source": [
    "### Будет ли помесячная выручка от пользователей с подпиской по месяцам выше, чем выручка от пользователей без подписки?\n",
    "Проверьте гипотезу и сделайте выводы"
   ]
  },
  {
   "cell_type": "markdown",
   "id": "3465e539",
   "metadata": {},
   "source": [
    "- $H_0$: различий между помесячной выручкой от пользователей с подпиской по месяцам и без нет \n",
    "- $H_1$: помесячная выручка от пользователей с подпиской по месяцам выше, чем чем выручка от пользователей без подписки"
   ]
  },
  {
   "cell_type": "code",
   "execution_count": 60,
   "id": "db83539f",
   "metadata": {
    "scrolled": false
   },
   "outputs": [
    {
     "name": "stdout",
     "output_type": "stream",
     "text": [
      "Размер выборки без подписчиков больше\n"
     ]
    }
   ],
   "source": [
    "subs_revenue = sum_users.loc[sum_users['subscription_type'] == \"ultra\", 'month_revenue']\n",
    "no_subs_revenue = sum_users.loc[sum_users['subscription_type'] == \"free\", 'month_revenue']\n",
    "\n",
    "if len(subs_revenue) == len(no_subs_revenue):\n",
    "    print('Размеры выборок совпадают')\n",
    "elif len(subs_revenue) > len(no_subs_revenue):\n",
    "    print('Размер выборки с подписчиками больше')\n",
    "else:\n",
    "    print('Размер выборки без подписчиков больше')"
   ]
  },
  {
   "cell_type": "markdown",
   "id": "24a95fb9",
   "metadata": {},
   "source": [
    "Видим, что у нас разные размеры выборок, поэтому надо сделать их одинаковыми. Сгенерируем в список `res` рандомные индексы от 0 до длины минимальной выборки, количество генерируемых индексов положим столько, сколько у нас в минимальной выборке (то есть, её индексы выбирать не придется, только в выборке, которая больше)"
   ]
  },
  {
   "cell_type": "code",
   "execution_count": 61,
   "id": "04722a80",
   "metadata": {},
   "outputs": [
    {
     "name": "stdout",
     "output_type": "stream",
     "text": [
      "Дупликатов в индексах у нас: 0 и 0\n",
      "Проверяем длины итоговых выборок. Первая: 4532 , вторая: 4532\n"
     ]
    }
   ],
   "source": [
    "#генерируем список случайных индексов и проверяем, есть ли дупликаты\n",
    "if len(subs_revenue) > len(no_subs_revenue):\n",
    "    res_1 = random.sample(range(no_subs_revenue.index[0][0], len(no_subs_revenue)), len(no_subs_revenue)-1)\n",
    "    res_2 = random.sample(range(subs_revenue.index[0][0], len(subs_revenue)), len(no_subs_revenue)-1)\n",
    "    dup_1 = [x for i, x in enumerate(res_1) if i != res_1.index(x)]\n",
    "    dup_2 = [x for i, x in enumerate(res_2) if i != res_2.index(x)]\n",
    "    subs_revenue_final = subs_revenue.loc[subs_revenue.index[res_2]]\n",
    "    no_subs_revenue_final = no_subs_revenue.loc[no_subs_revenue.index[res_1]]\n",
    "elif len(subs_revenue) < len(no_subs_revenue):\n",
    "    res_1 = random.sample(range(no_subs_revenue.index[0][0], len(no_subs_revenue)), len(subs_revenue)-1)\n",
    "    res_2 = random.sample(range(subs_revenue.index[0][0], len(subs_revenue)), len(subs_revenue)-1)\n",
    "    dup_1 = [x for i, x in enumerate(res_1) if i != res_1.index(x)]\n",
    "    dup_2 = [x for i, x in enumerate(res_2) if i != res_2.index(x)]\n",
    "    subs_revenue_final = subs_revenue.loc[subs_revenue.index[res_2]]\n",
    "    no_subs_revenue_final = no_subs_revenue.loc[no_subs_revenue.index[res_1]]\n",
    "    \n",
    "print('Дупликатов в индексах у нас:',len(dup_1),'и',len(dup_2)) \n",
    "print('Проверяем длины итоговых выборок. Первая:', len(subs_revenue_final),', вторая:', len(no_subs_revenue_final))"
   ]
  },
  {
   "cell_type": "markdown",
   "id": "e909b99c",
   "metadata": {},
   "source": [
    "Видим, что дупликатов индексов у нас нет, размеры выборок одинаковые, индексы в них сгенерированы рандомно, чтобы получить эти длины (при этом границы рандомизации брал для каждой выборки от её начального индекса до длины)"
   ]
  },
  {
   "cell_type": "code",
   "execution_count": 62,
   "id": "a2f59dce",
   "metadata": {
    "scrolled": false
   },
   "outputs": [
    {
     "name": "stdout",
     "output_type": "stream",
     "text": [
      "p-значение равно:3.3396836101830863e-32. Отвергаем нулевую гипотезу\n"
     ]
    }
   ],
   "source": [
    "# статистическая значимость та же, что и в предыдущей гипотезе\n",
    "# отрезаем данные, содержащие помесячную выручку от пользоватлей с подпиской\n",
    "subs_month_revenue = sum_users.loc[sum_users['subscription_type'] == \"ultra\", 'month_revenue']\n",
    "\n",
    "# отрезаем данные, содержащие помесячную выручку от пользоватлей без подписки\n",
    "no_subs_month_revenue = sum_users.loc[sum_users['subscription_type'] == \"free\", 'month_revenue'] \n",
    "\n",
    "hypotesis_3 = (st.ttest_ind(subs_revenue_final, no_subs_revenue_final, alternative = 'greater'))\n",
    "\n",
    "if hypotesis_3.pvalue < alpha:\n",
    "    print(f'p-значение равно:{hypotesis_3.pvalue}. Отвергаем нулевую гипотезу')\n",
    "else:\n",
    "    print(f'p-значение равно:{hypotesis_3.pvalue}. Нет оснований отвергнуть нулевую гипотезу')"
   ]
  },
  {
   "cell_type": "markdown",
   "id": "b5369c6f",
   "metadata": {},
   "source": [
    "**Вывод**: есть основания полагать, что помесячная подписка от пользователей с подпиской выше, чем от пользователей без подписки"
   ]
  },
  {
   "cell_type": "markdown",
   "id": "c52cd02f",
   "metadata": {},
   "source": [
    "### Вопрос по обращениям в техподдержку\n",
    "\n",
    "Представьте такую ситуацию: техническая команда сервиса обновила сервера, с которыми взаимодействует мобильное приложение. Она надеется, что из-за этого количество обращений в техподдержку значимо снизилось. Некоторый файл содержит для каждого пользователя данные о количестве обращений до обновления и после него. Какой тест вам понадобился бы для проверки этой гипотезы?"
   ]
  },
  {
   "cell_type": "markdown",
   "id": "4f436a18",
   "metadata": {},
   "source": [
    "Мы имеем две связанные выборки: до обновления серверов и после. Для проверки о равенстве средних нам необходимо использовать `st.ttest_rel(before, after, alternative = 'greater')`, где:\n",
    "- `before` - набор данных об обращениях в техподдержку до обновления серверов\n",
    "- `after` - набор данных об обращениях в техподдержку после обновления серверов\n",
    "- `alternative = 'greater'` - альтернативная гипотеза о том, что до обновления серверо обращений в техподдержку было больше\n",
    "\n",
    "Итого, проверяются следующие гипотезы:\n",
    "- $H_0$: различий между обращениями в техподдержку до и после обновления серверов нет\n",
    "- $H_1$: после обновления серверов обращений в техподдержку стало меньше"
   ]
  },
  {
   "cell_type": "markdown",
   "id": "2aaf16d2",
   "metadata": {},
   "source": [
    "### **Промежуточный итог №6**\n",
    "Мы проверили следубщие гипотезы (уровень статистической значимости поставили равным `0.01`):\n",
    "\n",
    "1. **Тратят ли пользователи с подпиской больше времени на поездки?**\n",
    "    \n",
    "    Если да, то пользователи с подпиской могут быть «выгоднее» для компании. Проверьте гипотезу. Используйте исходные данные о продолжительности каждой сессии — отдельно для подписчиков и тех, у кого нет подписки. \n",
    "    \n",
    "    Были сформулированы следующие гипотезы: \n",
    "    - $H_0$: различий между временем поездки пользователей с подпиской и без нет\n",
    "    - $H_1$: пользователи с подпиской тратят больше времени на поездку\n",
    "    \n",
    "   Получившееся р-значение меньше, чем `0.01`, следовательно отвергаем нулевую гипотезу\n",
    "   \n",
    "   **Вывод**: есть основания предполагать, что пользователи с подпиской тратят больше времени на поездку\n",
    "\n",
    "\n",
    "2. **Можно ли сказать, что расстояние, которое проезжают пользователи с подпиской за одну поездку, не превышает 3130 метров?**\n",
    "    \n",
    "    Были сформулированы следующие гипотезы: \n",
    "    - $H_0$: расстояние, проезжаемое пользователями с подпиской за одну поездку, не превышает 3130 метров\n",
    "    - $H_1$: расстояние, проезжаемое пользователями с подпиской за одну поездку, больше 3130 метров\n",
    "\n",
    "   Получившееся р-значение равно 0.92, следовательно нет оснований отвергать нулевую гипотезу\n",
    "   \n",
    "   **Вывод**: есть основания предполагать, что расстояние, проезжаемое пользователями с подпиской за одну поездку, не превышает 3130 метров.\n",
    "   \n",
    "\n",
    "3. **Будет ли помесячная выручка от пользователей с подпиской по месяцам выше, чем выручка от пользователей без подписки?**\n",
    "    \n",
    "    Были сформулированы следующие гипотезы: \n",
    "    - $H_0$: различий между помесячной выручкой от пользователей с подпиской по месяцам и без нет\n",
    "    - $H_1$: помесячная выручка от пользователей с подпиской по месяцам выше, чем чем выручка от пользователей без подписки\n",
    "\n",
    "   Получившееся р-значение `0.01`, отвергаем нулевую гипотезу\n",
    "   \n",
    "   **Вывод**: есть основания предполагать, что помесячная подписка от пользователей с подпиской выше, чем от пользователей без подписки.\n",
    "   \n",
    "\n",
    "4. **Вопрос по обращениям в техподдержку**\n",
    "    \n",
    "    Представьте такую ситуацию: техническая команда сервиса обновила сервера, с которыми взаимодействует мобильное приложение. Она надеется, что из-за этого количество обращений в техподдержку значимо снизилось. Некоторый файл содержит для каждого пользователя данные о количестве обращений до обновления и после него. Какой тест вам понадобился бы для проверки этой гипотезы?\n",
    "    \n",
    "    **Ответ**: Мы имеем две связанные выборки: до обновления серверов и после. Для проверки о равенстве средних нам необходимо использовать `st.ttest_rel(before, after, alternative = 'greater')`, где:\n",
    "    - `before` - набор данных об обращениях в техподдержку до обновления серверов\n",
    "    - `after` - набор данных об обращениях в техподдержку после обновления серверов\n",
    "    - `alternative = 'greater'` - альтернативная гипотеза о том, что до обновления серверо обращений в техподдержку было больше\n",
    "\n",
    "    Итого, проверяются следующие гипотезы:\n",
    "    - $H_0$: различий между обращениями в техподдержку до и после обновления серверов нет\n",
    "    - $H_1$: после обновления серверов обращений в техподдержку стало меньше"
   ]
  },
  {
   "cell_type": "markdown",
   "id": "61213c5e",
   "metadata": {},
   "source": [
    "## Шаг 7. Распределения"
   ]
  },
  {
   "cell_type": "markdown",
   "id": "bdf58aee",
   "metadata": {},
   "source": [
    "### Задача 1\n",
    "\n",
    "Отделу маркетинга GoFast поставили задачу: нужно провести акцию с раздачей промокодов на один бесплатный месяц подписки, в рамках которой как минимум 100 существующих клиентов должны продлить эту подписку. То есть по завершении периода действия подписки пользователь может либо отказаться от неё, либо продлить, совершив соотвествующий платёж. \n",
    "Эта акция уже проводилась ранее и по итогу выяснилось, что после бесплатного пробного периода подписку продлевают \n",
    "10 % пользователей. \n",
    "\n",
    "Выясните, какое минимальное количество промокодов нужно разослать, чтобы вероятность не выполнить план была примерно 5 %. Подберите параметры распределения, описывающего эту ситуацию, постройте график распределения и сформулируйте ответ на вопрос о количестве промокодов"
   ]
  },
  {
   "cell_type": "markdown",
   "id": "7bd3a183",
   "metadata": {},
   "source": [
    "Решим задачу с помощью аппроксимации биномиального распределения нормальным. Вероятность успеха для биномиального распределения у нас равна 0.1, N - неизвестно, поэтому, положим, он будет минимальный, т.е. 1 (это количество наших рассылок). Необходимое количество рассылок у нас 100, положим его в переменную `n_needed`. Далее, зная параметры биномиального распределения, рассчитываем мю и сигму для нормального, строим его, а далее, с помощью метода cdf, считаем его левый хвост до нашей границы, равной `n_needed`. Хвост не должен превышать 0.05 (5%)."
   ]
  },
  {
   "cell_type": "code",
   "execution_count": 63,
   "id": "fc50b4fc",
   "metadata": {},
   "outputs": [
    {
     "name": "stdout",
     "output_type": "stream",
     "text": [
      "Минимальное количество рассылок, которое необходимо разослать: 1169\n"
     ]
    }
   ],
   "source": [
    "sns.set(style=\"whitegrid\")\n",
    "\n",
    "# задаем параметры биномиального распределения\n",
    "p = 0.1\n",
    "n_min = 1 # минимум рассылок, который возможен (не считая 0)\n",
    "\n",
    "\n",
    "n_needed = 100 # минимум новых пользователей в месяц\n",
    "\n",
    "# рассчитываем параметры биномиального распределения и строим его\n",
    "mu = n_min*p\n",
    "sigma = sqrt(n_min*p*(1-p))\n",
    "distr = st.norm(mu, sigma)\n",
    "\n",
    "# ищем, при каком минимальном размере биномиального распределения (т.е., при каком количестве рассылок)\n",
    "# у нас левый хвост нормального распределения будет равен 0.05\n",
    "while distr.cdf(n_needed) > 0.05:\n",
    "    n_min += 1\n",
    "    mu = n_min*p\n",
    "    sigma = sqrt(n_min*p*(1-p))\n",
    "    distr = st.norm(mu, sigma)\n",
    "\n",
    "print(f'Минимальное количество рассылок, которое необходимо разослать: {n_min}')"
   ]
  },
  {
   "cell_type": "markdown",
   "id": "dd3c7441",
   "metadata": {},
   "source": [
    "### Задача 2\n",
    "\n",
    "Отдел маркетинга рассылает клиентам push-уведомления в мобильном приложении. Клиенты могут открыть его или не открывать. Известно, что уведомления открывают около 40 % получивших клиентов. Отдел планирует разослать 1 млн уведомлений. С помощью аппроксимации постройте примерный график распределения и оцените вероятность того, что уведомление откроют не более 399,5 тыс. пользователей."
   ]
  },
  {
   "cell_type": "code",
   "execution_count": 64,
   "id": "52ebe82b",
   "metadata": {
    "scrolled": true
   },
   "outputs": [
    {
     "name": "stdout",
     "output_type": "stream",
     "text": [
      "Вероятность того, что уведомление откроют не более 399,5 тысяч пользователей равна 15.37%\n"
     ]
    }
   ],
   "source": [
    "p = 0.4  \n",
    "n = 1e6\n",
    "\n",
    "n_max = 399500\n",
    "\n",
    "mu = n*p\n",
    "sigma = sqrt(n*p*(1-p))\n",
    "\n",
    "distr = st.norm(mu, sigma)\n",
    "\n",
    "result = distr.cdf(n_max)\n",
    "print(f'Вероятность того, что уведомление откроют не более 399,5 тысяч пользователей равна {result:.2%}')"
   ]
  },
  {
   "cell_type": "markdown",
   "id": "63dd44e0",
   "metadata": {},
   "source": [
    "### **Промежуточный итог №7**\n",
    "\n",
    "**ОТВЕТ НА ЗАДАЧУ 1:** Минимальное количество промокодов нужно разослать, чтобы вероятность не выполнить план в 100 новых пользователей за месяц была примерно 5 % : **`1169`**\n",
    "\n",
    "**ОТВЕТ НА ЗАДАЧУ 2:** Вероятность того, что уведомление откроют не более 399,5 тыс. пользователей: **`15.37%`**"
   ]
  },
  {
   "cell_type": "markdown",
   "id": "a8016d9a",
   "metadata": {},
   "source": [
    "## **Вывод**"
   ]
  },
  {
   "cell_type": "markdown",
   "id": "339cc14a",
   "metadata": {},
   "source": [
    "### **Промежуточный итог №1**\n",
    "Мы рассмотрели каждый из датафреймов, присвоили их переменным. Рассмотрели информацию о каждом из них, выяснили, что пропусков в данных нет, есть несостыковки с типами переменных, будем решать их на следующем этапе."
   ]
  },
  {
   "cell_type": "markdown",
   "id": "b5dfff6b",
   "metadata": {},
   "source": [
    "### **Промежуточный итог №2**\n",
    "Мы проверили каждый датафрейм на наличие пропусков и дубликатов, пропусков ни в одном из них не было.\n",
    "В датафрейме пользователей удалили явные дубликаты, также проверили, есть ли неявные (`Наталья`, `Наталия` и `Наташа`), выяснилось, что нет, больше неявных дупликатов в этом датафрейме не было обнаружено. Проверили, есть ли аномалии с годом, к которому относятся данные, - все хороши, данные у нас за 2021 год.\n",
    "Проверили правильность записи уникальных id пользователей, городов, с ними все было в порядке.\n",
    "В датафрейме поездок также проверили id пользователей, а также сравнили с id пользователей датафрейма пользователей, несовпадений не выявлено.\n",
    "В датафрейме подписок не было ни пропусков, ни дубликатов."
   ]
  },
  {
   "cell_type": "markdown",
   "id": "c84f1f7b",
   "metadata": {},
   "source": [
    "### **Промежуточный итог №3**\n",
    "\n",
    "Мы рассмотрели следующие данные:\n",
    "- **`частота встречаемости городов`**\n",
    "        чаще всего встречается Пятигорск, реже всего Москва\n",
    "- **`соотношение пользователей с подпиской и без подписки`**\n",
    "        пользователей без подписки у нас больше: 54.43%, против 44.57% пользователей с подпиской\n",
    "- **`возраст пользователей`**\n",
    "        На гистограмме видим, что пользователи по возрасту распределены практически нормально, больше всего людей возрастом от 20 до 30 лет.\n",
    "        На боксплоте четко видно, что медиана возрастов приходится на 25 лет, нижний квартиль - примерно 22 года, верхний - около 28 лет. Также видим, что есть выбросы, соответствующие возрасту либо старше 37 лет, либо моложе 13.\n",
    "        \n",
    "- **`расстояние, которое пользователь преодолел за одну поездку`**\n",
    "        максимум по расстояниям приходится на 3000 метров, но есть и небольшой пичок в начале, где-то на 1000 метрах\n",
    "        На боксплоте видим, что медиана находится около 3000 метров, нижний квартиль - около 2600, верхний - около 3900. Также видим выбросы, соответствующим расстояниям меньше 800 или больше 5600 метров.\n",
    "- **`продолжительность поездок`**\n",
    "        В целом, распределение по продолжительности поездок распределено нормально, максимум приходится на 17-18 минут, большинство пользователей укладывается в 10-25 минут\n",
    "        На боксплоте видим, что медиана около 18 минут, нижний квартиль в районе 14 минут, верхний - 22 минуты. Также видим выбросы, соответствующие времени, которое либо меньше 2 минут, либо больше 34."
   ]
  },
  {
   "cell_type": "markdown",
   "id": "3f7fa632",
   "metadata": {},
   "source": [
    "### **Промежуточный итог №4**\n",
    "Мы проделали несколько действий:\n",
    "- объединили данные о пользователях, поездках и подписках в один датафрейм (пользователей и поездки по id пользователей, получившийся датафрейм объединили с подписками по типу подписки)\n",
    "- добавили два новых датафрейма из объединенного, в один включили пользователей с подпиской, в другой - без подписки\n",
    "- провели визуализацию данных по расстоянию и длительности поездки для пользователей с подпиской и без неё\n",
    "    - **Растояния** распределены по-разному:        \n",
    "        Для пользователей `с подпиской`. Видим четкий пик на 3000 метрах, а также присутствует пичок на 1000 метрах.         \n",
    "        Пользователи `без подписки`. Видим плато на максимуме поездок от 2500 до 4000 метров, также видим более выраженный, чем у пользователей с подпиской, пик на примерно 500 метрах. Судя по такой разнице, можно предположить, что подписка дает более продолжительную короткую поездку с бонусом или скидкой или чем-то около того. Без подписки это расстояние раза в два меньше.     \n",
    "        Если сравнивать на одном графике: видим это смещение маленького пика для пользователей с подпиской и без. Для пользователей без подписки его максимум приходится на меньшее расстояние, чем для пользователей с подпиской. Также четко видно разницу в форме распределений для расстояний между пользователями с подпиской и без - у пользователей без подписки более в зоне максимума плато от 2 до 4 тысяч метров, в то время как у пользователей с подпиской виден ярко выраженный пик на 3000 метрах. После 3 тысяч метров у пользователей без подписки идёт плавное снижение в ноль к 7 тысячам метров, в то время как у пользователей с подпиской идет снижение до примерно трети от максимума к 4 тысячам метров, небольшое замедение падения с пологостью до 4300 метров, и затем падение в ноль к 5500 метров. \n",
    "        Также видно, что распределение по расстояниям у пользователей без подписки шире (вполне логично, что без подписки особо бонусов или скидок нет, поэтому и пользоваться самокатами они будут для более длительных целей, не просто так покататься).        \n",
    "\n",
    "    - **Время поездки** распределено очень похоже: большинство пользователей что с подпиской, что без неё укладываются в примерно 10-25 минут поездки, единственное, времена поездкок пользователей с подпиской смещены относительно пользователей без подписки на примерно 5 минут."
   ]
  },
  {
   "cell_type": "markdown",
   "id": "83aa7085",
   "metadata": {},
   "source": [
    "### **Промежуточный итог №5**\n",
    "\n",
    "Мы создали агрегированный датафрейм с данными по суммарному расстоянию за месяц, количестве поездок, суммарному времени поездок за месяц, а также рассчитали помесячную выручку для каждого пользователя, проверив перед этим наличие пропусков и дупликатов в общем датафрейме. Агрегированный датафрейм также проверили на наличие пропусков и дупликатов."
   ]
  },
  {
   "cell_type": "markdown",
   "id": "f61a4ddc",
   "metadata": {},
   "source": [
    "### **Промежуточный итог №6**\n",
    "Мы проверили следубщие гипотезы (уровень статистической значимости поставили равным `0.01`):\n",
    "\n",
    "1. **Тратят ли пользователи с подпиской больше времени на поездки?**\n",
    "    \n",
    "    Если да, то пользователи с подпиской могут быть «выгоднее» для компании. Проверьте гипотезу. Используйте исходные данные о продолжительности каждой сессии — отдельно для подписчиков и тех, у кого нет подписки. \n",
    "    \n",
    "    Были сформулированы следующие гипотезы: \n",
    "    - $H_0$: различий между временем поездки пользователей с подпиской и без нет\n",
    "    - $H_1$: пользователи с подпиской тратят больше времени на поездку\n",
    "    \n",
    "   Получившееся р-значение меньше, чем `0.01`, следовательно отвергаем нулевую гипотезу\n",
    "   \n",
    "   **Вывод**: есть основания предполагать, что пользователи с подпиской тратят больше времени на поездку\n",
    "\n",
    "\n",
    "2. **Можно ли сказать, что расстояние, которое проезжают пользователи с подпиской за одну поездку, не превышает 3130 метров?**\n",
    "    \n",
    "    Были сформулированы следующие гипотезы: \n",
    "    - $H_0$: расстояние, проезжаемое пользователями с подпиской за одну поездку, не превышает 3130 метров\n",
    "    - $H_1$: расстояние, проезжаемое пользователями с подпиской за одну поездку, больше 3130 метров\n",
    "\n",
    "   Получившееся р-значение равно 0.92, следовательно нет оснований отвергать нулевую гипотезу\n",
    "   \n",
    "   **Вывод**: есть основания предполагать, что расстояние, проезжаемое пользователями с подпиской за одну поездку, не превышает 3130 метров.\n",
    "   \n",
    "\n",
    "3. **Будет ли помесячная выручка от пользователей с подпиской по месяцам выше, чем выручка от пользователей без подписки?**\n",
    "    \n",
    "    Были сформулированы следующие гипотезы: \n",
    "    - $H_0$: различий между помесячной выручкой от пользователей с подпиской по месяцам и без нет\n",
    "    - $H_1$: помесячная выручка от пользователей с подпиской по месяцам выше, чем чем выручка от пользователей без подписки\n",
    "\n",
    "   Получившееся р-значение `0.01`, отвергаем нулевую гипотезу\n",
    "   \n",
    "   **Вывод**: есть основания предполагать, что помесячная подписка от пользователей с подпиской выше, чем от пользователей без подписки.\n",
    "   \n",
    "\n",
    "4. **Вопрос по обращениям в техподдержку**\n",
    "    \n",
    "    Представьте такую ситуацию: техническая команда сервиса обновила сервера, с которыми взаимодействует мобильное приложение. Она надеется, что из-за этого количество обращений в техподдержку значимо снизилось. Некоторый файл содержит для каждого пользователя данные о количестве обращений до обновления и после него. Какой тест вам понадобился бы для проверки этой гипотезы?\n",
    "    \n",
    "    **Ответ**: Мы имеем две связанные выборки: до обновления серверов и после. Для проверки о равенстве средних нам необходимо использовать `st.ttest_rel(before, after, alternative = 'greater')`, где:\n",
    "    - `before` - набор данных об обращениях в техподдержку до обновления серверов\n",
    "    - `after` - набор данных об обращениях в техподдержку после обновления серверов\n",
    "    - `alternative = 'greater'` - альтернативная гипотеза о том, что до обновления серверо обращений в техподдержку было больше\n",
    "\n",
    "    Итого, проверяются следующие гипотезы:\n",
    "    - $H_0$: различий между обращениями в техподдержку до и после обновления серверов нет\n",
    "    - $H_1$: после обновления серверов обращений в техподдержку стало меньше"
   ]
  },
  {
   "cell_type": "markdown",
   "id": "7bd9ea16",
   "metadata": {},
   "source": [
    "### **Промежуточный итог №7**\n",
    "\n",
    "**ОТВЕТ НА ЗАДАЧУ 1:** Минимальное количество промокодов нужно разослать, чтобы вероятность не выполнить план в 100 новых пользователей за месяц была примерно 5 % : **`1169`**\n",
    "\n",
    "**ОТВЕТ НА ЗАДАЧУ 2:** Вероятность того, что уведомление откроют не более 399,5 тыс. пользователей: **`15.37%`**"
   ]
  },
  {
   "cell_type": "markdown",
   "id": "4e5bff11",
   "metadata": {},
   "source": [
    "# ИТОГ\n",
    "В ходе данной работе мы проверили имеющиеся датасеты на пропуски и дупликаты, на различные выбросы, исправили, все, что нужно. Затем рассчитали и добавили новые столбцы и объединили их. Наконец, объединенный датафрейм порезали на нужные и провели проверку гипотез.\n",
    "\n",
    "В ходе проверки выяснили, что пользователи с подпиской мало того, что больше времени тратят на поездки, при этом износ самокатов у них оптимальный (нет оснований полагать, что они проезжают расстояния, большие, чем оптимальное для износа), так и помесячная выручка от них больше, чем от пользователей без подписки, ХОТЯ пользователей без подписки больше, чем с подпиской.\n",
    "\n",
    "Можно посоветовать двигаться в этом направлении, делая предложения по переводу людей на подписки, улучшая сервис самих подписок и все в том же духе."
   ]
  }
 ],
 "metadata": {
  "ExecuteTimeLog": [
   {
    "duration": 4,
    "start_time": "2023-05-21T10:27:59.768Z"
   },
   {
    "duration": 71,
    "start_time": "2023-05-21T10:30:35.053Z"
   },
   {
    "duration": 378,
    "start_time": "2023-05-21T10:30:39.752Z"
   },
   {
    "duration": 188,
    "start_time": "2023-05-21T10:30:41.476Z"
   },
   {
    "duration": 13,
    "start_time": "2023-05-21T10:31:22.585Z"
   },
   {
    "duration": 11,
    "start_time": "2023-05-21T10:31:31.452Z"
   },
   {
    "duration": 8,
    "start_time": "2023-05-21T10:34:08.207Z"
   },
   {
    "duration": 8,
    "start_time": "2023-05-21T10:34:25.942Z"
   },
   {
    "duration": 456,
    "start_time": "2023-05-21T10:34:40.483Z"
   },
   {
    "duration": 67,
    "start_time": "2023-05-21T10:34:42.588Z"
   },
   {
    "duration": 14,
    "start_time": "2023-05-21T10:34:44.256Z"
   },
   {
    "duration": 11,
    "start_time": "2023-05-21T10:34:44.998Z"
   },
   {
    "duration": 10,
    "start_time": "2023-05-21T10:34:46.119Z"
   },
   {
    "duration": 11,
    "start_time": "2023-05-21T10:35:16.199Z"
   },
   {
    "duration": 6,
    "start_time": "2023-05-21T10:38:42.883Z"
   },
   {
    "duration": 70,
    "start_time": "2023-05-21T10:39:05.396Z"
   },
   {
    "duration": 11,
    "start_time": "2023-05-21T10:39:10.591Z"
   },
   {
    "duration": 8,
    "start_time": "2023-05-21T10:40:43.000Z"
   },
   {
    "duration": 10,
    "start_time": "2023-05-21T10:40:43.372Z"
   },
   {
    "duration": 9,
    "start_time": "2023-05-21T10:40:44.568Z"
   },
   {
    "duration": 11,
    "start_time": "2023-05-21T10:40:45.021Z"
   },
   {
    "duration": 7,
    "start_time": "2023-05-21T10:40:46.348Z"
   },
   {
    "duration": 10,
    "start_time": "2023-05-21T10:40:46.814Z"
   },
   {
    "duration": 2,
    "start_time": "2023-05-21T11:56:06.454Z"
   },
   {
    "duration": 6,
    "start_time": "2023-05-21T11:59:15.166Z"
   },
   {
    "duration": 43,
    "start_time": "2023-05-21T11:59:23.248Z"
   },
   {
    "duration": 35,
    "start_time": "2023-05-21T11:59:29.407Z"
   },
   {
    "duration": 7,
    "start_time": "2023-05-21T12:01:41.880Z"
   },
   {
    "duration": 4,
    "start_time": "2023-05-21T12:01:48.986Z"
   },
   {
    "duration": 13,
    "start_time": "2023-05-21T12:01:54.454Z"
   },
   {
    "duration": 2,
    "start_time": "2023-05-21T12:02:46.576Z"
   },
   {
    "duration": 8,
    "start_time": "2023-05-21T12:06:13.133Z"
   },
   {
    "duration": 70,
    "start_time": "2023-05-21T12:06:52.943Z"
   },
   {
    "duration": 9,
    "start_time": "2023-05-21T12:07:30.033Z"
   },
   {
    "duration": 10,
    "start_time": "2023-05-21T12:07:35.673Z"
   },
   {
    "duration": 7,
    "start_time": "2023-05-21T12:07:38.232Z"
   },
   {
    "duration": 8,
    "start_time": "2023-05-21T12:07:40.308Z"
   },
   {
    "duration": 7,
    "start_time": "2023-05-21T12:07:44.199Z"
   },
   {
    "duration": 8,
    "start_time": "2023-05-21T12:07:47.765Z"
   },
   {
    "duration": 6,
    "start_time": "2023-05-21T12:07:49.941Z"
   },
   {
    "duration": 11,
    "start_time": "2023-05-21T12:09:32.020Z"
   },
   {
    "duration": 11,
    "start_time": "2023-05-21T12:09:42.545Z"
   },
   {
    "duration": 6,
    "start_time": "2023-05-21T12:10:47.892Z"
   },
   {
    "duration": 9,
    "start_time": "2023-05-21T12:10:52.644Z"
   },
   {
    "duration": 9,
    "start_time": "2023-05-21T12:11:07.790Z"
   },
   {
    "duration": 5,
    "start_time": "2023-05-21T12:13:32.353Z"
   },
   {
    "duration": 4,
    "start_time": "2023-05-21T12:14:26.863Z"
   },
   {
    "duration": 2446,
    "start_time": "2023-05-21T12:15:30.773Z"
   },
   {
    "duration": 6,
    "start_time": "2023-05-21T12:15:34.457Z"
   },
   {
    "duration": 6,
    "start_time": "2023-05-21T12:15:49.353Z"
   },
   {
    "duration": 3,
    "start_time": "2023-05-21T12:26:12.428Z"
   },
   {
    "duration": 4,
    "start_time": "2023-05-21T12:26:17.190Z"
   },
   {
    "duration": 7,
    "start_time": "2023-05-21T12:45:00.271Z"
   },
   {
    "duration": 9,
    "start_time": "2023-05-21T12:45:31.901Z"
   },
   {
    "duration": 4,
    "start_time": "2023-05-21T12:47:52.760Z"
   },
   {
    "duration": 4,
    "start_time": "2023-05-21T12:48:55.637Z"
   },
   {
    "duration": 15,
    "start_time": "2023-05-21T12:49:31.174Z"
   },
   {
    "duration": 5,
    "start_time": "2023-05-21T12:49:40.630Z"
   },
   {
    "duration": 1244,
    "start_time": "2023-05-21T12:54:52.219Z"
   },
   {
    "duration": 218,
    "start_time": "2023-05-21T12:55:05.160Z"
   },
   {
    "duration": 207,
    "start_time": "2023-05-21T12:55:12.571Z"
   },
   {
    "duration": 104,
    "start_time": "2023-05-21T12:56:58.680Z"
   },
   {
    "duration": 105,
    "start_time": "2023-05-21T12:57:16.346Z"
   },
   {
    "duration": 73,
    "start_time": "2023-05-21T12:57:37.052Z"
   },
   {
    "duration": 212,
    "start_time": "2023-05-21T12:58:25.505Z"
   },
   {
    "duration": 204,
    "start_time": "2023-05-21T13:47:58.932Z"
   },
   {
    "duration": 10,
    "start_time": "2023-05-21T13:48:35.800Z"
   },
   {
    "duration": 6,
    "start_time": "2023-05-21T13:48:38.767Z"
   },
   {
    "duration": 7,
    "start_time": "2023-05-21T13:48:41.919Z"
   },
   {
    "duration": 4,
    "start_time": "2023-05-21T13:48:49.039Z"
   },
   {
    "duration": 68,
    "start_time": "2023-05-21T13:50:49.088Z"
   },
   {
    "duration": 563,
    "start_time": "2023-05-21T13:51:49.403Z"
   },
   {
    "duration": 88,
    "start_time": "2023-05-21T13:52:55.230Z"
   },
   {
    "duration": 570,
    "start_time": "2023-05-21T13:53:00.894Z"
   },
   {
    "duration": 89,
    "start_time": "2023-05-21T13:53:26.071Z"
   },
   {
    "duration": 574,
    "start_time": "2023-05-21T13:53:29.134Z"
   },
   {
    "duration": 578,
    "start_time": "2023-05-21T13:55:17.370Z"
   },
   {
    "duration": 6,
    "start_time": "2023-05-21T13:56:09.697Z"
   },
   {
    "duration": 6,
    "start_time": "2023-05-21T13:57:27.305Z"
   },
   {
    "duration": 215,
    "start_time": "2023-05-21T14:01:57.641Z"
   },
   {
    "duration": 10,
    "start_time": "2023-05-21T14:02:05.608Z"
   },
   {
    "duration": 6,
    "start_time": "2023-05-21T14:02:47.348Z"
   },
   {
    "duration": 7,
    "start_time": "2023-05-21T14:02:57.707Z"
   },
   {
    "duration": 6,
    "start_time": "2023-05-21T14:03:05.565Z"
   },
   {
    "duration": 646,
    "start_time": "2023-05-21T14:03:10.579Z"
   },
   {
    "duration": 6,
    "start_time": "2023-05-21T14:03:17.467Z"
   },
   {
    "duration": 7,
    "start_time": "2023-05-21T14:03:19.915Z"
   },
   {
    "duration": 6,
    "start_time": "2023-05-21T14:06:18.280Z"
   },
   {
    "duration": 7,
    "start_time": "2023-05-21T14:07:39.332Z"
   },
   {
    "duration": 428,
    "start_time": "2023-05-21T14:07:44.699Z"
   },
   {
    "duration": 66,
    "start_time": "2023-05-21T14:07:46.586Z"
   },
   {
    "duration": 8,
    "start_time": "2023-05-21T14:07:47.453Z"
   },
   {
    "duration": 10,
    "start_time": "2023-05-21T14:07:47.601Z"
   },
   {
    "duration": 8,
    "start_time": "2023-05-21T14:07:48.234Z"
   },
   {
    "duration": 10,
    "start_time": "2023-05-21T14:07:48.742Z"
   },
   {
    "duration": 7,
    "start_time": "2023-05-21T14:07:48.842Z"
   },
   {
    "duration": 10,
    "start_time": "2023-05-21T14:07:48.887Z"
   },
   {
    "duration": 15,
    "start_time": "2023-05-21T14:07:49.078Z"
   },
   {
    "duration": 10,
    "start_time": "2023-05-21T14:07:49.213Z"
   },
   {
    "duration": 6,
    "start_time": "2023-05-21T14:07:49.368Z"
   },
   {
    "duration": 6,
    "start_time": "2023-05-21T14:07:49.473Z"
   },
   {
    "duration": 8,
    "start_time": "2023-05-21T14:07:49.544Z"
   },
   {
    "duration": 4,
    "start_time": "2023-05-21T14:07:49.607Z"
   },
   {
    "duration": 4,
    "start_time": "2023-05-21T14:07:49.675Z"
   },
   {
    "duration": 3,
    "start_time": "2023-05-21T14:07:49.737Z"
   },
   {
    "duration": 5,
    "start_time": "2023-05-21T14:07:49.874Z"
   },
   {
    "duration": 209,
    "start_time": "2023-05-21T14:07:49.970Z"
   },
   {
    "duration": 9,
    "start_time": "2023-05-21T14:07:50.181Z"
   },
   {
    "duration": 9,
    "start_time": "2023-05-21T14:07:50.191Z"
   },
   {
    "duration": 8,
    "start_time": "2023-05-21T14:07:51.362Z"
   },
   {
    "duration": 4,
    "start_time": "2023-05-21T14:07:52.375Z"
   },
   {
    "duration": 553,
    "start_time": "2023-05-21T14:07:55.534Z"
   },
   {
    "duration": 6,
    "start_time": "2023-05-21T14:07:56.133Z"
   },
   {
    "duration": 9,
    "start_time": "2023-05-21T14:07:57.484Z"
   },
   {
    "duration": 886,
    "start_time": "2023-05-21T14:08:06.339Z"
   },
   {
    "duration": 67,
    "start_time": "2023-05-21T14:08:07.226Z"
   },
   {
    "duration": 15,
    "start_time": "2023-05-21T14:08:07.295Z"
   },
   {
    "duration": 15,
    "start_time": "2023-05-21T14:08:07.312Z"
   },
   {
    "duration": 11,
    "start_time": "2023-05-21T14:08:07.328Z"
   },
   {
    "duration": 10,
    "start_time": "2023-05-21T14:08:07.340Z"
   },
   {
    "duration": 6,
    "start_time": "2023-05-21T14:08:07.352Z"
   },
   {
    "duration": 12,
    "start_time": "2023-05-21T14:08:07.359Z"
   },
   {
    "duration": 16,
    "start_time": "2023-05-21T14:08:07.372Z"
   },
   {
    "duration": 9,
    "start_time": "2023-05-21T14:08:07.417Z"
   },
   {
    "duration": 5,
    "start_time": "2023-05-21T14:08:07.428Z"
   },
   {
    "duration": 12,
    "start_time": "2023-05-21T14:08:07.434Z"
   },
   {
    "duration": 8,
    "start_time": "2023-05-21T14:08:07.447Z"
   },
   {
    "duration": 4,
    "start_time": "2023-05-21T14:08:07.456Z"
   },
   {
    "duration": 8,
    "start_time": "2023-05-21T14:08:07.462Z"
   },
   {
    "duration": 5,
    "start_time": "2023-05-21T14:08:07.471Z"
   },
   {
    "duration": 7,
    "start_time": "2023-05-21T14:08:07.477Z"
   },
   {
    "duration": 250,
    "start_time": "2023-05-21T14:08:07.485Z"
   },
   {
    "duration": 8,
    "start_time": "2023-05-21T14:08:07.737Z"
   },
   {
    "duration": 6,
    "start_time": "2023-05-21T14:08:07.747Z"
   },
   {
    "duration": 11,
    "start_time": "2023-05-21T14:08:07.754Z"
   },
   {
    "duration": 4,
    "start_time": "2023-05-21T14:08:07.766Z"
   },
   {
    "duration": 603,
    "start_time": "2023-05-21T14:08:07.772Z"
   },
   {
    "duration": 5,
    "start_time": "2023-05-21T14:08:08.376Z"
   },
   {
    "duration": 12,
    "start_time": "2023-05-21T14:08:08.382Z"
   },
   {
    "duration": 6,
    "start_time": "2023-05-21T14:08:08.396Z"
   },
   {
    "duration": 473,
    "start_time": "2023-05-21T14:09:09.573Z"
   },
   {
    "duration": 130,
    "start_time": "2023-05-21T14:09:32.523Z"
   },
   {
    "duration": 227,
    "start_time": "2023-05-21T14:10:57.143Z"
   },
   {
    "duration": 130,
    "start_time": "2023-05-21T14:11:10.445Z"
   },
   {
    "duration": 125,
    "start_time": "2023-05-21T14:13:51.299Z"
   },
   {
    "duration": 123,
    "start_time": "2023-05-21T14:14:08.328Z"
   },
   {
    "duration": 9,
    "start_time": "2023-05-21T14:16:02.821Z"
   },
   {
    "duration": 10,
    "start_time": "2023-05-21T14:16:06.144Z"
   },
   {
    "duration": 3,
    "start_time": "2023-05-21T14:16:45.206Z"
   },
   {
    "duration": 67,
    "start_time": "2023-05-21T14:16:46.291Z"
   },
   {
    "duration": 8,
    "start_time": "2023-05-21T14:16:46.444Z"
   },
   {
    "duration": 10,
    "start_time": "2023-05-21T14:16:46.566Z"
   },
   {
    "duration": 8,
    "start_time": "2023-05-21T14:16:46.640Z"
   },
   {
    "duration": 61,
    "start_time": "2023-05-21T14:16:46.703Z"
   },
   {
    "duration": 10,
    "start_time": "2023-05-21T14:16:46.791Z"
   },
   {
    "duration": 12,
    "start_time": "2023-05-21T14:16:46.845Z"
   },
   {
    "duration": 12,
    "start_time": "2023-05-21T14:16:46.977Z"
   },
   {
    "duration": 11,
    "start_time": "2023-05-21T14:16:47.099Z"
   },
   {
    "duration": 7,
    "start_time": "2023-05-21T14:16:47.223Z"
   },
   {
    "duration": 5,
    "start_time": "2023-05-21T14:16:47.501Z"
   },
   {
    "duration": 10,
    "start_time": "2023-05-21T14:16:47.616Z"
   },
   {
    "duration": 13,
    "start_time": "2023-05-21T14:16:47.633Z"
   },
   {
    "duration": 14,
    "start_time": "2023-05-21T14:16:47.682Z"
   },
   {
    "duration": 4,
    "start_time": "2023-05-21T14:16:47.757Z"
   },
   {
    "duration": 6,
    "start_time": "2023-05-21T14:16:47.870Z"
   },
   {
    "duration": 303,
    "start_time": "2023-05-21T14:16:47.878Z"
   },
   {
    "duration": 10,
    "start_time": "2023-05-21T14:16:48.182Z"
   },
   {
    "duration": 38,
    "start_time": "2023-05-21T14:16:48.193Z"
   },
   {
    "duration": 8,
    "start_time": "2023-05-21T14:16:48.890Z"
   },
   {
    "duration": 4,
    "start_time": "2023-05-21T14:16:49.381Z"
   },
   {
    "duration": 573,
    "start_time": "2023-05-21T14:16:49.724Z"
   },
   {
    "duration": 6,
    "start_time": "2023-05-21T14:16:50.298Z"
   },
   {
    "duration": 7,
    "start_time": "2023-05-21T14:16:50.758Z"
   },
   {
    "duration": 5,
    "start_time": "2023-05-21T14:16:53.119Z"
   },
   {
    "duration": 9,
    "start_time": "2023-05-21T14:16:53.813Z"
   },
   {
    "duration": 9,
    "start_time": "2023-05-21T14:16:56.581Z"
   },
   {
    "duration": 115,
    "start_time": "2023-05-21T14:17:21.347Z"
   },
   {
    "duration": 122,
    "start_time": "2023-05-21T14:17:34.971Z"
   },
   {
    "duration": 123,
    "start_time": "2023-05-21T14:17:42.371Z"
   },
   {
    "duration": 11,
    "start_time": "2023-05-21T14:20:57.818Z"
   },
   {
    "duration": 114,
    "start_time": "2023-05-21T14:21:03.042Z"
   },
   {
    "duration": 48,
    "start_time": "2023-05-21T14:21:09.667Z"
   },
   {
    "duration": 50,
    "start_time": "2023-05-21T14:21:42.565Z"
   },
   {
    "duration": 6,
    "start_time": "2023-05-21T14:23:11.125Z"
   },
   {
    "duration": 7,
    "start_time": "2023-05-21T14:23:31.016Z"
   },
   {
    "duration": 5,
    "start_time": "2023-05-21T14:23:35.108Z"
   },
   {
    "duration": 53,
    "start_time": "2023-05-21T14:23:58.520Z"
   },
   {
    "duration": 4,
    "start_time": "2023-05-21T14:24:20.664Z"
   },
   {
    "duration": 5,
    "start_time": "2023-05-21T14:25:33.487Z"
   },
   {
    "duration": 54,
    "start_time": "2023-05-21T14:25:43.336Z"
   },
   {
    "duration": 78,
    "start_time": "2023-05-21T14:27:20.473Z"
   },
   {
    "duration": 52,
    "start_time": "2023-05-21T14:27:38.896Z"
   },
   {
    "duration": 12,
    "start_time": "2023-05-21T14:27:54.525Z"
   },
   {
    "duration": 4,
    "start_time": "2023-05-21T14:27:57.523Z"
   },
   {
    "duration": 4,
    "start_time": "2023-05-21T14:28:02.646Z"
   },
   {
    "duration": 87,
    "start_time": "2023-05-21T14:33:51.615Z"
   },
   {
    "duration": 9,
    "start_time": "2023-05-21T14:33:55.659Z"
   },
   {
    "duration": 62,
    "start_time": "2023-05-21T14:34:10.743Z"
   },
   {
    "duration": 55,
    "start_time": "2023-05-21T14:34:15.077Z"
   },
   {
    "duration": 70,
    "start_time": "2023-05-21T14:34:20.843Z"
   },
   {
    "duration": 73,
    "start_time": "2023-05-21T14:34:30.797Z"
   },
   {
    "duration": 60,
    "start_time": "2023-05-21T14:34:41.850Z"
   },
   {
    "duration": 61,
    "start_time": "2023-05-21T14:34:50.242Z"
   },
   {
    "duration": 74,
    "start_time": "2023-05-21T14:35:14.920Z"
   },
   {
    "duration": 94,
    "start_time": "2023-05-21T14:35:22.767Z"
   },
   {
    "duration": 63,
    "start_time": "2023-05-21T14:35:51.047Z"
   },
   {
    "duration": 70,
    "start_time": "2023-05-21T14:36:21.353Z"
   },
   {
    "duration": 53,
    "start_time": "2023-05-21T14:36:25.177Z"
   },
   {
    "duration": 57,
    "start_time": "2023-05-21T14:36:33.754Z"
   },
   {
    "duration": 59,
    "start_time": "2023-05-21T14:38:32.598Z"
   },
   {
    "duration": 261,
    "start_time": "2023-05-21T14:41:10.206Z"
   },
   {
    "duration": 15317,
    "start_time": "2023-05-21T14:42:00.875Z"
   },
   {
    "duration": 219,
    "start_time": "2023-05-21T14:42:49.535Z"
   },
   {
    "duration": 219,
    "start_time": "2023-05-21T14:45:05.290Z"
   },
   {
    "duration": 15484,
    "start_time": "2023-05-21T14:46:17.295Z"
   },
   {
    "duration": 132,
    "start_time": "2023-05-21T14:49:01.768Z"
   },
   {
    "duration": 166,
    "start_time": "2023-05-21T14:49:06.150Z"
   },
   {
    "duration": 112,
    "start_time": "2023-05-21T14:49:36.257Z"
   },
   {
    "duration": 171,
    "start_time": "2023-05-21T14:49:45.042Z"
   },
   {
    "duration": 160,
    "start_time": "2023-05-21T14:49:51.908Z"
   },
   {
    "duration": 1179,
    "start_time": "2023-05-21T14:52:31.196Z"
   },
   {
    "duration": 69,
    "start_time": "2023-05-21T14:52:32.377Z"
   },
   {
    "duration": 12,
    "start_time": "2023-05-21T14:52:32.447Z"
   },
   {
    "duration": 30,
    "start_time": "2023-05-21T14:52:32.460Z"
   },
   {
    "duration": 17,
    "start_time": "2023-05-21T14:52:32.493Z"
   },
   {
    "duration": 28,
    "start_time": "2023-05-21T14:52:32.511Z"
   },
   {
    "duration": 33,
    "start_time": "2023-05-21T14:52:32.541Z"
   },
   {
    "duration": 22,
    "start_time": "2023-05-21T14:52:32.576Z"
   },
   {
    "duration": 20,
    "start_time": "2023-05-21T14:52:32.599Z"
   },
   {
    "duration": 9,
    "start_time": "2023-05-21T14:52:32.620Z"
   },
   {
    "duration": 17,
    "start_time": "2023-05-21T14:52:32.630Z"
   },
   {
    "duration": 18,
    "start_time": "2023-05-21T14:52:32.649Z"
   },
   {
    "duration": 22,
    "start_time": "2023-05-21T14:52:32.668Z"
   },
   {
    "duration": 10,
    "start_time": "2023-05-21T14:52:32.693Z"
   },
   {
    "duration": 24,
    "start_time": "2023-05-21T14:52:32.704Z"
   },
   {
    "duration": 6,
    "start_time": "2023-05-21T14:52:32.729Z"
   },
   {
    "duration": 8,
    "start_time": "2023-05-21T14:52:32.737Z"
   },
   {
    "duration": 221,
    "start_time": "2023-05-21T14:52:32.747Z"
   },
   {
    "duration": 11,
    "start_time": "2023-05-21T14:52:32.969Z"
   },
   {
    "duration": 9,
    "start_time": "2023-05-21T14:52:32.981Z"
   },
   {
    "duration": 9,
    "start_time": "2023-05-21T14:52:32.991Z"
   },
   {
    "duration": 17,
    "start_time": "2023-05-21T14:52:33.002Z"
   },
   {
    "duration": 585,
    "start_time": "2023-05-21T14:52:33.021Z"
   },
   {
    "duration": 12,
    "start_time": "2023-05-21T14:52:33.608Z"
   },
   {
    "duration": 27,
    "start_time": "2023-05-21T14:52:33.622Z"
   },
   {
    "duration": 7,
    "start_time": "2023-05-21T14:52:33.651Z"
   },
   {
    "duration": 173,
    "start_time": "2023-05-21T14:52:33.660Z"
   },
   {
    "duration": 60,
    "start_time": "2023-05-21T14:52:33.835Z"
   },
   {
    "duration": 259,
    "start_time": "2023-05-21T14:52:33.897Z"
   },
   {
    "duration": 180,
    "start_time": "2023-05-21T14:52:34.157Z"
   },
   {
    "duration": 167,
    "start_time": "2023-05-21T14:53:35.486Z"
   },
   {
    "duration": 165,
    "start_time": "2023-05-21T14:53:55.398Z"
   },
   {
    "duration": 163,
    "start_time": "2023-05-21T14:54:12.889Z"
   },
   {
    "duration": 167,
    "start_time": "2023-05-21T14:54:20.466Z"
   },
   {
    "duration": 235,
    "start_time": "2023-05-21T14:54:22.288Z"
   },
   {
    "duration": 10,
    "start_time": "2023-05-21T15:08:39.746Z"
   },
   {
    "duration": 11,
    "start_time": "2023-05-21T15:09:09.432Z"
   },
   {
    "duration": 17,
    "start_time": "2023-05-21T15:09:24.474Z"
   },
   {
    "duration": 106,
    "start_time": "2023-05-21T15:13:07.382Z"
   },
   {
    "duration": 8,
    "start_time": "2023-05-21T15:13:15.206Z"
   },
   {
    "duration": 8,
    "start_time": "2023-05-21T15:13:23.939Z"
   },
   {
    "duration": 11,
    "start_time": "2023-05-21T15:13:25.849Z"
   },
   {
    "duration": 15,
    "start_time": "2023-05-21T15:14:02.478Z"
   },
   {
    "duration": 1287,
    "start_time": "2023-05-21T18:12:18.568Z"
   },
   {
    "duration": 298,
    "start_time": "2023-05-21T18:12:19.857Z"
   },
   {
    "duration": 13,
    "start_time": "2023-05-21T18:12:20.157Z"
   },
   {
    "duration": 28,
    "start_time": "2023-05-21T18:12:20.172Z"
   },
   {
    "duration": 33,
    "start_time": "2023-05-21T18:12:20.202Z"
   },
   {
    "duration": 11,
    "start_time": "2023-05-21T18:12:20.237Z"
   },
   {
    "duration": 13,
    "start_time": "2023-05-21T18:12:20.250Z"
   },
   {
    "duration": 13,
    "start_time": "2023-05-21T18:12:20.264Z"
   },
   {
    "duration": 20,
    "start_time": "2023-05-21T18:12:20.278Z"
   },
   {
    "duration": 14,
    "start_time": "2023-05-21T18:12:20.300Z"
   },
   {
    "duration": 6,
    "start_time": "2023-05-21T18:12:20.316Z"
   },
   {
    "duration": 10,
    "start_time": "2023-05-21T18:12:20.324Z"
   },
   {
    "duration": 49,
    "start_time": "2023-05-21T18:12:20.336Z"
   },
   {
    "duration": 19,
    "start_time": "2023-05-21T18:12:20.388Z"
   },
   {
    "duration": 31,
    "start_time": "2023-05-21T18:12:20.409Z"
   },
   {
    "duration": 8,
    "start_time": "2023-05-21T18:12:20.442Z"
   },
   {
    "duration": 8,
    "start_time": "2023-05-21T18:12:20.451Z"
   },
   {
    "duration": 246,
    "start_time": "2023-05-21T18:12:20.461Z"
   },
   {
    "duration": 13,
    "start_time": "2023-05-21T18:12:20.709Z"
   },
   {
    "duration": 29,
    "start_time": "2023-05-21T18:12:20.725Z"
   },
   {
    "duration": 21,
    "start_time": "2023-05-21T18:12:20.756Z"
   },
   {
    "duration": 19,
    "start_time": "2023-05-21T18:12:20.778Z"
   },
   {
    "duration": 568,
    "start_time": "2023-05-21T18:12:20.799Z"
   },
   {
    "duration": 12,
    "start_time": "2023-05-21T18:12:21.369Z"
   },
   {
    "duration": 17,
    "start_time": "2023-05-21T18:12:21.383Z"
   },
   {
    "duration": 18,
    "start_time": "2023-05-21T18:12:21.402Z"
   },
   {
    "duration": 170,
    "start_time": "2023-05-21T18:12:21.422Z"
   },
   {
    "duration": 92,
    "start_time": "2023-05-21T18:12:21.593Z"
   },
   {
    "duration": 263,
    "start_time": "2023-05-21T18:12:21.687Z"
   },
   {
    "duration": 193,
    "start_time": "2023-05-21T18:12:21.952Z"
   },
   {
    "duration": 220,
    "start_time": "2023-05-21T18:12:22.146Z"
   },
   {
    "duration": 21,
    "start_time": "2023-05-21T18:12:22.368Z"
   },
   {
    "duration": 16,
    "start_time": "2023-05-21T18:12:22.391Z"
   },
   {
    "duration": 31,
    "start_time": "2023-05-21T18:12:22.409Z"
   },
   {
    "duration": 10,
    "start_time": "2023-05-21T18:12:22.442Z"
   },
   {
    "duration": 27,
    "start_time": "2023-05-21T18:12:22.454Z"
   },
   {
    "duration": 16,
    "start_time": "2023-05-21T18:12:22.482Z"
   },
   {
    "duration": 10,
    "start_time": "2023-05-21T18:14:13.969Z"
   },
   {
    "duration": 11,
    "start_time": "2023-05-21T18:15:01.112Z"
   },
   {
    "duration": 13,
    "start_time": "2023-05-21T18:16:40.986Z"
   },
   {
    "duration": 13,
    "start_time": "2023-05-21T18:26:26.226Z"
   },
   {
    "duration": 61,
    "start_time": "2023-05-21T18:27:09.962Z"
   },
   {
    "duration": 50,
    "start_time": "2023-05-21T18:28:07.412Z"
   },
   {
    "duration": 190,
    "start_time": "2023-05-21T18:28:35.821Z"
   },
   {
    "duration": 193,
    "start_time": "2023-05-21T18:29:11.631Z"
   },
   {
    "duration": 242,
    "start_time": "2023-05-21T18:29:23.698Z"
   },
   {
    "duration": 174,
    "start_time": "2023-05-21T18:29:45.273Z"
   },
   {
    "duration": 197,
    "start_time": "2023-05-21T18:31:00.270Z"
   },
   {
    "duration": 167,
    "start_time": "2023-05-21T18:32:21.106Z"
   },
   {
    "duration": 199,
    "start_time": "2023-05-21T18:34:04.182Z"
   },
   {
    "duration": 184,
    "start_time": "2023-05-21T18:34:10.407Z"
   },
   {
    "duration": 50,
    "start_time": "2023-05-21T18:35:45.576Z"
   },
   {
    "duration": 51,
    "start_time": "2023-05-21T18:36:58.622Z"
   },
   {
    "duration": 3,
    "start_time": "2023-05-21T18:37:12.659Z"
   },
   {
    "duration": 64,
    "start_time": "2023-05-21T18:37:12.725Z"
   },
   {
    "duration": 9,
    "start_time": "2023-05-21T18:37:12.791Z"
   },
   {
    "duration": 15,
    "start_time": "2023-05-21T18:37:12.802Z"
   },
   {
    "duration": 9,
    "start_time": "2023-05-21T18:37:12.818Z"
   },
   {
    "duration": 12,
    "start_time": "2023-05-21T18:37:12.829Z"
   },
   {
    "duration": 6,
    "start_time": "2023-05-21T18:37:12.843Z"
   },
   {
    "duration": 11,
    "start_time": "2023-05-21T18:37:12.879Z"
   },
   {
    "duration": 15,
    "start_time": "2023-05-21T18:37:12.892Z"
   },
   {
    "duration": 11,
    "start_time": "2023-05-21T18:37:12.909Z"
   },
   {
    "duration": 6,
    "start_time": "2023-05-21T18:37:12.921Z"
   },
   {
    "duration": 6,
    "start_time": "2023-05-21T18:37:12.929Z"
   },
   {
    "duration": 48,
    "start_time": "2023-05-21T18:37:12.937Z"
   },
   {
    "duration": 6,
    "start_time": "2023-05-21T18:37:12.986Z"
   },
   {
    "duration": 4,
    "start_time": "2023-05-21T18:37:12.995Z"
   },
   {
    "duration": 4,
    "start_time": "2023-05-21T18:37:13.001Z"
   },
   {
    "duration": 5,
    "start_time": "2023-05-21T18:37:13.006Z"
   },
   {
    "duration": 226,
    "start_time": "2023-05-21T18:37:13.012Z"
   },
   {
    "duration": 11,
    "start_time": "2023-05-21T18:37:13.239Z"
   },
   {
    "duration": 12,
    "start_time": "2023-05-21T18:37:13.252Z"
   },
   {
    "duration": 8,
    "start_time": "2023-05-21T18:37:13.279Z"
   },
   {
    "duration": 5,
    "start_time": "2023-05-21T18:37:13.288Z"
   },
   {
    "duration": 552,
    "start_time": "2023-05-21T18:37:13.294Z"
   },
   {
    "duration": 5,
    "start_time": "2023-05-21T18:37:13.848Z"
   },
   {
    "duration": 8,
    "start_time": "2023-05-21T18:37:13.855Z"
   },
   {
    "duration": 18,
    "start_time": "2023-05-21T18:37:13.865Z"
   },
   {
    "duration": 144,
    "start_time": "2023-05-21T18:37:13.885Z"
   },
   {
    "duration": 79,
    "start_time": "2023-05-21T18:37:14.031Z"
   },
   {
    "duration": 276,
    "start_time": "2023-05-21T18:37:14.112Z"
   },
   {
    "duration": 313,
    "start_time": "2023-05-21T18:37:14.389Z"
   },
   {
    "duration": 194,
    "start_time": "2023-05-21T18:37:14.703Z"
   },
   {
    "duration": 9,
    "start_time": "2023-05-21T18:37:14.899Z"
   },
   {
    "duration": 11,
    "start_time": "2023-05-21T18:37:14.910Z"
   },
   {
    "duration": 14,
    "start_time": "2023-05-21T18:37:14.922Z"
   },
   {
    "duration": 8,
    "start_time": "2023-05-21T18:37:14.938Z"
   },
   {
    "duration": 40,
    "start_time": "2023-05-21T18:37:14.948Z"
   },
   {
    "duration": 19,
    "start_time": "2023-05-21T18:37:14.989Z"
   },
   {
    "duration": 30,
    "start_time": "2023-05-21T18:37:15.010Z"
   },
   {
    "duration": 12,
    "start_time": "2023-05-21T18:37:15.041Z"
   },
   {
    "duration": 12,
    "start_time": "2023-05-21T18:37:15.055Z"
   },
   {
    "duration": 195,
    "start_time": "2023-05-21T18:37:15.069Z"
   },
   {
    "duration": 193,
    "start_time": "2023-05-21T18:37:15.268Z"
   },
   {
    "duration": 231,
    "start_time": "2023-05-21T18:37:15.462Z"
   },
   {
    "duration": 101,
    "start_time": "2023-05-21T18:40:58.322Z"
   },
   {
    "duration": 15,
    "start_time": "2023-05-21T18:41:38.975Z"
   },
   {
    "duration": 538,
    "start_time": "2023-05-21T18:42:50.734Z"
   },
   {
    "duration": 613,
    "start_time": "2023-05-21T18:43:44.867Z"
   },
   {
    "duration": 645,
    "start_time": "2023-05-21T18:44:19.634Z"
   },
   {
    "duration": 652,
    "start_time": "2023-05-21T18:44:48.957Z"
   },
   {
    "duration": 552,
    "start_time": "2023-05-21T18:45:23.026Z"
   },
   {
    "duration": 615,
    "start_time": "2023-05-21T18:45:39.445Z"
   },
   {
    "duration": 602,
    "start_time": "2023-05-21T18:45:46.588Z"
   },
   {
    "duration": 617,
    "start_time": "2023-05-21T18:46:25.563Z"
   },
   {
    "duration": 727,
    "start_time": "2023-05-21T18:46:34.695Z"
   },
   {
    "duration": 550,
    "start_time": "2023-05-21T18:46:36.721Z"
   },
   {
    "duration": 581,
    "start_time": "2023-05-21T18:47:07.251Z"
   },
   {
    "duration": 522,
    "start_time": "2023-05-21T18:47:29.371Z"
   },
   {
    "duration": 594,
    "start_time": "2023-05-21T18:48:11.089Z"
   },
   {
    "duration": 573,
    "start_time": "2023-05-21T18:48:16.486Z"
   },
   {
    "duration": 458,
    "start_time": "2023-05-21T18:49:36.299Z"
   },
   {
    "duration": 11,
    "start_time": "2023-05-21T18:51:34.604Z"
   },
   {
    "duration": 12,
    "start_time": "2023-05-21T18:51:34.947Z"
   },
   {
    "duration": 14,
    "start_time": "2023-05-21T18:51:35.174Z"
   },
   {
    "duration": 9,
    "start_time": "2023-05-21T18:51:35.710Z"
   },
   {
    "duration": 11,
    "start_time": "2023-05-21T18:51:36.222Z"
   },
   {
    "duration": 13,
    "start_time": "2023-05-21T18:51:36.419Z"
   },
   {
    "duration": 13,
    "start_time": "2023-05-21T18:51:37.444Z"
   },
   {
    "duration": 12,
    "start_time": "2023-05-21T18:51:37.888Z"
   },
   {
    "duration": 12,
    "start_time": "2023-05-21T18:51:38.130Z"
   },
   {
    "duration": 533,
    "start_time": "2023-05-21T18:52:04.442Z"
   },
   {
    "duration": 380,
    "start_time": "2023-05-21T18:52:10.180Z"
   },
   {
    "duration": 492,
    "start_time": "2023-05-21T18:52:13.958Z"
   },
   {
    "duration": 520,
    "start_time": "2023-05-21T18:52:22.444Z"
   },
   {
    "duration": 335,
    "start_time": "2023-05-21T18:52:36.520Z"
   },
   {
    "duration": 510,
    "start_time": "2023-05-21T18:53:27.958Z"
   },
   {
    "duration": 263,
    "start_time": "2023-05-21T18:53:46.722Z"
   },
   {
    "duration": 464,
    "start_time": "2023-05-21T18:54:28.943Z"
   },
   {
    "duration": 442,
    "start_time": "2023-05-21T18:57:10.460Z"
   },
   {
    "duration": 706,
    "start_time": "2023-05-21T18:58:05.410Z"
   },
   {
    "duration": 578,
    "start_time": "2023-05-21T18:58:10.242Z"
   },
   {
    "duration": 736,
    "start_time": "2023-05-21T19:05:59.338Z"
   },
   {
    "duration": 657,
    "start_time": "2023-05-21T19:06:14.651Z"
   },
   {
    "duration": 3,
    "start_time": "2023-05-21T19:18:22.715Z"
   },
   {
    "duration": 1150,
    "start_time": "2023-05-21T19:18:34.339Z"
   },
   {
    "duration": 71,
    "start_time": "2023-05-21T19:18:35.491Z"
   },
   {
    "duration": 15,
    "start_time": "2023-05-21T19:18:35.564Z"
   },
   {
    "duration": 12,
    "start_time": "2023-05-21T19:18:35.581Z"
   },
   {
    "duration": 18,
    "start_time": "2023-05-21T19:18:35.595Z"
   },
   {
    "duration": 19,
    "start_time": "2023-05-21T19:18:35.615Z"
   },
   {
    "duration": 8,
    "start_time": "2023-05-21T19:18:35.636Z"
   },
   {
    "duration": 21,
    "start_time": "2023-05-21T19:18:35.646Z"
   },
   {
    "duration": 15,
    "start_time": "2023-05-21T19:18:35.679Z"
   },
   {
    "duration": 11,
    "start_time": "2023-05-21T19:18:35.697Z"
   },
   {
    "duration": 17,
    "start_time": "2023-05-21T19:18:35.710Z"
   },
   {
    "duration": 15,
    "start_time": "2023-05-21T19:18:35.729Z"
   },
   {
    "duration": 13,
    "start_time": "2023-05-21T19:18:35.746Z"
   },
   {
    "duration": 19,
    "start_time": "2023-05-21T19:18:35.761Z"
   },
   {
    "duration": 19,
    "start_time": "2023-05-21T19:18:35.782Z"
   },
   {
    "duration": 6,
    "start_time": "2023-05-21T19:18:35.803Z"
   },
   {
    "duration": 6,
    "start_time": "2023-05-21T19:18:35.811Z"
   },
   {
    "duration": 228,
    "start_time": "2023-05-21T19:18:35.818Z"
   },
   {
    "duration": 12,
    "start_time": "2023-05-21T19:18:36.047Z"
   },
   {
    "duration": 21,
    "start_time": "2023-05-21T19:18:36.060Z"
   },
   {
    "duration": 18,
    "start_time": "2023-05-21T19:18:36.083Z"
   },
   {
    "duration": 5,
    "start_time": "2023-05-21T19:18:36.102Z"
   },
   {
    "duration": 528,
    "start_time": "2023-05-21T19:18:36.108Z"
   },
   {
    "duration": 6,
    "start_time": "2023-05-21T19:18:36.637Z"
   },
   {
    "duration": 15,
    "start_time": "2023-05-21T19:18:36.644Z"
   },
   {
    "duration": 18,
    "start_time": "2023-05-21T19:18:36.661Z"
   },
   {
    "duration": 150,
    "start_time": "2023-05-21T19:18:36.681Z"
   },
   {
    "duration": 70,
    "start_time": "2023-05-21T19:18:36.836Z"
   },
   {
    "duration": 243,
    "start_time": "2023-05-21T19:18:36.908Z"
   },
   {
    "duration": 600,
    "start_time": "2023-05-21T19:18:37.153Z"
   },
   {
    "duration": 491,
    "start_time": "2023-05-21T19:18:37.755Z"
   },
   {
    "duration": 11,
    "start_time": "2023-05-21T19:18:38.247Z"
   },
   {
    "duration": 22,
    "start_time": "2023-05-21T19:18:38.259Z"
   },
   {
    "duration": 13,
    "start_time": "2023-05-21T19:18:38.283Z"
   },
   {
    "duration": 9,
    "start_time": "2023-05-21T19:18:38.298Z"
   },
   {
    "duration": 13,
    "start_time": "2023-05-21T19:18:38.309Z"
   },
   {
    "duration": 13,
    "start_time": "2023-05-21T19:18:38.324Z"
   },
   {
    "duration": 126,
    "start_time": "2023-05-21T19:18:38.339Z"
   },
   {
    "duration": 18,
    "start_time": "2023-05-21T19:18:38.467Z"
   },
   {
    "duration": 16,
    "start_time": "2023-05-21T19:18:38.487Z"
   },
   {
    "duration": 289,
    "start_time": "2023-05-21T19:18:38.505Z"
   },
   {
    "duration": 277,
    "start_time": "2023-05-21T19:18:38.796Z"
   },
   {
    "duration": 457,
    "start_time": "2023-05-21T19:18:39.077Z"
   },
   {
    "duration": 465,
    "start_time": "2023-05-21T19:18:39.536Z"
   },
   {
    "duration": 613,
    "start_time": "2023-05-21T19:18:40.002Z"
   },
   {
    "duration": 581,
    "start_time": "2023-05-21T19:18:40.617Z"
   },
   {
    "duration": 102,
    "start_time": "2023-05-21T19:24:40.029Z"
   },
   {
    "duration": 107,
    "start_time": "2023-05-21T19:25:34.112Z"
   },
   {
    "duration": 20,
    "start_time": "2023-05-21T19:25:42.688Z"
   },
   {
    "duration": 27,
    "start_time": "2023-05-21T19:28:24.626Z"
   },
   {
    "duration": 27,
    "start_time": "2023-05-21T19:28:38.654Z"
   },
   {
    "duration": 11,
    "start_time": "2023-05-21T19:30:15.460Z"
   },
   {
    "duration": 16,
    "start_time": "2023-05-21T19:31:11.865Z"
   },
   {
    "duration": 33,
    "start_time": "2023-05-21T19:31:18.744Z"
   },
   {
    "duration": 41,
    "start_time": "2023-05-21T19:32:07.444Z"
   },
   {
    "duration": 23,
    "start_time": "2023-05-21T19:32:25.027Z"
   },
   {
    "duration": 22,
    "start_time": "2023-05-21T19:33:23.484Z"
   },
   {
    "duration": 23,
    "start_time": "2023-05-21T19:34:38.742Z"
   },
   {
    "duration": 8,
    "start_time": "2023-05-21T19:34:45.271Z"
   },
   {
    "duration": 1727,
    "start_time": "2023-05-21T19:34:57.668Z"
   },
   {
    "duration": 514,
    "start_time": "2023-05-21T19:35:06.184Z"
   },
   {
    "duration": 7,
    "start_time": "2023-05-21T19:35:09.119Z"
   },
   {
    "duration": 5,
    "start_time": "2023-05-21T19:35:14.341Z"
   },
   {
    "duration": 20,
    "start_time": "2023-05-21T19:36:58.442Z"
   },
   {
    "duration": 88,
    "start_time": "2023-05-21T19:37:06.167Z"
   },
   {
    "duration": 11,
    "start_time": "2023-05-21T19:38:21.326Z"
   },
   {
    "duration": 639,
    "start_time": "2023-05-21T19:38:32.441Z"
   },
   {
    "duration": 643,
    "start_time": "2023-05-21T19:39:24.502Z"
   },
   {
    "duration": 49,
    "start_time": "2023-05-21T19:39:44.815Z"
   },
   {
    "duration": 32,
    "start_time": "2023-05-21T19:39:48.528Z"
   },
   {
    "duration": 716,
    "start_time": "2023-05-21T19:40:27.858Z"
   },
   {
    "duration": 5,
    "start_time": "2023-05-21T19:40:43.260Z"
   },
   {
    "duration": 5,
    "start_time": "2023-05-21T19:40:47.303Z"
   },
   {
    "duration": 11,
    "start_time": "2023-05-21T19:40:59.491Z"
   },
   {
    "duration": 5,
    "start_time": "2023-05-21T19:41:05.187Z"
   },
   {
    "duration": 555,
    "start_time": "2023-05-21T19:45:27.851Z"
   },
   {
    "duration": 22,
    "start_time": "2023-05-21T19:45:41.780Z"
   },
   {
    "duration": 728,
    "start_time": "2023-05-21T19:46:47.214Z"
   },
   {
    "duration": 696,
    "start_time": "2023-05-21T19:46:56.162Z"
   },
   {
    "duration": 10,
    "start_time": "2023-05-21T19:47:09.798Z"
   },
   {
    "duration": 4,
    "start_time": "2023-05-21T19:47:55.432Z"
   },
   {
    "duration": 7,
    "start_time": "2023-05-21T19:48:05.597Z"
   },
   {
    "duration": 4,
    "start_time": "2023-05-21T19:48:10.402Z"
   },
   {
    "duration": 5,
    "start_time": "2023-05-21T19:48:13.996Z"
   },
   {
    "duration": 5,
    "start_time": "2023-05-21T19:48:19.689Z"
   },
   {
    "duration": 6,
    "start_time": "2023-05-21T19:48:23.015Z"
   },
   {
    "duration": 8,
    "start_time": "2023-05-21T19:48:33.707Z"
   },
   {
    "duration": 92,
    "start_time": "2023-05-21T19:48:38.312Z"
   },
   {
    "duration": 6,
    "start_time": "2023-05-21T19:48:40.091Z"
   },
   {
    "duration": 4,
    "start_time": "2023-05-21T19:48:48.944Z"
   },
   {
    "duration": 5,
    "start_time": "2023-05-21T19:49:43.163Z"
   },
   {
    "duration": 5,
    "start_time": "2023-05-21T19:49:50.050Z"
   },
   {
    "duration": 4,
    "start_time": "2023-05-21T19:50:32.300Z"
   },
   {
    "duration": 6,
    "start_time": "2023-05-21T19:50:43.322Z"
   },
   {
    "duration": 4,
    "start_time": "2023-05-21T19:51:35.888Z"
   },
   {
    "duration": 11,
    "start_time": "2023-05-21T19:53:53.140Z"
   },
   {
    "duration": 3,
    "start_time": "2023-05-21T19:54:55.046Z"
   },
   {
    "duration": 12,
    "start_time": "2023-05-21T19:55:03.269Z"
   },
   {
    "duration": 14,
    "start_time": "2023-05-21T19:55:07.447Z"
   },
   {
    "duration": 4,
    "start_time": "2023-05-21T19:56:57.705Z"
   },
   {
    "duration": 1257,
    "start_time": "2023-05-21T19:58:49.089Z"
   },
   {
    "duration": 66,
    "start_time": "2023-05-21T19:58:50.348Z"
   },
   {
    "duration": 13,
    "start_time": "2023-05-21T19:58:50.415Z"
   },
   {
    "duration": 12,
    "start_time": "2023-05-21T19:58:50.430Z"
   },
   {
    "duration": 12,
    "start_time": "2023-05-21T19:58:50.443Z"
   },
   {
    "duration": 18,
    "start_time": "2023-05-21T19:58:50.457Z"
   },
   {
    "duration": 8,
    "start_time": "2023-05-21T19:58:50.478Z"
   },
   {
    "duration": 49,
    "start_time": "2023-05-21T19:58:50.487Z"
   },
   {
    "duration": 19,
    "start_time": "2023-05-21T19:58:50.538Z"
   },
   {
    "duration": 9,
    "start_time": "2023-05-21T19:58:50.559Z"
   },
   {
    "duration": 17,
    "start_time": "2023-05-21T19:58:50.570Z"
   },
   {
    "duration": 18,
    "start_time": "2023-05-21T19:58:50.588Z"
   },
   {
    "duration": 37,
    "start_time": "2023-05-21T19:58:50.607Z"
   },
   {
    "duration": 5,
    "start_time": "2023-05-21T19:58:50.646Z"
   },
   {
    "duration": 4,
    "start_time": "2023-05-21T19:58:50.653Z"
   },
   {
    "duration": 15,
    "start_time": "2023-05-21T19:58:50.659Z"
   },
   {
    "duration": 11,
    "start_time": "2023-05-21T19:58:50.675Z"
   },
   {
    "duration": 194,
    "start_time": "2023-05-21T19:58:50.688Z"
   },
   {
    "duration": 10,
    "start_time": "2023-05-21T19:58:50.884Z"
   },
   {
    "duration": 56,
    "start_time": "2023-05-21T19:58:50.895Z"
   },
   {
    "duration": 14,
    "start_time": "2023-05-21T19:58:50.953Z"
   },
   {
    "duration": 7,
    "start_time": "2023-05-21T19:58:50.969Z"
   },
   {
    "duration": 577,
    "start_time": "2023-05-21T19:58:50.978Z"
   },
   {
    "duration": 6,
    "start_time": "2023-05-21T19:58:51.557Z"
   },
   {
    "duration": 20,
    "start_time": "2023-05-21T19:58:51.564Z"
   },
   {
    "duration": 12,
    "start_time": "2023-05-21T19:58:51.585Z"
   },
   {
    "duration": 153,
    "start_time": "2023-05-21T19:58:51.599Z"
   },
   {
    "duration": 67,
    "start_time": "2023-05-21T19:58:51.756Z"
   },
   {
    "duration": 240,
    "start_time": "2023-05-21T19:58:51.824Z"
   },
   {
    "duration": 498,
    "start_time": "2023-05-21T19:58:52.065Z"
   },
   {
    "duration": 482,
    "start_time": "2023-05-21T19:58:52.564Z"
   },
   {
    "duration": 11,
    "start_time": "2023-05-21T19:58:53.049Z"
   },
   {
    "duration": 21,
    "start_time": "2023-05-21T19:58:53.061Z"
   },
   {
    "duration": 17,
    "start_time": "2023-05-21T19:58:53.083Z"
   },
   {
    "duration": 9,
    "start_time": "2023-05-21T19:58:53.102Z"
   },
   {
    "duration": 12,
    "start_time": "2023-05-21T19:58:53.113Z"
   },
   {
    "duration": 118,
    "start_time": "2023-05-21T19:58:53.127Z"
   },
   {
    "duration": 12,
    "start_time": "2023-05-21T19:58:53.246Z"
   },
   {
    "duration": 19,
    "start_time": "2023-05-21T19:58:53.260Z"
   },
   {
    "duration": 12,
    "start_time": "2023-05-21T19:58:53.280Z"
   },
   {
    "duration": 292,
    "start_time": "2023-05-21T19:58:53.293Z"
   },
   {
    "duration": 265,
    "start_time": "2023-05-21T19:58:53.587Z"
   },
   {
    "duration": 487,
    "start_time": "2023-05-21T19:58:53.854Z"
   },
   {
    "duration": 448,
    "start_time": "2023-05-21T19:58:54.344Z"
   },
   {
    "duration": 607,
    "start_time": "2023-05-21T19:58:54.794Z"
   },
   {
    "duration": 570,
    "start_time": "2023-05-21T19:58:55.403Z"
   },
   {
    "duration": 130,
    "start_time": "2023-05-21T19:58:55.975Z"
   },
   {
    "duration": 10,
    "start_time": "2023-05-21T19:58:56.107Z"
   },
   {
    "duration": 1231,
    "start_time": "2023-05-21T19:59:15.272Z"
   },
   {
    "duration": 66,
    "start_time": "2023-05-21T19:59:16.505Z"
   },
   {
    "duration": 12,
    "start_time": "2023-05-21T19:59:16.573Z"
   },
   {
    "duration": 25,
    "start_time": "2023-05-21T19:59:16.586Z"
   },
   {
    "duration": 20,
    "start_time": "2023-05-21T19:59:16.613Z"
   },
   {
    "duration": 16,
    "start_time": "2023-05-21T19:59:16.635Z"
   },
   {
    "duration": 8,
    "start_time": "2023-05-21T19:59:16.653Z"
   },
   {
    "duration": 17,
    "start_time": "2023-05-21T19:59:16.662Z"
   },
   {
    "duration": 22,
    "start_time": "2023-05-21T19:59:16.681Z"
   },
   {
    "duration": 12,
    "start_time": "2023-05-21T19:59:16.704Z"
   },
   {
    "duration": 6,
    "start_time": "2023-05-21T19:59:16.718Z"
   },
   {
    "duration": 25,
    "start_time": "2023-05-21T19:59:16.726Z"
   },
   {
    "duration": 15,
    "start_time": "2023-05-21T19:59:16.753Z"
   },
   {
    "duration": 12,
    "start_time": "2023-05-21T19:59:16.777Z"
   },
   {
    "duration": 11,
    "start_time": "2023-05-21T19:59:16.791Z"
   },
   {
    "duration": 16,
    "start_time": "2023-05-21T19:59:16.803Z"
   },
   {
    "duration": 28,
    "start_time": "2023-05-21T19:59:16.821Z"
   },
   {
    "duration": 209,
    "start_time": "2023-05-21T19:59:16.851Z"
   },
   {
    "duration": 19,
    "start_time": "2023-05-21T19:59:17.062Z"
   },
   {
    "duration": 22,
    "start_time": "2023-05-21T19:59:17.082Z"
   },
   {
    "duration": 23,
    "start_time": "2023-05-21T19:59:17.105Z"
   },
   {
    "duration": 18,
    "start_time": "2023-05-21T19:59:17.130Z"
   },
   {
    "duration": 554,
    "start_time": "2023-05-21T19:59:17.149Z"
   },
   {
    "duration": 6,
    "start_time": "2023-05-21T19:59:17.704Z"
   },
   {
    "duration": 26,
    "start_time": "2023-05-21T19:59:17.712Z"
   },
   {
    "duration": 9,
    "start_time": "2023-05-21T19:59:17.740Z"
   },
   {
    "duration": 177,
    "start_time": "2023-05-21T19:59:17.750Z"
   },
   {
    "duration": 87,
    "start_time": "2023-05-21T19:59:17.929Z"
   },
   {
    "duration": 246,
    "start_time": "2023-05-21T19:59:18.018Z"
   },
   {
    "duration": 514,
    "start_time": "2023-05-21T19:59:18.266Z"
   },
   {
    "duration": 494,
    "start_time": "2023-05-21T19:59:18.782Z"
   },
   {
    "duration": 11,
    "start_time": "2023-05-21T19:59:19.278Z"
   },
   {
    "duration": 12,
    "start_time": "2023-05-21T19:59:19.291Z"
   },
   {
    "duration": 18,
    "start_time": "2023-05-21T19:59:19.305Z"
   },
   {
    "duration": 10,
    "start_time": "2023-05-21T19:59:19.324Z"
   },
   {
    "duration": 17,
    "start_time": "2023-05-21T19:59:19.336Z"
   },
   {
    "duration": 106,
    "start_time": "2023-05-21T19:59:19.379Z"
   },
   {
    "duration": 14,
    "start_time": "2023-05-21T19:59:19.487Z"
   },
   {
    "duration": 16,
    "start_time": "2023-05-21T19:59:19.502Z"
   },
   {
    "duration": 35,
    "start_time": "2023-05-21T19:59:19.520Z"
   },
   {
    "duration": 285,
    "start_time": "2023-05-21T19:59:19.559Z"
   },
   {
    "duration": 279,
    "start_time": "2023-05-21T19:59:19.846Z"
   },
   {
    "duration": 474,
    "start_time": "2023-05-21T19:59:20.126Z"
   },
   {
    "duration": 389,
    "start_time": "2023-05-21T19:59:20.602Z"
   },
   {
    "duration": 604,
    "start_time": "2023-05-21T19:59:20.993Z"
   },
   {
    "duration": 576,
    "start_time": "2023-05-21T19:59:21.599Z"
   },
   {
    "duration": 119,
    "start_time": "2023-05-21T19:59:22.178Z"
   },
   {
    "duration": 10,
    "start_time": "2023-05-21T19:59:22.299Z"
   },
   {
    "duration": 31,
    "start_time": "2023-05-21T19:59:22.310Z"
   },
   {
    "duration": 95,
    "start_time": "2023-05-21T20:00:39.710Z"
   },
   {
    "duration": 8,
    "start_time": "2023-05-21T20:06:47.882Z"
   },
   {
    "duration": 6,
    "start_time": "2023-05-21T20:06:59.370Z"
   },
   {
    "duration": 5,
    "start_time": "2023-05-21T20:07:15.748Z"
   },
   {
    "duration": 7,
    "start_time": "2023-05-21T20:07:19.696Z"
   },
   {
    "duration": 4,
    "start_time": "2023-05-21T20:07:26.261Z"
   },
   {
    "duration": 6,
    "start_time": "2023-05-21T20:07:29.674Z"
   },
   {
    "duration": 215,
    "start_time": "2023-05-21T20:08:01.759Z"
   },
   {
    "duration": 230,
    "start_time": "2023-05-21T20:08:42.326Z"
   },
   {
    "duration": 4,
    "start_time": "2023-05-21T20:09:11.111Z"
   },
   {
    "duration": 4,
    "start_time": "2023-05-21T20:09:19.186Z"
   },
   {
    "duration": 4,
    "start_time": "2023-05-21T20:09:25.295Z"
   },
   {
    "duration": 13,
    "start_time": "2023-05-21T20:11:53.111Z"
   },
   {
    "duration": 12,
    "start_time": "2023-05-21T20:12:04.260Z"
   },
   {
    "duration": 5,
    "start_time": "2023-05-21T20:13:11.551Z"
   },
   {
    "duration": 1780,
    "start_time": "2023-05-21T20:14:03.624Z"
   },
   {
    "duration": 4,
    "start_time": "2023-05-21T20:14:08.812Z"
   },
   {
    "duration": 6,
    "start_time": "2023-05-21T20:15:26.500Z"
   },
   {
    "duration": 155,
    "start_time": "2023-05-21T20:15:45.255Z"
   },
   {
    "duration": 4,
    "start_time": "2023-05-21T20:16:18.356Z"
   },
   {
    "duration": 4,
    "start_time": "2023-05-21T20:16:29.805Z"
   },
   {
    "duration": 41,
    "start_time": "2023-05-21T20:16:31.000Z"
   },
   {
    "duration": 11,
    "start_time": "2023-05-21T20:16:46.791Z"
   },
   {
    "duration": 4,
    "start_time": "2023-05-21T20:16:55.208Z"
   },
   {
    "duration": 5,
    "start_time": "2023-05-21T20:17:10.847Z"
   },
   {
    "duration": 27,
    "start_time": "2023-05-21T20:17:58.170Z"
   },
   {
    "duration": 3344,
    "start_time": "2023-05-21T20:18:05.342Z"
   },
   {
    "duration": 12,
    "start_time": "2023-05-21T20:19:54.515Z"
   },
   {
    "duration": 659,
    "start_time": "2023-05-21T20:20:24.807Z"
   },
   {
    "duration": 633,
    "start_time": "2023-05-21T20:20:38.845Z"
   },
   {
    "duration": 25,
    "start_time": "2023-05-21T20:21:36.710Z"
   },
   {
    "duration": 16,
    "start_time": "2023-05-21T20:21:53.137Z"
   },
   {
    "duration": 16,
    "start_time": "2023-05-21T20:22:26.825Z"
   },
   {
    "duration": 14,
    "start_time": "2023-05-21T20:22:31.076Z"
   },
   {
    "duration": 27,
    "start_time": "2023-05-21T20:26:50.109Z"
   },
   {
    "duration": 48,
    "start_time": "2023-05-21T20:31:05.548Z"
   },
   {
    "duration": 47,
    "start_time": "2023-05-21T20:31:11.991Z"
   },
   {
    "duration": 53,
    "start_time": "2023-05-21T20:31:41.994Z"
   },
   {
    "duration": 1164,
    "start_time": "2023-05-21T20:32:44.558Z"
   },
   {
    "duration": 297,
    "start_time": "2023-05-21T20:32:45.724Z"
   },
   {
    "duration": 15,
    "start_time": "2023-05-21T20:32:46.023Z"
   },
   {
    "duration": 12,
    "start_time": "2023-05-21T20:32:46.040Z"
   },
   {
    "duration": 11,
    "start_time": "2023-05-21T20:32:46.053Z"
   },
   {
    "duration": 12,
    "start_time": "2023-05-21T20:32:46.066Z"
   },
   {
    "duration": 7,
    "start_time": "2023-05-21T20:32:46.080Z"
   },
   {
    "duration": 10,
    "start_time": "2023-05-21T20:32:46.089Z"
   },
   {
    "duration": 15,
    "start_time": "2023-05-21T20:32:46.101Z"
   },
   {
    "duration": 12,
    "start_time": "2023-05-21T20:32:46.119Z"
   },
   {
    "duration": 6,
    "start_time": "2023-05-21T20:32:46.132Z"
   },
   {
    "duration": 38,
    "start_time": "2023-05-21T20:32:46.141Z"
   },
   {
    "duration": 9,
    "start_time": "2023-05-21T20:32:46.181Z"
   },
   {
    "duration": 5,
    "start_time": "2023-05-21T20:32:46.191Z"
   },
   {
    "duration": 7,
    "start_time": "2023-05-21T20:32:46.198Z"
   },
   {
    "duration": 6,
    "start_time": "2023-05-21T20:32:46.206Z"
   },
   {
    "duration": 5,
    "start_time": "2023-05-21T20:32:46.214Z"
   },
   {
    "duration": 248,
    "start_time": "2023-05-21T20:32:46.221Z"
   },
   {
    "duration": 14,
    "start_time": "2023-05-21T20:32:46.471Z"
   },
   {
    "duration": 6,
    "start_time": "2023-05-21T20:32:46.487Z"
   },
   {
    "duration": 9,
    "start_time": "2023-05-21T20:32:46.495Z"
   },
   {
    "duration": 5,
    "start_time": "2023-05-21T20:32:46.506Z"
   },
   {
    "duration": 593,
    "start_time": "2023-05-21T20:32:46.512Z"
   },
   {
    "duration": 6,
    "start_time": "2023-05-21T20:32:47.106Z"
   },
   {
    "duration": 10,
    "start_time": "2023-05-21T20:32:47.113Z"
   },
   {
    "duration": 5,
    "start_time": "2023-05-21T20:32:47.124Z"
   },
   {
    "duration": 162,
    "start_time": "2023-05-21T20:32:47.131Z"
   },
   {
    "duration": 62,
    "start_time": "2023-05-21T20:32:47.297Z"
   },
   {
    "duration": 243,
    "start_time": "2023-05-21T20:32:47.361Z"
   },
   {
    "duration": 535,
    "start_time": "2023-05-21T20:32:47.606Z"
   },
   {
    "duration": 521,
    "start_time": "2023-05-21T20:32:48.143Z"
   },
   {
    "duration": 16,
    "start_time": "2023-05-21T20:32:48.665Z"
   },
   {
    "duration": 12,
    "start_time": "2023-05-21T20:32:48.683Z"
   },
   {
    "duration": 19,
    "start_time": "2023-05-21T20:32:48.697Z"
   },
   {
    "duration": 9,
    "start_time": "2023-05-21T20:32:48.718Z"
   },
   {
    "duration": 13,
    "start_time": "2023-05-21T20:32:48.728Z"
   },
   {
    "duration": 125,
    "start_time": "2023-05-21T20:32:48.743Z"
   },
   {
    "duration": 18,
    "start_time": "2023-05-21T20:32:48.870Z"
   },
   {
    "duration": 13,
    "start_time": "2023-05-21T20:32:48.890Z"
   },
   {
    "duration": 16,
    "start_time": "2023-05-21T20:32:48.904Z"
   },
   {
    "duration": 297,
    "start_time": "2023-05-21T20:32:48.921Z"
   },
   {
    "duration": 274,
    "start_time": "2023-05-21T20:32:49.220Z"
   },
   {
    "duration": 423,
    "start_time": "2023-05-21T20:32:49.496Z"
   },
   {
    "duration": 469,
    "start_time": "2023-05-21T20:32:49.921Z"
   },
   {
    "duration": 609,
    "start_time": "2023-05-21T20:32:50.392Z"
   },
   {
    "duration": 574,
    "start_time": "2023-05-21T20:32:51.003Z"
   },
   {
    "duration": 1196,
    "start_time": "2023-05-21T20:33:46.267Z"
   },
   {
    "duration": 292,
    "start_time": "2023-05-21T20:33:47.466Z"
   },
   {
    "duration": 12,
    "start_time": "2023-05-21T20:33:47.760Z"
   },
   {
    "duration": 11,
    "start_time": "2023-05-21T20:33:47.774Z"
   },
   {
    "duration": 14,
    "start_time": "2023-05-21T20:33:47.787Z"
   },
   {
    "duration": 14,
    "start_time": "2023-05-21T20:33:47.802Z"
   },
   {
    "duration": 7,
    "start_time": "2023-05-21T20:33:47.817Z"
   },
   {
    "duration": 10,
    "start_time": "2023-05-21T20:33:47.825Z"
   },
   {
    "duration": 15,
    "start_time": "2023-05-21T20:33:47.837Z"
   },
   {
    "duration": 12,
    "start_time": "2023-05-21T20:33:47.877Z"
   },
   {
    "duration": 6,
    "start_time": "2023-05-21T20:33:47.890Z"
   },
   {
    "duration": 10,
    "start_time": "2023-05-21T20:33:47.898Z"
   },
   {
    "duration": 8,
    "start_time": "2023-05-21T20:33:47.910Z"
   },
   {
    "duration": 5,
    "start_time": "2023-05-21T20:33:47.919Z"
   },
   {
    "duration": 6,
    "start_time": "2023-05-21T20:33:47.926Z"
   },
   {
    "duration": 5,
    "start_time": "2023-05-21T20:33:47.933Z"
   },
   {
    "duration": 41,
    "start_time": "2023-05-21T20:33:47.939Z"
   },
   {
    "duration": 200,
    "start_time": "2023-05-21T20:33:47.981Z"
   },
   {
    "duration": 10,
    "start_time": "2023-05-21T20:33:48.182Z"
   },
   {
    "duration": 6,
    "start_time": "2023-05-21T20:33:48.194Z"
   },
   {
    "duration": 8,
    "start_time": "2023-05-21T20:33:48.202Z"
   },
   {
    "duration": 6,
    "start_time": "2023-05-21T20:33:48.211Z"
   },
   {
    "duration": 579,
    "start_time": "2023-05-21T20:33:48.218Z"
   },
   {
    "duration": 6,
    "start_time": "2023-05-21T20:33:48.799Z"
   },
   {
    "duration": 8,
    "start_time": "2023-05-21T20:33:48.807Z"
   },
   {
    "duration": 5,
    "start_time": "2023-05-21T20:33:48.817Z"
   },
   {
    "duration": 177,
    "start_time": "2023-05-21T20:33:48.824Z"
   },
   {
    "duration": 74,
    "start_time": "2023-05-21T20:33:49.004Z"
   },
   {
    "duration": 248,
    "start_time": "2023-05-21T20:33:49.080Z"
   },
   {
    "duration": 545,
    "start_time": "2023-05-21T20:33:49.330Z"
   },
   {
    "duration": 461,
    "start_time": "2023-05-21T20:33:49.877Z"
   },
   {
    "duration": 9,
    "start_time": "2023-05-21T20:33:50.340Z"
   },
   {
    "duration": 11,
    "start_time": "2023-05-21T20:33:50.351Z"
   },
   {
    "duration": 25,
    "start_time": "2023-05-21T20:33:50.364Z"
   },
   {
    "duration": 10,
    "start_time": "2023-05-21T20:33:50.391Z"
   },
   {
    "duration": 13,
    "start_time": "2023-05-21T20:33:50.403Z"
   },
   {
    "duration": 116,
    "start_time": "2023-05-21T20:33:50.417Z"
   },
   {
    "duration": 12,
    "start_time": "2023-05-21T20:33:50.535Z"
   },
   {
    "duration": 12,
    "start_time": "2023-05-21T20:33:50.549Z"
   },
   {
    "duration": 13,
    "start_time": "2023-05-21T20:33:50.578Z"
   },
   {
    "duration": 277,
    "start_time": "2023-05-21T20:33:50.592Z"
   },
   {
    "duration": 257,
    "start_time": "2023-05-21T20:33:50.871Z"
   },
   {
    "duration": 462,
    "start_time": "2023-05-21T20:33:51.130Z"
   },
   {
    "duration": 393,
    "start_time": "2023-05-21T20:33:51.594Z"
   },
   {
    "duration": 618,
    "start_time": "2023-05-21T20:33:51.988Z"
   },
   {
    "duration": 559,
    "start_time": "2023-05-21T20:33:52.608Z"
   },
   {
    "duration": 59,
    "start_time": "2023-05-21T20:34:16.638Z"
   },
   {
    "duration": 39,
    "start_time": "2023-05-21T20:34:20.650Z"
   },
   {
    "duration": 1143,
    "start_time": "2023-05-21T20:34:32.149Z"
   },
   {
    "duration": 287,
    "start_time": "2023-05-21T20:34:33.294Z"
   },
   {
    "duration": 12,
    "start_time": "2023-05-21T20:34:33.583Z"
   },
   {
    "duration": 11,
    "start_time": "2023-05-21T20:34:33.597Z"
   },
   {
    "duration": 9,
    "start_time": "2023-05-21T20:34:33.610Z"
   },
   {
    "duration": 11,
    "start_time": "2023-05-21T20:34:33.621Z"
   },
   {
    "duration": 6,
    "start_time": "2023-05-21T20:34:33.634Z"
   },
   {
    "duration": 39,
    "start_time": "2023-05-21T20:34:33.641Z"
   },
   {
    "duration": 16,
    "start_time": "2023-05-21T20:34:33.682Z"
   },
   {
    "duration": 10,
    "start_time": "2023-05-21T20:34:33.700Z"
   },
   {
    "duration": 6,
    "start_time": "2023-05-21T20:34:33.711Z"
   },
   {
    "duration": 25,
    "start_time": "2023-05-21T20:34:33.719Z"
   },
   {
    "duration": 10,
    "start_time": "2023-05-21T20:34:33.746Z"
   },
   {
    "duration": 19,
    "start_time": "2023-05-21T20:34:33.758Z"
   },
   {
    "duration": 5,
    "start_time": "2023-05-21T20:34:33.779Z"
   },
   {
    "duration": 4,
    "start_time": "2023-05-21T20:34:33.785Z"
   },
   {
    "duration": 12,
    "start_time": "2023-05-21T20:34:33.790Z"
   },
   {
    "duration": 218,
    "start_time": "2023-05-21T20:34:33.804Z"
   },
   {
    "duration": 11,
    "start_time": "2023-05-21T20:34:34.024Z"
   },
   {
    "duration": 7,
    "start_time": "2023-05-21T20:34:34.037Z"
   },
   {
    "duration": 33,
    "start_time": "2023-05-21T20:34:34.046Z"
   },
   {
    "duration": 5,
    "start_time": "2023-05-21T20:34:34.082Z"
   },
   {
    "duration": 549,
    "start_time": "2023-05-21T20:34:34.089Z"
   },
   {
    "duration": 7,
    "start_time": "2023-05-21T20:34:34.640Z"
   },
   {
    "duration": 8,
    "start_time": "2023-05-21T20:34:34.649Z"
   },
   {
    "duration": 6,
    "start_time": "2023-05-21T20:34:34.679Z"
   },
   {
    "duration": 170,
    "start_time": "2023-05-21T20:34:34.687Z"
   },
   {
    "duration": 73,
    "start_time": "2023-05-21T20:34:34.860Z"
   },
   {
    "duration": 256,
    "start_time": "2023-05-21T20:34:34.935Z"
   },
   {
    "duration": 499,
    "start_time": "2023-05-21T20:34:35.194Z"
   },
   {
    "duration": 452,
    "start_time": "2023-05-21T20:34:35.695Z"
   },
   {
    "duration": 12,
    "start_time": "2023-05-21T20:34:36.149Z"
   },
   {
    "duration": 21,
    "start_time": "2023-05-21T20:34:36.163Z"
   },
   {
    "duration": 21,
    "start_time": "2023-05-21T20:34:36.186Z"
   },
   {
    "duration": 11,
    "start_time": "2023-05-21T20:34:36.209Z"
   },
   {
    "duration": 13,
    "start_time": "2023-05-21T20:34:36.222Z"
   },
   {
    "duration": 118,
    "start_time": "2023-05-21T20:34:36.237Z"
   },
   {
    "duration": 25,
    "start_time": "2023-05-21T20:34:36.357Z"
   },
   {
    "duration": 11,
    "start_time": "2023-05-21T20:34:36.384Z"
   },
   {
    "duration": 12,
    "start_time": "2023-05-21T20:34:36.397Z"
   },
   {
    "duration": 279,
    "start_time": "2023-05-21T20:34:36.413Z"
   },
   {
    "duration": 266,
    "start_time": "2023-05-21T20:34:36.694Z"
   },
   {
    "duration": 460,
    "start_time": "2023-05-21T20:34:36.961Z"
   },
   {
    "duration": 469,
    "start_time": "2023-05-21T20:34:37.424Z"
   },
   {
    "duration": 602,
    "start_time": "2023-05-21T20:34:37.895Z"
   },
   {
    "duration": 569,
    "start_time": "2023-05-21T20:34:38.499Z"
   },
   {
    "duration": 31,
    "start_time": "2023-05-21T20:34:40.948Z"
   },
   {
    "duration": 22,
    "start_time": "2023-05-21T20:35:40.848Z"
   },
   {
    "duration": 19,
    "start_time": "2023-05-21T20:35:45.251Z"
   },
   {
    "duration": 30,
    "start_time": "2023-05-21T20:35:52.255Z"
   },
   {
    "duration": 17,
    "start_time": "2023-05-21T20:37:23.868Z"
   },
   {
    "duration": 19,
    "start_time": "2023-05-21T20:37:30.066Z"
   },
   {
    "duration": 1116,
    "start_time": "2023-05-21T20:37:38.510Z"
   },
   {
    "duration": 64,
    "start_time": "2023-05-21T20:37:39.628Z"
   },
   {
    "duration": 13,
    "start_time": "2023-05-21T20:37:39.693Z"
   },
   {
    "duration": 18,
    "start_time": "2023-05-21T20:37:39.707Z"
   },
   {
    "duration": 9,
    "start_time": "2023-05-21T20:37:39.727Z"
   },
   {
    "duration": 16,
    "start_time": "2023-05-21T20:37:39.738Z"
   },
   {
    "duration": 7,
    "start_time": "2023-05-21T20:37:39.755Z"
   },
   {
    "duration": 22,
    "start_time": "2023-05-21T20:37:39.763Z"
   },
   {
    "duration": 14,
    "start_time": "2023-05-21T20:37:39.787Z"
   },
   {
    "duration": 12,
    "start_time": "2023-05-21T20:37:39.803Z"
   },
   {
    "duration": 6,
    "start_time": "2023-05-21T20:37:39.817Z"
   },
   {
    "duration": 6,
    "start_time": "2023-05-21T20:37:39.824Z"
   },
   {
    "duration": 13,
    "start_time": "2023-05-21T20:37:39.831Z"
   },
   {
    "duration": 4,
    "start_time": "2023-05-21T20:37:39.879Z"
   },
   {
    "duration": 4,
    "start_time": "2023-05-21T20:37:39.885Z"
   },
   {
    "duration": 7,
    "start_time": "2023-05-21T20:37:39.891Z"
   },
   {
    "duration": 12,
    "start_time": "2023-05-21T20:37:39.900Z"
   },
   {
    "duration": 218,
    "start_time": "2023-05-21T20:37:39.914Z"
   },
   {
    "duration": 9,
    "start_time": "2023-05-21T20:37:40.134Z"
   },
   {
    "duration": 6,
    "start_time": "2023-05-21T20:37:40.145Z"
   },
   {
    "duration": 26,
    "start_time": "2023-05-21T20:37:40.153Z"
   },
   {
    "duration": 4,
    "start_time": "2023-05-21T20:37:40.180Z"
   },
   {
    "duration": 567,
    "start_time": "2023-05-21T20:37:40.186Z"
   },
   {
    "duration": 6,
    "start_time": "2023-05-21T20:37:40.755Z"
   },
   {
    "duration": 21,
    "start_time": "2023-05-21T20:37:40.762Z"
   },
   {
    "duration": 7,
    "start_time": "2023-05-21T20:37:40.785Z"
   },
   {
    "duration": 165,
    "start_time": "2023-05-21T20:37:40.793Z"
   },
   {
    "duration": 75,
    "start_time": "2023-05-21T20:37:40.963Z"
   },
   {
    "duration": 263,
    "start_time": "2023-05-21T20:37:41.039Z"
   },
   {
    "duration": 579,
    "start_time": "2023-05-21T20:37:41.304Z"
   },
   {
    "duration": 470,
    "start_time": "2023-05-21T20:37:41.885Z"
   },
   {
    "duration": 11,
    "start_time": "2023-05-21T20:37:42.356Z"
   },
   {
    "duration": 19,
    "start_time": "2023-05-21T20:37:42.368Z"
   },
   {
    "duration": 13,
    "start_time": "2023-05-21T20:37:42.389Z"
   },
   {
    "duration": 9,
    "start_time": "2023-05-21T20:37:42.404Z"
   },
   {
    "duration": 12,
    "start_time": "2023-05-21T20:37:42.414Z"
   },
   {
    "duration": 120,
    "start_time": "2023-05-21T20:37:42.428Z"
   },
   {
    "duration": 11,
    "start_time": "2023-05-21T20:37:42.550Z"
   },
   {
    "duration": 20,
    "start_time": "2023-05-21T20:37:42.562Z"
   },
   {
    "duration": 13,
    "start_time": "2023-05-21T20:37:42.583Z"
   },
   {
    "duration": 286,
    "start_time": "2023-05-21T20:37:42.597Z"
   },
   {
    "duration": 255,
    "start_time": "2023-05-21T20:37:42.885Z"
   },
   {
    "duration": 448,
    "start_time": "2023-05-21T20:37:43.142Z"
   },
   {
    "duration": 396,
    "start_time": "2023-05-21T20:37:43.592Z"
   },
   {
    "duration": 597,
    "start_time": "2023-05-21T20:37:43.990Z"
   },
   {
    "duration": 586,
    "start_time": "2023-05-21T20:37:44.589Z"
   },
   {
    "duration": 19,
    "start_time": "2023-05-21T20:37:45.178Z"
   },
   {
    "duration": 3,
    "start_time": "2023-05-21T20:37:45.198Z"
   },
   {
    "duration": 17,
    "start_time": "2023-05-21T20:37:45.202Z"
   },
   {
    "duration": 129,
    "start_time": "2023-05-21T20:37:45.221Z"
   },
   {
    "duration": 30,
    "start_time": "2023-05-21T20:37:58.275Z"
   },
   {
    "duration": 32,
    "start_time": "2023-05-21T20:38:21.671Z"
   },
   {
    "duration": 896,
    "start_time": "2023-05-21T20:38:59.210Z"
   },
   {
    "duration": 22,
    "start_time": "2023-05-21T20:39:10.262Z"
   },
   {
    "duration": 12,
    "start_time": "2023-05-21T20:40:21.898Z"
   },
   {
    "duration": 19,
    "start_time": "2023-05-21T20:40:27.857Z"
   },
   {
    "duration": 44,
    "start_time": "2023-05-21T20:41:51.008Z"
   },
   {
    "duration": 24,
    "start_time": "2023-05-21T20:42:17.910Z"
   },
   {
    "duration": 10,
    "start_time": "2023-05-21T20:43:14.211Z"
   },
   {
    "duration": 94,
    "start_time": "2023-05-21T20:43:25.254Z"
   },
   {
    "duration": 91,
    "start_time": "2023-05-21T20:44:14.291Z"
   },
   {
    "duration": 45,
    "start_time": "2023-05-21T20:45:16.493Z"
   },
   {
    "duration": 87,
    "start_time": "2023-05-21T20:45:21.741Z"
   },
   {
    "duration": 89,
    "start_time": "2023-05-21T20:45:39.064Z"
   },
   {
    "duration": 62,
    "start_time": "2023-05-21T20:45:45.042Z"
   },
   {
    "duration": 82,
    "start_time": "2023-05-21T20:45:58.390Z"
   },
   {
    "duration": 94,
    "start_time": "2023-05-21T20:46:03.291Z"
   },
   {
    "duration": 95,
    "start_time": "2023-05-21T20:49:53.386Z"
   },
   {
    "duration": 99,
    "start_time": "2023-05-21T20:50:08.749Z"
   },
   {
    "duration": 100,
    "start_time": "2023-05-21T20:51:10.560Z"
   },
   {
    "duration": 99,
    "start_time": "2023-05-21T20:55:28.636Z"
   },
   {
    "duration": 105,
    "start_time": "2023-05-21T20:55:35.338Z"
   },
   {
    "duration": 100,
    "start_time": "2023-05-21T20:55:49.969Z"
   },
   {
    "duration": 10,
    "start_time": "2023-05-21T20:57:16.487Z"
   },
   {
    "duration": 106,
    "start_time": "2023-05-21T20:57:44.565Z"
   },
   {
    "duration": 55,
    "start_time": "2023-05-21T20:58:40.944Z"
   },
   {
    "duration": 113,
    "start_time": "2023-05-21T20:58:46.796Z"
   },
   {
    "duration": 119,
    "start_time": "2023-05-21T20:59:10.267Z"
   },
   {
    "duration": 131,
    "start_time": "2023-05-21T20:59:35.569Z"
   },
   {
    "duration": 107,
    "start_time": "2023-05-21T20:59:52.066Z"
   },
   {
    "duration": 107,
    "start_time": "2023-05-21T20:59:56.848Z"
   },
   {
    "duration": 134,
    "start_time": "2023-05-21T21:00:49.063Z"
   },
   {
    "duration": 115,
    "start_time": "2023-05-21T21:01:11.754Z"
   },
   {
    "duration": 125,
    "start_time": "2023-05-21T21:01:31.764Z"
   },
   {
    "duration": 116,
    "start_time": "2023-05-21T21:01:44.232Z"
   },
   {
    "duration": 116,
    "start_time": "2023-05-21T21:02:13.937Z"
   },
   {
    "duration": 106,
    "start_time": "2023-05-21T21:02:21.759Z"
   },
   {
    "duration": 104,
    "start_time": "2023-05-21T21:02:38.996Z"
   },
   {
    "duration": 110,
    "start_time": "2023-05-21T21:02:52.942Z"
   },
   {
    "duration": 112,
    "start_time": "2023-05-21T21:04:38.645Z"
   },
   {
    "duration": 117,
    "start_time": "2023-05-21T21:04:46.841Z"
   },
   {
    "duration": 57,
    "start_time": "2023-05-21T21:05:01.001Z"
   },
   {
    "duration": 52,
    "start_time": "2023-05-21T21:05:11.861Z"
   },
   {
    "duration": 120,
    "start_time": "2023-05-21T21:05:24.940Z"
   },
   {
    "duration": 129,
    "start_time": "2023-05-21T21:06:10.743Z"
   },
   {
    "duration": 127,
    "start_time": "2023-05-21T21:06:18.601Z"
   },
   {
    "duration": 117,
    "start_time": "2023-05-21T21:07:11.784Z"
   },
   {
    "duration": 131,
    "start_time": "2023-05-21T21:07:34.274Z"
   },
   {
    "duration": 118,
    "start_time": "2023-05-21T21:09:15.942Z"
   },
   {
    "duration": 26,
    "start_time": "2023-05-21T21:09:19.001Z"
   },
   {
    "duration": 131,
    "start_time": "2023-05-21T21:09:27.470Z"
   },
   {
    "duration": 25,
    "start_time": "2023-05-21T21:09:32.334Z"
   },
   {
    "duration": 1758,
    "start_time": "2023-05-21T21:10:02.297Z"
   },
   {
    "duration": 63,
    "start_time": "2023-05-21T21:10:10.438Z"
   },
   {
    "duration": 23,
    "start_time": "2023-05-21T21:10:13.299Z"
   },
   {
    "duration": 15,
    "start_time": "2023-05-21T21:10:24.838Z"
   },
   {
    "duration": 121,
    "start_time": "2023-05-21T21:10:27.532Z"
   },
   {
    "duration": 23,
    "start_time": "2023-05-21T21:10:28.439Z"
   },
   {
    "duration": 117,
    "start_time": "2023-05-21T21:11:01.991Z"
   },
   {
    "duration": 24,
    "start_time": "2023-05-21T21:11:03.160Z"
   },
   {
    "duration": 75,
    "start_time": "2023-05-21T21:15:03.807Z"
   },
   {
    "duration": 1240,
    "start_time": "2023-05-22T06:13:39.946Z"
   },
   {
    "duration": 192,
    "start_time": "2023-05-22T06:13:41.188Z"
   },
   {
    "duration": 15,
    "start_time": "2023-05-22T06:13:41.381Z"
   },
   {
    "duration": 13,
    "start_time": "2023-05-22T06:13:41.398Z"
   },
   {
    "duration": 15,
    "start_time": "2023-05-22T06:13:41.414Z"
   },
   {
    "duration": 16,
    "start_time": "2023-05-22T06:13:41.430Z"
   },
   {
    "duration": 30,
    "start_time": "2023-05-22T06:13:41.447Z"
   },
   {
    "duration": 19,
    "start_time": "2023-05-22T06:13:41.479Z"
   },
   {
    "duration": 18,
    "start_time": "2023-05-22T06:13:41.500Z"
   },
   {
    "duration": 12,
    "start_time": "2023-05-22T06:13:41.519Z"
   },
   {
    "duration": 5,
    "start_time": "2023-05-22T06:13:41.532Z"
   },
   {
    "duration": 18,
    "start_time": "2023-05-22T06:13:41.538Z"
   },
   {
    "duration": 14,
    "start_time": "2023-05-22T06:13:41.557Z"
   },
   {
    "duration": 6,
    "start_time": "2023-05-22T06:13:41.573Z"
   },
   {
    "duration": 20,
    "start_time": "2023-05-22T06:13:41.580Z"
   },
   {
    "duration": 11,
    "start_time": "2023-05-22T06:13:41.601Z"
   },
   {
    "duration": 5,
    "start_time": "2023-05-22T06:13:41.613Z"
   },
   {
    "duration": 195,
    "start_time": "2023-05-22T06:13:41.619Z"
   },
   {
    "duration": 9,
    "start_time": "2023-05-22T06:13:41.816Z"
   },
   {
    "duration": 15,
    "start_time": "2023-05-22T06:13:41.826Z"
   },
   {
    "duration": 10,
    "start_time": "2023-05-22T06:13:41.843Z"
   },
   {
    "duration": 26,
    "start_time": "2023-05-22T06:13:41.854Z"
   },
   {
    "duration": 539,
    "start_time": "2023-05-22T06:13:41.882Z"
   },
   {
    "duration": 4,
    "start_time": "2023-05-22T06:13:42.423Z"
   },
   {
    "duration": 27,
    "start_time": "2023-05-22T06:13:42.429Z"
   },
   {
    "duration": 32,
    "start_time": "2023-05-22T06:13:42.457Z"
   },
   {
    "duration": 138,
    "start_time": "2023-05-22T06:13:42.490Z"
   },
   {
    "duration": 60,
    "start_time": "2023-05-22T06:13:42.629Z"
   },
   {
    "duration": 205,
    "start_time": "2023-05-22T06:13:42.690Z"
   },
   {
    "duration": 552,
    "start_time": "2023-05-22T06:13:42.897Z"
   },
   {
    "duration": 453,
    "start_time": "2023-05-22T06:13:43.450Z"
   },
   {
    "duration": 13,
    "start_time": "2023-05-22T06:13:43.905Z"
   },
   {
    "duration": 25,
    "start_time": "2023-05-22T06:13:43.919Z"
   },
   {
    "duration": 26,
    "start_time": "2023-05-22T06:13:43.946Z"
   },
   {
    "duration": 9,
    "start_time": "2023-05-22T06:13:43.973Z"
   },
   {
    "duration": 14,
    "start_time": "2023-05-22T06:13:43.983Z"
   },
   {
    "duration": 82,
    "start_time": "2023-05-22T06:13:43.999Z"
   },
   {
    "duration": 11,
    "start_time": "2023-05-22T06:13:44.083Z"
   },
   {
    "duration": 14,
    "start_time": "2023-05-22T06:13:44.095Z"
   },
   {
    "duration": 13,
    "start_time": "2023-05-22T06:13:44.111Z"
   },
   {
    "duration": 244,
    "start_time": "2023-05-22T06:13:44.127Z"
   },
   {
    "duration": 214,
    "start_time": "2023-05-22T06:13:44.373Z"
   },
   {
    "duration": 486,
    "start_time": "2023-05-22T06:13:44.589Z"
   },
   {
    "duration": 382,
    "start_time": "2023-05-22T06:13:45.077Z"
   },
   {
    "duration": 498,
    "start_time": "2023-05-22T06:13:45.460Z"
   },
   {
    "duration": 565,
    "start_time": "2023-05-22T06:13:45.960Z"
   },
   {
    "duration": 107,
    "start_time": "2023-05-22T06:13:46.526Z"
   },
   {
    "duration": 19,
    "start_time": "2023-05-22T06:13:46.634Z"
   },
   {
    "duration": 111,
    "start_time": "2023-05-22T06:19:53.770Z"
   },
   {
    "duration": 10,
    "start_time": "2023-05-22T06:20:34.252Z"
   },
   {
    "duration": 9,
    "start_time": "2023-05-22T06:20:44.713Z"
   },
   {
    "duration": 134,
    "start_time": "2023-05-22T06:21:20.757Z"
   },
   {
    "duration": 82,
    "start_time": "2023-05-22T06:21:34.260Z"
   },
   {
    "duration": 206,
    "start_time": "2023-05-22T06:21:39.039Z"
   },
   {
    "duration": 10,
    "start_time": "2023-05-22T06:21:50.434Z"
   },
   {
    "duration": 10,
    "start_time": "2023-05-22T06:26:07.270Z"
   },
   {
    "duration": 10,
    "start_time": "2023-05-22T06:26:14.829Z"
   },
   {
    "duration": 11,
    "start_time": "2023-05-22T06:26:54.315Z"
   },
   {
    "duration": 10,
    "start_time": "2023-05-22T06:28:00.231Z"
   },
   {
    "duration": 23,
    "start_time": "2023-05-22T06:31:37.696Z"
   },
   {
    "duration": 12,
    "start_time": "2023-05-22T06:32:11.952Z"
   },
   {
    "duration": 10,
    "start_time": "2023-05-22T06:34:10.633Z"
   },
   {
    "duration": 11,
    "start_time": "2023-05-22T06:34:23.443Z"
   },
   {
    "duration": 12,
    "start_time": "2023-05-22T06:36:29.930Z"
   },
   {
    "duration": 11,
    "start_time": "2023-05-22T06:37:17.297Z"
   },
   {
    "duration": 10,
    "start_time": "2023-05-22T06:38:02.526Z"
   },
   {
    "duration": 9,
    "start_time": "2023-05-22T06:42:32.539Z"
   },
   {
    "duration": 10,
    "start_time": "2023-05-22T06:46:36.452Z"
   },
   {
    "duration": 8,
    "start_time": "2023-05-22T06:51:18.726Z"
   },
   {
    "duration": 8,
    "start_time": "2023-05-22T06:51:24.330Z"
   },
   {
    "duration": 8,
    "start_time": "2023-05-22T07:22:30.809Z"
   },
   {
    "duration": 7,
    "start_time": "2023-05-22T07:22:36.194Z"
   },
   {
    "duration": 6,
    "start_time": "2023-05-22T07:22:43.199Z"
   },
   {
    "duration": 9,
    "start_time": "2023-05-22T07:22:46.989Z"
   },
   {
    "duration": 9,
    "start_time": "2023-05-22T07:22:54.298Z"
   },
   {
    "duration": 9,
    "start_time": "2023-05-22T07:23:03.995Z"
   },
   {
    "duration": 10,
    "start_time": "2023-05-22T07:23:42.913Z"
   },
   {
    "duration": 10,
    "start_time": "2023-05-22T07:23:53.845Z"
   },
   {
    "duration": 14,
    "start_time": "2023-05-22T07:24:06.843Z"
   },
   {
    "duration": 7,
    "start_time": "2023-05-22T07:24:18.541Z"
   },
   {
    "duration": 8,
    "start_time": "2023-05-22T07:24:24.901Z"
   },
   {
    "duration": 11,
    "start_time": "2023-05-22T07:24:46.926Z"
   },
   {
    "duration": 8,
    "start_time": "2023-05-22T07:24:52.642Z"
   },
   {
    "duration": 7,
    "start_time": "2023-05-22T07:29:08.492Z"
   },
   {
    "duration": 7,
    "start_time": "2023-05-22T07:29:14.562Z"
   },
   {
    "duration": 18,
    "start_time": "2023-05-22T07:31:38.191Z"
   },
   {
    "duration": 23,
    "start_time": "2023-05-22T07:31:59.204Z"
   },
   {
    "duration": 26,
    "start_time": "2023-05-22T07:32:04.451Z"
   },
   {
    "duration": 2,
    "start_time": "2023-05-22T07:32:28.551Z"
   },
   {
    "duration": 92,
    "start_time": "2023-05-22T07:32:28.555Z"
   },
   {
    "duration": 7,
    "start_time": "2023-05-22T07:32:28.649Z"
   },
   {
    "duration": 26,
    "start_time": "2023-05-22T07:32:28.658Z"
   },
   {
    "duration": 32,
    "start_time": "2023-05-22T07:32:28.685Z"
   },
   {
    "duration": 27,
    "start_time": "2023-05-22T07:32:28.719Z"
   },
   {
    "duration": 26,
    "start_time": "2023-05-22T07:32:28.747Z"
   },
   {
    "duration": 35,
    "start_time": "2023-05-22T07:32:28.774Z"
   },
   {
    "duration": 16,
    "start_time": "2023-05-22T07:32:28.811Z"
   },
   {
    "duration": 8,
    "start_time": "2023-05-22T07:32:28.828Z"
   },
   {
    "duration": 9,
    "start_time": "2023-05-22T07:32:28.837Z"
   },
   {
    "duration": 8,
    "start_time": "2023-05-22T07:32:28.847Z"
   },
   {
    "duration": 12,
    "start_time": "2023-05-22T07:32:28.856Z"
   },
   {
    "duration": 14,
    "start_time": "2023-05-22T07:32:28.869Z"
   },
   {
    "duration": 36,
    "start_time": "2023-05-22T07:32:28.885Z"
   },
   {
    "duration": 38,
    "start_time": "2023-05-22T07:32:28.923Z"
   },
   {
    "duration": 49,
    "start_time": "2023-05-22T07:32:28.963Z"
   },
   {
    "duration": 223,
    "start_time": "2023-05-22T07:32:29.013Z"
   },
   {
    "duration": 8,
    "start_time": "2023-05-22T07:32:29.238Z"
   },
   {
    "duration": 8,
    "start_time": "2023-05-22T07:32:29.247Z"
   },
   {
    "duration": 10,
    "start_time": "2023-05-22T07:32:29.257Z"
   },
   {
    "duration": 7,
    "start_time": "2023-05-22T07:32:29.269Z"
   },
   {
    "duration": 559,
    "start_time": "2023-05-22T07:32:29.277Z"
   },
   {
    "duration": 8,
    "start_time": "2023-05-22T07:32:29.839Z"
   },
   {
    "duration": 32,
    "start_time": "2023-05-22T07:32:29.849Z"
   },
   {
    "duration": 36,
    "start_time": "2023-05-22T07:32:29.882Z"
   },
   {
    "duration": 154,
    "start_time": "2023-05-22T07:32:29.919Z"
   },
   {
    "duration": 139,
    "start_time": "2023-05-22T07:32:30.074Z"
   },
   {
    "duration": 263,
    "start_time": "2023-05-22T07:32:30.214Z"
   },
   {
    "duration": 451,
    "start_time": "2023-05-22T07:32:30.478Z"
   },
   {
    "duration": 478,
    "start_time": "2023-05-22T07:32:30.931Z"
   },
   {
    "duration": 9,
    "start_time": "2023-05-22T07:32:31.411Z"
   },
   {
    "duration": 33,
    "start_time": "2023-05-22T07:32:31.422Z"
   },
   {
    "duration": 48,
    "start_time": "2023-05-22T07:32:31.456Z"
   },
   {
    "duration": 38,
    "start_time": "2023-05-22T07:32:31.505Z"
   },
   {
    "duration": 60,
    "start_time": "2023-05-22T07:32:31.545Z"
   },
   {
    "duration": 35,
    "start_time": "2023-05-22T07:32:31.607Z"
   },
   {
    "duration": 20,
    "start_time": "2023-05-22T07:32:31.644Z"
   },
   {
    "duration": 32,
    "start_time": "2023-05-22T07:32:31.666Z"
   },
   {
    "duration": 44,
    "start_time": "2023-05-22T07:32:31.701Z"
   },
   {
    "duration": 258,
    "start_time": "2023-05-22T07:32:31.748Z"
   },
   {
    "duration": 230,
    "start_time": "2023-05-22T07:32:32.008Z"
   },
   {
    "duration": 415,
    "start_time": "2023-05-22T07:32:32.240Z"
   },
   {
    "duration": 463,
    "start_time": "2023-05-22T07:32:32.657Z"
   },
   {
    "duration": 531,
    "start_time": "2023-05-22T07:32:33.122Z"
   },
   {
    "duration": 477,
    "start_time": "2023-05-22T07:32:33.655Z"
   },
   {
    "duration": 123,
    "start_time": "2023-05-22T07:32:34.134Z"
   },
   {
    "duration": 29,
    "start_time": "2023-05-22T07:32:34.259Z"
   },
   {
    "duration": 23,
    "start_time": "2023-05-22T07:32:34.289Z"
   },
   {
    "duration": 16,
    "start_time": "2023-05-22T07:32:34.313Z"
   },
   {
    "duration": 29,
    "start_time": "2023-05-22T07:32:36.961Z"
   },
   {
    "duration": 14,
    "start_time": "2023-05-22T07:32:52.067Z"
   },
   {
    "duration": 3,
    "start_time": "2023-05-22T07:33:07.471Z"
   },
   {
    "duration": 65,
    "start_time": "2023-05-22T07:33:08.793Z"
   },
   {
    "duration": 7,
    "start_time": "2023-05-22T07:33:10.823Z"
   },
   {
    "duration": 9,
    "start_time": "2023-05-22T07:33:11.355Z"
   },
   {
    "duration": 7,
    "start_time": "2023-05-22T07:33:12.771Z"
   },
   {
    "duration": 10,
    "start_time": "2023-05-22T07:33:13.257Z"
   },
   {
    "duration": 6,
    "start_time": "2023-05-22T07:33:14.726Z"
   },
   {
    "duration": 10,
    "start_time": "2023-05-22T07:33:15.171Z"
   },
   {
    "duration": 15,
    "start_time": "2023-05-22T07:33:17.553Z"
   },
   {
    "duration": 10,
    "start_time": "2023-05-22T07:33:18.611Z"
   },
   {
    "duration": 15,
    "start_time": "2023-05-22T07:33:19.680Z"
   },
   {
    "duration": 4,
    "start_time": "2023-05-22T07:33:20.343Z"
   },
   {
    "duration": 7,
    "start_time": "2023-05-22T07:33:20.762Z"
   },
   {
    "duration": 4,
    "start_time": "2023-05-22T07:33:21.166Z"
   },
   {
    "duration": 4,
    "start_time": "2023-05-22T07:33:21.586Z"
   },
   {
    "duration": 4,
    "start_time": "2023-05-22T07:33:22.052Z"
   },
   {
    "duration": 4,
    "start_time": "2023-05-22T07:33:22.757Z"
   },
   {
    "duration": 201,
    "start_time": "2023-05-22T07:33:23.311Z"
   },
   {
    "duration": 9,
    "start_time": "2023-05-22T07:33:24.241Z"
   },
   {
    "duration": 6,
    "start_time": "2023-05-22T07:33:25.273Z"
   },
   {
    "duration": 7,
    "start_time": "2023-05-22T07:33:26.419Z"
   },
   {
    "duration": 4,
    "start_time": "2023-05-22T07:33:27.211Z"
   },
   {
    "duration": 563,
    "start_time": "2023-05-22T07:33:27.903Z"
   },
   {
    "duration": 7,
    "start_time": "2023-05-22T07:33:29.732Z"
   },
   {
    "duration": 6,
    "start_time": "2023-05-22T07:33:30.998Z"
   },
   {
    "duration": 5,
    "start_time": "2023-05-22T07:33:33.232Z"
   },
   {
    "duration": 132,
    "start_time": "2023-05-22T07:33:33.729Z"
   },
   {
    "duration": 51,
    "start_time": "2023-05-22T07:33:35.316Z"
   },
   {
    "duration": 270,
    "start_time": "2023-05-22T07:33:36.866Z"
   },
   {
    "duration": 420,
    "start_time": "2023-05-22T07:33:39.113Z"
   },
   {
    "duration": 521,
    "start_time": "2023-05-22T07:33:41.685Z"
   },
   {
    "duration": 9,
    "start_time": "2023-05-22T07:33:45.543Z"
   },
   {
    "duration": 12,
    "start_time": "2023-05-22T07:33:46.682Z"
   },
   {
    "duration": 13,
    "start_time": "2023-05-22T07:33:47.289Z"
   },
   {
    "duration": 8,
    "start_time": "2023-05-22T07:33:48.180Z"
   },
   {
    "duration": 11,
    "start_time": "2023-05-22T07:33:48.722Z"
   },
   {
    "duration": 13,
    "start_time": "2023-05-22T07:33:49.242Z"
   },
   {
    "duration": 9,
    "start_time": "2023-05-22T07:33:50.453Z"
   },
   {
    "duration": 10,
    "start_time": "2023-05-22T07:33:52.317Z"
   },
   {
    "duration": 11,
    "start_time": "2023-05-22T07:33:52.932Z"
   },
   {
    "duration": 233,
    "start_time": "2023-05-22T07:33:55.503Z"
   },
   {
    "duration": 244,
    "start_time": "2023-05-22T07:33:57.212Z"
   },
   {
    "duration": 441,
    "start_time": "2023-05-22T07:33:59.541Z"
   },
   {
    "duration": 349,
    "start_time": "2023-05-22T07:34:01.411Z"
   },
   {
    "duration": 568,
    "start_time": "2023-05-22T07:34:03.185Z"
   },
   {
    "duration": 624,
    "start_time": "2023-05-22T07:34:04.597Z"
   },
   {
    "duration": 103,
    "start_time": "2023-05-22T07:34:09.418Z"
   },
   {
    "duration": 19,
    "start_time": "2023-05-22T07:34:12.304Z"
   },
   {
    "duration": 15,
    "start_time": "2023-05-22T07:34:24.829Z"
   },
   {
    "duration": 4,
    "start_time": "2023-05-22T07:34:30.251Z"
   },
   {
    "duration": 12,
    "start_time": "2023-05-22T07:36:26.532Z"
   },
   {
    "duration": 25,
    "start_time": "2023-05-22T07:36:32.198Z"
   },
   {
    "duration": 108,
    "start_time": "2023-05-22T07:37:24.738Z"
   },
   {
    "duration": 23,
    "start_time": "2023-05-22T07:38:42.676Z"
   },
   {
    "duration": 152,
    "start_time": "2023-05-22T07:39:01.541Z"
   },
   {
    "duration": 25,
    "start_time": "2023-05-22T07:39:03.709Z"
   },
   {
    "duration": 13,
    "start_time": "2023-05-22T07:39:57.401Z"
   },
   {
    "duration": 109,
    "start_time": "2023-05-22T07:40:19.195Z"
   },
   {
    "duration": 21,
    "start_time": "2023-05-22T07:40:20.615Z"
   },
   {
    "duration": 11,
    "start_time": "2023-05-22T07:40:25.520Z"
   },
   {
    "duration": 7,
    "start_time": "2023-05-22T07:40:27.204Z"
   },
   {
    "duration": 27,
    "start_time": "2023-05-22T07:40:29.064Z"
   },
   {
    "duration": 28,
    "start_time": "2023-05-22T07:41:12.936Z"
   },
   {
    "duration": 7,
    "start_time": "2023-05-22T07:41:44.503Z"
   },
   {
    "duration": 1940,
    "start_time": "2023-05-22T07:42:00.624Z"
   },
   {
    "duration": 19,
    "start_time": "2023-05-22T07:42:26.584Z"
   },
   {
    "duration": 12,
    "start_time": "2023-05-22T07:42:42.344Z"
   },
   {
    "duration": 14,
    "start_time": "2023-05-22T07:43:57.076Z"
   },
   {
    "duration": 16,
    "start_time": "2023-05-22T07:45:11.420Z"
   },
   {
    "duration": 12,
    "start_time": "2023-05-22T07:45:59.322Z"
   },
   {
    "duration": 5,
    "start_time": "2023-05-22T07:52:07.925Z"
   },
   {
    "duration": 5,
    "start_time": "2023-05-22T07:52:19.246Z"
   },
   {
    "duration": 5,
    "start_time": "2023-05-22T07:54:13.907Z"
   },
   {
    "duration": 14,
    "start_time": "2023-05-22T07:55:57.794Z"
   },
   {
    "duration": 11,
    "start_time": "2023-05-22T07:59:06.746Z"
   },
   {
    "duration": 10,
    "start_time": "2023-05-22T07:59:15.710Z"
   },
   {
    "duration": 14,
    "start_time": "2023-05-22T08:02:26.789Z"
   },
   {
    "duration": 14,
    "start_time": "2023-05-22T08:02:31.638Z"
   },
   {
    "duration": 8,
    "start_time": "2023-05-22T08:03:38.446Z"
   },
   {
    "duration": 17,
    "start_time": "2023-05-22T08:07:44.546Z"
   },
   {
    "duration": 14,
    "start_time": "2023-05-22T08:09:00.966Z"
   },
   {
    "duration": 7,
    "start_time": "2023-05-22T08:09:36.799Z"
   },
   {
    "duration": 14,
    "start_time": "2023-05-22T08:09:47.544Z"
   },
   {
    "duration": 1052,
    "start_time": "2023-05-22T09:33:17.390Z"
   },
   {
    "duration": 67,
    "start_time": "2023-05-22T09:33:18.443Z"
   },
   {
    "duration": 13,
    "start_time": "2023-05-22T09:33:18.511Z"
   },
   {
    "duration": 16,
    "start_time": "2023-05-22T09:33:18.527Z"
   },
   {
    "duration": 8,
    "start_time": "2023-05-22T09:33:18.545Z"
   },
   {
    "duration": 26,
    "start_time": "2023-05-22T09:33:18.555Z"
   },
   {
    "duration": 11,
    "start_time": "2023-05-22T09:33:18.582Z"
   },
   {
    "duration": 10,
    "start_time": "2023-05-22T09:33:18.595Z"
   },
   {
    "duration": 40,
    "start_time": "2023-05-22T09:33:18.606Z"
   },
   {
    "duration": 12,
    "start_time": "2023-05-22T09:33:18.649Z"
   },
   {
    "duration": 9,
    "start_time": "2023-05-22T09:33:18.663Z"
   },
   {
    "duration": 12,
    "start_time": "2023-05-22T09:33:18.674Z"
   },
   {
    "duration": 11,
    "start_time": "2023-05-22T09:33:18.687Z"
   },
   {
    "duration": 5,
    "start_time": "2023-05-22T09:33:18.700Z"
   },
   {
    "duration": 9,
    "start_time": "2023-05-22T09:33:18.707Z"
   },
   {
    "duration": 14,
    "start_time": "2023-05-22T09:33:18.718Z"
   },
   {
    "duration": 11,
    "start_time": "2023-05-22T09:33:18.734Z"
   },
   {
    "duration": 209,
    "start_time": "2023-05-22T09:33:18.747Z"
   },
   {
    "duration": 9,
    "start_time": "2023-05-22T09:33:18.957Z"
   },
   {
    "duration": 18,
    "start_time": "2023-05-22T09:33:18.967Z"
   },
   {
    "duration": 7,
    "start_time": "2023-05-22T09:33:18.986Z"
   },
   {
    "duration": 4,
    "start_time": "2023-05-22T09:33:18.994Z"
   },
   {
    "duration": 550,
    "start_time": "2023-05-22T09:33:18.999Z"
   },
   {
    "duration": 5,
    "start_time": "2023-05-22T09:33:19.551Z"
   },
   {
    "duration": 19,
    "start_time": "2023-05-22T09:33:19.558Z"
   },
   {
    "duration": 9,
    "start_time": "2023-05-22T09:33:19.579Z"
   },
   {
    "duration": 148,
    "start_time": "2023-05-22T09:33:19.590Z"
   },
   {
    "duration": 58,
    "start_time": "2023-05-22T09:33:19.742Z"
   },
   {
    "duration": 205,
    "start_time": "2023-05-22T09:33:19.802Z"
   },
   {
    "duration": 523,
    "start_time": "2023-05-22T09:33:20.009Z"
   },
   {
    "duration": 574,
    "start_time": "2023-05-22T09:33:20.534Z"
   },
   {
    "duration": 9,
    "start_time": "2023-05-22T09:33:21.110Z"
   },
   {
    "duration": 10,
    "start_time": "2023-05-22T09:33:21.121Z"
   },
   {
    "duration": 27,
    "start_time": "2023-05-22T09:33:21.133Z"
   },
   {
    "duration": 22,
    "start_time": "2023-05-22T09:33:21.161Z"
   },
   {
    "duration": 24,
    "start_time": "2023-05-22T09:33:21.184Z"
   },
   {
    "duration": 66,
    "start_time": "2023-05-22T09:33:21.210Z"
   },
   {
    "duration": 9,
    "start_time": "2023-05-22T09:33:21.278Z"
   },
   {
    "duration": 9,
    "start_time": "2023-05-22T09:33:21.289Z"
   },
   {
    "duration": 11,
    "start_time": "2023-05-22T09:33:21.299Z"
   },
   {
    "duration": 238,
    "start_time": "2023-05-22T09:33:21.311Z"
   },
   {
    "duration": 214,
    "start_time": "2023-05-22T09:33:21.551Z"
   },
   {
    "duration": 434,
    "start_time": "2023-05-22T09:33:21.766Z"
   },
   {
    "duration": 456,
    "start_time": "2023-05-22T09:33:22.201Z"
   },
   {
    "duration": 492,
    "start_time": "2023-05-22T09:33:22.659Z"
   },
   {
    "duration": 507,
    "start_time": "2023-05-22T09:33:23.152Z"
   },
   {
    "duration": 126,
    "start_time": "2023-05-22T09:33:23.661Z"
   },
   {
    "duration": 25,
    "start_time": "2023-05-22T09:33:23.789Z"
   },
   {
    "duration": 12,
    "start_time": "2023-05-22T09:33:23.816Z"
   },
   {
    "duration": 13,
    "start_time": "2023-05-22T09:33:23.830Z"
   },
   {
    "duration": 17,
    "start_time": "2023-05-22T09:33:23.845Z"
   },
   {
    "duration": 108,
    "start_time": "2023-05-22T09:44:29.767Z"
   },
   {
    "duration": 4,
    "start_time": "2023-05-22T09:44:39.927Z"
   },
   {
    "duration": 5,
    "start_time": "2023-05-22T09:44:45.525Z"
   },
   {
    "duration": 5,
    "start_time": "2023-05-22T09:44:50.577Z"
   },
   {
    "duration": 4,
    "start_time": "2023-05-22T09:44:54.957Z"
   },
   {
    "duration": 5,
    "start_time": "2023-05-22T09:44:59.852Z"
   },
   {
    "duration": 4,
    "start_time": "2023-05-22T09:45:15.357Z"
   },
   {
    "duration": 4,
    "start_time": "2023-05-22T09:45:19.575Z"
   },
   {
    "duration": 7,
    "start_time": "2023-05-22T09:45:53.287Z"
   },
   {
    "duration": 5,
    "start_time": "2023-05-22T09:45:59.607Z"
   },
   {
    "duration": 5,
    "start_time": "2023-05-22T09:46:03.079Z"
   },
   {
    "duration": 5,
    "start_time": "2023-05-22T09:46:08.248Z"
   },
   {
    "duration": 6,
    "start_time": "2023-05-22T09:46:12.313Z"
   },
   {
    "duration": 10,
    "start_time": "2023-05-22T09:48:42.845Z"
   },
   {
    "duration": 78,
    "start_time": "2023-05-22T09:49:20.816Z"
   },
   {
    "duration": 92,
    "start_time": "2023-05-22T09:49:47.575Z"
   },
   {
    "duration": 167,
    "start_time": "2023-05-22T09:50:05.640Z"
   },
   {
    "duration": 129,
    "start_time": "2023-05-22T09:50:18.606Z"
   },
   {
    "duration": 114,
    "start_time": "2023-05-22T09:50:35.812Z"
   },
   {
    "duration": 75,
    "start_time": "2023-05-22T09:50:40.548Z"
   },
   {
    "duration": 115,
    "start_time": "2023-05-22T09:50:50.358Z"
   },
   {
    "duration": 102,
    "start_time": "2023-05-22T09:51:22.351Z"
   },
   {
    "duration": 80,
    "start_time": "2023-05-22T09:51:25.639Z"
   },
   {
    "duration": 83,
    "start_time": "2023-05-22T09:51:42.000Z"
   },
   {
    "duration": 10,
    "start_time": "2023-05-22T09:54:58.527Z"
   },
   {
    "duration": 79,
    "start_time": "2023-05-22T09:55:02.158Z"
   },
   {
    "duration": 105,
    "start_time": "2023-05-22T09:56:35.999Z"
   },
   {
    "duration": 102,
    "start_time": "2023-05-22T09:56:41.366Z"
   },
   {
    "duration": 1298,
    "start_time": "2023-05-22T19:46:13.099Z"
   },
   {
    "duration": 388,
    "start_time": "2023-05-22T19:46:14.398Z"
   },
   {
    "duration": 11,
    "start_time": "2023-05-22T19:46:14.787Z"
   },
   {
    "duration": 21,
    "start_time": "2023-05-22T19:46:14.800Z"
   },
   {
    "duration": 10,
    "start_time": "2023-05-22T19:46:14.824Z"
   },
   {
    "duration": 11,
    "start_time": "2023-05-22T19:46:14.835Z"
   },
   {
    "duration": 6,
    "start_time": "2023-05-22T19:46:14.848Z"
   },
   {
    "duration": 27,
    "start_time": "2023-05-22T19:46:14.855Z"
   },
   {
    "duration": 15,
    "start_time": "2023-05-22T19:46:14.884Z"
   },
   {
    "duration": 11,
    "start_time": "2023-05-22T19:46:14.907Z"
   },
   {
    "duration": 7,
    "start_time": "2023-05-22T19:46:14.919Z"
   },
   {
    "duration": 6,
    "start_time": "2023-05-22T19:46:14.927Z"
   },
   {
    "duration": 8,
    "start_time": "2023-05-22T19:46:14.934Z"
   },
   {
    "duration": 4,
    "start_time": "2023-05-22T19:46:14.944Z"
   },
   {
    "duration": 4,
    "start_time": "2023-05-22T19:46:14.949Z"
   },
   {
    "duration": 4,
    "start_time": "2023-05-22T19:46:14.955Z"
   },
   {
    "duration": 5,
    "start_time": "2023-05-22T19:46:14.961Z"
   },
   {
    "duration": 254,
    "start_time": "2023-05-22T19:46:14.967Z"
   },
   {
    "duration": 10,
    "start_time": "2023-05-22T19:46:15.222Z"
   },
   {
    "duration": 6,
    "start_time": "2023-05-22T19:46:15.234Z"
   },
   {
    "duration": 8,
    "start_time": "2023-05-22T19:46:15.241Z"
   },
   {
    "duration": 5,
    "start_time": "2023-05-22T19:46:15.250Z"
   },
   {
    "duration": 561,
    "start_time": "2023-05-22T19:46:15.257Z"
   },
   {
    "duration": 6,
    "start_time": "2023-05-22T19:46:15.819Z"
   },
   {
    "duration": 9,
    "start_time": "2023-05-22T19:46:15.827Z"
   },
   {
    "duration": 7,
    "start_time": "2023-05-22T19:46:15.837Z"
   },
   {
    "duration": 148,
    "start_time": "2023-05-22T19:46:15.845Z"
   },
   {
    "duration": 60,
    "start_time": "2023-05-22T19:46:15.996Z"
   },
   {
    "duration": 226,
    "start_time": "2023-05-22T19:46:16.058Z"
   },
   {
    "duration": 486,
    "start_time": "2023-05-22T19:46:16.286Z"
   },
   {
    "duration": 466,
    "start_time": "2023-05-22T19:46:16.773Z"
   },
   {
    "duration": 10,
    "start_time": "2023-05-22T19:46:17.241Z"
   },
   {
    "duration": 10,
    "start_time": "2023-05-22T19:46:17.252Z"
   },
   {
    "duration": 15,
    "start_time": "2023-05-22T19:46:17.263Z"
   },
   {
    "duration": 40,
    "start_time": "2023-05-22T19:46:17.279Z"
   },
   {
    "duration": 12,
    "start_time": "2023-05-22T19:46:17.321Z"
   },
   {
    "duration": 17,
    "start_time": "2023-05-22T19:46:17.334Z"
   },
   {
    "duration": 82,
    "start_time": "2023-05-22T19:46:17.352Z"
   },
   {
    "duration": 14,
    "start_time": "2023-05-22T19:46:17.436Z"
   },
   {
    "duration": 11,
    "start_time": "2023-05-22T19:46:17.451Z"
   },
   {
    "duration": 261,
    "start_time": "2023-05-22T19:46:17.463Z"
   },
   {
    "duration": 243,
    "start_time": "2023-05-22T19:46:17.727Z"
   },
   {
    "duration": 463,
    "start_time": "2023-05-22T19:46:17.972Z"
   },
   {
    "duration": 364,
    "start_time": "2023-05-22T19:46:18.436Z"
   },
   {
    "duration": 578,
    "start_time": "2023-05-22T19:46:18.807Z"
   },
   {
    "duration": 582,
    "start_time": "2023-05-22T19:46:19.387Z"
   },
   {
    "duration": 119,
    "start_time": "2023-05-22T19:46:19.971Z"
   },
   {
    "duration": 33,
    "start_time": "2023-05-22T19:46:20.091Z"
   },
   {
    "duration": 10,
    "start_time": "2023-05-22T19:46:20.125Z"
   },
   {
    "duration": 9,
    "start_time": "2023-05-22T19:46:20.137Z"
   },
   {
    "duration": 14,
    "start_time": "2023-05-22T19:46:20.147Z"
   },
   {
    "duration": 96,
    "start_time": "2023-05-22T19:46:23.429Z"
   },
   {
    "duration": 7,
    "start_time": "2023-05-22T19:48:12.640Z"
   },
   {
    "duration": 14,
    "start_time": "2023-05-22T19:48:17.828Z"
   },
   {
    "duration": 9,
    "start_time": "2023-05-22T19:48:21.383Z"
   },
   {
    "duration": 7,
    "start_time": "2023-05-22T19:48:42.825Z"
   },
   {
    "duration": 7,
    "start_time": "2023-05-22T19:48:48.148Z"
   },
   {
    "duration": 5,
    "start_time": "2023-05-22T19:49:19.695Z"
   },
   {
    "duration": 6,
    "start_time": "2023-05-22T19:49:29.124Z"
   },
   {
    "duration": 6,
    "start_time": "2023-05-22T19:49:44.340Z"
   },
   {
    "duration": 46,
    "start_time": "2023-05-22T19:50:32.953Z"
   },
   {
    "duration": 56,
    "start_time": "2023-05-22T19:50:38.522Z"
   },
   {
    "duration": 5,
    "start_time": "2023-05-22T19:50:48.328Z"
   },
   {
    "duration": 1380,
    "start_time": "2023-05-22T20:29:57.756Z"
   },
   {
    "duration": 99,
    "start_time": "2023-05-22T20:29:59.138Z"
   },
   {
    "duration": 22,
    "start_time": "2023-05-22T20:29:59.239Z"
   },
   {
    "duration": 17,
    "start_time": "2023-05-22T20:29:59.263Z"
   },
   {
    "duration": 11,
    "start_time": "2023-05-22T20:29:59.283Z"
   },
   {
    "duration": 17,
    "start_time": "2023-05-22T20:29:59.296Z"
   },
   {
    "duration": 16,
    "start_time": "2023-05-22T20:29:59.315Z"
   },
   {
    "duration": 31,
    "start_time": "2023-05-22T20:29:59.332Z"
   },
   {
    "duration": 22,
    "start_time": "2023-05-22T20:29:59.365Z"
   },
   {
    "duration": 13,
    "start_time": "2023-05-22T20:29:59.391Z"
   },
   {
    "duration": 12,
    "start_time": "2023-05-22T20:29:59.406Z"
   },
   {
    "duration": 27,
    "start_time": "2023-05-22T20:29:59.420Z"
   },
   {
    "duration": 20,
    "start_time": "2023-05-22T20:29:59.449Z"
   },
   {
    "duration": 6,
    "start_time": "2023-05-22T20:29:59.471Z"
   },
   {
    "duration": 5,
    "start_time": "2023-05-22T20:29:59.480Z"
   },
   {
    "duration": 4,
    "start_time": "2023-05-22T20:29:59.487Z"
   },
   {
    "duration": 11,
    "start_time": "2023-05-22T20:29:59.507Z"
   },
   {
    "duration": 509,
    "start_time": "2023-05-22T20:29:59.521Z"
   },
   {
    "duration": 12,
    "start_time": "2023-05-22T20:30:00.031Z"
   },
   {
    "duration": 54,
    "start_time": "2023-05-22T20:30:00.045Z"
   },
   {
    "duration": 51,
    "start_time": "2023-05-22T20:30:00.100Z"
   },
   {
    "duration": 51,
    "start_time": "2023-05-22T20:30:00.152Z"
   },
   {
    "duration": 828,
    "start_time": "2023-05-22T20:30:00.205Z"
   },
   {
    "duration": 24,
    "start_time": "2023-05-22T20:30:01.041Z"
   },
   {
    "duration": 61,
    "start_time": "2023-05-22T20:30:01.074Z"
   },
   {
    "duration": 60,
    "start_time": "2023-05-22T20:30:01.139Z"
   },
   {
    "duration": 247,
    "start_time": "2023-05-22T20:30:01.201Z"
   },
   {
    "duration": 88,
    "start_time": "2023-05-22T20:30:01.452Z"
   },
   {
    "duration": 341,
    "start_time": "2023-05-22T20:30:01.551Z"
   },
   {
    "duration": 673,
    "start_time": "2023-05-22T20:30:01.894Z"
   },
   {
    "duration": 630,
    "start_time": "2023-05-22T20:30:02.569Z"
   },
   {
    "duration": 13,
    "start_time": "2023-05-22T20:30:03.201Z"
   },
   {
    "duration": 50,
    "start_time": "2023-05-22T20:30:03.216Z"
   },
   {
    "duration": 45,
    "start_time": "2023-05-22T20:30:03.270Z"
   },
   {
    "duration": 14,
    "start_time": "2023-05-22T20:30:03.320Z"
   },
   {
    "duration": 17,
    "start_time": "2023-05-22T20:30:03.336Z"
   },
   {
    "duration": 32,
    "start_time": "2023-05-22T20:30:03.354Z"
   },
   {
    "duration": 165,
    "start_time": "2023-05-22T20:30:03.393Z"
   },
   {
    "duration": 22,
    "start_time": "2023-05-22T20:30:03.559Z"
   },
   {
    "duration": 14,
    "start_time": "2023-05-22T20:30:03.583Z"
   },
   {
    "duration": 383,
    "start_time": "2023-05-22T20:30:03.600Z"
   },
   {
    "duration": 377,
    "start_time": "2023-05-22T20:30:03.985Z"
   },
   {
    "duration": 514,
    "start_time": "2023-05-22T20:30:04.364Z"
   },
   {
    "duration": 557,
    "start_time": "2023-05-22T20:30:04.880Z"
   },
   {
    "duration": 827,
    "start_time": "2023-05-22T20:30:05.442Z"
   },
   {
    "duration": 658,
    "start_time": "2023-05-22T20:30:06.271Z"
   },
   {
    "duration": 147,
    "start_time": "2023-05-22T20:30:06.940Z"
   },
   {
    "duration": 37,
    "start_time": "2023-05-22T20:30:07.092Z"
   },
   {
    "duration": 40,
    "start_time": "2023-05-22T20:30:07.134Z"
   },
   {
    "duration": 10,
    "start_time": "2023-05-22T20:30:07.177Z"
   },
   {
    "duration": 28,
    "start_time": "2023-05-22T20:30:07.190Z"
   },
   {
    "duration": 18,
    "start_time": "2023-05-22T20:30:07.228Z"
   },
   {
    "duration": 1419,
    "start_time": "2023-05-22T20:32:18.482Z"
   },
   {
    "duration": 97,
    "start_time": "2023-05-22T20:32:19.902Z"
   },
   {
    "duration": 21,
    "start_time": "2023-05-22T20:32:20.001Z"
   },
   {
    "duration": 93,
    "start_time": "2023-05-22T20:32:20.024Z"
   },
   {
    "duration": 74,
    "start_time": "2023-05-22T20:32:20.119Z"
   },
   {
    "duration": 25,
    "start_time": "2023-05-22T20:32:20.196Z"
   },
   {
    "duration": 11,
    "start_time": "2023-05-22T20:32:20.226Z"
   },
   {
    "duration": 19,
    "start_time": "2023-05-22T20:32:20.243Z"
   },
   {
    "duration": 24,
    "start_time": "2023-05-22T20:32:20.266Z"
   },
   {
    "duration": 16,
    "start_time": "2023-05-22T20:32:20.294Z"
   },
   {
    "duration": 8,
    "start_time": "2023-05-22T20:32:20.315Z"
   },
   {
    "duration": 25,
    "start_time": "2023-05-22T20:32:20.328Z"
   },
   {
    "duration": 11,
    "start_time": "2023-05-22T20:32:20.358Z"
   },
   {
    "duration": 12,
    "start_time": "2023-05-22T20:32:20.373Z"
   },
   {
    "duration": 6,
    "start_time": "2023-05-22T20:32:20.387Z"
   },
   {
    "duration": 15,
    "start_time": "2023-05-22T20:32:20.397Z"
   },
   {
    "duration": 11,
    "start_time": "2023-05-22T20:32:20.413Z"
   },
   {
    "duration": 377,
    "start_time": "2023-05-22T20:32:20.426Z"
   },
   {
    "duration": 19,
    "start_time": "2023-05-22T20:32:20.805Z"
   },
   {
    "duration": 16,
    "start_time": "2023-05-22T20:32:20.826Z"
   },
   {
    "duration": 14,
    "start_time": "2023-05-22T20:32:20.844Z"
   },
   {
    "duration": 13,
    "start_time": "2023-05-22T20:32:20.860Z"
   },
   {
    "duration": 789,
    "start_time": "2023-05-22T20:32:20.875Z"
   },
   {
    "duration": 14,
    "start_time": "2023-05-22T20:32:21.666Z"
   },
   {
    "duration": 13,
    "start_time": "2023-05-22T20:32:21.682Z"
   },
   {
    "duration": 39,
    "start_time": "2023-05-22T20:32:21.696Z"
   },
   {
    "duration": 204,
    "start_time": "2023-05-22T20:32:21.744Z"
   },
   {
    "duration": 86,
    "start_time": "2023-05-22T20:32:21.958Z"
   },
   {
    "duration": 326,
    "start_time": "2023-05-22T20:32:22.050Z"
   },
   {
    "duration": 682,
    "start_time": "2023-05-22T20:32:22.381Z"
   },
   {
    "duration": 581,
    "start_time": "2023-05-22T20:32:23.068Z"
   },
   {
    "duration": 14,
    "start_time": "2023-05-22T20:32:23.653Z"
   },
   {
    "duration": 11,
    "start_time": "2023-05-22T20:32:23.671Z"
   },
   {
    "duration": 47,
    "start_time": "2023-05-22T20:32:23.684Z"
   },
   {
    "duration": 10,
    "start_time": "2023-05-22T20:32:23.733Z"
   },
   {
    "duration": 27,
    "start_time": "2023-05-22T20:32:23.746Z"
   },
   {
    "duration": 106,
    "start_time": "2023-05-22T20:32:23.774Z"
   },
   {
    "duration": 15,
    "start_time": "2023-05-22T20:32:23.882Z"
   },
   {
    "duration": 13,
    "start_time": "2023-05-22T20:32:23.908Z"
   },
   {
    "duration": 20,
    "start_time": "2023-05-22T20:32:23.923Z"
   },
   {
    "duration": 386,
    "start_time": "2023-05-22T20:32:23.945Z"
   },
   {
    "duration": 317,
    "start_time": "2023-05-22T20:32:24.334Z"
   },
   {
    "duration": 535,
    "start_time": "2023-05-22T20:32:24.659Z"
   },
   {
    "duration": 502,
    "start_time": "2023-05-22T20:32:25.195Z"
   },
   {
    "duration": 797,
    "start_time": "2023-05-22T20:32:25.700Z"
   },
   {
    "duration": 835,
    "start_time": "2023-05-22T20:32:26.499Z"
   },
   {
    "duration": 141,
    "start_time": "2023-05-22T20:32:27.340Z"
   },
   {
    "duration": 42,
    "start_time": "2023-05-22T20:32:27.483Z"
   },
   {
    "duration": 14,
    "start_time": "2023-05-22T20:32:27.527Z"
   },
   {
    "duration": 15,
    "start_time": "2023-05-22T20:32:27.542Z"
   },
   {
    "duration": 17,
    "start_time": "2023-05-22T20:32:27.559Z"
   },
   {
    "duration": 6,
    "start_time": "2023-05-22T20:32:27.577Z"
   },
   {
    "duration": 4,
    "start_time": "2023-05-22T20:34:37.480Z"
   },
   {
    "duration": 147,
    "start_time": "2023-05-22T20:34:37.486Z"
   },
   {
    "duration": 20,
    "start_time": "2023-05-22T20:34:37.636Z"
   },
   {
    "duration": 19,
    "start_time": "2023-05-22T20:34:37.662Z"
   },
   {
    "duration": 17,
    "start_time": "2023-05-22T20:34:37.687Z"
   },
   {
    "duration": 37,
    "start_time": "2023-05-22T20:34:37.717Z"
   },
   {
    "duration": 14,
    "start_time": "2023-05-22T20:34:37.760Z"
   },
   {
    "duration": 22,
    "start_time": "2023-05-22T20:34:37.780Z"
   },
   {
    "duration": 49,
    "start_time": "2023-05-22T20:34:37.810Z"
   },
   {
    "duration": 22,
    "start_time": "2023-05-22T20:34:37.864Z"
   },
   {
    "duration": 11,
    "start_time": "2023-05-22T20:34:37.888Z"
   },
   {
    "duration": 14,
    "start_time": "2023-05-22T20:34:37.903Z"
   },
   {
    "duration": 11,
    "start_time": "2023-05-22T20:34:37.925Z"
   },
   {
    "duration": 9,
    "start_time": "2023-05-22T20:34:37.943Z"
   },
   {
    "duration": 12,
    "start_time": "2023-05-22T20:34:37.955Z"
   },
   {
    "duration": 6,
    "start_time": "2023-05-22T20:34:37.969Z"
   },
   {
    "duration": 7,
    "start_time": "2023-05-22T20:34:37.977Z"
   },
   {
    "duration": 290,
    "start_time": "2023-05-22T20:34:37.986Z"
   },
   {
    "duration": 11,
    "start_time": "2023-05-22T20:34:38.278Z"
   },
   {
    "duration": 26,
    "start_time": "2023-05-22T20:34:38.290Z"
   },
   {
    "duration": 19,
    "start_time": "2023-05-22T20:34:38.317Z"
   },
   {
    "duration": 13,
    "start_time": "2023-05-22T20:34:38.337Z"
   },
   {
    "duration": 767,
    "start_time": "2023-05-22T20:34:38.352Z"
   },
   {
    "duration": 11,
    "start_time": "2023-05-22T20:34:39.126Z"
   },
   {
    "duration": 21,
    "start_time": "2023-05-22T20:34:39.142Z"
   },
   {
    "duration": 7,
    "start_time": "2023-05-22T20:34:39.166Z"
   },
   {
    "duration": 176,
    "start_time": "2023-05-22T20:34:39.174Z"
   },
   {
    "duration": 257,
    "start_time": "2023-05-22T20:34:39.355Z"
   },
   {
    "duration": 430,
    "start_time": "2023-05-22T20:34:39.614Z"
   },
   {
    "duration": 675,
    "start_time": "2023-05-22T20:34:40.047Z"
   },
   {
    "duration": 593,
    "start_time": "2023-05-22T20:34:40.724Z"
   },
   {
    "duration": 14,
    "start_time": "2023-05-22T20:34:41.323Z"
   },
   {
    "duration": 21,
    "start_time": "2023-05-22T20:34:41.345Z"
   },
   {
    "duration": 19,
    "start_time": "2023-05-22T20:34:41.369Z"
   },
   {
    "duration": 25,
    "start_time": "2023-05-22T20:34:41.390Z"
   },
   {
    "duration": 17,
    "start_time": "2023-05-22T20:34:41.417Z"
   },
   {
    "duration": 27,
    "start_time": "2023-05-22T20:34:41.437Z"
   },
   {
    "duration": 16,
    "start_time": "2023-05-22T20:34:41.466Z"
   },
   {
    "duration": 28,
    "start_time": "2023-05-22T20:34:41.483Z"
   },
   {
    "duration": 35,
    "start_time": "2023-05-22T20:34:41.512Z"
   },
   {
    "duration": 336,
    "start_time": "2023-05-22T20:34:41.550Z"
   },
   {
    "duration": 413,
    "start_time": "2023-05-22T20:34:41.888Z"
   },
   {
    "duration": 497,
    "start_time": "2023-05-22T20:34:42.307Z"
   },
   {
    "duration": 522,
    "start_time": "2023-05-22T20:34:42.810Z"
   },
   {
    "duration": 752,
    "start_time": "2023-05-22T20:34:43.340Z"
   },
   {
    "duration": 994,
    "start_time": "2023-05-22T20:34:44.094Z"
   },
   {
    "duration": 186,
    "start_time": "2023-05-22T20:34:45.093Z"
   },
   {
    "duration": 43,
    "start_time": "2023-05-22T20:34:45.281Z"
   },
   {
    "duration": 26,
    "start_time": "2023-05-22T20:34:45.329Z"
   },
   {
    "duration": 13,
    "start_time": "2023-05-22T20:34:45.358Z"
   },
   {
    "duration": 24,
    "start_time": "2023-05-22T20:34:45.377Z"
   },
   {
    "duration": 9,
    "start_time": "2023-05-22T20:34:45.407Z"
   },
   {
    "duration": 9,
    "start_time": "2023-05-22T20:34:45.423Z"
   },
   {
    "duration": 284,
    "start_time": "2023-05-22T20:34:45.434Z"
   },
   {
    "duration": 3909,
    "start_time": "2023-05-22T20:34:52.230Z"
   },
   {
    "duration": 7,
    "start_time": "2023-05-22T20:36:05.198Z"
   },
   {
    "duration": 7,
    "start_time": "2023-05-22T20:36:17.528Z"
   },
   {
    "duration": 1160,
    "start_time": "2023-05-22T20:37:46.207Z"
   },
   {
    "duration": 71,
    "start_time": "2023-05-22T20:37:47.369Z"
   },
   {
    "duration": 13,
    "start_time": "2023-05-22T20:37:47.442Z"
   },
   {
    "duration": 21,
    "start_time": "2023-05-22T20:37:47.457Z"
   },
   {
    "duration": 23,
    "start_time": "2023-05-22T20:37:47.479Z"
   },
   {
    "duration": 19,
    "start_time": "2023-05-22T20:37:47.504Z"
   },
   {
    "duration": 10,
    "start_time": "2023-05-22T20:37:47.527Z"
   },
   {
    "duration": 16,
    "start_time": "2023-05-22T20:37:47.539Z"
   },
   {
    "duration": 19,
    "start_time": "2023-05-22T20:37:47.557Z"
   },
   {
    "duration": 29,
    "start_time": "2023-05-22T20:37:47.579Z"
   },
   {
    "duration": 13,
    "start_time": "2023-05-22T20:37:47.611Z"
   },
   {
    "duration": 6,
    "start_time": "2023-05-22T20:37:47.628Z"
   },
   {
    "duration": 10,
    "start_time": "2023-05-22T20:37:47.636Z"
   },
   {
    "duration": 5,
    "start_time": "2023-05-22T20:37:47.648Z"
   },
   {
    "duration": 9,
    "start_time": "2023-05-22T20:37:47.654Z"
   },
   {
    "duration": 5,
    "start_time": "2023-05-22T20:37:47.664Z"
   },
   {
    "duration": 40,
    "start_time": "2023-05-22T20:37:47.670Z"
   },
   {
    "duration": 243,
    "start_time": "2023-05-22T20:37:47.714Z"
   },
   {
    "duration": 9,
    "start_time": "2023-05-22T20:37:47.959Z"
   },
   {
    "duration": 11,
    "start_time": "2023-05-22T20:37:47.970Z"
   },
   {
    "duration": 23,
    "start_time": "2023-05-22T20:37:47.983Z"
   },
   {
    "duration": 5,
    "start_time": "2023-05-22T20:37:48.008Z"
   },
   {
    "duration": 682,
    "start_time": "2023-05-22T20:37:48.015Z"
   },
   {
    "duration": 8,
    "start_time": "2023-05-22T20:37:48.699Z"
   },
   {
    "duration": 14,
    "start_time": "2023-05-22T20:37:48.717Z"
   },
   {
    "duration": 6,
    "start_time": "2023-05-22T20:37:48.733Z"
   },
   {
    "duration": 148,
    "start_time": "2023-05-22T20:37:48.741Z"
   },
   {
    "duration": 91,
    "start_time": "2023-05-22T20:37:48.893Z"
   },
   {
    "duration": 276,
    "start_time": "2023-05-22T20:37:48.985Z"
   },
   {
    "duration": 512,
    "start_time": "2023-05-22T20:37:49.262Z"
   },
   {
    "duration": 485,
    "start_time": "2023-05-22T20:37:49.776Z"
   },
   {
    "duration": 10,
    "start_time": "2023-05-22T20:37:50.262Z"
   },
   {
    "duration": 11,
    "start_time": "2023-05-22T20:37:50.273Z"
   },
   {
    "duration": 34,
    "start_time": "2023-05-22T20:37:50.285Z"
   },
   {
    "duration": 16,
    "start_time": "2023-05-22T20:37:50.321Z"
   },
   {
    "duration": 13,
    "start_time": "2023-05-22T20:37:50.340Z"
   },
   {
    "duration": 92,
    "start_time": "2023-05-22T20:37:50.354Z"
   },
   {
    "duration": 15,
    "start_time": "2023-05-22T20:37:50.448Z"
   },
   {
    "duration": 16,
    "start_time": "2023-05-22T20:37:50.465Z"
   },
   {
    "duration": 31,
    "start_time": "2023-05-22T20:37:50.483Z"
   },
   {
    "duration": 331,
    "start_time": "2023-05-22T20:37:50.516Z"
   },
   {
    "duration": 263,
    "start_time": "2023-05-22T20:37:50.849Z"
   },
   {
    "duration": 550,
    "start_time": "2023-05-22T20:37:51.114Z"
   },
   {
    "duration": 401,
    "start_time": "2023-05-22T20:37:51.665Z"
   },
   {
    "duration": 831,
    "start_time": "2023-05-22T20:37:52.067Z"
   },
   {
    "duration": 600,
    "start_time": "2023-05-22T20:37:52.900Z"
   },
   {
    "duration": 143,
    "start_time": "2023-05-22T20:37:53.502Z"
   },
   {
    "duration": 23,
    "start_time": "2023-05-22T20:37:53.647Z"
   },
   {
    "duration": 12,
    "start_time": "2023-05-22T20:37:53.671Z"
   },
   {
    "duration": 23,
    "start_time": "2023-05-22T20:37:53.685Z"
   },
   {
    "duration": 24,
    "start_time": "2023-05-22T20:37:53.709Z"
   },
   {
    "duration": 6,
    "start_time": "2023-05-22T20:37:53.735Z"
   },
   {
    "duration": 154,
    "start_time": "2023-05-22T20:49:41.399Z"
   },
   {
    "duration": 1941,
    "start_time": "2023-05-22T20:49:58.489Z"
   },
   {
    "duration": 3672,
    "start_time": "2023-05-22T20:50:11.421Z"
   },
   {
    "duration": 564,
    "start_time": "2023-05-22T20:50:19.296Z"
   },
   {
    "duration": 303,
    "start_time": "2023-05-22T20:50:24.737Z"
   },
   {
    "duration": 394,
    "start_time": "2023-05-22T20:51:07.393Z"
   },
   {
    "duration": 375,
    "start_time": "2023-05-22T20:51:30.394Z"
   },
   {
    "duration": 352,
    "start_time": "2023-05-22T20:51:50.140Z"
   },
   {
    "duration": 294,
    "start_time": "2023-05-22T20:51:56.040Z"
   },
   {
    "duration": 351,
    "start_time": "2023-05-22T20:52:00.952Z"
   },
   {
    "duration": 1613,
    "start_time": "2023-05-22T20:56:08.151Z"
   },
   {
    "duration": 2124,
    "start_time": "2023-05-22T20:56:34.979Z"
   },
   {
    "duration": 1701,
    "start_time": "2023-05-22T20:57:02.241Z"
   },
   {
    "duration": 10,
    "start_time": "2023-05-22T20:57:24.023Z"
   },
   {
    "duration": 1370,
    "start_time": "2023-05-22T20:57:32.824Z"
   },
   {
    "duration": 10,
    "start_time": "2023-05-22T20:58:03.757Z"
   },
   {
    "duration": 2336,
    "start_time": "2023-05-22T20:58:13.798Z"
   },
   {
    "duration": 2291,
    "start_time": "2023-05-22T21:00:05.665Z"
   },
   {
    "duration": 1807,
    "start_time": "2023-05-22T21:00:14.087Z"
   },
   {
    "duration": 2897,
    "start_time": "2023-05-22T21:01:04.700Z"
   },
   {
    "duration": 124,
    "start_time": "2023-05-22T21:02:40.992Z"
   },
   {
    "duration": 133,
    "start_time": "2023-05-22T21:02:51.208Z"
   },
   {
    "duration": 382,
    "start_time": "2023-05-22T21:03:06.503Z"
   },
   {
    "duration": 1983,
    "start_time": "2023-05-22T21:03:09.232Z"
   },
   {
    "duration": 1387,
    "start_time": "2023-05-22T21:10:26.223Z"
   },
   {
    "duration": 224,
    "start_time": "2023-05-22T21:10:37.519Z"
   },
   {
    "duration": 289,
    "start_time": "2023-05-22T21:10:43.870Z"
   },
   {
    "duration": 390,
    "start_time": "2023-05-22T21:10:48.766Z"
   },
   {
    "duration": 326,
    "start_time": "2023-05-22T21:11:21.718Z"
   },
   {
    "duration": 335,
    "start_time": "2023-05-22T21:12:24.805Z"
   },
   {
    "duration": 326,
    "start_time": "2023-05-22T21:12:40.973Z"
   },
   {
    "duration": 347,
    "start_time": "2023-05-22T21:12:59.717Z"
   },
   {
    "duration": 453,
    "start_time": "2023-05-22T21:14:01.990Z"
   },
   {
    "duration": 600,
    "start_time": "2023-05-22T21:14:05.485Z"
   },
   {
    "duration": 340,
    "start_time": "2023-05-22T21:14:18.351Z"
   },
   {
    "duration": 441,
    "start_time": "2023-05-22T21:15:16.987Z"
   },
   {
    "duration": 5,
    "start_time": "2023-05-22T21:15:45.852Z"
   },
   {
    "duration": 14,
    "start_time": "2023-05-22T21:15:58.143Z"
   },
   {
    "duration": 7,
    "start_time": "2023-05-22T21:16:03.815Z"
   },
   {
    "duration": 431,
    "start_time": "2023-05-22T21:16:18.015Z"
   },
   {
    "duration": 8,
    "start_time": "2023-05-22T21:16:20.376Z"
   },
   {
    "duration": 2051,
    "start_time": "2023-05-22T21:16:26.457Z"
   },
   {
    "duration": 8,
    "start_time": "2023-05-22T21:16:28.878Z"
   },
   {
    "duration": 8,
    "start_time": "2023-05-22T21:16:47.880Z"
   },
   {
    "duration": 11,
    "start_time": "2023-05-22T21:16:53.187Z"
   },
   {
    "duration": 11,
    "start_time": "2023-05-22T21:16:57.326Z"
   },
   {
    "duration": 13,
    "start_time": "2023-05-22T21:17:00.760Z"
   },
   {
    "duration": 10,
    "start_time": "2023-05-22T21:17:04.159Z"
   },
   {
    "duration": 1449,
    "start_time": "2023-05-22T21:19:32.491Z"
   },
   {
    "duration": 76,
    "start_time": "2023-05-22T21:19:33.943Z"
   },
   {
    "duration": 16,
    "start_time": "2023-05-22T21:19:34.020Z"
   },
   {
    "duration": 16,
    "start_time": "2023-05-22T21:19:34.038Z"
   },
   {
    "duration": 12,
    "start_time": "2023-05-22T21:19:34.056Z"
   },
   {
    "duration": 36,
    "start_time": "2023-05-22T21:19:34.072Z"
   },
   {
    "duration": 10,
    "start_time": "2023-05-22T21:19:34.109Z"
   },
   {
    "duration": 23,
    "start_time": "2023-05-22T21:19:34.121Z"
   },
   {
    "duration": 19,
    "start_time": "2023-05-22T21:19:34.147Z"
   },
   {
    "duration": 39,
    "start_time": "2023-05-22T21:19:34.170Z"
   },
   {
    "duration": 11,
    "start_time": "2023-05-22T21:19:34.211Z"
   },
   {
    "duration": 7,
    "start_time": "2023-05-22T21:19:34.224Z"
   },
   {
    "duration": 17,
    "start_time": "2023-05-22T21:19:34.232Z"
   },
   {
    "duration": 6,
    "start_time": "2023-05-22T21:19:34.251Z"
   },
   {
    "duration": 24,
    "start_time": "2023-05-22T21:19:34.258Z"
   },
   {
    "duration": 13,
    "start_time": "2023-05-22T21:19:34.286Z"
   },
   {
    "duration": 6,
    "start_time": "2023-05-22T21:19:34.307Z"
   },
   {
    "duration": 376,
    "start_time": "2023-05-22T21:19:34.315Z"
   },
   {
    "duration": 20,
    "start_time": "2023-05-22T21:19:34.693Z"
   },
   {
    "duration": 12,
    "start_time": "2023-05-22T21:19:34.715Z"
   },
   {
    "duration": 20,
    "start_time": "2023-05-22T21:19:34.729Z"
   },
   {
    "duration": 6,
    "start_time": "2023-05-22T21:19:34.751Z"
   },
   {
    "duration": 692,
    "start_time": "2023-05-22T21:19:34.758Z"
   },
   {
    "duration": 8,
    "start_time": "2023-05-22T21:19:35.453Z"
   },
   {
    "duration": 21,
    "start_time": "2023-05-22T21:19:35.463Z"
   },
   {
    "duration": 6,
    "start_time": "2023-05-22T21:19:35.486Z"
   },
   {
    "duration": 217,
    "start_time": "2023-05-22T21:19:35.494Z"
   },
   {
    "duration": 78,
    "start_time": "2023-05-22T21:19:35.716Z"
   },
   {
    "duration": 360,
    "start_time": "2023-05-22T21:19:35.807Z"
   },
   {
    "duration": 737,
    "start_time": "2023-05-22T21:19:36.169Z"
   },
   {
    "duration": 787,
    "start_time": "2023-05-22T21:19:36.908Z"
   },
   {
    "duration": 18,
    "start_time": "2023-05-22T21:19:37.698Z"
   },
   {
    "duration": 15,
    "start_time": "2023-05-22T21:19:37.718Z"
   },
   {
    "duration": 19,
    "start_time": "2023-05-22T21:19:37.735Z"
   },
   {
    "duration": 12,
    "start_time": "2023-05-22T21:19:37.756Z"
   },
   {
    "duration": 47,
    "start_time": "2023-05-22T21:19:37.770Z"
   },
   {
    "duration": 20,
    "start_time": "2023-05-22T21:19:37.820Z"
   },
   {
    "duration": 130,
    "start_time": "2023-05-22T21:19:37.842Z"
   },
   {
    "duration": 17,
    "start_time": "2023-05-22T21:19:37.977Z"
   },
   {
    "duration": 24,
    "start_time": "2023-05-22T21:19:38.011Z"
   },
   {
    "duration": 374,
    "start_time": "2023-05-22T21:19:38.037Z"
   },
   {
    "duration": 383,
    "start_time": "2023-05-22T21:19:38.414Z"
   },
   {
    "duration": 526,
    "start_time": "2023-05-22T21:19:38.806Z"
   },
   {
    "duration": 494,
    "start_time": "2023-05-22T21:19:39.334Z"
   },
   {
    "duration": 887,
    "start_time": "2023-05-22T21:19:39.830Z"
   },
   {
    "duration": 811,
    "start_time": "2023-05-22T21:19:40.719Z"
   },
   {
    "duration": 189,
    "start_time": "2023-05-22T21:19:41.532Z"
   },
   {
    "duration": 30,
    "start_time": "2023-05-22T21:19:41.723Z"
   },
   {
    "duration": 16,
    "start_time": "2023-05-22T21:19:41.755Z"
   },
   {
    "duration": 36,
    "start_time": "2023-05-22T21:19:41.773Z"
   },
   {
    "duration": 18,
    "start_time": "2023-05-22T21:19:41.812Z"
   },
   {
    "duration": 152,
    "start_time": "2023-05-22T21:19:41.832Z"
   },
   {
    "duration": 0,
    "start_time": "2023-05-22T21:19:41.987Z"
   },
   {
    "duration": 52,
    "start_time": "2023-05-22T21:20:06.645Z"
   },
   {
    "duration": 15,
    "start_time": "2023-05-22T21:20:11.205Z"
   },
   {
    "duration": 1359,
    "start_time": "2023-05-22T21:20:27.110Z"
   },
   {
    "duration": 850,
    "start_time": "2023-05-22T21:25:45.104Z"
   },
   {
    "duration": 819,
    "start_time": "2023-05-22T21:25:55.781Z"
   },
   {
    "duration": 4,
    "start_time": "2023-05-22T21:26:16.261Z"
   },
   {
    "duration": 858,
    "start_time": "2023-05-22T21:27:44.672Z"
   },
   {
    "duration": 1113,
    "start_time": "2023-05-22T21:27:49.644Z"
   },
   {
    "duration": 880,
    "start_time": "2023-05-22T21:29:14.654Z"
   },
   {
    "duration": 907,
    "start_time": "2023-05-22T21:29:25.055Z"
   },
   {
    "duration": 6,
    "start_time": "2023-05-22T21:30:03.522Z"
   },
   {
    "duration": 812,
    "start_time": "2023-05-22T21:35:34.727Z"
   },
   {
    "duration": 3,
    "start_time": "2023-05-22T21:35:45.305Z"
   },
   {
    "duration": 76,
    "start_time": "2023-05-22T21:35:45.310Z"
   },
   {
    "duration": 11,
    "start_time": "2023-05-22T21:35:45.388Z"
   },
   {
    "duration": 12,
    "start_time": "2023-05-22T21:35:45.401Z"
   },
   {
    "duration": 11,
    "start_time": "2023-05-22T21:35:45.415Z"
   },
   {
    "duration": 11,
    "start_time": "2023-05-22T21:35:45.428Z"
   },
   {
    "duration": 6,
    "start_time": "2023-05-22T21:35:45.441Z"
   },
   {
    "duration": 10,
    "start_time": "2023-05-22T21:35:45.449Z"
   },
   {
    "duration": 17,
    "start_time": "2023-05-22T21:35:45.460Z"
   },
   {
    "duration": 23,
    "start_time": "2023-05-22T21:35:45.506Z"
   },
   {
    "duration": 6,
    "start_time": "2023-05-22T21:35:45.533Z"
   },
   {
    "duration": 8,
    "start_time": "2023-05-22T21:35:45.541Z"
   },
   {
    "duration": 9,
    "start_time": "2023-05-22T21:35:45.551Z"
   },
   {
    "duration": 4,
    "start_time": "2023-05-22T21:35:45.561Z"
   },
   {
    "duration": 11,
    "start_time": "2023-05-22T21:35:45.567Z"
   },
   {
    "duration": 30,
    "start_time": "2023-05-22T21:35:45.579Z"
   },
   {
    "duration": 7,
    "start_time": "2023-05-22T21:35:45.611Z"
   },
   {
    "duration": 227,
    "start_time": "2023-05-22T21:35:45.620Z"
   },
   {
    "duration": 10,
    "start_time": "2023-05-22T21:35:45.849Z"
   },
   {
    "duration": 7,
    "start_time": "2023-05-22T21:35:45.860Z"
   },
   {
    "duration": 8,
    "start_time": "2023-05-22T21:35:45.869Z"
   },
   {
    "duration": 27,
    "start_time": "2023-05-22T21:35:45.879Z"
   },
   {
    "duration": 559,
    "start_time": "2023-05-22T21:35:45.908Z"
   },
   {
    "duration": 6,
    "start_time": "2023-05-22T21:35:46.470Z"
   },
   {
    "duration": 9,
    "start_time": "2023-05-22T21:35:46.478Z"
   },
   {
    "duration": 18,
    "start_time": "2023-05-22T21:35:46.489Z"
   },
   {
    "duration": 168,
    "start_time": "2023-05-22T21:35:46.510Z"
   },
   {
    "duration": 67,
    "start_time": "2023-05-22T21:35:46.679Z"
   },
   {
    "duration": 297,
    "start_time": "2023-05-22T21:35:46.749Z"
   },
   {
    "duration": 432,
    "start_time": "2023-05-22T21:35:47.048Z"
   },
   {
    "duration": 550,
    "start_time": "2023-05-22T21:35:47.481Z"
   },
   {
    "duration": 10,
    "start_time": "2023-05-22T21:35:48.032Z"
   },
   {
    "duration": 10,
    "start_time": "2023-05-22T21:35:48.044Z"
   },
   {
    "duration": 23,
    "start_time": "2023-05-22T21:35:48.056Z"
   },
   {
    "duration": 26,
    "start_time": "2023-05-22T21:35:48.080Z"
   },
   {
    "duration": 14,
    "start_time": "2023-05-22T21:35:48.108Z"
   },
   {
    "duration": 14,
    "start_time": "2023-05-22T21:35:48.124Z"
   },
   {
    "duration": 13,
    "start_time": "2023-05-22T21:35:48.140Z"
   },
   {
    "duration": 13,
    "start_time": "2023-05-22T21:35:48.155Z"
   },
   {
    "duration": 46,
    "start_time": "2023-05-22T21:35:48.170Z"
   },
   {
    "duration": 276,
    "start_time": "2023-05-22T21:35:48.218Z"
   },
   {
    "duration": 360,
    "start_time": "2023-05-22T21:35:48.496Z"
   },
   {
    "duration": 472,
    "start_time": "2023-05-22T21:35:48.858Z"
   },
   {
    "duration": 502,
    "start_time": "2023-05-22T21:35:49.332Z"
   },
   {
    "duration": 560,
    "start_time": "2023-05-22T21:35:49.835Z"
   },
   {
    "duration": 600,
    "start_time": "2023-05-22T21:35:50.397Z"
   },
   {
    "duration": 231,
    "start_time": "2023-05-22T21:35:50.998Z"
   },
   {
    "duration": 29,
    "start_time": "2023-05-22T21:35:52.678Z"
   },
   {
    "duration": 8,
    "start_time": "2023-05-22T21:40:08.923Z"
   },
   {
    "duration": 7,
    "start_time": "2023-05-22T21:40:23.438Z"
   },
   {
    "duration": 17,
    "start_time": "2023-05-22T21:41:46.931Z"
   },
   {
    "duration": 7,
    "start_time": "2023-05-22T21:41:54.120Z"
   },
   {
    "duration": 20,
    "start_time": "2023-05-22T21:43:19.239Z"
   },
   {
    "duration": 32,
    "start_time": "2023-05-22T21:43:27.271Z"
   },
   {
    "duration": 60,
    "start_time": "2023-05-22T21:44:01.577Z"
   },
   {
    "duration": 52,
    "start_time": "2023-05-22T21:45:21.978Z"
   },
   {
    "duration": 1266,
    "start_time": "2023-05-23T11:33:26.987Z"
   },
   {
    "duration": 347,
    "start_time": "2023-05-23T11:33:28.260Z"
   },
   {
    "duration": 15,
    "start_time": "2023-05-23T11:33:28.609Z"
   },
   {
    "duration": 13,
    "start_time": "2023-05-23T11:33:28.626Z"
   },
   {
    "duration": 12,
    "start_time": "2023-05-23T11:33:28.642Z"
   },
   {
    "duration": 33,
    "start_time": "2023-05-23T11:33:28.656Z"
   },
   {
    "duration": 8,
    "start_time": "2023-05-23T11:33:28.691Z"
   },
   {
    "duration": 18,
    "start_time": "2023-05-23T11:33:28.701Z"
   },
   {
    "duration": 18,
    "start_time": "2023-05-23T11:33:28.720Z"
   },
   {
    "duration": 22,
    "start_time": "2023-05-23T11:33:28.740Z"
   },
   {
    "duration": 8,
    "start_time": "2023-05-23T11:33:28.765Z"
   },
   {
    "duration": 6,
    "start_time": "2023-05-23T11:33:28.776Z"
   },
   {
    "duration": 11,
    "start_time": "2023-05-23T11:33:28.785Z"
   },
   {
    "duration": 6,
    "start_time": "2023-05-23T11:33:28.802Z"
   },
   {
    "duration": 11,
    "start_time": "2023-05-23T11:33:28.810Z"
   },
   {
    "duration": 5,
    "start_time": "2023-05-23T11:33:28.824Z"
   },
   {
    "duration": 58,
    "start_time": "2023-05-23T11:33:28.863Z"
   },
   {
    "duration": 6,
    "start_time": "2023-05-23T11:33:28.924Z"
   },
   {
    "duration": 341,
    "start_time": "2023-05-23T11:33:28.933Z"
   },
   {
    "duration": 30,
    "start_time": "2023-05-23T11:33:29.281Z"
   },
   {
    "duration": 11,
    "start_time": "2023-05-23T11:33:29.317Z"
   },
   {
    "duration": 9,
    "start_time": "2023-05-23T11:33:29.330Z"
   },
   {
    "duration": 6,
    "start_time": "2023-05-23T11:33:29.341Z"
   },
   {
    "duration": 636,
    "start_time": "2023-05-23T11:33:29.349Z"
   },
   {
    "duration": 6,
    "start_time": "2023-05-23T11:33:29.989Z"
   },
   {
    "duration": 42,
    "start_time": "2023-05-23T11:33:29.996Z"
   },
   {
    "duration": 51,
    "start_time": "2023-05-23T11:33:30.040Z"
   },
   {
    "duration": 195,
    "start_time": "2023-05-23T11:33:30.093Z"
   },
   {
    "duration": 72,
    "start_time": "2023-05-23T11:33:30.292Z"
   },
   {
    "duration": 260,
    "start_time": "2023-05-23T11:33:30.366Z"
   },
   {
    "duration": 521,
    "start_time": "2023-05-23T11:33:30.628Z"
   },
   {
    "duration": 486,
    "start_time": "2023-05-23T11:33:31.152Z"
   },
   {
    "duration": 31,
    "start_time": "2023-05-23T11:33:31.640Z"
   },
   {
    "duration": 22,
    "start_time": "2023-05-23T11:33:31.678Z"
   },
   {
    "duration": 20,
    "start_time": "2023-05-23T11:33:31.702Z"
   },
   {
    "duration": 27,
    "start_time": "2023-05-23T11:33:31.724Z"
   },
   {
    "duration": 37,
    "start_time": "2023-05-23T11:33:31.754Z"
   },
   {
    "duration": 117,
    "start_time": "2023-05-23T11:33:31.793Z"
   },
   {
    "duration": 13,
    "start_time": "2023-05-23T11:33:31.912Z"
   },
   {
    "duration": 36,
    "start_time": "2023-05-23T11:33:31.927Z"
   },
   {
    "duration": 27,
    "start_time": "2023-05-23T11:33:31.974Z"
   },
   {
    "duration": 314,
    "start_time": "2023-05-23T11:33:32.003Z"
   },
   {
    "duration": 307,
    "start_time": "2023-05-23T11:33:32.319Z"
   },
   {
    "duration": 546,
    "start_time": "2023-05-23T11:33:32.629Z"
   },
   {
    "duration": 448,
    "start_time": "2023-05-23T11:33:33.176Z"
   },
   {
    "duration": 688,
    "start_time": "2023-05-23T11:33:33.626Z"
   },
   {
    "duration": 675,
    "start_time": "2023-05-23T11:33:34.317Z"
   },
   {
    "duration": 146,
    "start_time": "2023-05-23T11:33:34.994Z"
   },
   {
    "duration": 42,
    "start_time": "2023-05-23T11:33:35.141Z"
   },
   {
    "duration": 16,
    "start_time": "2023-05-23T11:33:35.189Z"
   },
   {
    "duration": 19,
    "start_time": "2023-05-23T11:33:35.207Z"
   },
   {
    "duration": 64,
    "start_time": "2023-05-23T11:33:35.228Z"
   },
   {
    "duration": 1295,
    "start_time": "2023-05-23T11:33:35.300Z"
   },
   {
    "duration": 6,
    "start_time": "2023-05-23T11:33:36.597Z"
   },
   {
    "duration": 12,
    "start_time": "2023-05-23T11:50:02.219Z"
   },
   {
    "duration": 18,
    "start_time": "2023-05-23T11:50:07.877Z"
   },
   {
    "duration": 138,
    "start_time": "2023-05-23T11:51:51.140Z"
   },
   {
    "duration": 10,
    "start_time": "2023-05-23T11:51:53.109Z"
   },
   {
    "duration": 11,
    "start_time": "2023-05-23T11:54:03.221Z"
   },
   {
    "duration": 20,
    "start_time": "2023-05-23T11:54:11.882Z"
   },
   {
    "duration": 11,
    "start_time": "2023-05-23T11:54:16.037Z"
   },
   {
    "duration": 17,
    "start_time": "2023-05-23T11:54:35.048Z"
   },
   {
    "duration": 9,
    "start_time": "2023-05-23T11:54:41.843Z"
   },
   {
    "duration": 11,
    "start_time": "2023-05-23T11:54:46.539Z"
   },
   {
    "duration": 57,
    "start_time": "2023-05-23T12:28:29.875Z"
   },
   {
    "duration": 8,
    "start_time": "2023-05-23T12:28:38.248Z"
   },
   {
    "duration": 0,
    "start_time": "2023-05-23T12:28:38.258Z"
   },
   {
    "duration": 0,
    "start_time": "2023-05-23T12:28:38.259Z"
   },
   {
    "duration": 0,
    "start_time": "2023-05-23T12:28:38.260Z"
   },
   {
    "duration": 6,
    "start_time": "2023-05-23T12:28:38.262Z"
   },
   {
    "duration": 0,
    "start_time": "2023-05-23T12:28:38.270Z"
   },
   {
    "duration": 7,
    "start_time": "2023-05-23T12:28:38.277Z"
   },
   {
    "duration": 0,
    "start_time": "2023-05-23T12:28:38.285Z"
   },
   {
    "duration": 0,
    "start_time": "2023-05-23T12:28:38.286Z"
   },
   {
    "duration": 6,
    "start_time": "2023-05-23T12:28:42.744Z"
   },
   {
    "duration": 6,
    "start_time": "2023-05-23T12:28:57.666Z"
   },
   {
    "duration": 1544,
    "start_time": "2023-05-23T12:30:29.880Z"
   },
   {
    "duration": 69,
    "start_time": "2023-05-23T12:31:00.116Z"
   },
   {
    "duration": 64,
    "start_time": "2023-05-23T12:31:40.419Z"
   },
   {
    "duration": 13,
    "start_time": "2023-05-23T12:31:42.057Z"
   },
   {
    "duration": 13,
    "start_time": "2023-05-23T12:31:42.419Z"
   },
   {
    "duration": 9,
    "start_time": "2023-05-23T12:31:43.621Z"
   },
   {
    "duration": 11,
    "start_time": "2023-05-23T12:31:44.241Z"
   },
   {
    "duration": 6,
    "start_time": "2023-05-23T12:31:45.571Z"
   },
   {
    "duration": 13,
    "start_time": "2023-05-23T12:31:45.944Z"
   },
   {
    "duration": 20,
    "start_time": "2023-05-23T12:31:48.905Z"
   },
   {
    "duration": 13,
    "start_time": "2023-05-23T12:31:50.973Z"
   },
   {
    "duration": 114,
    "start_time": "2023-05-23T12:31:52.707Z"
   },
   {
    "duration": 11,
    "start_time": "2023-05-23T12:31:57.347Z"
   },
   {
    "duration": 8,
    "start_time": "2023-05-23T12:32:47.890Z"
   },
   {
    "duration": 72,
    "start_time": "2023-05-23T12:34:51.150Z"
   },
   {
    "duration": 10,
    "start_time": "2023-05-23T12:34:51.224Z"
   },
   {
    "duration": 17,
    "start_time": "2023-05-23T12:34:51.236Z"
   },
   {
    "duration": 17,
    "start_time": "2023-05-23T12:34:51.256Z"
   },
   {
    "duration": 23,
    "start_time": "2023-05-23T12:34:51.274Z"
   },
   {
    "duration": 36,
    "start_time": "2023-05-23T12:34:51.299Z"
   },
   {
    "duration": 23,
    "start_time": "2023-05-23T12:34:51.337Z"
   },
   {
    "duration": 30,
    "start_time": "2023-05-23T12:34:51.362Z"
   },
   {
    "duration": 11,
    "start_time": "2023-05-23T12:34:51.394Z"
   },
   {
    "duration": 12,
    "start_time": "2023-05-23T12:34:51.409Z"
   },
   {
    "duration": 18,
    "start_time": "2023-05-23T12:34:51.423Z"
   },
   {
    "duration": 21,
    "start_time": "2023-05-23T12:34:51.443Z"
   },
   {
    "duration": 15,
    "start_time": "2023-05-23T12:34:51.466Z"
   },
   {
    "duration": 9,
    "start_time": "2023-05-23T12:34:51.483Z"
   },
   {
    "duration": 23,
    "start_time": "2023-05-23T12:34:51.494Z"
   },
   {
    "duration": 25,
    "start_time": "2023-05-23T12:34:51.519Z"
   },
   {
    "duration": 62,
    "start_time": "2023-05-23T12:34:51.545Z"
   },
   {
    "duration": 6,
    "start_time": "2023-05-23T12:34:51.609Z"
   },
   {
    "duration": 227,
    "start_time": "2023-05-23T12:34:51.617Z"
   },
   {
    "duration": 12,
    "start_time": "2023-05-23T12:34:51.846Z"
   },
   {
    "duration": 17,
    "start_time": "2023-05-23T12:34:51.860Z"
   },
   {
    "duration": 16,
    "start_time": "2023-05-23T12:34:51.878Z"
   },
   {
    "duration": 25,
    "start_time": "2023-05-23T12:34:51.895Z"
   },
   {
    "duration": 629,
    "start_time": "2023-05-23T12:34:51.922Z"
   },
   {
    "duration": 5,
    "start_time": "2023-05-23T12:34:52.553Z"
   },
   {
    "duration": 33,
    "start_time": "2023-05-23T12:34:52.560Z"
   },
   {
    "duration": 6,
    "start_time": "2023-05-23T12:34:59.042Z"
   },
   {
    "duration": 183,
    "start_time": "2023-05-23T12:35:19.325Z"
   },
   {
    "duration": 177,
    "start_time": "2023-05-23T12:36:05.038Z"
   },
   {
    "duration": 6,
    "start_time": "2023-05-23T12:36:14.560Z"
   },
   {
    "duration": 168,
    "start_time": "2023-05-23T12:36:15.045Z"
   },
   {
    "duration": 91,
    "start_time": "2023-05-23T12:37:26.390Z"
   },
   {
    "duration": 80,
    "start_time": "2023-05-23T12:37:35.987Z"
   },
   {
    "duration": 221,
    "start_time": "2023-05-23T12:38:37.478Z"
   },
   {
    "duration": 540,
    "start_time": "2023-05-23T12:39:16.411Z"
   },
   {
    "duration": 596,
    "start_time": "2023-05-23T12:39:31.103Z"
   },
   {
    "duration": 290,
    "start_time": "2023-05-23T12:41:02.495Z"
   },
   {
    "duration": 286,
    "start_time": "2023-05-23T12:42:03.491Z"
   },
   {
    "duration": 149,
    "start_time": "2023-05-23T12:42:29.508Z"
   },
   {
    "duration": 78,
    "start_time": "2023-05-23T12:42:31.890Z"
   },
   {
    "duration": 359,
    "start_time": "2023-05-23T12:43:12.952Z"
   },
   {
    "duration": 460,
    "start_time": "2023-05-23T12:43:30.445Z"
   },
   {
    "duration": 66,
    "start_time": "2023-05-23T12:43:37.478Z"
   },
   {
    "duration": 8,
    "start_time": "2023-05-23T12:43:37.546Z"
   },
   {
    "duration": 11,
    "start_time": "2023-05-23T12:43:37.555Z"
   },
   {
    "duration": 12,
    "start_time": "2023-05-23T12:43:37.568Z"
   },
   {
    "duration": 20,
    "start_time": "2023-05-23T12:43:37.581Z"
   },
   {
    "duration": 6,
    "start_time": "2023-05-23T12:43:37.603Z"
   },
   {
    "duration": 25,
    "start_time": "2023-05-23T12:43:37.619Z"
   },
   {
    "duration": 34,
    "start_time": "2023-05-23T12:43:37.645Z"
   },
   {
    "duration": 67,
    "start_time": "2023-05-23T12:43:37.681Z"
   },
   {
    "duration": 5,
    "start_time": "2023-05-23T12:43:37.751Z"
   },
   {
    "duration": 6,
    "start_time": "2023-05-23T12:43:37.757Z"
   },
   {
    "duration": 7,
    "start_time": "2023-05-23T12:43:37.764Z"
   },
   {
    "duration": 8,
    "start_time": "2023-05-23T12:43:37.772Z"
   },
   {
    "duration": 4,
    "start_time": "2023-05-23T12:43:37.781Z"
   },
   {
    "duration": 6,
    "start_time": "2023-05-23T12:43:37.786Z"
   },
   {
    "duration": 26,
    "start_time": "2023-05-23T12:43:37.793Z"
   },
   {
    "duration": 39,
    "start_time": "2023-05-23T12:43:37.821Z"
   },
   {
    "duration": 5,
    "start_time": "2023-05-23T12:43:37.862Z"
   },
   {
    "duration": 236,
    "start_time": "2023-05-23T12:43:37.868Z"
   },
   {
    "duration": 16,
    "start_time": "2023-05-23T12:43:38.106Z"
   },
   {
    "duration": 18,
    "start_time": "2023-05-23T12:43:38.124Z"
   },
   {
    "duration": 14,
    "start_time": "2023-05-23T12:43:38.143Z"
   },
   {
    "duration": 10,
    "start_time": "2023-05-23T12:43:38.159Z"
   },
   {
    "duration": 583,
    "start_time": "2023-05-23T12:43:38.170Z"
   },
   {
    "duration": 6,
    "start_time": "2023-05-23T12:43:38.755Z"
   },
   {
    "duration": 9,
    "start_time": "2023-05-23T12:43:38.762Z"
   },
   {
    "duration": 6,
    "start_time": "2023-05-23T12:43:38.772Z"
   },
   {
    "duration": 164,
    "start_time": "2023-05-23T12:43:38.780Z"
   },
   {
    "duration": 89,
    "start_time": "2023-05-23T12:43:38.946Z"
   },
   {
    "duration": 361,
    "start_time": "2023-05-23T12:43:39.037Z"
   },
   {
    "duration": 483,
    "start_time": "2023-05-23T12:43:40.715Z"
   },
   {
    "duration": 386,
    "start_time": "2023-05-23T12:44:16.875Z"
   },
   {
    "duration": 454,
    "start_time": "2023-05-23T12:47:48.648Z"
   },
   {
    "duration": 505,
    "start_time": "2023-05-23T12:48:00.209Z"
   },
   {
    "duration": 103,
    "start_time": "2023-05-23T12:48:05.977Z"
   },
   {
    "duration": 117,
    "start_time": "2023-05-23T12:48:21.136Z"
   },
   {
    "duration": 142,
    "start_time": "2023-05-23T12:48:56.190Z"
   },
   {
    "duration": 118,
    "start_time": "2023-05-23T12:52:08.493Z"
   },
   {
    "duration": 127,
    "start_time": "2023-05-23T12:52:30.462Z"
   },
   {
    "duration": 14,
    "start_time": "2023-05-23T12:55:28.665Z"
   },
   {
    "duration": 68,
    "start_time": "2023-05-23T12:55:35.870Z"
   },
   {
    "duration": 10,
    "start_time": "2023-05-23T12:55:35.940Z"
   },
   {
    "duration": 22,
    "start_time": "2023-05-23T12:55:35.952Z"
   },
   {
    "duration": 13,
    "start_time": "2023-05-23T12:55:35.975Z"
   },
   {
    "duration": 19,
    "start_time": "2023-05-23T12:55:35.990Z"
   },
   {
    "duration": 8,
    "start_time": "2023-05-23T12:55:36.011Z"
   },
   {
    "duration": 49,
    "start_time": "2023-05-23T12:55:36.020Z"
   },
   {
    "duration": 13,
    "start_time": "2023-05-23T12:55:36.071Z"
   },
   {
    "duration": 9,
    "start_time": "2023-05-23T12:55:36.086Z"
   },
   {
    "duration": 6,
    "start_time": "2023-05-23T12:55:36.097Z"
   },
   {
    "duration": 6,
    "start_time": "2023-05-23T12:55:36.105Z"
   },
   {
    "duration": 10,
    "start_time": "2023-05-23T12:55:36.113Z"
   },
   {
    "duration": 21,
    "start_time": "2023-05-23T12:55:36.125Z"
   },
   {
    "duration": 4,
    "start_time": "2023-05-23T12:55:36.153Z"
   },
   {
    "duration": 13,
    "start_time": "2023-05-23T12:55:36.159Z"
   },
   {
    "duration": 8,
    "start_time": "2023-05-23T12:55:36.174Z"
   },
   {
    "duration": 57,
    "start_time": "2023-05-23T12:55:36.183Z"
   },
   {
    "duration": 11,
    "start_time": "2023-05-23T12:55:36.242Z"
   },
   {
    "duration": 222,
    "start_time": "2023-05-23T12:55:36.255Z"
   },
   {
    "duration": 9,
    "start_time": "2023-05-23T12:55:36.479Z"
   },
   {
    "duration": 6,
    "start_time": "2023-05-23T12:55:36.490Z"
   },
   {
    "duration": 26,
    "start_time": "2023-05-23T12:55:36.497Z"
   },
   {
    "duration": 4,
    "start_time": "2023-05-23T12:55:36.525Z"
   },
   {
    "duration": 614,
    "start_time": "2023-05-23T12:55:36.531Z"
   },
   {
    "duration": 7,
    "start_time": "2023-05-23T12:55:37.146Z"
   },
   {
    "duration": 10,
    "start_time": "2023-05-23T12:55:37.155Z"
   },
   {
    "duration": 22,
    "start_time": "2023-05-23T12:55:37.167Z"
   },
   {
    "duration": 170,
    "start_time": "2023-05-23T12:55:37.191Z"
   },
   {
    "duration": 102,
    "start_time": "2023-05-23T12:55:37.363Z"
   },
   {
    "duration": 472,
    "start_time": "2023-05-23T12:55:37.467Z"
   },
   {
    "duration": 470,
    "start_time": "2023-05-23T12:55:37.941Z"
   },
   {
    "duration": 132,
    "start_time": "2023-05-23T12:55:38.417Z"
   },
   {
    "duration": 427,
    "start_time": "2023-05-23T12:55:38.551Z"
   },
   {
    "duration": 128,
    "start_time": "2023-05-23T12:55:38.980Z"
   },
   {
    "duration": 10,
    "start_time": "2023-05-23T12:55:39.110Z"
   },
   {
    "duration": 10,
    "start_time": "2023-05-23T12:55:39.122Z"
   },
   {
    "duration": 16,
    "start_time": "2023-05-23T12:55:39.134Z"
   },
   {
    "duration": 8,
    "start_time": "2023-05-23T12:55:39.151Z"
   },
   {
    "duration": 10,
    "start_time": "2023-05-23T12:55:39.160Z"
   },
   {
    "duration": 16,
    "start_time": "2023-05-23T12:55:39.172Z"
   },
   {
    "duration": 12,
    "start_time": "2023-05-23T12:55:39.217Z"
   },
   {
    "duration": 11,
    "start_time": "2023-05-23T12:55:39.231Z"
   },
   {
    "duration": 17,
    "start_time": "2023-05-23T12:55:39.243Z"
   },
   {
    "duration": 258,
    "start_time": "2023-05-23T12:55:43.286Z"
   },
   {
    "duration": 432,
    "start_time": "2023-05-23T12:55:56.813Z"
   },
   {
    "duration": 317,
    "start_time": "2023-05-23T12:56:12.793Z"
   },
   {
    "duration": 454,
    "start_time": "2023-05-23T12:56:25.002Z"
   },
   {
    "duration": 609,
    "start_time": "2023-05-23T12:56:57.117Z"
   },
   {
    "duration": 609,
    "start_time": "2023-05-23T12:57:22.716Z"
   },
   {
    "duration": 514,
    "start_time": "2023-05-23T12:57:25.995Z"
   },
   {
    "duration": 8,
    "start_time": "2023-05-23T13:03:02.274Z"
   },
   {
    "duration": 9,
    "start_time": "2023-05-23T13:05:24.649Z"
   },
   {
    "duration": 119,
    "start_time": "2023-05-23T13:05:28.773Z"
   },
   {
    "duration": 1192,
    "start_time": "2023-05-23T13:05:36.723Z"
   },
   {
    "duration": 13,
    "start_time": "2023-05-23T13:05:37.917Z"
   },
   {
    "duration": 27,
    "start_time": "2023-05-23T13:05:37.931Z"
   },
   {
    "duration": 31,
    "start_time": "2023-05-23T13:05:37.960Z"
   },
   {
    "duration": 19,
    "start_time": "2023-05-23T13:05:37.993Z"
   },
   {
    "duration": 15,
    "start_time": "2023-05-23T13:05:38.014Z"
   },
   {
    "duration": 23,
    "start_time": "2023-05-23T13:05:38.030Z"
   },
   {
    "duration": 28,
    "start_time": "2023-05-23T13:05:38.055Z"
   },
   {
    "duration": 19,
    "start_time": "2023-05-23T13:05:38.085Z"
   },
   {
    "duration": 35,
    "start_time": "2023-05-23T13:05:38.105Z"
   },
   {
    "duration": 26,
    "start_time": "2023-05-23T13:05:38.142Z"
   },
   {
    "duration": 22,
    "start_time": "2023-05-23T13:05:38.169Z"
   },
   {
    "duration": 14,
    "start_time": "2023-05-23T13:05:38.192Z"
   },
   {
    "duration": 39,
    "start_time": "2023-05-23T13:05:38.209Z"
   },
   {
    "duration": 32,
    "start_time": "2023-05-23T13:05:38.249Z"
   },
   {
    "duration": 13,
    "start_time": "2023-05-23T13:05:38.282Z"
   },
   {
    "duration": 50,
    "start_time": "2023-05-23T13:05:38.297Z"
   },
   {
    "duration": 4,
    "start_time": "2023-05-23T13:05:38.349Z"
   },
   {
    "duration": 212,
    "start_time": "2023-05-23T13:05:38.354Z"
   },
   {
    "duration": 9,
    "start_time": "2023-05-23T13:05:38.568Z"
   },
   {
    "duration": 21,
    "start_time": "2023-05-23T13:05:38.579Z"
   },
   {
    "duration": 19,
    "start_time": "2023-05-23T13:05:38.601Z"
   },
   {
    "duration": 13,
    "start_time": "2023-05-23T13:05:38.621Z"
   },
   {
    "duration": 586,
    "start_time": "2023-05-23T13:05:38.635Z"
   },
   {
    "duration": 6,
    "start_time": "2023-05-23T13:05:39.222Z"
   },
   {
    "duration": 11,
    "start_time": "2023-05-23T13:05:39.229Z"
   },
   {
    "duration": 7,
    "start_time": "2023-05-23T13:05:39.242Z"
   },
   {
    "duration": 160,
    "start_time": "2023-05-23T13:05:39.250Z"
   },
   {
    "duration": 84,
    "start_time": "2023-05-23T13:05:39.411Z"
   },
   {
    "duration": 333,
    "start_time": "2023-05-23T13:05:39.496Z"
   },
   {
    "duration": 446,
    "start_time": "2023-05-23T13:05:39.831Z"
   },
   {
    "duration": 122,
    "start_time": "2023-05-23T13:05:40.278Z"
   },
   {
    "duration": 551,
    "start_time": "2023-05-23T13:05:40.402Z"
   },
   {
    "duration": 127,
    "start_time": "2023-05-23T13:05:40.954Z"
   },
   {
    "duration": 9,
    "start_time": "2023-05-23T13:05:41.082Z"
   },
   {
    "duration": 18,
    "start_time": "2023-05-23T13:05:41.092Z"
   },
   {
    "duration": 14,
    "start_time": "2023-05-23T13:05:41.117Z"
   },
   {
    "duration": 8,
    "start_time": "2023-05-23T13:05:41.133Z"
   },
   {
    "duration": 11,
    "start_time": "2023-05-23T13:05:41.143Z"
   },
   {
    "duration": 19,
    "start_time": "2023-05-23T13:05:41.155Z"
   },
   {
    "duration": 10,
    "start_time": "2023-05-23T13:05:41.178Z"
   },
   {
    "duration": 29,
    "start_time": "2023-05-23T13:05:41.189Z"
   },
   {
    "duration": 10,
    "start_time": "2023-05-23T13:05:41.219Z"
   },
   {
    "duration": 265,
    "start_time": "2023-05-23T13:05:41.230Z"
   },
   {
    "duration": 249,
    "start_time": "2023-05-23T13:05:41.497Z"
   },
   {
    "duration": 399,
    "start_time": "2023-05-23T13:05:41.748Z"
   },
   {
    "duration": 380,
    "start_time": "2023-05-23T13:05:42.148Z"
   },
   {
    "duration": 624,
    "start_time": "2023-05-23T13:05:42.530Z"
   },
   {
    "duration": 713,
    "start_time": "2023-05-23T13:05:43.156Z"
   },
   {
    "duration": 9,
    "start_time": "2023-05-23T13:05:43.870Z"
   },
   {
    "duration": 252,
    "start_time": "2023-05-23T13:05:43.881Z"
   },
   {
    "duration": 0,
    "start_time": "2023-05-23T13:05:44.134Z"
   },
   {
    "duration": 0,
    "start_time": "2023-05-23T13:05:44.136Z"
   },
   {
    "duration": 0,
    "start_time": "2023-05-23T13:05:44.137Z"
   },
   {
    "duration": 0,
    "start_time": "2023-05-23T13:05:44.138Z"
   },
   {
    "duration": 0,
    "start_time": "2023-05-23T13:05:44.139Z"
   },
   {
    "duration": 0,
    "start_time": "2023-05-23T13:05:44.140Z"
   },
   {
    "duration": 0,
    "start_time": "2023-05-23T13:05:44.141Z"
   },
   {
    "duration": 66,
    "start_time": "2023-05-23T13:06:18.733Z"
   },
   {
    "duration": 120,
    "start_time": "2023-05-23T13:06:29.719Z"
   },
   {
    "duration": 8,
    "start_time": "2023-05-23T13:06:30.893Z"
   },
   {
    "duration": 123,
    "start_time": "2023-05-23T13:06:54.852Z"
   },
   {
    "duration": 6,
    "start_time": "2023-05-23T13:06:55.245Z"
   },
   {
    "duration": 11,
    "start_time": "2023-05-23T13:07:16.698Z"
   },
   {
    "duration": 14,
    "start_time": "2023-05-23T13:07:29.234Z"
   },
   {
    "duration": 117,
    "start_time": "2023-05-23T13:07:36.688Z"
   },
   {
    "duration": 10,
    "start_time": "2023-05-23T13:07:40.483Z"
   },
   {
    "duration": 8,
    "start_time": "2023-05-23T13:07:50.693Z"
   },
   {
    "duration": 7,
    "start_time": "2023-05-23T13:08:32.972Z"
   },
   {
    "duration": 7,
    "start_time": "2023-05-23T13:08:33.178Z"
   },
   {
    "duration": 24,
    "start_time": "2023-05-23T13:08:35.290Z"
   },
   {
    "duration": 12,
    "start_time": "2023-05-23T13:13:57.315Z"
   },
   {
    "duration": 66,
    "start_time": "2023-05-23T13:14:03.738Z"
   },
   {
    "duration": 7,
    "start_time": "2023-05-23T13:14:03.806Z"
   },
   {
    "duration": 37,
    "start_time": "2023-05-23T13:14:03.815Z"
   },
   {
    "duration": 12,
    "start_time": "2023-05-23T13:14:03.853Z"
   },
   {
    "duration": 16,
    "start_time": "2023-05-23T13:14:03.868Z"
   },
   {
    "duration": 11,
    "start_time": "2023-05-23T13:14:03.886Z"
   },
   {
    "duration": 33,
    "start_time": "2023-05-23T13:14:03.899Z"
   },
   {
    "duration": 15,
    "start_time": "2023-05-23T13:14:03.933Z"
   },
   {
    "duration": 10,
    "start_time": "2023-05-23T13:14:03.950Z"
   },
   {
    "duration": 6,
    "start_time": "2023-05-23T13:14:03.962Z"
   },
   {
    "duration": 10,
    "start_time": "2023-05-23T13:14:03.969Z"
   },
   {
    "duration": 8,
    "start_time": "2023-05-23T13:14:03.981Z"
   },
   {
    "duration": 9,
    "start_time": "2023-05-23T13:14:04.017Z"
   },
   {
    "duration": 10,
    "start_time": "2023-05-23T13:14:04.029Z"
   },
   {
    "duration": 5,
    "start_time": "2023-05-23T13:14:04.041Z"
   },
   {
    "duration": 8,
    "start_time": "2023-05-23T13:14:04.047Z"
   },
   {
    "duration": 56,
    "start_time": "2023-05-23T13:14:04.057Z"
   },
   {
    "duration": 5,
    "start_time": "2023-05-23T13:14:04.117Z"
   },
   {
    "duration": 220,
    "start_time": "2023-05-23T13:14:04.123Z"
   },
   {
    "duration": 9,
    "start_time": "2023-05-23T13:14:04.345Z"
   },
   {
    "duration": 15,
    "start_time": "2023-05-23T13:14:04.355Z"
   },
   {
    "duration": 11,
    "start_time": "2023-05-23T13:14:04.371Z"
   },
   {
    "duration": 5,
    "start_time": "2023-05-23T13:14:04.383Z"
   },
   {
    "duration": 745,
    "start_time": "2023-05-23T13:14:04.389Z"
   },
   {
    "duration": 6,
    "start_time": "2023-05-23T13:14:05.135Z"
   },
   {
    "duration": 12,
    "start_time": "2023-05-23T13:14:05.143Z"
   },
   {
    "duration": 6,
    "start_time": "2023-05-23T13:14:05.157Z"
   },
   {
    "duration": 178,
    "start_time": "2023-05-23T13:14:05.164Z"
   },
   {
    "duration": 91,
    "start_time": "2023-05-23T13:14:05.345Z"
   },
   {
    "duration": 401,
    "start_time": "2023-05-23T13:14:05.438Z"
   },
   {
    "duration": 551,
    "start_time": "2023-05-23T13:14:05.840Z"
   },
   {
    "duration": 134,
    "start_time": "2023-05-23T13:14:06.393Z"
   },
   {
    "duration": 543,
    "start_time": "2023-05-23T13:14:06.528Z"
   },
   {
    "duration": 130,
    "start_time": "2023-05-23T13:14:07.073Z"
   },
   {
    "duration": 19,
    "start_time": "2023-05-23T13:14:07.205Z"
   },
   {
    "duration": 34,
    "start_time": "2023-05-23T13:14:07.226Z"
   },
   {
    "duration": 20,
    "start_time": "2023-05-23T13:14:07.262Z"
   },
   {
    "duration": 31,
    "start_time": "2023-05-23T13:14:07.283Z"
   },
   {
    "duration": 30,
    "start_time": "2023-05-23T13:14:07.316Z"
   },
   {
    "duration": 34,
    "start_time": "2023-05-23T13:14:07.348Z"
   },
   {
    "duration": 30,
    "start_time": "2023-05-23T13:14:07.386Z"
   },
   {
    "duration": 21,
    "start_time": "2023-05-23T13:14:07.418Z"
   },
   {
    "duration": 29,
    "start_time": "2023-05-23T13:14:07.441Z"
   },
   {
    "duration": 298,
    "start_time": "2023-05-23T13:14:07.472Z"
   },
   {
    "duration": 282,
    "start_time": "2023-05-23T13:14:07.772Z"
   },
   {
    "duration": 494,
    "start_time": "2023-05-23T13:14:08.056Z"
   },
   {
    "duration": 382,
    "start_time": "2023-05-23T13:14:08.551Z"
   },
   {
    "duration": 600,
    "start_time": "2023-05-23T13:14:08.935Z"
   },
   {
    "duration": 699,
    "start_time": "2023-05-23T13:14:09.537Z"
   },
   {
    "duration": 8,
    "start_time": "2023-05-23T13:14:10.237Z"
   },
   {
    "duration": 34,
    "start_time": "2023-05-23T13:14:10.247Z"
   },
   {
    "duration": 150,
    "start_time": "2023-05-23T13:14:10.283Z"
   },
   {
    "duration": 6,
    "start_time": "2023-05-23T13:14:10.435Z"
   },
   {
    "duration": 34,
    "start_time": "2023-05-23T13:14:10.442Z"
   },
   {
    "duration": 95,
    "start_time": "2023-05-23T13:14:10.477Z"
   },
   {
    "duration": 11,
    "start_time": "2023-05-23T13:14:10.573Z"
   },
   {
    "duration": 8,
    "start_time": "2023-05-23T13:14:12.477Z"
   },
   {
    "duration": 9,
    "start_time": "2023-05-23T13:15:01.038Z"
   },
   {
    "duration": 15,
    "start_time": "2023-05-23T13:19:32.120Z"
   },
   {
    "duration": 12,
    "start_time": "2023-05-23T13:19:47.102Z"
   },
   {
    "duration": 24,
    "start_time": "2023-05-23T13:19:57.432Z"
   },
   {
    "duration": 12,
    "start_time": "2023-05-23T13:20:09.659Z"
   },
   {
    "duration": 4238,
    "start_time": "2023-05-23T13:20:52.760Z"
   },
   {
    "duration": 3894,
    "start_time": "2023-05-23T13:21:05.785Z"
   },
   {
    "duration": 21,
    "start_time": "2023-05-23T13:21:19.803Z"
   },
   {
    "duration": 24,
    "start_time": "2023-05-23T13:21:44.133Z"
   },
   {
    "duration": 19,
    "start_time": "2023-05-23T13:21:49.584Z"
   },
   {
    "duration": 3,
    "start_time": "2023-05-23T13:22:08.046Z"
   },
   {
    "duration": 14,
    "start_time": "2023-05-23T13:22:10.836Z"
   },
   {
    "duration": 17,
    "start_time": "2023-05-23T13:22:15.248Z"
   },
   {
    "duration": 10,
    "start_time": "2023-05-23T13:22:38.612Z"
   },
   {
    "duration": 26,
    "start_time": "2023-05-23T13:23:24.235Z"
   },
   {
    "duration": 23,
    "start_time": "2023-05-23T13:23:40.075Z"
   },
   {
    "duration": 22,
    "start_time": "2023-05-23T13:24:21.871Z"
   },
   {
    "duration": 25,
    "start_time": "2023-05-23T13:24:54.138Z"
   },
   {
    "duration": 7,
    "start_time": "2023-05-23T13:24:54.782Z"
   },
   {
    "duration": 24,
    "start_time": "2023-05-23T13:25:56.060Z"
   },
   {
    "duration": 857,
    "start_time": "2023-05-23T13:27:31.841Z"
   },
   {
    "duration": 649,
    "start_time": "2023-05-23T13:28:45.600Z"
   },
   {
    "duration": 14,
    "start_time": "2023-05-23T13:29:44.527Z"
   },
   {
    "duration": 590,
    "start_time": "2023-05-23T13:30:15.149Z"
   },
   {
    "duration": 592,
    "start_time": "2023-05-23T13:31:52.448Z"
   },
   {
    "duration": 765,
    "start_time": "2023-05-23T13:35:00.543Z"
   },
   {
    "duration": 580,
    "start_time": "2023-05-23T13:35:36.074Z"
   },
   {
    "duration": 8,
    "start_time": "2023-05-23T13:36:59.742Z"
   },
   {
    "duration": 16,
    "start_time": "2023-05-23T13:37:02.374Z"
   },
   {
    "duration": 11,
    "start_time": "2023-05-23T13:37:38.585Z"
   },
   {
    "duration": 12,
    "start_time": "2023-05-23T13:38:48.224Z"
   },
   {
    "duration": 13,
    "start_time": "2023-05-23T13:39:26.401Z"
   },
   {
    "duration": 8,
    "start_time": "2023-05-23T13:40:41.717Z"
   },
   {
    "duration": 14,
    "start_time": "2023-05-23T13:40:46.193Z"
   },
   {
    "duration": 9,
    "start_time": "2023-05-23T13:41:08.729Z"
   },
   {
    "duration": 5,
    "start_time": "2023-05-23T13:41:25.560Z"
   },
   {
    "duration": 15,
    "start_time": "2023-05-23T13:42:03.295Z"
   },
   {
    "duration": 10,
    "start_time": "2023-05-23T13:42:28.569Z"
   },
   {
    "duration": 7,
    "start_time": "2023-05-23T13:42:30.483Z"
   },
   {
    "duration": 17,
    "start_time": "2023-05-23T13:42:52.655Z"
   },
   {
    "duration": 9,
    "start_time": "2023-05-23T13:44:38.392Z"
   },
   {
    "duration": 19,
    "start_time": "2023-05-23T13:44:48.638Z"
   },
   {
    "duration": 10,
    "start_time": "2023-05-23T13:44:52.142Z"
   },
   {
    "duration": 9,
    "start_time": "2023-05-23T13:44:54.742Z"
   },
   {
    "duration": 3,
    "start_time": "2023-05-23T13:45:57.119Z"
   },
   {
    "duration": 7,
    "start_time": "2023-05-23T13:46:00.785Z"
   },
   {
    "duration": 8,
    "start_time": "2023-05-23T13:46:14.888Z"
   },
   {
    "duration": 5,
    "start_time": "2023-05-23T13:46:15.838Z"
   },
   {
    "duration": 11,
    "start_time": "2023-05-23T13:46:23.460Z"
   },
   {
    "duration": 5,
    "start_time": "2023-05-23T13:46:29.429Z"
   },
   {
    "duration": 11,
    "start_time": "2023-05-23T13:46:51.291Z"
   },
   {
    "duration": 13,
    "start_time": "2023-05-23T13:46:55.681Z"
   },
   {
    "duration": 5,
    "start_time": "2023-05-23T13:46:59.841Z"
   },
   {
    "duration": 6,
    "start_time": "2023-05-23T13:47:07.272Z"
   },
   {
    "duration": 11,
    "start_time": "2023-05-23T13:47:17.048Z"
   },
   {
    "duration": 9,
    "start_time": "2023-05-23T13:47:25.369Z"
   },
   {
    "duration": 6,
    "start_time": "2023-05-23T13:47:26.644Z"
   },
   {
    "duration": 13,
    "start_time": "2023-05-23T13:48:18.337Z"
   },
   {
    "duration": 4,
    "start_time": "2023-05-23T13:49:22.661Z"
   },
   {
    "duration": 8,
    "start_time": "2023-05-23T13:51:41.680Z"
   },
   {
    "duration": 10,
    "start_time": "2023-05-23T13:51:56.317Z"
   },
   {
    "duration": 4,
    "start_time": "2023-05-23T13:54:11.512Z"
   },
   {
    "duration": 7,
    "start_time": "2023-05-23T13:54:53.440Z"
   },
   {
    "duration": 9,
    "start_time": "2023-05-23T13:55:00.178Z"
   },
   {
    "duration": 5,
    "start_time": "2023-05-23T13:56:37.452Z"
   },
   {
    "duration": 5,
    "start_time": "2023-05-23T13:56:46.529Z"
   },
   {
    "duration": 4,
    "start_time": "2023-05-23T13:57:53.957Z"
   },
   {
    "duration": 7,
    "start_time": "2023-05-23T13:57:57.116Z"
   },
   {
    "duration": 4,
    "start_time": "2023-05-23T13:59:01.993Z"
   },
   {
    "duration": 6,
    "start_time": "2023-05-23T13:59:33.677Z"
   },
   {
    "duration": 10,
    "start_time": "2023-05-23T13:59:47.955Z"
   },
   {
    "duration": 3,
    "start_time": "2023-05-23T14:00:17.524Z"
   },
   {
    "duration": 6,
    "start_time": "2023-05-23T14:01:08.946Z"
   },
   {
    "duration": 4,
    "start_time": "2023-05-23T14:03:05.959Z"
   },
   {
    "duration": 6,
    "start_time": "2023-05-23T14:03:36.924Z"
   },
   {
    "duration": 4,
    "start_time": "2023-05-23T14:03:43.556Z"
   },
   {
    "duration": 9,
    "start_time": "2023-05-23T14:06:41.150Z"
   },
   {
    "duration": 5,
    "start_time": "2023-05-23T14:06:48.823Z"
   },
   {
    "duration": 13,
    "start_time": "2023-05-23T14:06:49.719Z"
   },
   {
    "duration": 3770,
    "start_time": "2023-05-23T14:07:01.994Z"
   },
   {
    "duration": 4316,
    "start_time": "2023-05-23T14:07:12.839Z"
   },
   {
    "duration": 0,
    "start_time": "2023-05-23T14:07:28.579Z"
   },
   {
    "duration": 1301,
    "start_time": "2023-05-23T14:07:46.121Z"
   },
   {
    "duration": 17,
    "start_time": "2023-05-23T14:07:47.425Z"
   },
   {
    "duration": 10,
    "start_time": "2023-05-23T14:07:47.444Z"
   },
   {
    "duration": 11,
    "start_time": "2023-05-23T14:07:47.456Z"
   },
   {
    "duration": 14,
    "start_time": "2023-05-23T14:07:47.469Z"
   },
   {
    "duration": 6,
    "start_time": "2023-05-23T14:07:47.484Z"
   },
   {
    "duration": 41,
    "start_time": "2023-05-23T14:07:47.492Z"
   },
   {
    "duration": 18,
    "start_time": "2023-05-23T14:07:47.535Z"
   },
   {
    "duration": 9,
    "start_time": "2023-05-23T14:07:47.555Z"
   },
   {
    "duration": 5,
    "start_time": "2023-05-23T14:07:47.566Z"
   },
   {
    "duration": 8,
    "start_time": "2023-05-23T14:07:47.573Z"
   },
   {
    "duration": 7,
    "start_time": "2023-05-23T14:07:47.582Z"
   },
   {
    "duration": 36,
    "start_time": "2023-05-23T14:07:47.591Z"
   },
   {
    "duration": 6,
    "start_time": "2023-05-23T14:07:47.632Z"
   },
   {
    "duration": 6,
    "start_time": "2023-05-23T14:07:47.639Z"
   },
   {
    "duration": 6,
    "start_time": "2023-05-23T14:07:47.647Z"
   },
   {
    "duration": 70,
    "start_time": "2023-05-23T14:07:47.655Z"
   },
   {
    "duration": 7,
    "start_time": "2023-05-23T14:07:47.727Z"
   },
   {
    "duration": 249,
    "start_time": "2023-05-23T14:07:47.736Z"
   },
   {
    "duration": 8,
    "start_time": "2023-05-23T14:07:47.987Z"
   },
   {
    "duration": 7,
    "start_time": "2023-05-23T14:07:47.997Z"
   },
   {
    "duration": 21,
    "start_time": "2023-05-23T14:07:48.006Z"
   },
   {
    "duration": 7,
    "start_time": "2023-05-23T14:07:48.029Z"
   },
   {
    "duration": 674,
    "start_time": "2023-05-23T14:07:48.038Z"
   },
   {
    "duration": 8,
    "start_time": "2023-05-23T14:07:48.713Z"
   },
   {
    "duration": 20,
    "start_time": "2023-05-23T14:07:48.723Z"
   },
   {
    "duration": 7,
    "start_time": "2023-05-23T14:07:48.746Z"
   },
   {
    "duration": 184,
    "start_time": "2023-05-23T14:07:48.755Z"
   },
   {
    "duration": 99,
    "start_time": "2023-05-23T14:07:48.940Z"
   },
   {
    "duration": 359,
    "start_time": "2023-05-23T14:07:49.041Z"
   },
   {
    "duration": 488,
    "start_time": "2023-05-23T14:07:49.402Z"
   },
   {
    "duration": 140,
    "start_time": "2023-05-23T14:07:49.891Z"
   },
   {
    "duration": 512,
    "start_time": "2023-05-23T14:07:50.033Z"
   },
   {
    "duration": 133,
    "start_time": "2023-05-23T14:07:50.547Z"
   },
   {
    "duration": 9,
    "start_time": "2023-05-23T14:07:50.682Z"
   },
   {
    "duration": 10,
    "start_time": "2023-05-23T14:07:50.693Z"
   },
   {
    "duration": 25,
    "start_time": "2023-05-23T14:07:50.718Z"
   },
   {
    "duration": 18,
    "start_time": "2023-05-23T14:07:50.745Z"
   },
   {
    "duration": 14,
    "start_time": "2023-05-23T14:07:50.764Z"
   },
   {
    "duration": 39,
    "start_time": "2023-05-23T14:07:50.779Z"
   },
   {
    "duration": 13,
    "start_time": "2023-05-23T14:07:50.828Z"
   },
   {
    "duration": 13,
    "start_time": "2023-05-23T14:07:50.842Z"
   },
   {
    "duration": 43,
    "start_time": "2023-05-23T14:07:50.857Z"
   },
   {
    "duration": 285,
    "start_time": "2023-05-23T14:07:50.902Z"
   },
   {
    "duration": 265,
    "start_time": "2023-05-23T14:07:51.188Z"
   },
   {
    "duration": 516,
    "start_time": "2023-05-23T14:07:51.455Z"
   },
   {
    "duration": 498,
    "start_time": "2023-05-23T14:07:51.972Z"
   },
   {
    "duration": 566,
    "start_time": "2023-05-23T14:07:52.472Z"
   },
   {
    "duration": 665,
    "start_time": "2023-05-23T14:07:53.040Z"
   },
   {
    "duration": 14,
    "start_time": "2023-05-23T14:07:53.706Z"
   },
   {
    "duration": 14,
    "start_time": "2023-05-23T14:07:53.722Z"
   },
   {
    "duration": 143,
    "start_time": "2023-05-23T14:07:53.738Z"
   },
   {
    "duration": 6,
    "start_time": "2023-05-23T14:07:53.883Z"
   },
   {
    "duration": 11,
    "start_time": "2023-05-23T14:07:53.890Z"
   },
   {
    "duration": 39,
    "start_time": "2023-05-23T14:07:53.902Z"
   },
   {
    "duration": 5,
    "start_time": "2023-05-23T14:07:53.943Z"
   },
   {
    "duration": 3,
    "start_time": "2023-05-23T14:07:56.459Z"
   },
   {
    "duration": 3033,
    "start_time": "2023-05-23T14:07:56.963Z"
   },
   {
    "duration": 6,
    "start_time": "2023-05-23T14:08:05.794Z"
   },
   {
    "duration": 4,
    "start_time": "2023-05-23T14:08:13.110Z"
   },
   {
    "duration": 4,
    "start_time": "2023-05-23T14:08:19.152Z"
   },
   {
    "duration": 5,
    "start_time": "2023-05-23T14:08:23.441Z"
   },
   {
    "duration": 11,
    "start_time": "2023-05-23T14:08:44.410Z"
   },
   {
    "duration": 29,
    "start_time": "2023-05-23T14:08:59.347Z"
   },
   {
    "duration": 13,
    "start_time": "2023-05-23T14:09:12.069Z"
   },
   {
    "duration": 16,
    "start_time": "2023-05-23T14:10:13.821Z"
   },
   {
    "duration": 13,
    "start_time": "2023-05-23T14:10:14.594Z"
   },
   {
    "duration": 11,
    "start_time": "2023-05-23T14:10:15.137Z"
   },
   {
    "duration": 280,
    "start_time": "2023-05-23T14:10:19.240Z"
   },
   {
    "duration": 334,
    "start_time": "2023-05-23T14:10:19.541Z"
   },
   {
    "duration": 466,
    "start_time": "2023-05-23T14:10:19.877Z"
   },
   {
    "duration": 411,
    "start_time": "2023-05-23T14:10:20.345Z"
   },
   {
    "duration": 607,
    "start_time": "2023-05-23T14:10:21.160Z"
   },
   {
    "duration": 689,
    "start_time": "2023-05-23T14:10:21.769Z"
   },
   {
    "duration": 7,
    "start_time": "2023-05-23T14:10:22.460Z"
   },
   {
    "duration": 12,
    "start_time": "2023-05-23T14:10:22.469Z"
   },
   {
    "duration": 129,
    "start_time": "2023-05-23T14:10:22.741Z"
   },
   {
    "duration": 7,
    "start_time": "2023-05-23T14:10:23.046Z"
   },
   {
    "duration": 8,
    "start_time": "2023-05-23T14:10:23.238Z"
   },
   {
    "duration": 29,
    "start_time": "2023-05-23T14:10:24.803Z"
   },
   {
    "duration": 4,
    "start_time": "2023-05-23T14:10:26.445Z"
   },
   {
    "duration": 13,
    "start_time": "2023-05-23T14:10:26.600Z"
   },
   {
    "duration": 30,
    "start_time": "2023-05-23T14:10:26.941Z"
   },
   {
    "duration": 5,
    "start_time": "2023-05-23T14:10:27.096Z"
   },
   {
    "duration": 7,
    "start_time": "2023-05-23T14:10:27.941Z"
   },
   {
    "duration": 13,
    "start_time": "2023-05-23T14:10:28.794Z"
   },
   {
    "duration": 7,
    "start_time": "2023-05-23T14:10:29.100Z"
   },
   {
    "duration": 8,
    "start_time": "2023-05-23T14:10:29.256Z"
   },
   {
    "duration": 7,
    "start_time": "2023-05-23T14:10:58.804Z"
   },
   {
    "duration": 9697,
    "start_time": "2023-05-23T14:11:14.187Z"
   },
   {
    "duration": 10133,
    "start_time": "2023-05-23T14:11:25.756Z"
   },
   {
    "duration": 9682,
    "start_time": "2023-05-23T14:12:00.658Z"
   },
   {
    "duration": 33,
    "start_time": "2023-05-23T14:13:58.007Z"
   },
   {
    "duration": 6,
    "start_time": "2023-05-23T14:14:21.487Z"
   },
   {
    "duration": 6,
    "start_time": "2023-05-23T14:14:24.857Z"
   },
   {
    "duration": 5,
    "start_time": "2023-05-23T14:14:27.984Z"
   },
   {
    "duration": 4,
    "start_time": "2023-05-23T14:18:20.732Z"
   },
   {
    "duration": 6,
    "start_time": "2023-05-23T14:18:25.391Z"
   },
   {
    "duration": 7,
    "start_time": "2023-05-23T14:18:30.089Z"
   },
   {
    "duration": 11,
    "start_time": "2023-05-23T14:18:43.595Z"
   },
   {
    "duration": 10,
    "start_time": "2023-05-23T14:18:47.366Z"
   },
   {
    "duration": 14,
    "start_time": "2023-05-23T14:19:02.558Z"
   },
   {
    "duration": 11,
    "start_time": "2023-05-23T14:19:23.235Z"
   },
   {
    "duration": 32,
    "start_time": "2023-05-23T14:20:47.407Z"
   },
   {
    "duration": 15,
    "start_time": "2023-05-23T14:21:31.167Z"
   },
   {
    "duration": 10,
    "start_time": "2023-05-23T14:21:37.585Z"
   },
   {
    "duration": 10,
    "start_time": "2023-05-23T14:21:42.372Z"
   },
   {
    "duration": 10,
    "start_time": "2023-05-23T14:21:44.078Z"
   },
   {
    "duration": 16,
    "start_time": "2023-05-23T14:22:03.007Z"
   },
   {
    "duration": 19,
    "start_time": "2023-05-23T14:22:04.467Z"
   },
   {
    "duration": 14,
    "start_time": "2023-05-23T14:22:05.767Z"
   },
   {
    "duration": 15,
    "start_time": "2023-05-23T14:22:07.660Z"
   },
   {
    "duration": 22,
    "start_time": "2023-05-23T14:22:14.147Z"
   },
   {
    "duration": 20,
    "start_time": "2023-05-23T14:22:15.772Z"
   },
   {
    "duration": 22,
    "start_time": "2023-05-23T14:22:16.899Z"
   },
   {
    "duration": 29,
    "start_time": "2023-05-23T14:22:18.005Z"
   },
   {
    "duration": 21,
    "start_time": "2023-05-23T14:22:19.375Z"
   },
   {
    "duration": 10,
    "start_time": "2023-05-23T14:22:47.379Z"
   },
   {
    "duration": 6,
    "start_time": "2023-05-23T14:23:40.388Z"
   },
   {
    "duration": 9,
    "start_time": "2023-05-23T14:23:52.338Z"
   },
   {
    "duration": 11,
    "start_time": "2023-05-23T14:23:54.930Z"
   },
   {
    "duration": 21,
    "start_time": "2023-05-23T14:23:58.206Z"
   },
   {
    "duration": 8,
    "start_time": "2023-05-23T14:24:02.803Z"
   },
   {
    "duration": 10,
    "start_time": "2023-05-23T14:24:28.050Z"
   },
   {
    "duration": 8,
    "start_time": "2023-05-23T14:24:42.694Z"
   },
   {
    "duration": 9,
    "start_time": "2023-05-23T14:25:02.200Z"
   },
   {
    "duration": 5,
    "start_time": "2023-05-23T14:25:04.785Z"
   },
   {
    "duration": 10,
    "start_time": "2023-05-23T14:25:09.504Z"
   },
   {
    "duration": 9,
    "start_time": "2023-05-23T14:25:10.247Z"
   },
   {
    "duration": 6,
    "start_time": "2023-05-23T14:25:11.443Z"
   },
   {
    "duration": 11,
    "start_time": "2023-05-23T14:25:14.322Z"
   },
   {
    "duration": 9,
    "start_time": "2023-05-23T14:25:14.978Z"
   },
   {
    "duration": 5,
    "start_time": "2023-05-23T14:25:15.961Z"
   },
   {
    "duration": 10,
    "start_time": "2023-05-23T14:25:24.177Z"
   },
   {
    "duration": 13,
    "start_time": "2023-05-23T14:25:24.919Z"
   },
   {
    "duration": 4,
    "start_time": "2023-05-23T14:25:25.997Z"
   },
   {
    "duration": 166,
    "start_time": "2023-05-23T14:25:37.094Z"
   },
   {
    "duration": 15,
    "start_time": "2023-05-23T14:25:38.424Z"
   },
   {
    "duration": 5,
    "start_time": "2023-05-23T14:25:40.267Z"
   },
   {
    "duration": 160,
    "start_time": "2023-05-23T14:25:43.109Z"
   },
   {
    "duration": 10,
    "start_time": "2023-05-23T14:25:43.666Z"
   },
   {
    "duration": 4,
    "start_time": "2023-05-23T14:25:44.399Z"
   },
   {
    "duration": 154,
    "start_time": "2023-05-23T14:25:46.361Z"
   },
   {
    "duration": 10,
    "start_time": "2023-05-23T14:25:46.859Z"
   },
   {
    "duration": 6,
    "start_time": "2023-05-23T14:25:47.342Z"
   },
   {
    "duration": 152,
    "start_time": "2023-05-23T14:25:49.774Z"
   },
   {
    "duration": 10,
    "start_time": "2023-05-23T14:25:50.166Z"
   },
   {
    "duration": 7,
    "start_time": "2023-05-23T14:25:50.640Z"
   },
   {
    "duration": 4,
    "start_time": "2023-05-23T14:26:03.757Z"
   },
   {
    "duration": 9,
    "start_time": "2023-05-23T14:26:04.642Z"
   },
   {
    "duration": 4,
    "start_time": "2023-05-23T14:26:05.592Z"
   },
   {
    "duration": 4,
    "start_time": "2023-05-23T14:26:08.458Z"
   },
   {
    "duration": 8,
    "start_time": "2023-05-23T14:26:08.999Z"
   },
   {
    "duration": 5,
    "start_time": "2023-05-23T14:26:09.649Z"
   },
   {
    "duration": 4,
    "start_time": "2023-05-23T14:26:11.768Z"
   },
   {
    "duration": 8,
    "start_time": "2023-05-23T14:26:12.293Z"
   },
   {
    "duration": 5,
    "start_time": "2023-05-23T14:26:12.785Z"
   },
   {
    "duration": 4,
    "start_time": "2023-05-23T14:26:15.583Z"
   },
   {
    "duration": 8,
    "start_time": "2023-05-23T14:26:16.087Z"
   },
   {
    "duration": 4,
    "start_time": "2023-05-23T14:26:17.160Z"
   },
   {
    "duration": 6,
    "start_time": "2023-05-23T14:26:19.040Z"
   },
   {
    "duration": 9,
    "start_time": "2023-05-23T14:26:19.521Z"
   },
   {
    "duration": 5,
    "start_time": "2023-05-23T14:26:20.279Z"
   },
   {
    "duration": 6,
    "start_time": "2023-05-23T14:26:22.926Z"
   },
   {
    "duration": 8,
    "start_time": "2023-05-23T14:26:23.488Z"
   },
   {
    "duration": 5,
    "start_time": "2023-05-23T14:26:24.070Z"
   },
   {
    "duration": 4,
    "start_time": "2023-05-23T14:27:04.687Z"
   },
   {
    "duration": 4,
    "start_time": "2023-05-23T14:27:05.995Z"
   },
   {
    "duration": 8,
    "start_time": "2023-05-23T14:27:06.984Z"
   },
   {
    "duration": 5,
    "start_time": "2023-05-23T14:30:24.424Z"
   },
   {
    "duration": 16,
    "start_time": "2023-05-23T14:33:57.365Z"
   },
   {
    "duration": 6,
    "start_time": "2023-05-23T14:34:09.921Z"
   },
   {
    "duration": 5,
    "start_time": "2023-05-23T14:34:42.773Z"
   },
   {
    "duration": 6,
    "start_time": "2023-05-23T14:34:56.478Z"
   },
   {
    "duration": 3,
    "start_time": "2023-05-23T14:34:59.419Z"
   },
   {
    "duration": 12,
    "start_time": "2023-05-23T14:35:01.670Z"
   },
   {
    "duration": 6,
    "start_time": "2023-05-23T14:35:11.299Z"
   },
   {
    "duration": 4,
    "start_time": "2023-05-23T14:35:15.157Z"
   },
   {
    "duration": 143,
    "start_time": "2023-05-23T14:35:16.132Z"
   },
   {
    "duration": 9,
    "start_time": "2023-05-23T14:35:18.263Z"
   },
   {
    "duration": 5,
    "start_time": "2023-05-23T14:35:31.357Z"
   },
   {
    "duration": 7,
    "start_time": "2023-05-23T14:37:18.544Z"
   },
   {
    "duration": 6,
    "start_time": "2023-05-23T14:37:21.467Z"
   },
   {
    "duration": 5,
    "start_time": "2023-05-23T14:37:26.365Z"
   },
   {
    "duration": 233,
    "start_time": "2023-05-23T14:37:27.267Z"
   },
   {
    "duration": 5,
    "start_time": "2023-05-23T14:37:28.865Z"
   },
   {
    "duration": 6,
    "start_time": "2023-05-23T14:37:33.272Z"
   },
   {
    "duration": 5,
    "start_time": "2023-05-23T14:37:33.746Z"
   },
   {
    "duration": 6,
    "start_time": "2023-05-23T14:37:36.065Z"
   },
   {
    "duration": 6,
    "start_time": "2023-05-23T14:37:36.471Z"
   },
   {
    "duration": 5,
    "start_time": "2023-05-23T14:37:38.241Z"
   },
   {
    "duration": 5,
    "start_time": "2023-05-23T14:37:38.966Z"
   },
   {
    "duration": 4,
    "start_time": "2023-05-23T14:37:41.385Z"
   },
   {
    "duration": 235,
    "start_time": "2023-05-23T14:37:42.277Z"
   },
   {
    "duration": 5,
    "start_time": "2023-05-23T14:37:43.420Z"
   },
   {
    "duration": 4,
    "start_time": "2023-05-23T14:39:46.746Z"
   },
   {
    "duration": 231,
    "start_time": "2023-05-23T14:39:47.840Z"
   },
   {
    "duration": 5,
    "start_time": "2023-05-23T14:39:49.203Z"
   },
   {
    "duration": 4,
    "start_time": "2023-05-23T14:39:55.294Z"
   },
   {
    "duration": 239,
    "start_time": "2023-05-23T14:39:56.174Z"
   },
   {
    "duration": 5,
    "start_time": "2023-05-23T14:39:58.831Z"
   },
   {
    "duration": 1330,
    "start_time": "2023-05-23T14:40:10.006Z"
   },
   {
    "duration": 11,
    "start_time": "2023-05-23T14:40:11.338Z"
   },
   {
    "duration": 21,
    "start_time": "2023-05-23T14:40:11.351Z"
   },
   {
    "duration": 8,
    "start_time": "2023-05-23T14:40:11.374Z"
   },
   {
    "duration": 23,
    "start_time": "2023-05-23T14:40:11.383Z"
   },
   {
    "duration": 7,
    "start_time": "2023-05-23T14:40:11.408Z"
   },
   {
    "duration": 18,
    "start_time": "2023-05-23T14:40:11.416Z"
   },
   {
    "duration": 22,
    "start_time": "2023-05-23T14:40:11.435Z"
   },
   {
    "duration": 10,
    "start_time": "2023-05-23T14:40:11.459Z"
   },
   {
    "duration": 12,
    "start_time": "2023-05-23T14:40:11.471Z"
   },
   {
    "duration": 12,
    "start_time": "2023-05-23T14:40:11.485Z"
   },
   {
    "duration": 12,
    "start_time": "2023-05-23T14:40:11.499Z"
   },
   {
    "duration": 14,
    "start_time": "2023-05-23T14:40:11.513Z"
   },
   {
    "duration": 7,
    "start_time": "2023-05-23T14:40:11.529Z"
   },
   {
    "duration": 11,
    "start_time": "2023-05-23T14:40:11.537Z"
   },
   {
    "duration": 16,
    "start_time": "2023-05-23T14:40:11.549Z"
   },
   {
    "duration": 41,
    "start_time": "2023-05-23T14:40:11.567Z"
   },
   {
    "duration": 13,
    "start_time": "2023-05-23T14:40:11.610Z"
   },
   {
    "duration": 233,
    "start_time": "2023-05-23T14:40:11.626Z"
   },
   {
    "duration": 10,
    "start_time": "2023-05-23T14:40:11.860Z"
   },
   {
    "duration": 8,
    "start_time": "2023-05-23T14:40:11.872Z"
   },
   {
    "duration": 16,
    "start_time": "2023-05-23T14:40:11.881Z"
   },
   {
    "duration": 19,
    "start_time": "2023-05-23T14:40:11.898Z"
   },
   {
    "duration": 575,
    "start_time": "2023-05-23T14:40:11.919Z"
   },
   {
    "duration": 6,
    "start_time": "2023-05-23T14:40:12.495Z"
   },
   {
    "duration": 16,
    "start_time": "2023-05-23T14:40:12.502Z"
   },
   {
    "duration": 5,
    "start_time": "2023-05-23T14:40:12.519Z"
   },
   {
    "duration": 157,
    "start_time": "2023-05-23T14:40:12.527Z"
   },
   {
    "duration": 86,
    "start_time": "2023-05-23T14:40:12.685Z"
   },
   {
    "duration": 324,
    "start_time": "2023-05-23T14:40:12.772Z"
   },
   {
    "duration": 462,
    "start_time": "2023-05-23T14:40:13.098Z"
   },
   {
    "duration": 125,
    "start_time": "2023-05-23T14:40:13.562Z"
   },
   {
    "duration": 547,
    "start_time": "2023-05-23T14:40:13.689Z"
   },
   {
    "duration": 130,
    "start_time": "2023-05-23T14:40:14.238Z"
   },
   {
    "duration": 9,
    "start_time": "2023-05-23T14:40:14.370Z"
   },
   {
    "duration": 10,
    "start_time": "2023-05-23T14:40:14.381Z"
   },
   {
    "duration": 30,
    "start_time": "2023-05-23T14:40:14.392Z"
   },
   {
    "duration": 8,
    "start_time": "2023-05-23T14:40:14.424Z"
   },
   {
    "duration": 11,
    "start_time": "2023-05-23T14:40:14.434Z"
   },
   {
    "duration": 16,
    "start_time": "2023-05-23T14:40:14.446Z"
   },
   {
    "duration": 13,
    "start_time": "2023-05-23T14:40:14.464Z"
   },
   {
    "duration": 39,
    "start_time": "2023-05-23T14:40:14.479Z"
   },
   {
    "duration": 19,
    "start_time": "2023-05-23T14:40:14.520Z"
   },
   {
    "duration": 341,
    "start_time": "2023-05-23T14:40:14.541Z"
   },
   {
    "duration": 262,
    "start_time": "2023-05-23T14:40:14.884Z"
   },
   {
    "duration": 441,
    "start_time": "2023-05-23T14:40:15.147Z"
   },
   {
    "duration": 440,
    "start_time": "2023-05-23T14:40:15.590Z"
   },
   {
    "duration": 611,
    "start_time": "2023-05-23T14:40:16.032Z"
   },
   {
    "duration": 675,
    "start_time": "2023-05-23T14:40:16.644Z"
   },
   {
    "duration": 8,
    "start_time": "2023-05-23T14:40:17.320Z"
   },
   {
    "duration": 34,
    "start_time": "2023-05-23T14:40:17.329Z"
   },
   {
    "duration": 133,
    "start_time": "2023-05-23T14:40:17.364Z"
   },
   {
    "duration": 6,
    "start_time": "2023-05-23T14:40:17.499Z"
   },
   {
    "duration": 27,
    "start_time": "2023-05-23T14:40:17.507Z"
   },
   {
    "duration": 33,
    "start_time": "2023-05-23T14:40:17.536Z"
   },
   {
    "duration": 10,
    "start_time": "2023-05-23T14:40:17.571Z"
   },
   {
    "duration": 252,
    "start_time": "2023-05-23T14:40:17.583Z"
   },
   {
    "duration": 4,
    "start_time": "2023-05-23T14:40:17.837Z"
   },
   {
    "duration": 80,
    "start_time": "2023-05-23T14:40:17.843Z"
   },
   {
    "duration": 24,
    "start_time": "2023-05-23T14:40:17.924Z"
   },
   {
    "duration": 31,
    "start_time": "2023-05-23T14:40:17.949Z"
   },
   {
    "duration": 28,
    "start_time": "2023-05-23T14:40:17.981Z"
   },
   {
    "duration": 878,
    "start_time": "2023-05-23T14:40:18.011Z"
   },
   {
    "duration": 4,
    "start_time": "2023-05-23T14:40:18.891Z"
   },
   {
    "duration": 117,
    "start_time": "2023-05-23T14:43:46.372Z"
   },
   {
    "duration": 249,
    "start_time": "2023-05-23T14:44:47.936Z"
   },
   {
    "duration": 232,
    "start_time": "2023-05-23T14:45:13.158Z"
   },
   {
    "duration": 239,
    "start_time": "2023-05-23T14:45:16.047Z"
   },
   {
    "duration": 5,
    "start_time": "2023-05-23T14:45:16.691Z"
   },
   {
    "duration": 231,
    "start_time": "2023-05-23T14:46:00.971Z"
   },
   {
    "duration": 260,
    "start_time": "2023-05-23T14:46:19.510Z"
   },
   {
    "duration": 237,
    "start_time": "2023-05-23T14:47:52.777Z"
   },
   {
    "duration": 5,
    "start_time": "2023-05-23T14:47:56.334Z"
   },
   {
    "duration": 230,
    "start_time": "2023-05-23T14:47:58.633Z"
   },
   {
    "duration": 5,
    "start_time": "2023-05-23T14:47:59.478Z"
   },
   {
    "duration": 237,
    "start_time": "2023-05-23T14:48:00.964Z"
   },
   {
    "duration": 5,
    "start_time": "2023-05-23T14:48:01.907Z"
   },
   {
    "duration": 4,
    "start_time": "2023-05-23T14:48:08.791Z"
   },
   {
    "duration": 234,
    "start_time": "2023-05-23T14:48:09.558Z"
   },
   {
    "duration": 5,
    "start_time": "2023-05-23T14:48:11.036Z"
   },
   {
    "duration": 4,
    "start_time": "2023-05-23T14:48:42.237Z"
   },
   {
    "duration": 238,
    "start_time": "2023-05-23T14:48:43.127Z"
   },
   {
    "duration": 5,
    "start_time": "2023-05-23T14:48:44.433Z"
   },
   {
    "duration": 4,
    "start_time": "2023-05-23T14:48:47.491Z"
   },
   {
    "duration": 233,
    "start_time": "2023-05-23T14:48:48.169Z"
   },
   {
    "duration": 5,
    "start_time": "2023-05-23T14:48:49.634Z"
   },
   {
    "duration": 1245,
    "start_time": "2023-05-23T14:49:34.170Z"
   },
   {
    "duration": 10,
    "start_time": "2023-05-23T14:49:35.417Z"
   },
   {
    "duration": 10,
    "start_time": "2023-05-23T14:49:35.429Z"
   },
   {
    "duration": 10,
    "start_time": "2023-05-23T14:49:35.441Z"
   },
   {
    "duration": 16,
    "start_time": "2023-05-23T14:49:35.452Z"
   },
   {
    "duration": 18,
    "start_time": "2023-05-23T14:49:35.470Z"
   },
   {
    "duration": 12,
    "start_time": "2023-05-23T14:49:35.489Z"
   },
   {
    "duration": 21,
    "start_time": "2023-05-23T14:49:35.503Z"
   },
   {
    "duration": 16,
    "start_time": "2023-05-23T14:49:35.526Z"
   },
   {
    "duration": 7,
    "start_time": "2023-05-23T14:49:35.545Z"
   },
   {
    "duration": 9,
    "start_time": "2023-05-23T14:49:35.553Z"
   },
   {
    "duration": 7,
    "start_time": "2023-05-23T14:49:35.563Z"
   },
   {
    "duration": 13,
    "start_time": "2023-05-23T14:49:35.571Z"
   },
   {
    "duration": 20,
    "start_time": "2023-05-23T14:49:35.585Z"
   },
   {
    "duration": 10,
    "start_time": "2023-05-23T14:49:35.607Z"
   },
   {
    "duration": 8,
    "start_time": "2023-05-23T14:49:35.618Z"
   },
   {
    "duration": 47,
    "start_time": "2023-05-23T14:49:35.627Z"
   },
   {
    "duration": 4,
    "start_time": "2023-05-23T14:49:35.675Z"
   },
   {
    "duration": 214,
    "start_time": "2023-05-23T14:49:35.680Z"
   },
   {
    "duration": 8,
    "start_time": "2023-05-23T14:49:35.896Z"
   },
   {
    "duration": 13,
    "start_time": "2023-05-23T14:49:35.905Z"
   },
   {
    "duration": 7,
    "start_time": "2023-05-23T14:49:35.919Z"
   },
   {
    "duration": 3,
    "start_time": "2023-05-23T14:49:35.928Z"
   },
   {
    "duration": 581,
    "start_time": "2023-05-23T14:49:35.932Z"
   },
   {
    "duration": 7,
    "start_time": "2023-05-23T14:49:36.514Z"
   },
   {
    "duration": 11,
    "start_time": "2023-05-23T14:49:36.522Z"
   },
   {
    "duration": 6,
    "start_time": "2023-05-23T14:49:36.535Z"
   },
   {
    "duration": 160,
    "start_time": "2023-05-23T14:49:36.545Z"
   },
   {
    "duration": 87,
    "start_time": "2023-05-23T14:49:36.707Z"
   },
   {
    "duration": 324,
    "start_time": "2023-05-23T14:49:36.795Z"
   },
   {
    "duration": 436,
    "start_time": "2023-05-23T14:49:37.120Z"
   },
   {
    "duration": 124,
    "start_time": "2023-05-23T14:49:37.558Z"
   },
   {
    "duration": 555,
    "start_time": "2023-05-23T14:49:37.684Z"
   },
   {
    "duration": 121,
    "start_time": "2023-05-23T14:49:38.241Z"
   },
   {
    "duration": 8,
    "start_time": "2023-05-23T14:49:38.364Z"
   },
   {
    "duration": 10,
    "start_time": "2023-05-23T14:49:38.373Z"
   },
   {
    "duration": 17,
    "start_time": "2023-05-23T14:49:38.384Z"
   },
   {
    "duration": 11,
    "start_time": "2023-05-23T14:49:38.417Z"
   },
   {
    "duration": 18,
    "start_time": "2023-05-23T14:49:38.429Z"
   },
   {
    "duration": 26,
    "start_time": "2023-05-23T14:49:38.448Z"
   },
   {
    "duration": 12,
    "start_time": "2023-05-23T14:49:38.475Z"
   },
   {
    "duration": 10,
    "start_time": "2023-05-23T14:49:38.489Z"
   },
   {
    "duration": 21,
    "start_time": "2023-05-23T14:49:38.500Z"
   },
   {
    "duration": 260,
    "start_time": "2023-05-23T14:49:38.523Z"
   },
   {
    "duration": 249,
    "start_time": "2023-05-23T14:49:38.784Z"
   },
   {
    "duration": 405,
    "start_time": "2023-05-23T14:49:39.035Z"
   },
   {
    "duration": 487,
    "start_time": "2023-05-23T14:49:39.442Z"
   },
   {
    "duration": 601,
    "start_time": "2023-05-23T14:49:39.931Z"
   },
   {
    "duration": 671,
    "start_time": "2023-05-23T14:49:40.534Z"
   },
   {
    "duration": 16,
    "start_time": "2023-05-23T14:49:41.207Z"
   },
   {
    "duration": 15,
    "start_time": "2023-05-23T14:49:41.225Z"
   },
   {
    "duration": 138,
    "start_time": "2023-05-23T14:49:41.241Z"
   },
   {
    "duration": 6,
    "start_time": "2023-05-23T14:49:41.381Z"
   },
   {
    "duration": 9,
    "start_time": "2023-05-23T14:49:41.389Z"
   },
   {
    "duration": 34,
    "start_time": "2023-05-23T14:49:41.399Z"
   },
   {
    "duration": 4,
    "start_time": "2023-05-23T14:49:41.434Z"
   },
   {
    "duration": 246,
    "start_time": "2023-05-23T14:49:41.439Z"
   },
   {
    "duration": 4,
    "start_time": "2023-05-23T14:49:41.687Z"
   },
   {
    "duration": 9,
    "start_time": "2023-05-23T14:49:41.692Z"
   },
   {
    "duration": 25,
    "start_time": "2023-05-23T14:49:41.702Z"
   },
   {
    "duration": 6,
    "start_time": "2023-05-23T14:49:41.729Z"
   },
   {
    "duration": 6,
    "start_time": "2023-05-23T14:49:41.737Z"
   },
   {
    "duration": 814,
    "start_time": "2023-05-23T14:49:41.744Z"
   },
   {
    "duration": 5,
    "start_time": "2023-05-23T14:49:42.559Z"
   },
   {
    "duration": 233,
    "start_time": "2023-05-23T14:50:11.982Z"
   },
   {
    "duration": 5,
    "start_time": "2023-05-23T14:50:15.697Z"
   },
   {
    "duration": 113,
    "start_time": "2023-05-23T14:51:33.237Z"
   },
   {
    "duration": 19,
    "start_time": "2023-05-23T14:51:35.747Z"
   },
   {
    "duration": 19,
    "start_time": "2023-05-23T14:51:39.449Z"
   },
   {
    "duration": 233,
    "start_time": "2023-05-23T14:51:58.236Z"
   },
   {
    "duration": 273,
    "start_time": "2023-05-23T14:52:00.707Z"
   },
   {
    "duration": 6,
    "start_time": "2023-05-23T14:52:03.269Z"
   },
   {
    "duration": 241,
    "start_time": "2023-05-23T14:52:04.768Z"
   },
   {
    "duration": 9,
    "start_time": "2023-05-23T14:52:05.011Z"
   },
   {
    "duration": 237,
    "start_time": "2023-05-23T14:52:07.782Z"
   },
   {
    "duration": 5,
    "start_time": "2023-05-23T14:52:08.387Z"
   },
   {
    "duration": 266,
    "start_time": "2023-05-23T14:52:09.933Z"
   },
   {
    "duration": 5,
    "start_time": "2023-05-23T14:52:10.668Z"
   },
   {
    "duration": 227,
    "start_time": "2023-05-23T14:52:12.635Z"
   },
   {
    "duration": 5,
    "start_time": "2023-05-23T14:52:13.032Z"
   },
   {
    "duration": 6,
    "start_time": "2023-05-23T14:53:11.453Z"
   },
   {
    "duration": 227,
    "start_time": "2023-05-23T14:53:13.776Z"
   },
   {
    "duration": 5,
    "start_time": "2023-05-23T14:53:14.759Z"
   },
   {
    "duration": 236,
    "start_time": "2023-05-23T14:53:55.320Z"
   },
   {
    "duration": 5,
    "start_time": "2023-05-23T14:53:56.681Z"
   },
   {
    "duration": 13,
    "start_time": "2023-05-23T14:57:52.281Z"
   },
   {
    "duration": 12,
    "start_time": "2023-05-23T14:59:50.236Z"
   },
   {
    "duration": 9,
    "start_time": "2023-05-23T14:59:55.677Z"
   },
   {
    "duration": 10,
    "start_time": "2023-05-23T14:59:59.701Z"
   },
   {
    "duration": 18,
    "start_time": "2023-05-23T15:00:08.705Z"
   },
   {
    "duration": 5,
    "start_time": "2023-05-23T15:00:12.879Z"
   },
   {
    "duration": 8,
    "start_time": "2023-05-23T15:00:40.087Z"
   },
   {
    "duration": 8,
    "start_time": "2023-05-23T15:00:44.149Z"
   },
   {
    "duration": 1439,
    "start_time": "2023-05-23T15:00:48.738Z"
   },
   {
    "duration": 987,
    "start_time": "2023-05-23T15:00:57.808Z"
   },
   {
    "duration": 4,
    "start_time": "2023-05-23T15:01:06.197Z"
   },
   {
    "duration": 3,
    "start_time": "2023-05-23T15:01:31.214Z"
   },
   {
    "duration": 10,
    "start_time": "2023-05-23T15:02:08.057Z"
   },
   {
    "duration": 4,
    "start_time": "2023-05-23T15:02:22.433Z"
   },
   {
    "duration": 10,
    "start_time": "2023-05-23T15:02:35.533Z"
   },
   {
    "duration": 7,
    "start_time": "2023-05-23T15:02:45.433Z"
   },
   {
    "duration": 1262,
    "start_time": "2023-05-23T15:02:52.433Z"
   },
   {
    "duration": 1295,
    "start_time": "2023-05-23T15:03:00.636Z"
   },
   {
    "duration": 8,
    "start_time": "2023-05-23T15:03:05.563Z"
   },
   {
    "duration": 11,
    "start_time": "2023-05-23T15:03:08.982Z"
   },
   {
    "duration": 65,
    "start_time": "2023-05-23T15:03:18.853Z"
   },
   {
    "duration": 7,
    "start_time": "2023-05-23T15:03:21.488Z"
   },
   {
    "duration": 8,
    "start_time": "2023-05-23T15:03:53.985Z"
   },
   {
    "duration": 5,
    "start_time": "2023-05-23T15:04:00.643Z"
   },
   {
    "duration": 4,
    "start_time": "2023-05-23T15:04:20.031Z"
   },
   {
    "duration": 7,
    "start_time": "2023-05-23T15:04:23.634Z"
   },
   {
    "duration": 4,
    "start_time": "2023-05-23T15:04:29.761Z"
   },
   {
    "duration": 1099,
    "start_time": "2023-05-23T15:04:46.071Z"
   },
   {
    "duration": 5,
    "start_time": "2023-05-23T15:05:02.505Z"
   },
   {
    "duration": 4,
    "start_time": "2023-05-23T15:05:17.568Z"
   },
   {
    "duration": 6,
    "start_time": "2023-05-23T15:05:25.580Z"
   },
   {
    "duration": 7,
    "start_time": "2023-05-23T15:05:34.977Z"
   },
   {
    "duration": 8,
    "start_time": "2023-05-23T15:05:41.132Z"
   },
   {
    "duration": 8,
    "start_time": "2023-05-23T15:05:45.874Z"
   },
   {
    "duration": 96,
    "start_time": "2023-05-23T15:05:50.873Z"
   },
   {
    "duration": 4,
    "start_time": "2023-05-23T15:05:55.235Z"
   },
   {
    "duration": 10,
    "start_time": "2023-05-23T15:06:01.432Z"
   },
   {
    "duration": 14,
    "start_time": "2023-05-23T15:06:47.078Z"
   },
   {
    "duration": 1778,
    "start_time": "2023-05-23T15:07:00.278Z"
   },
   {
    "duration": 3607,
    "start_time": "2023-05-23T15:07:13.445Z"
   },
   {
    "duration": 3092,
    "start_time": "2023-05-23T15:07:20.111Z"
   },
   {
    "duration": 8,
    "start_time": "2023-05-23T15:07:29.987Z"
   },
   {
    "duration": 5,
    "start_time": "2023-05-23T15:07:35.275Z"
   },
   {
    "duration": 6,
    "start_time": "2023-05-23T15:07:39.996Z"
   },
   {
    "duration": 8,
    "start_time": "2023-05-23T15:08:06.697Z"
   },
   {
    "duration": 1562,
    "start_time": "2023-05-23T15:08:15.484Z"
   },
   {
    "duration": 4,
    "start_time": "2023-05-23T15:08:31.931Z"
   },
   {
    "duration": 7,
    "start_time": "2023-05-23T15:08:38.798Z"
   },
   {
    "duration": 7,
    "start_time": "2023-05-23T15:10:21.181Z"
   },
   {
    "duration": 1398,
    "start_time": "2023-05-23T15:10:24.041Z"
   },
   {
    "duration": 4,
    "start_time": "2023-05-23T15:10:32.144Z"
   },
   {
    "duration": 11,
    "start_time": "2023-05-23T15:10:35.788Z"
   },
   {
    "duration": 3,
    "start_time": "2023-05-23T15:10:39.096Z"
   },
   {
    "duration": 4,
    "start_time": "2023-05-23T15:10:42.941Z"
   },
   {
    "duration": 15,
    "start_time": "2023-05-23T15:11:59.468Z"
   },
   {
    "duration": 14,
    "start_time": "2023-05-23T15:12:26.962Z"
   },
   {
    "duration": 14,
    "start_time": "2023-05-23T15:12:56.844Z"
   },
   {
    "duration": 4,
    "start_time": "2023-05-23T15:13:22.855Z"
   },
   {
    "duration": 3,
    "start_time": "2023-05-23T15:13:32.505Z"
   },
   {
    "duration": 5,
    "start_time": "2023-05-23T15:13:42.673Z"
   },
   {
    "duration": 5,
    "start_time": "2023-05-23T15:13:49.348Z"
   },
   {
    "duration": 4,
    "start_time": "2023-05-23T15:13:56.273Z"
   },
   {
    "duration": 5,
    "start_time": "2023-05-23T15:14:02.358Z"
   },
   {
    "duration": 27,
    "start_time": "2023-05-23T15:14:22.357Z"
   },
   {
    "duration": 25,
    "start_time": "2023-05-23T15:14:29.450Z"
   },
   {
    "duration": 13,
    "start_time": "2023-05-23T15:14:58.907Z"
   },
   {
    "duration": 14,
    "start_time": "2023-05-23T15:15:07.464Z"
   },
   {
    "duration": 85,
    "start_time": "2023-05-23T15:15:11.188Z"
   },
   {
    "duration": 13,
    "start_time": "2023-05-23T15:15:12.200Z"
   },
   {
    "duration": 14,
    "start_time": "2023-05-23T15:15:50.812Z"
   },
   {
    "duration": 14,
    "start_time": "2023-05-23T15:16:00.471Z"
   },
   {
    "duration": 14,
    "start_time": "2023-05-23T15:16:39.996Z"
   },
   {
    "duration": 27,
    "start_time": "2023-05-23T15:16:41.030Z"
   },
   {
    "duration": 13,
    "start_time": "2023-05-23T15:16:41.774Z"
   },
   {
    "duration": 774,
    "start_time": "2023-05-23T15:18:37.030Z"
   },
   {
    "duration": 5,
    "start_time": "2023-05-23T15:18:38.802Z"
   },
   {
    "duration": 1222,
    "start_time": "2023-05-23T15:27:58.701Z"
   },
   {
    "duration": 10,
    "start_time": "2023-05-23T15:27:59.925Z"
   },
   {
    "duration": 9,
    "start_time": "2023-05-23T15:27:59.937Z"
   },
   {
    "duration": 8,
    "start_time": "2023-05-23T15:27:59.948Z"
   },
   {
    "duration": 10,
    "start_time": "2023-05-23T15:27:59.958Z"
   },
   {
    "duration": 6,
    "start_time": "2023-05-23T15:27:59.969Z"
   },
   {
    "duration": 9,
    "start_time": "2023-05-23T15:27:59.976Z"
   },
   {
    "duration": 39,
    "start_time": "2023-05-23T15:27:59.987Z"
   },
   {
    "duration": 10,
    "start_time": "2023-05-23T15:28:00.027Z"
   },
   {
    "duration": 19,
    "start_time": "2023-05-23T15:28:00.038Z"
   },
   {
    "duration": 24,
    "start_time": "2023-05-23T15:28:00.059Z"
   },
   {
    "duration": 66,
    "start_time": "2023-05-23T15:28:00.085Z"
   },
   {
    "duration": 54,
    "start_time": "2023-05-23T15:28:00.152Z"
   },
   {
    "duration": 35,
    "start_time": "2023-05-23T15:28:00.209Z"
   },
   {
    "duration": 38,
    "start_time": "2023-05-23T15:28:00.246Z"
   },
   {
    "duration": 30,
    "start_time": "2023-05-23T15:28:00.286Z"
   },
   {
    "duration": 68,
    "start_time": "2023-05-23T15:28:00.318Z"
   },
   {
    "duration": 13,
    "start_time": "2023-05-23T15:28:00.388Z"
   },
   {
    "duration": 259,
    "start_time": "2023-05-23T15:28:00.403Z"
   },
   {
    "duration": 10,
    "start_time": "2023-05-23T15:28:00.663Z"
   },
   {
    "duration": 34,
    "start_time": "2023-05-23T15:28:00.674Z"
   },
   {
    "duration": 43,
    "start_time": "2023-05-23T15:28:00.710Z"
   },
   {
    "duration": 33,
    "start_time": "2023-05-23T15:28:00.755Z"
   },
   {
    "duration": 654,
    "start_time": "2023-05-23T15:28:00.791Z"
   },
   {
    "duration": 6,
    "start_time": "2023-05-23T15:28:01.446Z"
   },
   {
    "duration": 41,
    "start_time": "2023-05-23T15:28:01.453Z"
   },
   {
    "duration": 51,
    "start_time": "2023-05-23T15:28:01.495Z"
   },
   {
    "duration": 180,
    "start_time": "2023-05-23T15:28:01.548Z"
   },
   {
    "duration": 95,
    "start_time": "2023-05-23T15:28:01.730Z"
   },
   {
    "duration": 343,
    "start_time": "2023-05-23T15:28:01.827Z"
   },
   {
    "duration": 488,
    "start_time": "2023-05-23T15:28:02.172Z"
   },
   {
    "duration": 144,
    "start_time": "2023-05-23T15:28:02.662Z"
   },
   {
    "duration": 554,
    "start_time": "2023-05-23T15:28:02.808Z"
   },
   {
    "duration": 130,
    "start_time": "2023-05-23T15:28:03.364Z"
   },
   {
    "duration": 9,
    "start_time": "2023-05-23T15:28:03.496Z"
   },
   {
    "duration": 22,
    "start_time": "2023-05-23T15:28:03.507Z"
   },
   {
    "duration": 16,
    "start_time": "2023-05-23T15:28:03.531Z"
   },
   {
    "duration": 9,
    "start_time": "2023-05-23T15:28:03.549Z"
   },
   {
    "duration": 14,
    "start_time": "2023-05-23T15:28:03.559Z"
   },
   {
    "duration": 16,
    "start_time": "2023-05-23T15:28:03.574Z"
   },
   {
    "duration": 15,
    "start_time": "2023-05-23T15:28:03.618Z"
   },
   {
    "duration": 11,
    "start_time": "2023-05-23T15:28:03.634Z"
   },
   {
    "duration": 17,
    "start_time": "2023-05-23T15:28:03.647Z"
   },
   {
    "duration": 289,
    "start_time": "2023-05-23T15:28:03.666Z"
   },
   {
    "duration": 265,
    "start_time": "2023-05-23T15:28:03.956Z"
   },
   {
    "duration": 466,
    "start_time": "2023-05-23T15:28:04.223Z"
   },
   {
    "duration": 454,
    "start_time": "2023-05-23T15:28:04.692Z"
   },
   {
    "duration": 693,
    "start_time": "2023-05-23T15:28:05.148Z"
   },
   {
    "duration": 680,
    "start_time": "2023-05-23T15:28:05.842Z"
   },
   {
    "duration": 9,
    "start_time": "2023-05-23T15:28:06.524Z"
   },
   {
    "duration": 15,
    "start_time": "2023-05-23T15:28:06.534Z"
   },
   {
    "duration": 139,
    "start_time": "2023-05-23T15:28:06.551Z"
   },
   {
    "duration": 6,
    "start_time": "2023-05-23T15:28:06.692Z"
   },
   {
    "duration": 21,
    "start_time": "2023-05-23T15:28:06.699Z"
   },
   {
    "duration": 23,
    "start_time": "2023-05-23T15:28:06.722Z"
   },
   {
    "duration": 5,
    "start_time": "2023-05-23T15:28:06.747Z"
   },
   {
    "duration": 135,
    "start_time": "2023-05-23T15:28:06.754Z"
   },
   {
    "duration": 0,
    "start_time": "2023-05-23T15:28:06.891Z"
   },
   {
    "duration": 0,
    "start_time": "2023-05-23T15:28:06.892Z"
   },
   {
    "duration": 0,
    "start_time": "2023-05-23T15:28:06.894Z"
   },
   {
    "duration": 0,
    "start_time": "2023-05-23T15:28:06.895Z"
   },
   {
    "duration": 0,
    "start_time": "2023-05-23T15:28:06.896Z"
   },
   {
    "duration": 0,
    "start_time": "2023-05-23T15:28:06.898Z"
   },
   {
    "duration": 0,
    "start_time": "2023-05-23T15:28:06.899Z"
   },
   {
    "duration": 3,
    "start_time": "2023-05-23T15:28:49.267Z"
   },
   {
    "duration": 4,
    "start_time": "2023-05-23T15:28:51.044Z"
   },
   {
    "duration": 18,
    "start_time": "2023-05-23T15:28:52.554Z"
   },
   {
    "duration": 480,
    "start_time": "2023-05-23T15:30:03.453Z"
   },
   {
    "duration": 488,
    "start_time": "2023-05-23T15:30:24.043Z"
   },
   {
    "duration": 476,
    "start_time": "2023-05-23T15:30:27.905Z"
   },
   {
    "duration": 473,
    "start_time": "2023-05-23T15:30:45.173Z"
   },
   {
    "duration": 5,
    "start_time": "2023-05-23T15:30:46.191Z"
   },
   {
    "duration": 8,
    "start_time": "2023-05-23T15:30:49.446Z"
   },
   {
    "duration": 14,
    "start_time": "2023-05-23T15:30:51.237Z"
   },
   {
    "duration": 239,
    "start_time": "2023-05-23T15:30:52.345Z"
   },
   {
    "duration": 245,
    "start_time": "2023-05-23T15:31:09.315Z"
   },
   {
    "duration": 13,
    "start_time": "2023-05-23T15:31:10.770Z"
   },
   {
    "duration": 1164,
    "start_time": "2023-05-23T15:31:18.746Z"
   },
   {
    "duration": 11,
    "start_time": "2023-05-23T15:31:19.911Z"
   },
   {
    "duration": 10,
    "start_time": "2023-05-23T15:31:19.923Z"
   },
   {
    "duration": 10,
    "start_time": "2023-05-23T15:31:19.935Z"
   },
   {
    "duration": 21,
    "start_time": "2023-05-23T15:31:19.946Z"
   },
   {
    "duration": 42,
    "start_time": "2023-05-23T15:31:19.968Z"
   },
   {
    "duration": 15,
    "start_time": "2023-05-23T15:31:20.011Z"
   },
   {
    "duration": 14,
    "start_time": "2023-05-23T15:31:20.028Z"
   },
   {
    "duration": 9,
    "start_time": "2023-05-23T15:31:20.044Z"
   },
   {
    "duration": 6,
    "start_time": "2023-05-23T15:31:20.055Z"
   },
   {
    "duration": 12,
    "start_time": "2023-05-23T15:31:20.063Z"
   },
   {
    "duration": 9,
    "start_time": "2023-05-23T15:31:20.076Z"
   },
   {
    "duration": 31,
    "start_time": "2023-05-23T15:31:20.087Z"
   },
   {
    "duration": 5,
    "start_time": "2023-05-23T15:31:20.120Z"
   },
   {
    "duration": 13,
    "start_time": "2023-05-23T15:31:20.127Z"
   },
   {
    "duration": 21,
    "start_time": "2023-05-23T15:31:20.141Z"
   },
   {
    "duration": 55,
    "start_time": "2023-05-23T15:31:20.164Z"
   },
   {
    "duration": 7,
    "start_time": "2023-05-23T15:31:20.221Z"
   },
   {
    "duration": 237,
    "start_time": "2023-05-23T15:31:20.229Z"
   },
   {
    "duration": 10,
    "start_time": "2023-05-23T15:31:20.468Z"
   },
   {
    "duration": 91,
    "start_time": "2023-05-23T15:31:20.479Z"
   },
   {
    "duration": 59,
    "start_time": "2023-05-23T15:31:20.571Z"
   },
   {
    "duration": 24,
    "start_time": "2023-05-23T15:31:20.631Z"
   },
   {
    "duration": 629,
    "start_time": "2023-05-23T15:31:20.656Z"
   },
   {
    "duration": 5,
    "start_time": "2023-05-23T15:31:21.287Z"
   },
   {
    "duration": 12,
    "start_time": "2023-05-23T15:31:21.293Z"
   },
   {
    "duration": 13,
    "start_time": "2023-05-23T15:31:21.306Z"
   },
   {
    "duration": 159,
    "start_time": "2023-05-23T15:31:21.322Z"
   },
   {
    "duration": 87,
    "start_time": "2023-05-23T15:31:21.483Z"
   },
   {
    "duration": 325,
    "start_time": "2023-05-23T15:31:21.571Z"
   },
   {
    "duration": 470,
    "start_time": "2023-05-23T15:31:21.898Z"
   },
   {
    "duration": 130,
    "start_time": "2023-05-23T15:31:22.370Z"
   },
   {
    "duration": 528,
    "start_time": "2023-05-23T15:31:22.502Z"
   },
   {
    "duration": 128,
    "start_time": "2023-05-23T15:31:23.032Z"
   },
   {
    "duration": 8,
    "start_time": "2023-05-23T15:31:23.162Z"
   },
   {
    "duration": 10,
    "start_time": "2023-05-23T15:31:23.172Z"
   },
   {
    "duration": 19,
    "start_time": "2023-05-23T15:31:23.183Z"
   },
   {
    "duration": 8,
    "start_time": "2023-05-23T15:31:23.218Z"
   },
   {
    "duration": 11,
    "start_time": "2023-05-23T15:31:23.228Z"
   },
   {
    "duration": 14,
    "start_time": "2023-05-23T15:31:23.241Z"
   },
   {
    "duration": 12,
    "start_time": "2023-05-23T15:31:23.257Z"
   },
   {
    "duration": 11,
    "start_time": "2023-05-23T15:31:23.271Z"
   },
   {
    "duration": 43,
    "start_time": "2023-05-23T15:31:23.283Z"
   },
   {
    "duration": 272,
    "start_time": "2023-05-23T15:31:23.327Z"
   },
   {
    "duration": 253,
    "start_time": "2023-05-23T15:31:23.601Z"
   },
   {
    "duration": 426,
    "start_time": "2023-05-23T15:31:23.855Z"
   },
   {
    "duration": 454,
    "start_time": "2023-05-23T15:31:24.282Z"
   },
   {
    "duration": 682,
    "start_time": "2023-05-23T15:31:24.738Z"
   },
   {
    "duration": 589,
    "start_time": "2023-05-23T15:31:25.422Z"
   },
   {
    "duration": 9,
    "start_time": "2023-05-23T15:31:26.013Z"
   },
   {
    "duration": 18,
    "start_time": "2023-05-23T15:31:26.024Z"
   },
   {
    "duration": 138,
    "start_time": "2023-05-23T15:31:26.044Z"
   },
   {
    "duration": 7,
    "start_time": "2023-05-23T15:31:26.184Z"
   },
   {
    "duration": 24,
    "start_time": "2023-05-23T15:31:26.192Z"
   },
   {
    "duration": 29,
    "start_time": "2023-05-23T15:31:26.218Z"
   },
   {
    "duration": 17,
    "start_time": "2023-05-23T15:31:26.249Z"
   },
   {
    "duration": 495,
    "start_time": "2023-05-23T15:31:26.267Z"
   },
   {
    "duration": 4,
    "start_time": "2023-05-23T15:31:26.764Z"
   },
   {
    "duration": 13,
    "start_time": "2023-05-23T15:31:26.770Z"
   },
   {
    "duration": 21,
    "start_time": "2023-05-23T15:31:26.785Z"
   },
   {
    "duration": 241,
    "start_time": "2023-05-23T15:31:26.807Z"
   },
   {
    "duration": 13,
    "start_time": "2023-05-23T15:31:27.049Z"
   },
   {
    "duration": 814,
    "start_time": "2023-05-23T15:31:27.063Z"
   },
   {
    "duration": 4,
    "start_time": "2023-05-23T15:31:27.879Z"
   },
   {
    "duration": 1745,
    "start_time": "2023-05-23T20:29:03.894Z"
   },
   {
    "duration": 15,
    "start_time": "2023-05-23T20:29:05.641Z"
   },
   {
    "duration": 15,
    "start_time": "2023-05-23T20:29:05.658Z"
   },
   {
    "duration": 40,
    "start_time": "2023-05-23T20:29:05.675Z"
   },
   {
    "duration": 17,
    "start_time": "2023-05-23T20:29:05.717Z"
   },
   {
    "duration": 11,
    "start_time": "2023-05-23T20:29:05.736Z"
   },
   {
    "duration": 13,
    "start_time": "2023-05-23T20:29:05.749Z"
   },
   {
    "duration": 26,
    "start_time": "2023-05-23T20:29:05.765Z"
   },
   {
    "duration": 22,
    "start_time": "2023-05-23T20:29:05.793Z"
   },
   {
    "duration": 18,
    "start_time": "2023-05-23T20:29:05.817Z"
   },
   {
    "duration": 7,
    "start_time": "2023-05-23T20:29:05.837Z"
   },
   {
    "duration": 7,
    "start_time": "2023-05-23T20:29:05.847Z"
   },
   {
    "duration": 40,
    "start_time": "2023-05-23T20:29:05.855Z"
   },
   {
    "duration": 6,
    "start_time": "2023-05-23T20:29:05.898Z"
   },
   {
    "duration": 8,
    "start_time": "2023-05-23T20:29:05.906Z"
   },
   {
    "duration": 9,
    "start_time": "2023-05-23T20:29:05.915Z"
   },
   {
    "duration": 68,
    "start_time": "2023-05-23T20:29:05.926Z"
   },
   {
    "duration": 7,
    "start_time": "2023-05-23T20:29:06.001Z"
   },
   {
    "duration": 353,
    "start_time": "2023-05-23T20:29:06.012Z"
   },
   {
    "duration": 15,
    "start_time": "2023-05-23T20:29:06.368Z"
   },
   {
    "duration": 15,
    "start_time": "2023-05-23T20:29:06.385Z"
   },
   {
    "duration": 9,
    "start_time": "2023-05-23T20:29:06.408Z"
   },
   {
    "duration": 12,
    "start_time": "2023-05-23T20:29:06.419Z"
   },
   {
    "duration": 814,
    "start_time": "2023-05-23T20:29:06.433Z"
   },
   {
    "duration": 8,
    "start_time": "2023-05-23T20:29:07.249Z"
   },
   {
    "duration": 33,
    "start_time": "2023-05-23T20:29:07.259Z"
   },
   {
    "duration": 29,
    "start_time": "2023-05-23T20:29:07.293Z"
   },
   {
    "duration": 193,
    "start_time": "2023-05-23T20:29:07.324Z"
   },
   {
    "duration": 106,
    "start_time": "2023-05-23T20:29:07.522Z"
   },
   {
    "duration": 399,
    "start_time": "2023-05-23T20:29:07.630Z"
   },
   {
    "duration": 579,
    "start_time": "2023-05-23T20:29:08.031Z"
   },
   {
    "duration": 154,
    "start_time": "2023-05-23T20:29:08.612Z"
   },
   {
    "duration": 725,
    "start_time": "2023-05-23T20:29:08.768Z"
   },
   {
    "duration": 146,
    "start_time": "2023-05-23T20:29:09.495Z"
   },
   {
    "duration": 10,
    "start_time": "2023-05-23T20:29:09.643Z"
   },
   {
    "duration": 25,
    "start_time": "2023-05-23T20:29:09.654Z"
   },
   {
    "duration": 31,
    "start_time": "2023-05-23T20:29:09.680Z"
   },
   {
    "duration": 14,
    "start_time": "2023-05-23T20:29:09.713Z"
   },
   {
    "duration": 15,
    "start_time": "2023-05-23T20:29:09.729Z"
   },
   {
    "duration": 23,
    "start_time": "2023-05-23T20:29:09.746Z"
   },
   {
    "duration": 22,
    "start_time": "2023-05-23T20:29:09.776Z"
   },
   {
    "duration": 24,
    "start_time": "2023-05-23T20:29:09.805Z"
   },
   {
    "duration": 11,
    "start_time": "2023-05-23T20:29:09.831Z"
   },
   {
    "duration": 415,
    "start_time": "2023-05-23T20:29:09.844Z"
   },
   {
    "duration": 371,
    "start_time": "2023-05-23T20:29:10.260Z"
   },
   {
    "duration": 562,
    "start_time": "2023-05-23T20:29:10.633Z"
   },
   {
    "duration": 531,
    "start_time": "2023-05-23T20:29:11.197Z"
   },
   {
    "duration": 844,
    "start_time": "2023-05-23T20:29:11.730Z"
   },
   {
    "duration": 764,
    "start_time": "2023-05-23T20:29:12.577Z"
   },
   {
    "duration": 12,
    "start_time": "2023-05-23T20:29:13.343Z"
   },
   {
    "duration": 58,
    "start_time": "2023-05-23T20:29:13.357Z"
   },
   {
    "duration": 152,
    "start_time": "2023-05-23T20:29:13.419Z"
   },
   {
    "duration": 9,
    "start_time": "2023-05-23T20:29:13.573Z"
   },
   {
    "duration": 19,
    "start_time": "2023-05-23T20:29:13.583Z"
   },
   {
    "duration": 30,
    "start_time": "2023-05-23T20:29:13.606Z"
   },
   {
    "duration": 5,
    "start_time": "2023-05-23T20:29:13.638Z"
   },
   {
    "duration": 900,
    "start_time": "2023-05-23T20:29:13.645Z"
   },
   {
    "duration": 7,
    "start_time": "2023-05-23T20:29:14.547Z"
   },
   {
    "duration": 42,
    "start_time": "2023-05-23T20:29:14.556Z"
   },
   {
    "duration": 28,
    "start_time": "2023-05-23T20:29:14.605Z"
   },
   {
    "duration": 449,
    "start_time": "2023-05-23T20:29:14.636Z"
   },
   {
    "duration": 28,
    "start_time": "2023-05-23T20:29:15.096Z"
   },
   {
    "duration": 1142,
    "start_time": "2023-05-23T20:29:15.127Z"
   },
   {
    "duration": 16,
    "start_time": "2023-05-23T20:29:16.271Z"
   },
   {
    "duration": 6,
    "start_time": "2023-05-23T20:33:29.040Z"
   },
   {
    "duration": 8,
    "start_time": "2023-05-23T20:33:32.541Z"
   }
  ],
  "kernelspec": {
   "display_name": "Python 3 (ipykernel)",
   "language": "python",
   "name": "python3"
  },
  "language_info": {
   "codemirror_mode": {
    "name": "ipython",
    "version": 3
   },
   "file_extension": ".py",
   "mimetype": "text/x-python",
   "name": "python",
   "nbconvert_exporter": "python",
   "pygments_lexer": "ipython3",
   "version": "3.9.5"
  },
  "toc": {
   "base_numbering": 1,
   "nav_menu": {},
   "number_sections": true,
   "sideBar": true,
   "skip_h1_title": true,
   "title_cell": "Table of Contents",
   "title_sidebar": "Contents",
   "toc_cell": false,
   "toc_position": {
    "height": "calc(100% - 180px)",
    "left": "10px",
    "top": "150px",
    "width": "294.74px"
   },
   "toc_section_display": true,
   "toc_window_display": false
  }
 },
 "nbformat": 4,
 "nbformat_minor": 5
}
