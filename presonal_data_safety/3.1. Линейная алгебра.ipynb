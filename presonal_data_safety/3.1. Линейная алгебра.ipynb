{
 "cells": [
  {
   "cell_type": "code",
   "execution_count": 1,
   "metadata": {},
   "outputs": [
    {
     "name": "stdout",
     "output_type": "stream",
     "text": [
      "Requirement already satisfied: missingno in /opt/conda/lib/python3.9/site-packages (0.5.2)\n",
      "Requirement already satisfied: matplotlib in /opt/conda/lib/python3.9/site-packages (from missingno) (3.3.4)\n",
      "Requirement already satisfied: seaborn in /opt/conda/lib/python3.9/site-packages (from missingno) (0.11.1)\n",
      "Requirement already satisfied: scipy in /opt/conda/lib/python3.9/site-packages (from missingno) (1.9.1)\n",
      "Requirement already satisfied: numpy in /opt/conda/lib/python3.9/site-packages (from missingno) (1.21.1)\n",
      "Requirement already satisfied: pyparsing!=2.0.4,!=2.1.2,!=2.1.6,>=2.0.3 in /opt/conda/lib/python3.9/site-packages (from matplotlib->missingno) (2.4.7)\n",
      "Requirement already satisfied: kiwisolver>=1.0.1 in /opt/conda/lib/python3.9/site-packages (from matplotlib->missingno) (1.4.4)\n",
      "Requirement already satisfied: python-dateutil>=2.1 in /opt/conda/lib/python3.9/site-packages (from matplotlib->missingno) (2.8.1)\n",
      "Requirement already satisfied: pillow>=6.2.0 in /opt/conda/lib/python3.9/site-packages (from matplotlib->missingno) (8.4.0)\n",
      "Requirement already satisfied: cycler>=0.10 in /opt/conda/lib/python3.9/site-packages (from matplotlib->missingno) (0.11.0)\n",
      "Requirement already satisfied: six>=1.5 in /opt/conda/lib/python3.9/site-packages (from python-dateutil>=2.1->matplotlib->missingno) (1.16.0)\n",
      "Requirement already satisfied: pandas>=0.23 in /opt/conda/lib/python3.9/site-packages (from seaborn->missingno) (1.2.4)\n",
      "Requirement already satisfied: pytz>=2017.3 in /opt/conda/lib/python3.9/site-packages (from pandas>=0.23->seaborn->missingno) (2021.1)\n",
      "Note: you may need to restart the kernel to use updated packages.\n"
     ]
    }
   ],
   "source": [
    "pip install missingno"
   ]
  },
  {
   "cell_type": "markdown",
   "metadata": {
    "toc": true
   },
   "source": [
    "<h1>Содержание<span class=\"tocSkip\"></span></h1>\n",
    "<div class=\"toc\"><ul class=\"toc-item\"><li><span><a href=\"#Загрузка-и-изучение-данных\" data-toc-modified-id=\"Загрузка-и-изучение-данных-1\"><span class=\"toc-item-num\">1&nbsp;&nbsp;</span>Загрузка и изучение данных</a></span><ul class=\"toc-item\"><li><span><a href=\"#Промежуточный-итог-1\" data-toc-modified-id=\"Промежуточный-итог-1-1.1\"><span class=\"toc-item-num\">1.1&nbsp;&nbsp;</span>Промежуточный итог 1</a></span></li></ul></li><li><span><a href=\"#Умножение-матриц\" data-toc-modified-id=\"Умножение-матриц-2\"><span class=\"toc-item-num\">2&nbsp;&nbsp;</span>Умножение матриц</a></span></li><li><span><a href=\"#Матрицы\" data-toc-modified-id=\"Матрицы-3\"><span class=\"toc-item-num\">3&nbsp;&nbsp;</span>Матрицы</a></span><ul class=\"toc-item\"><li><span><a href=\"#Неизмененные-данные\" data-toc-modified-id=\"Неизмененные-данные-3.1\"><span class=\"toc-item-num\">3.1&nbsp;&nbsp;</span>Неизмененные данные</a></span></li><li><span><a href=\"#Измененные-данные\" data-toc-modified-id=\"Измененные-данные-3.2\"><span class=\"toc-item-num\">3.2&nbsp;&nbsp;</span>Измененные данные</a></span></li><li><span><a href=\"#Промежуточный-итог-2\" data-toc-modified-id=\"Промежуточный-итог-2-3.3\"><span class=\"toc-item-num\">3.3&nbsp;&nbsp;</span>Промежуточный итог 2</a></span></li></ul></li><li><span><a href=\"#Алгоритм-преобразования\" data-toc-modified-id=\"Алгоритм-преобразования-4\"><span class=\"toc-item-num\">4&nbsp;&nbsp;</span>Алгоритм преобразования</a></span></li><li><span><a href=\"#Проверка-алгоритма\" data-toc-modified-id=\"Проверка-алгоритма-5\"><span class=\"toc-item-num\">5&nbsp;&nbsp;</span>Проверка алгоритма</a></span><ul class=\"toc-item\"><li><span><a href=\"#Расчёт-метрик-точности-для-исходных-данных\" data-toc-modified-id=\"Расчёт-метрик-точности-для-исходных-данных-5.1\"><span class=\"toc-item-num\">5.1&nbsp;&nbsp;</span>Расчёт метрик точности для исходных данных</a></span></li><li><span><a href=\"#Получение-матрицы-данных\" data-toc-modified-id=\"Получение-матрицы-данных-5.2\"><span class=\"toc-item-num\">5.2&nbsp;&nbsp;</span>Получение матрицы данных</a></span></li><li><span><a href=\"#Генерация-рандомной-матрицы\" data-toc-modified-id=\"Генерация-рандомной-матрицы-5.3\"><span class=\"toc-item-num\">5.3&nbsp;&nbsp;</span>Генерация рандомной матрицы</a></span></li><li><span><a href=\"#Проверка-матрицы-на-обратимость\" data-toc-modified-id=\"Проверка-матрицы-на-обратимость-5.4\"><span class=\"toc-item-num\">5.4&nbsp;&nbsp;</span>Проверка матрицы на обратимость</a></span></li><li><span><a href=\"#Умножение-матрицы-данных-на-рандомную\" data-toc-modified-id=\"Умножение-матрицы-данных-на-рандомную-5.5\"><span class=\"toc-item-num\">5.5&nbsp;&nbsp;</span>Умножение матрицы данных на рандомную</a></span></li><li><span><a href=\"#Получение-метрик-качества-на-измененных-признаках\" data-toc-modified-id=\"Получение-метрик-качества-на-измененных-признаках-5.6\"><span class=\"toc-item-num\">5.6&nbsp;&nbsp;</span>Получение метрик качества на измененных признаках</a></span></li><li><span><a href=\"#Получение-вывода-о-проведенной-операции\" data-toc-modified-id=\"Получение-вывода-о-проведенной-операции-5.7\"><span class=\"toc-item-num\">5.7&nbsp;&nbsp;</span>Получение вывода о проведенной операции</a></span></li><li><span><a href=\"#Комментарий\" data-toc-modified-id=\"Комментарий-5.8\"><span class=\"toc-item-num\">5.8&nbsp;&nbsp;</span>Комментарий</a></span></li></ul></li><li><span><a href=\"#Чек-лист-проверки\" data-toc-modified-id=\"Чек-лист-проверки-6\"><span class=\"toc-item-num\">6&nbsp;&nbsp;</span>Чек-лист проверки</a></span><ul class=\"toc-item\"><li><span><a href=\"#Промежуточный-итог-1\" data-toc-modified-id=\"Промежуточный-итог-1-6.1\"><span class=\"toc-item-num\">6.1&nbsp;&nbsp;</span>Промежуточный итог 1</a></span></li><li><span><a href=\"#Промежуточный-итог-2\" data-toc-modified-id=\"Промежуточный-итог-2-6.2\"><span class=\"toc-item-num\">6.2&nbsp;&nbsp;</span>Промежуточный итог 2</a></span></li></ul></li><li><span><a href=\"#Итоговый-итог\" data-toc-modified-id=\"Итоговый-итог-7\"><span class=\"toc-item-num\">7&nbsp;&nbsp;</span>Итоговый итог</a></span></li><li><span><a href=\"#Общий-вывод-по-проекту\" data-toc-modified-id=\"Общий-вывод-по-проекту-8\"><span class=\"toc-item-num\">8&nbsp;&nbsp;</span><b>Общий вывод по проекту</b></a></span></li><li><span><a href=\"#Общий-вывод-по-проекту-В2\" data-toc-modified-id=\"Общий-вывод-по-проекту-В2-9\"><span class=\"toc-item-num\">9&nbsp;&nbsp;</span><b>Общий вывод по проекту В2</b></a></span></li><li><span><a href=\"#Общий-вывод-по-проекту-В3\" data-toc-modified-id=\"Общий-вывод-по-проекту-В3-10\"><span class=\"toc-item-num\">10&nbsp;&nbsp;</span><b>Общий вывод по проекту В3</b></a></span></li></ul></div>"
   ]
  },
  {
   "cell_type": "markdown",
   "metadata": {},
   "source": [
    "# Защита персональных данных клиентов"
   ]
  },
  {
   "cell_type": "markdown",
   "metadata": {},
   "source": [
    "# Описание проекта\n",
    "Вам нужно защитить данные клиентов страховой компании «Хоть потоп». Разработайте такой метод преобразования данных, чтобы по ним было сложно восстановить персональную информацию. Обоснуйте корректность его работы.\n",
    "Нужно защитить данные, чтобы при преобразовании качество моделей машинного обучения не ухудшилось. Подбирать наилучшую модель не требуется.\n",
    "\n",
    "# Инструкция по выполнению проекта\n",
    "1. Загрузите и изучите данные.\n",
    "2. Ответьте на вопрос и обоснуйте решение. \n",
    "Признаки умножают на обратимую матрицу. Изменится ли качество линейной регрессии? (Её можно обучить заново.)\n",
    "    1. Изменится. Приведите примеры матриц.\n",
    "    2. Не изменится. Укажите, как связаны параметры линейной регрессии в исходной задаче и в преобразованной.\n",
    "3. Предложите алгоритм преобразования данных для решения задачи. Обоснуйте, почему качество линейной регрессии не поменяется.\n",
    "4. Запрограммируйте этот алгоритм, применив матричные операции. Проверьте, что качество линейной регрессии из sklearn не отличается до и после преобразования. Примените метрику R2.\n",
    "\n",
    "# Описание данных\n",
    "Набор данных находится в файле `/datasets/insurance.csv`. \n",
    "\n",
    "**Признаки**: пол, возраст и зарплата застрахованного, количество членов его семьи.\n",
    "\n",
    "**Целевой признак**: количество страховых выплат клиенту за последние 5 лет.\n",
    "\n",
    "\n",
    "# **Цель исследования**\n",
    "\n",
    "1. Загрузить данные и предобработать их\n",
    "2. Рассмотреть метрики качества линейной регрессии (R2 и MSE) на неизмененных данных\n",
    "3. Изменить данные путём умножения на обратмую матрицу\n",
    "4. Рассмотреть метрики качества линейной регрессии (R2 и MSE) на измененных данных\n",
    "5. Сделать вывод о влиянии умножения на результат\n",
    "6. Сформулировать алгоритм защиты данных и проверить его\n",
    "\n",
    "\n",
    "# **Ход работы**\n",
    "\n",
    "У нас есть датафрейм, содержащий данные о клиентах. Необходимо прежде всего ознакомиться с ним, проверить типы данных, наличие пропусков и дубликатов и др. Затем необходимо разделить данные на две выборки: обучающую и валидационную (в соотношении `3:1`). \n",
    "\n",
    "После этого необходимо будет обучить модель линейной регрессии на них и проверить метрики качества R2 и MSE. Затем необходимо сгенерировать рандомную матрицу (обязательно обратимую), на которую можно будет умножить матрицу данных. После умножения надо будет повторить шаги с линейной регрессией и проверкой метрик качества. Сделать вывод о влиянии умножения на эту матрицу на получаемые метрики качества и предсказания. После этого необходимо сформулировать алгоритм защиты данных клиентов и проверить его действие.\n",
    "\n",
    "Таким образом есть у нас намечается 5 этапов:\n",
    "\n",
    "- знакомство с данными, предобработка, формовка выборок\n",
    "- обучение моделей на неизмененных данных\n",
    "- обучение моделей на измененных данных\n",
    "- формулировка алгоритма защиты данных\n",
    "- проверка алгоритма"
   ]
  },
  {
   "cell_type": "markdown",
   "metadata": {},
   "source": [
    "## Загрузка и изучение данных\n",
    "Сначала загрузим и изучим датасет, проверим на различные аномалии и выбросы, в целом осмотрим, что да как"
   ]
  },
  {
   "cell_type": "code",
   "execution_count": 2,
   "metadata": {},
   "outputs": [],
   "source": [
    "import pandas as pd\n",
    "import numpy as np\n",
    "import matplotlib.pyplot as plt\n",
    "import seaborn as sns\n",
    "import missingno as msno\n",
    "\n",
    "from sklearn.metrics import mean_squared_error, r2_score, accuracy_score\n",
    "from sklearn.model_selection import train_test_split\n",
    "from sklearn.linear_model import LinearRegression"
   ]
  },
  {
   "cell_type": "markdown",
   "metadata": {},
   "source": [
    "Загружаем датасет и сохраняем в переменной `data`. Выведем первые пять строк на экран"
   ]
  },
  {
   "cell_type": "code",
   "execution_count": 3,
   "metadata": {},
   "outputs": [
    {
     "data": {
      "text/html": [
       "<div>\n",
       "<style scoped>\n",
       "    .dataframe tbody tr th:only-of-type {\n",
       "        vertical-align: middle;\n",
       "    }\n",
       "\n",
       "    .dataframe tbody tr th {\n",
       "        vertical-align: top;\n",
       "    }\n",
       "\n",
       "    .dataframe thead th {\n",
       "        text-align: right;\n",
       "    }\n",
       "</style>\n",
       "<table border=\"1\" class=\"dataframe\">\n",
       "  <thead>\n",
       "    <tr style=\"text-align: right;\">\n",
       "      <th></th>\n",
       "      <th>Пол</th>\n",
       "      <th>Возраст</th>\n",
       "      <th>Зарплата</th>\n",
       "      <th>Члены семьи</th>\n",
       "      <th>Страховые выплаты</th>\n",
       "    </tr>\n",
       "  </thead>\n",
       "  <tbody>\n",
       "    <tr>\n",
       "      <th>0</th>\n",
       "      <td>1</td>\n",
       "      <td>41.0</td>\n",
       "      <td>49600.0</td>\n",
       "      <td>1</td>\n",
       "      <td>0</td>\n",
       "    </tr>\n",
       "    <tr>\n",
       "      <th>1</th>\n",
       "      <td>0</td>\n",
       "      <td>46.0</td>\n",
       "      <td>38000.0</td>\n",
       "      <td>1</td>\n",
       "      <td>1</td>\n",
       "    </tr>\n",
       "    <tr>\n",
       "      <th>2</th>\n",
       "      <td>0</td>\n",
       "      <td>29.0</td>\n",
       "      <td>21000.0</td>\n",
       "      <td>0</td>\n",
       "      <td>0</td>\n",
       "    </tr>\n",
       "    <tr>\n",
       "      <th>3</th>\n",
       "      <td>0</td>\n",
       "      <td>21.0</td>\n",
       "      <td>41700.0</td>\n",
       "      <td>2</td>\n",
       "      <td>0</td>\n",
       "    </tr>\n",
       "    <tr>\n",
       "      <th>4</th>\n",
       "      <td>1</td>\n",
       "      <td>28.0</td>\n",
       "      <td>26100.0</td>\n",
       "      <td>0</td>\n",
       "      <td>0</td>\n",
       "    </tr>\n",
       "  </tbody>\n",
       "</table>\n",
       "</div>"
      ],
      "text/plain": [
       "   Пол  Возраст  Зарплата  Члены семьи  Страховые выплаты\n",
       "0    1     41.0   49600.0            1                  0\n",
       "1    0     46.0   38000.0            1                  1\n",
       "2    0     29.0   21000.0            0                  0\n",
       "3    0     21.0   41700.0            2                  0\n",
       "4    1     28.0   26100.0            0                  0"
      ]
     },
     "execution_count": 3,
     "metadata": {},
     "output_type": "execute_result"
    }
   ],
   "source": [
    "data = pd.read_csv(\"/datasets/insurance.csv\")\n",
    "data.name = 'clients info'\n",
    "data.head()"
   ]
  },
  {
   "cell_type": "markdown",
   "metadata": {},
   "source": [
    "Получим основную информацию о датафрейме, используя написанную в прошлом проекте функцию `df_description`"
   ]
  },
  {
   "cell_type": "code",
   "execution_count": 4,
   "metadata": {},
   "outputs": [],
   "source": [
    "def df_description(df, hist_needed = True, display_all_columns = True):\n",
    "    print(f'Описание датафрейма \\'{df.name}\\'')\n",
    "    print('Общая информация')\n",
    "    df.info()\n",
    "    print('\\nДубликаты')\n",
    "    if df.duplicated().sum() > 0:\n",
    "        print(f'В датафрейме {df.name} {df.duplicated().sum()} дубликатов')\n",
    "    else:\n",
    "        print(f'В датафрейме {df.name} нет дубликатов')\n",
    "    print('\\nПропуски')\n",
    "    msno.bar(df, figsize=(5,5), fontsize=9);\n",
    "    msno.matrix(df, figsize=(5,5), fontsize=9);\n",
    "    plt.show()\n",
    "    print('Максимальные проценты пропусков')\n",
    "    miss = df.isna().sum()*100/df.shape[0]\n",
    "    display(miss.sort_values(ascending = False).head())\n",
    "    # если необходимо вывести на экран гистограммы распределения данных\n",
    "    if hist_needed == True:\n",
    "        print('\\nВиды распределений данных')\n",
    "        font = {'weight' : 'bold',\n",
    "        'size'   : 9}\n",
    "        plt.rc('font', **font)\n",
    "        df.hist(figsize=(10, 10))\n",
    "        plt.show()\n",
    "    # если необходимо вывести расчеты для всех столбцов\n",
    "    if display_all_columns == True:\n",
    "        pd.set_option('display.max_columns', None)\n",
    "    \n",
    "    print('\\nОсновные расчеты')\n",
    "    display(df.describe())\n",
    "    print('\\nПервые пять строчек')\n",
    "    display(df.head())"
   ]
  },
  {
   "cell_type": "code",
   "execution_count": 5,
   "metadata": {},
   "outputs": [
    {
     "name": "stdout",
     "output_type": "stream",
     "text": [
      "Описание датафрейма 'clients info'\n",
      "Общая информация\n",
      "<class 'pandas.core.frame.DataFrame'>\n",
      "RangeIndex: 5000 entries, 0 to 4999\n",
      "Data columns (total 5 columns):\n",
      " #   Column             Non-Null Count  Dtype  \n",
      "---  ------             --------------  -----  \n",
      " 0   Пол                5000 non-null   int64  \n",
      " 1   Возраст            5000 non-null   float64\n",
      " 2   Зарплата           5000 non-null   float64\n",
      " 3   Члены семьи        5000 non-null   int64  \n",
      " 4   Страховые выплаты  5000 non-null   int64  \n",
      "dtypes: float64(2), int64(3)\n",
      "memory usage: 195.4 KB\n",
      "\n",
      "Дубликаты\n",
      "В датафрейме clients info 153 дубликатов\n",
      "\n",
      "Пропуски\n"
     ]
    },
    {
     "data": {
      "image/png": "[encoded data removed]",
      "text/plain": [
       "<Figure size 360x360 with 3 Axes>"
      ]
     },
     "metadata": {
      "needs_background": "light"
     },
     "output_type": "display_data"
    },
    {
     "data": {
      "image/png": "[encoded data removed]",
      "text/plain": [
       "<Figure size 360x360 with 2 Axes>"
      ]
     },
     "metadata": {
      "needs_background": "light"
     },
     "output_type": "display_data"
    },
    {
     "name": "stdout",
     "output_type": "stream",
     "text": [
      "Максимальные проценты пропусков\n"
     ]
    },
    {
     "data": {
      "text/plain": [
       "Пол                  0.0\n",
       "Возраст              0.0\n",
       "Зарплата             0.0\n",
       "Члены семьи          0.0\n",
       "Страховые выплаты    0.0\n",
       "dtype: float64"
      ]
     },
     "metadata": {},
     "output_type": "display_data"
    },
    {
     "name": "stdout",
     "output_type": "stream",
     "text": [
      "\n",
      "Виды распределений данных\n"
     ]
    },
    {
     "data": {
      "image/png": "[encoded data removed]",
      "text/plain": [
       "<Figure size 720x720 with 6 Axes>"
      ]
     },
     "metadata": {
      "needs_background": "light"
     },
     "output_type": "display_data"
    },
    {
     "name": "stdout",
     "output_type": "stream",
     "text": [
      "\n",
      "Основные расчеты\n"
     ]
    },
    {
     "data": {
      "text/html": [
       "<div>\n",
       "<style scoped>\n",
       "    .dataframe tbody tr th:only-of-type {\n",
       "        vertical-align: middle;\n",
       "    }\n",
       "\n",
       "    .dataframe tbody tr th {\n",
       "        vertical-align: top;\n",
       "    }\n",
       "\n",
       "    .dataframe thead th {\n",
       "        text-align: right;\n",
       "    }\n",
       "</style>\n",
       "<table border=\"1\" class=\"dataframe\">\n",
       "  <thead>\n",
       "    <tr style=\"text-align: right;\">\n",
       "      <th></th>\n",
       "      <th>Пол</th>\n",
       "      <th>Возраст</th>\n",
       "      <th>Зарплата</th>\n",
       "      <th>Члены семьи</th>\n",
       "      <th>Страховые выплаты</th>\n",
       "    </tr>\n",
       "  </thead>\n",
       "  <tbody>\n",
       "    <tr>\n",
       "      <th>count</th>\n",
       "      <td>5000.000000</td>\n",
       "      <td>5000.000000</td>\n",
       "      <td>5000.000000</td>\n",
       "      <td>5000.000000</td>\n",
       "      <td>5000.000000</td>\n",
       "    </tr>\n",
       "    <tr>\n",
       "      <th>mean</th>\n",
       "      <td>0.499000</td>\n",
       "      <td>30.952800</td>\n",
       "      <td>39916.360000</td>\n",
       "      <td>1.194200</td>\n",
       "      <td>0.148000</td>\n",
       "    </tr>\n",
       "    <tr>\n",
       "      <th>std</th>\n",
       "      <td>0.500049</td>\n",
       "      <td>8.440807</td>\n",
       "      <td>9900.083569</td>\n",
       "      <td>1.091387</td>\n",
       "      <td>0.463183</td>\n",
       "    </tr>\n",
       "    <tr>\n",
       "      <th>min</th>\n",
       "      <td>0.000000</td>\n",
       "      <td>18.000000</td>\n",
       "      <td>5300.000000</td>\n",
       "      <td>0.000000</td>\n",
       "      <td>0.000000</td>\n",
       "    </tr>\n",
       "    <tr>\n",
       "      <th>25%</th>\n",
       "      <td>0.000000</td>\n",
       "      <td>24.000000</td>\n",
       "      <td>33300.000000</td>\n",
       "      <td>0.000000</td>\n",
       "      <td>0.000000</td>\n",
       "    </tr>\n",
       "    <tr>\n",
       "      <th>50%</th>\n",
       "      <td>0.000000</td>\n",
       "      <td>30.000000</td>\n",
       "      <td>40200.000000</td>\n",
       "      <td>1.000000</td>\n",
       "      <td>0.000000</td>\n",
       "    </tr>\n",
       "    <tr>\n",
       "      <th>75%</th>\n",
       "      <td>1.000000</td>\n",
       "      <td>37.000000</td>\n",
       "      <td>46600.000000</td>\n",
       "      <td>2.000000</td>\n",
       "      <td>0.000000</td>\n",
       "    </tr>\n",
       "    <tr>\n",
       "      <th>max</th>\n",
       "      <td>1.000000</td>\n",
       "      <td>65.000000</td>\n",
       "      <td>79000.000000</td>\n",
       "      <td>6.000000</td>\n",
       "      <td>5.000000</td>\n",
       "    </tr>\n",
       "  </tbody>\n",
       "</table>\n",
       "</div>"
      ],
      "text/plain": [
       "               Пол      Возраст      Зарплата  Члены семьи  Страховые выплаты\n",
       "count  5000.000000  5000.000000   5000.000000  5000.000000        5000.000000\n",
       "mean      0.499000    30.952800  39916.360000     1.194200           0.148000\n",
       "std       0.500049     8.440807   9900.083569     1.091387           0.463183\n",
       "min       0.000000    18.000000   5300.000000     0.000000           0.000000\n",
       "25%       0.000000    24.000000  33300.000000     0.000000           0.000000\n",
       "50%       0.000000    30.000000  40200.000000     1.000000           0.000000\n",
       "75%       1.000000    37.000000  46600.000000     2.000000           0.000000\n",
       "max       1.000000    65.000000  79000.000000     6.000000           5.000000"
      ]
     },
     "metadata": {},
     "output_type": "display_data"
    },
    {
     "name": "stdout",
     "output_type": "stream",
     "text": [
      "\n",
      "Первые пять строчек\n"
     ]
    },
    {
     "data": {
      "text/html": [
       "<div>\n",
       "<style scoped>\n",
       "    .dataframe tbody tr th:only-of-type {\n",
       "        vertical-align: middle;\n",
       "    }\n",
       "\n",
       "    .dataframe tbody tr th {\n",
       "        vertical-align: top;\n",
       "    }\n",
       "\n",
       "    .dataframe thead th {\n",
       "        text-align: right;\n",
       "    }\n",
       "</style>\n",
       "<table border=\"1\" class=\"dataframe\">\n",
       "  <thead>\n",
       "    <tr style=\"text-align: right;\">\n",
       "      <th></th>\n",
       "      <th>Пол</th>\n",
       "      <th>Возраст</th>\n",
       "      <th>Зарплата</th>\n",
       "      <th>Члены семьи</th>\n",
       "      <th>Страховые выплаты</th>\n",
       "    </tr>\n",
       "  </thead>\n",
       "  <tbody>\n",
       "    <tr>\n",
       "      <th>0</th>\n",
       "      <td>1</td>\n",
       "      <td>41.0</td>\n",
       "      <td>49600.0</td>\n",
       "      <td>1</td>\n",
       "      <td>0</td>\n",
       "    </tr>\n",
       "    <tr>\n",
       "      <th>1</th>\n",
       "      <td>0</td>\n",
       "      <td>46.0</td>\n",
       "      <td>38000.0</td>\n",
       "      <td>1</td>\n",
       "      <td>1</td>\n",
       "    </tr>\n",
       "    <tr>\n",
       "      <th>2</th>\n",
       "      <td>0</td>\n",
       "      <td>29.0</td>\n",
       "      <td>21000.0</td>\n",
       "      <td>0</td>\n",
       "      <td>0</td>\n",
       "    </tr>\n",
       "    <tr>\n",
       "      <th>3</th>\n",
       "      <td>0</td>\n",
       "      <td>21.0</td>\n",
       "      <td>41700.0</td>\n",
       "      <td>2</td>\n",
       "      <td>0</td>\n",
       "    </tr>\n",
       "    <tr>\n",
       "      <th>4</th>\n",
       "      <td>1</td>\n",
       "      <td>28.0</td>\n",
       "      <td>26100.0</td>\n",
       "      <td>0</td>\n",
       "      <td>0</td>\n",
       "    </tr>\n",
       "  </tbody>\n",
       "</table>\n",
       "</div>"
      ],
      "text/plain": [
       "   Пол  Возраст  Зарплата  Члены семьи  Страховые выплаты\n",
       "0    1     41.0   49600.0            1                  0\n",
       "1    0     46.0   38000.0            1                  1\n",
       "2    0     29.0   21000.0            0                  0\n",
       "3    0     21.0   41700.0            2                  0\n",
       "4    1     28.0   26100.0            0                  0"
      ]
     },
     "metadata": {},
     "output_type": "display_data"
    }
   ],
   "source": [
    "df_description(data)"
   ]
  },
  {
   "cell_type": "markdown",
   "metadata": {},
   "source": [
    "В датафрейме 5000 строк и 5 столбцов. Пропусков нет. По крайним значениям столбцов все выглядит вполне прилично, без аномалий."
   ]
  },
  {
   "cell_type": "markdown",
   "metadata": {},
   "source": [
    "Первое, что бросается в глаза - в датафрейме 153 дубликата. (избавляться от них не будем)"
   ]
  },
  {
   "cell_type": "markdown",
   "metadata": {},
   "source": [
    "Посмотрим на типы данных:\n",
    "возраст и зарплата вопросов не вызывают, они точно вещественные, но проверим пол, членов семьи и страховые выплаты на целочисленность"
   ]
  },
  {
   "cell_type": "code",
   "execution_count": 6,
   "metadata": {},
   "outputs": [
    {
     "data": {
      "text/plain": [
       "0    2505\n",
       "1    2495\n",
       "Name: Пол, dtype: int64"
      ]
     },
     "execution_count": 6,
     "metadata": {},
     "output_type": "execute_result"
    }
   ],
   "source": [
    "data['Пол'].value_counts()"
   ]
  },
  {
   "cell_type": "code",
   "execution_count": 7,
   "metadata": {},
   "outputs": [
    {
     "data": {
      "text/plain": [
       "1    1814\n",
       "0    1513\n",
       "2    1071\n",
       "3     439\n",
       "4     124\n",
       "5      32\n",
       "6       7\n",
       "Name: Члены семьи, dtype: int64"
      ]
     },
     "execution_count": 7,
     "metadata": {},
     "output_type": "execute_result"
    }
   ],
   "source": [
    "data['Члены семьи'].value_counts()"
   ]
  },
  {
   "cell_type": "code",
   "execution_count": 8,
   "metadata": {},
   "outputs": [
    {
     "data": {
      "text/plain": [
       "0    4436\n",
       "1     423\n",
       "2     115\n",
       "3      18\n",
       "4       7\n",
       "5       1\n",
       "Name: Страховые выплаты, dtype: int64"
      ]
     },
     "execution_count": 8,
     "metadata": {},
     "output_type": "execute_result"
    }
   ],
   "source": [
    "data['Страховые выплаты'].value_counts()"
   ]
  },
  {
   "cell_type": "markdown",
   "metadata": {},
   "source": [
    "Теперь необходимо разделить данные на признаки и целевой признак"
   ]
  },
  {
   "cell_type": "code",
   "execution_count": 9,
   "metadata": {},
   "outputs": [
    {
     "data": {
      "text/plain": [
       "((5000, 4), (5000,))"
      ]
     },
     "execution_count": 9,
     "metadata": {},
     "output_type": "execute_result"
    }
   ],
   "source": [
    "features = data.drop('Страховые выплаты', axis = 1)\n",
    "target = data['Страховые выплаты']\n",
    "features.shape, target.shape"
   ]
  },
  {
   "cell_type": "code",
   "execution_count": 10,
   "metadata": {},
   "outputs": [],
   "source": [
    "features_train, features_valid, target_train, target_valid = train_test_split(features, target, test_size=0.25, random_state=12345)"
   ]
  },
  {
   "cell_type": "markdown",
   "metadata": {},
   "source": [
    "Проверяем разбивку"
   ]
  },
  {
   "cell_type": "code",
   "execution_count": 11,
   "metadata": {},
   "outputs": [
    {
     "data": {
      "text/plain": [
       "((3750, 4), (1250, 4), (3750,), (1250,))"
      ]
     },
     "execution_count": 11,
     "metadata": {},
     "output_type": "execute_result"
    }
   ],
   "source": [
    "features_train.shape, features_valid.shape, target_train.shape, target_valid.shape"
   ]
  },
  {
   "cell_type": "markdown",
   "metadata": {},
   "source": [
    "Данные разделены, можно приступать к работе"
   ]
  },
  {
   "cell_type": "markdown",
   "metadata": {},
   "source": [
    "### Промежуточный итог 1\n",
    "\n",
    "Мы загрузили датафрейм данных, осмотрели на пропуски, дубликаты, аномалии и прочую информацию. \n",
    "Из всего вышеперечисленного были только дубликаты (183), которые мы оставили на всякий случай.\n",
    "После этого мы разделили данные на признаки и целевой признак и тренировочную и валидационную выборки."
   ]
  },
  {
   "cell_type": "markdown",
   "metadata": {},
   "source": [
    "## Умножение матриц"
   ]
  },
  {
   "cell_type": "markdown",
   "metadata": {},
   "source": [
    "В этом задании вы можете записывать формулы в *Jupyter Notebook.*\n",
    "\n",
    "Чтобы записать формулу внутри текста, окружите её символами доллара \\\\$; если снаружи —  двойными символами \\\\$\\\\$. Эти формулы записываются на языке вёрстки *LaTeX.* \n",
    "\n",
    "Для примера мы записали формулы линейной регрессии. Можете их скопировать и отредактировать, чтобы решить задачу.\n",
    "\n",
    "Работать в *LaTeX* необязательно."
   ]
  },
  {
   "cell_type": "markdown",
   "metadata": {},
   "source": [
    "Обозначения:\n",
    "\n",
    "- $X$ — матрица признаков (нулевой столбец состоит из единиц)\n",
    "\n",
    "- $y$ — вектор целевого признака\n",
    "\n",
    "- $P$ — матрица, на которую умножаются признаки\n",
    "\n",
    "- $w$ — вектор весов линейной регрессии (нулевой элемент равен сдвигу)"
   ]
  },
  {
   "cell_type": "markdown",
   "metadata": {},
   "source": [
    "Предсказания:\n",
    "\n",
    "$$\n",
    "a = Xw\n",
    "$$\n",
    "\n",
    "Задача обучения:\n",
    "\n",
    "$$\n",
    "w = \\arg\\min_w MSE(Xw, y)\n",
    "$$\n",
    "\n",
    "Формула обучения:\n",
    "\n",
    "$$\n",
    "w = (X^T X)^{-1} X^T y\n",
    "$$"
   ]
  },
  {
   "cell_type": "markdown",
   "metadata": {},
   "source": [
    "## Матрицы\n",
    "Необходимо ответить на вопрос:\n",
    ">Признаки умножают на обратимую матрицу. Изменится ли качество линейной регрессии? (Её можно обучить заново.)\n",
    ">    1. Изменится. Приведите примеры матриц.\n",
    ">    2. Не изменится. Укажите, как связаны параметры линейной регрессии в исходной задаче и в преобразованной.\n",
    "\n",
    "### Неизмененные данные\n",
    "Посмотрим на значение метрик качества на неизмененных данных, но сначала напишем класс линейной регрессии, который будет давать нам все ответы"
   ]
  },
  {
   "cell_type": "code",
   "execution_count": 12,
   "metadata": {},
   "outputs": [],
   "source": [
    "class LinearRegress(LinearRegression):\n",
    "    def __init__(self):\n",
    "        self._regression = LinearRegression()\n",
    "    def fit(self, features, target):\n",
    "        self._regression.fit(features, target)\n",
    "        return self._regression\n",
    "    def predict(self, features_valid, target_valid):\n",
    "        predict = self._regression.predict(features_valid)\n",
    "        r2 = r2_score(target_valid, predict)\n",
    "        MSE = mean_squared_error(target_valid, predict)\n",
    "        return predict, r2, MSE"
   ]
  },
  {
   "cell_type": "code",
   "execution_count": 13,
   "metadata": {},
   "outputs": [],
   "source": [
    "model = LinearRegress()\n",
    "model.fit(features_train, target_train)\n",
    "predictions, r2, MSE = model.predict(features_valid, target_valid)"
   ]
  },
  {
   "cell_type": "code",
   "execution_count": 14,
   "metadata": {},
   "outputs": [
    {
     "name": "stdout",
     "output_type": "stream",
     "text": [
      "R2 score модели линейной регрессии на исходных данных равен 0.435\n",
      "MSE модели линейной регрессии на исходных данных равен 0.117\n"
     ]
    }
   ],
   "source": [
    "print(f'R2 score модели линейной регрессии на исходных данных равен {r2:.3f}')\n",
    "print(f'MSE модели линейной регрессии на исходных данных равен {MSE:.3f}')"
   ]
  },
  {
   "cell_type": "code",
   "execution_count": 15,
   "metadata": {},
   "outputs": [
    {
     "data": {
      "image/png": "[encoded data removed]",
      "text/plain": [
       "<Figure size 432x288 with 1 Axes>"
      ]
     },
     "metadata": {
      "needs_background": "light"
     },
     "output_type": "display_data"
    }
   ],
   "source": [
    "plt.plot(target_valid, predictions, 'o')\n",
    "plt.xlabel('Целевой признак')\n",
    "plt.ylabel('Предсказание')\n",
    "plt.title('Зависимость между предсказаниями модели \\nи целевым признаком')\n",
    "plt.show()"
   ]
  },
  {
   "cell_type": "markdown",
   "metadata": {},
   "source": [
    "### Измененные данные\n",
    "Для начала нам потребуется сгенерировать рандомную матрицу, при этом её высота должна совпадать с шириной нашей выборки.\n",
    "Будем делать рандомные числа по нормальному распределению, границей возьмем максимальное значение в целевом признаке, чтобы не брать из головы.\n",
    "\n",
    "После генерации сразу проверим обратимость матрицы. Если обратима, тогда проведем модификацию призаков, иначе выведем None-ы\n",
    "\n",
    "Для упрощения и ускорения задачи напишем класс-модификатор"
   ]
  },
  {
   "cell_type": "code",
   "execution_count": 16,
   "metadata": {},
   "outputs": [],
   "source": [
    "class modification():\n",
    "    def __init__(self, max, features):\n",
    "        self.matrix = np.random.normal(max, size = (features.shape[1], features.shape[1]))\n",
    "    def transform(self, features_train, features_valid):\n",
    "        try: \n",
    "            np.linalg.inv(self.matrix)\n",
    "            train = features_train @ self.matrix\n",
    "            valid = features_valid @ self.matrix\n",
    "            train.columns, valid.columns = features_train.columns, features_valid.columns\n",
    "            return train, valid    \n",
    "        except:\n",
    "            return None, None\n"
   ]
  },
  {
   "cell_type": "markdown",
   "metadata": {},
   "source": [
    "В качестве крайнего значения модифицирующей матрицы возьмем максимальное значение в целевом признаке (чтобы не брать совсем уж с потолка)"
   ]
  },
  {
   "cell_type": "code",
   "execution_count": 17,
   "metadata": {},
   "outputs": [
    {
     "data": {
      "text/html": [
       "<div>\n",
       "<style scoped>\n",
       "    .dataframe tbody tr th:only-of-type {\n",
       "        vertical-align: middle;\n",
       "    }\n",
       "\n",
       "    .dataframe tbody tr th {\n",
       "        vertical-align: top;\n",
       "    }\n",
       "\n",
       "    .dataframe thead th {\n",
       "        text-align: right;\n",
       "    }\n",
       "</style>\n",
       "<table border=\"1\" class=\"dataframe\">\n",
       "  <thead>\n",
       "    <tr style=\"text-align: right;\">\n",
       "      <th></th>\n",
       "      <th>Пол</th>\n",
       "      <th>Возраст</th>\n",
       "      <th>Зарплата</th>\n",
       "      <th>Члены семьи</th>\n",
       "    </tr>\n",
       "  </thead>\n",
       "  <tbody>\n",
       "    <tr>\n",
       "      <th>3369</th>\n",
       "      <td>200470.194601</td>\n",
       "      <td>215146.781069</td>\n",
       "      <td>149319.939053</td>\n",
       "      <td>244721.632469</td>\n",
       "    </tr>\n",
       "    <tr>\n",
       "      <th>1441</th>\n",
       "      <td>318792.373144</td>\n",
       "      <td>342186.293458</td>\n",
       "      <td>237397.818993</td>\n",
       "      <td>389185.575365</td>\n",
       "    </tr>\n",
       "    <tr>\n",
       "      <th>571</th>\n",
       "      <td>227513.872381</td>\n",
       "      <td>244197.490199</td>\n",
       "      <td>169435.131400</td>\n",
       "      <td>277744.984771</td>\n",
       "    </tr>\n",
       "    <tr>\n",
       "      <th>225</th>\n",
       "      <td>249660.325095</td>\n",
       "      <td>267966.688943</td>\n",
       "      <td>185929.425111</td>\n",
       "      <td>304780.709177</td>\n",
       "    </tr>\n",
       "    <tr>\n",
       "      <th>2558</th>\n",
       "      <td>280073.840825</td>\n",
       "      <td>300620.690989</td>\n",
       "      <td>208568.537341</td>\n",
       "      <td>341911.153302</td>\n",
       "    </tr>\n",
       "  </tbody>\n",
       "</table>\n",
       "</div>"
      ],
      "text/plain": [
       "                Пол        Возраст       Зарплата    Члены семьи\n",
       "3369  200470.194601  215146.781069  149319.939053  244721.632469\n",
       "1441  318792.373144  342186.293458  237397.818993  389185.575365\n",
       "571   227513.872381  244197.490199  169435.131400  277744.984771\n",
       "225   249660.325095  267966.688943  185929.425111  304780.709177\n",
       "2558  280073.840825  300620.690989  208568.537341  341911.153302"
      ]
     },
     "metadata": {},
     "output_type": "display_data"
    },
    {
     "data": {
      "text/html": [
       "<div>\n",
       "<style scoped>\n",
       "    .dataframe tbody tr th:only-of-type {\n",
       "        vertical-align: middle;\n",
       "    }\n",
       "\n",
       "    .dataframe tbody tr th {\n",
       "        vertical-align: top;\n",
       "    }\n",
       "\n",
       "    .dataframe thead th {\n",
       "        text-align: right;\n",
       "    }\n",
       "</style>\n",
       "<table border=\"1\" class=\"dataframe\">\n",
       "  <thead>\n",
       "    <tr style=\"text-align: right;\">\n",
       "      <th></th>\n",
       "      <th>Пол</th>\n",
       "      <th>Возраст</th>\n",
       "      <th>Зарплата</th>\n",
       "      <th>Члены семьи</th>\n",
       "    </tr>\n",
       "  </thead>\n",
       "  <tbody>\n",
       "    <tr>\n",
       "      <th>3183</th>\n",
       "      <td>215919.870148</td>\n",
       "      <td>231746.201035</td>\n",
       "      <td>160806.290376</td>\n",
       "      <td>263582.578730</td>\n",
       "    </tr>\n",
       "    <tr>\n",
       "      <th>1071</th>\n",
       "      <td>238674.702283</td>\n",
       "      <td>256150.654256</td>\n",
       "      <td>177772.193171</td>\n",
       "      <td>291358.271854</td>\n",
       "    </tr>\n",
       "    <tr>\n",
       "      <th>2640</th>\n",
       "      <td>233079.845862</td>\n",
       "      <td>250161.988066</td>\n",
       "      <td>173591.588376</td>\n",
       "      <td>284538.534602</td>\n",
       "    </tr>\n",
       "    <tr>\n",
       "      <th>2282</th>\n",
       "      <td>192598.350345</td>\n",
       "      <td>206733.305752</td>\n",
       "      <td>143421.548884</td>\n",
       "      <td>235126.773488</td>\n",
       "    </tr>\n",
       "    <tr>\n",
       "      <th>1595</th>\n",
       "      <td>221492.329125</td>\n",
       "      <td>237716.275268</td>\n",
       "      <td>164967.137100</td>\n",
       "      <td>270381.253207</td>\n",
       "    </tr>\n",
       "  </tbody>\n",
       "</table>\n",
       "</div>"
      ],
      "text/plain": [
       "                Пол        Возраст       Зарплата    Члены семьи\n",
       "3183  215919.870148  231746.201035  160806.290376  263582.578730\n",
       "1071  238674.702283  256150.654256  177772.193171  291358.271854\n",
       "2640  233079.845862  250161.988066  173591.588376  284538.534602\n",
       "2282  192598.350345  206733.305752  143421.548884  235126.773488\n",
       "1595  221492.329125  237716.275268  164967.137100  270381.253207"
      ]
     },
     "metadata": {},
     "output_type": "display_data"
    }
   ],
   "source": [
    "mod = modification(target.max(), features_train)\n",
    "modified_features_train, modified_features_valid =  mod.transform(features_train, features_valid)\n",
    "display(modified_features_train.head(), modified_features_valid.head())"
   ]
  },
  {
   "cell_type": "markdown",
   "metadata": {},
   "source": [
    "Видим, данные изменились"
   ]
  },
  {
   "cell_type": "code",
   "execution_count": 18,
   "metadata": {},
   "outputs": [],
   "source": [
    "model = LinearRegress()\n",
    "model.fit(modified_features_train, target_train)\n",
    "mod_predictions, mod_r2, mod_MSE = model.predict(modified_features_valid, target_valid)"
   ]
  },
  {
   "cell_type": "code",
   "execution_count": 19,
   "metadata": {},
   "outputs": [
    {
     "name": "stdout",
     "output_type": "stream",
     "text": [
      "R2 score модели линейной регрессии на измененных данных равен 0.435\n",
      "MSE модели линейной регрессии на измененных данных равен 0.117\n"
     ]
    }
   ],
   "source": [
    "print(f'R2 score модели линейной регрессии на измененных данных равен {mod_r2:.3f}')\n",
    "print(f'MSE модели линейной регрессии на измененных данных равен {mod_MSE:.3f}')"
   ]
  },
  {
   "cell_type": "code",
   "execution_count": 20,
   "metadata": {},
   "outputs": [
    {
     "data": {
      "image/png": "[encoded data removed]",
      "text/plain": [
       "<Figure size 432x288 with 1 Axes>"
      ]
     },
     "metadata": {
      "needs_background": "light"
     },
     "output_type": "display_data"
    }
   ],
   "source": [
    "plt.plot(target_valid, predictions, 'o', alpha = 0.4, color = 'r')\n",
    "plt.plot(target_valid, mod_predictions, '>', alpha = 0.4, color = 'y')\n",
    "plt.xlabel('Целевой признак')\n",
    "plt.ylabel('Предсказание')\n",
    "plt.legend([ 'Предсказание модели по начальным признакам', 'Предсказание модели по изменёнными признакам'])\n",
    "plt.title('Зависимость между предсказаниями модели \\nи целевым признаком')\n",
    "plt.show()"
   ]
  },
  {
   "cell_type": "markdown",
   "metadata": {},
   "source": [
    "### Промежуточный итог 2\n",
    "Мы получили результаты метрик качества регрессии для данных без изменения и данных, умноженных на обратимую матрицу.\n",
    "После подведения всех итогов можно с уверенностью сказать, что значение метрик не меняется. Это происходит просто по свойствам транспонирования и обратного преобразования произведения матриц.\n",
    "\n",
    "**Рассмотрим сначала картину неизмененных данных. Минимизация идёт по w:**\n",
    "$$a = X*w$$\n",
    "$$w_{min} = (X^{T}*X)^{-1}*X^{T}*y$$\n",
    "Обратное преобразование произведения матриц даёт произведение обратных матриц:\n",
    "$$w_{min} = (X^{T})^{-1}*X^{-1}*X^{T}*y$$\n",
    "Ну а произведение обратной матрицы на саму себя даёт единичную матрицу, которая при произведение на матрицу даёт в результате эту же матрицу:\n",
    "$$w_{min} = E*X^{-1}*y$$\n",
    "$$w_{min} = X^{-1}*y$$\n",
    "Подставляем в формулу вектора предсказаний:\n",
    "$$a = X*X^{-1}*y = E*y = y$$\n",
    "\n",
    "\n",
    "**Рассмотрим же теперь данные, которые умножили на обратимую матрицу:**\n",
    "$$w{'}_{min} = [(X*A)^{T}*(X*A)]^{-1}*(X*A)^{T}*y$$\n",
    "Воспользуемся сочетательным свойством или ассоциативностью:\n",
    "$$ A (B C) = (A B) C = ABC $$\n",
    "Пользуемся тем же свойством транспонации:\n",
    "$$w{'}_{min} = [X^{T}*A^{T}*X*A]^{-1}*X^{T}*A^{T}*y$$\n",
    "$$w{'}_{min} = ([X^{T}*X*A^{T}]*A)^{-1}*X^{T}*A^{T}*y$$\n",
    "Ну и также раскрываем обратное преобразование:\n",
    "$$w{'}_{min} = [X^{T}*A^{T}*X]^{-1}*A^{-1}*X^{T}*A^{T}*y$$\n",
    "Немного поправим выражение внутри скобок:\n",
    "$$w{'}_{min} = [(X^{T}*X)*A^{T}]^{-1}*A^{-1}*X^{T}*A^{T}*y$$\n",
    "Далее снова раскроем обратное преобразование:\n",
    "$$w{'}_{min} = (X^{T}*X)^{-1}*(A^{T})^{-1}*A^{-1}*X^{T}*A^{T}*y$$\n",
    "$$w{'}_{min} = (X^{T}*X)^{-1}*A^{-1}*X^{T}*y$$\n",
    "Заметим, что эта формула для $w{'}_{min}$ очень похожа на $w_{min}$:\n",
    "$$w{'}_{min} = A^{-1}*w_{min} $$\n",
    "Тогда получим следующую формулу для предсказаний:\n",
    "$$a = X*A*w{'}_{min}*y$$\n",
    "$$a = X*A*A^{-1}*w_{min}$$\n",
    "$$a = X*E*w_{min} = X*w_{min}$$\n",
    "И эта формула уже идентичная предсказаниям на неизмененных данных\n",
    "\n",
    "Как видно, векторы предсказаний для неизмененной и измененной матриц полностью совпадают, что доказывает отсутствие влияния произведения признаков и обратимой матрицы на итоговый результат"
   ]
  },
  {
   "cell_type": "markdown",
   "metadata": {},
   "source": [
    "**Ответ:** не изменится\n",
    "\n",
    "**Обоснование:** выше"
   ]
  },
  {
   "cell_type": "markdown",
   "metadata": {},
   "source": [
    "## Алгоритм преобразования"
   ]
  },
  {
   "cell_type": "markdown",
   "metadata": {},
   "source": [
    "**Алгоритм**\n",
    "\n",
    "Исходя из всего вышеперечисленного можно выделить следующий алгоритм преобразования:\n",
    "1. Расчёт метрик точности $R^2$ и $MSE$ для исходных данных\n",
    "2. Получение матрицы данных $X$ размером ($ m \\times n $)\n",
    "3. Генерация рандомной матрицы $A$ размером ($ n \\times n $) (матрицу необходимо сохранить, чтобы получатель мог декодировать данные)\n",
    "4. Проверка матрицы $A$ на обратимость\n",
    "5. Умножение матрицы данных $X$ на рандомную матрицу `A` с получением измененной матрицы данных $X_i$ размером ($ m \\times n $)\n",
    "6. Расчёт метрик точности $R^2$ и $MSE$ для изменённых данных\n",
    "7. Получение вывода о проведённой операции"
   ]
  },
  {
   "cell_type": "markdown",
   "metadata": {},
   "source": [
    "**Обоснование**\n",
    "\n",
    "Опять же, обоснование выше: умножение на обратимую матрицу, на основании формулы предсказания линейной регрессии, не меняет предсказания регрессии, а значит, не меняются метрики качества, при этом данные визуально изменяются, что затрудняет их использование третьими лицами без наличия ключа (матрицы)"
   ]
  },
  {
   "cell_type": "markdown",
   "metadata": {},
   "source": [
    "## Проверка алгоритма"
   ]
  },
  {
   "cell_type": "markdown",
   "metadata": {},
   "source": [
    "### Расчёт метрик точности для исходных данных\n",
    "Рассчитаем метрики с помощью специально написанного класса"
   ]
  },
  {
   "cell_type": "code",
   "execution_count": 21,
   "metadata": {},
   "outputs": [],
   "source": [
    "model = LinearRegress()\n",
    "model.fit(features_train,target_train)\n",
    "a, r2, mse = model.predict(features_valid,target_valid)"
   ]
  },
  {
   "cell_type": "code",
   "execution_count": 22,
   "metadata": {},
   "outputs": [
    {
     "name": "stdout",
     "output_type": "stream",
     "text": [
      "R2 score модели линейной регрессии на исходных данных равен 0.435\n",
      "MSE модели линейной регрессии на исходных данных равен 0.117\n"
     ]
    }
   ],
   "source": [
    "print(f'R2 score модели линейной регрессии на исходных данных равен {r2:.3f}')\n",
    "print(f'MSE модели линейной регрессии на исходных данных равен {mse:.3f}')"
   ]
  },
  {
   "cell_type": "markdown",
   "metadata": {},
   "source": [
    "### Получение матрицы данных\n",
    "Теперь получем матрицу из наших данных"
   ]
  },
  {
   "cell_type": "code",
   "execution_count": 23,
   "metadata": {},
   "outputs": [],
   "source": [
    "X = features_train.values\n",
    "X_test = features_valid.values"
   ]
  },
  {
   "cell_type": "markdown",
   "metadata": {},
   "source": [
    "### Генерация рандомной матрицы\n",
    "Сгенерируем рандомную матрицу, которая по длине совпадает с шириной матрицы признаков"
   ]
  },
  {
   "cell_type": "code",
   "execution_count": 24,
   "metadata": {},
   "outputs": [],
   "source": [
    "A = np.random.normal(target.max(), \n",
    "                     size = (X.shape[1], X.shape[1]))"
   ]
  },
  {
   "cell_type": "markdown",
   "metadata": {},
   "source": [
    "### Проверка матрицы на обратимость\n"
   ]
  },
  {
   "cell_type": "code",
   "execution_count": 25,
   "metadata": {},
   "outputs": [
    {
     "name": "stdout",
     "output_type": "stream",
     "text": [
      "Матрица обратима!\n"
     ]
    }
   ],
   "source": [
    "try:    \n",
    "    np.linalg.inv(A)\n",
    "    print('Матрица обратима!')\n",
    "except:\n",
    "    print('Матрица необратима!')"
   ]
  },
  {
   "cell_type": "markdown",
   "metadata": {},
   "source": [
    "### Умножение матрицы данных на рандомную\n"
   ]
  },
  {
   "cell_type": "code",
   "execution_count": 26,
   "metadata": {},
   "outputs": [],
   "source": [
    "modified_X = X @ A\n",
    "modified_X_test = X_test @ A"
   ]
  },
  {
   "cell_type": "code",
   "execution_count": 27,
   "metadata": {},
   "outputs": [
    {
     "data": {
      "text/plain": [
       "(array([[192944.45898222, 210602.00342134, 232594.56505657,\n",
       "         145027.57284571],\n",
       "        [306723.03680128, 334894.5111942 , 369880.30181032,\n",
       "         230685.63327967],\n",
       "        [218923.41392643, 239008.09737574, 263971.1873668 ,\n",
       "         164617.82512077],\n",
       "        ...,\n",
       "        [238151.59109084, 259981.94331689, 287135.38966143,\n",
       "         179055.26255085],\n",
       "        [266745.29609127, 291267.37933378, 321690.57697706,\n",
       "         200644.18818375],\n",
       "        [217219.21243392, 237185.12974615, 261963.92775238,\n",
       "         163387.7387607 ]]),\n",
       " array([[207776.08504429, 226830.33039014, 250515.94125891,\n",
       "         156224.10951309],\n",
       "        [229711.52026331, 250737.53055565, 276918.32645132,\n",
       "         172663.80159496],\n",
       "        [224297.14452173, 244856.37443626, 270431.44991245,\n",
       "         168637.73396967],\n",
       "        ...,\n",
       "        [225329.74643189, 245995.94499606, 271691.54755347,\n",
       "         169430.80743079],\n",
       "        [220017.27576436, 240190.85629839, 265279.47111999,\n",
       "         165429.01581243],\n",
       "        [165853.77187313, 180996.71836168, 199891.53448451,\n",
       "         124613.32842086]]))"
      ]
     },
     "execution_count": 27,
     "metadata": {},
     "output_type": "execute_result"
    }
   ],
   "source": [
    "modified_X, modified_X_test"
   ]
  },
  {
   "cell_type": "markdown",
   "metadata": {},
   "source": [
    "Видим, матрица данных изменилась"
   ]
  },
  {
   "cell_type": "markdown",
   "metadata": {},
   "source": [
    "### Получение метрик качества на измененных признаках\n"
   ]
  },
  {
   "cell_type": "code",
   "execution_count": 28,
   "metadata": {},
   "outputs": [],
   "source": [
    "model = LinearRegress()\n",
    "model.fit(modified_X,target_train)\n",
    "a_mod, r2_mod, mse_mod = model.predict(modified_X_test,target_valid)"
   ]
  },
  {
   "cell_type": "code",
   "execution_count": 29,
   "metadata": {},
   "outputs": [
    {
     "name": "stdout",
     "output_type": "stream",
     "text": [
      "R2 score модели линейной регрессии на измененных данных равен 0.435\n",
      "MSE модели линейной регрессии на измененных данных равен 0.117\n"
     ]
    }
   ],
   "source": [
    "print(f'R2 score модели линейной регрессии на измененных данных равен {r2_mod:.3f}')\n",
    "print(f'MSE модели линейной регрессии на измененных данных равен {mse_mod:.3f}')"
   ]
  },
  {
   "cell_type": "markdown",
   "metadata": {},
   "source": [
    "### Получение вывода о проведенной операции"
   ]
  },
  {
   "cell_type": "code",
   "execution_count": 30,
   "metadata": {},
   "outputs": [
    {
     "name": "stdout",
     "output_type": "stream",
     "text": [
      "Метрики не изменились после модификации данных!\n"
     ]
    }
   ],
   "source": [
    "if (round(r2, 3) == round(r2_mod, 3)) & (round(mse, 3) == round(mse_mod,3)):\n",
    "    print('Метрики не изменились после модификации данных!')\n",
    "else:\n",
    "    print('После модификации данных метрики изменились! Проверьте алгоритм!')"
   ]
  },
  {
   "cell_type": "markdown",
   "metadata": {},
   "source": [
    "Как видно, после модификации данных метрики не изменились, данные защищены!"
   ]
  },
  {
   "cell_type": "markdown",
   "metadata": {},
   "source": [
    "### Комментарий\n",
    "Я создал класс, который генерирует матрицу, проверяет её на обратимость и меняет данные"
   ]
  },
  {
   "cell_type": "code",
   "execution_count": 31,
   "metadata": {},
   "outputs": [
    {
     "data": {
      "text/html": [
       "<div>\n",
       "<style scoped>\n",
       "    .dataframe tbody tr th:only-of-type {\n",
       "        vertical-align: middle;\n",
       "    }\n",
       "\n",
       "    .dataframe tbody tr th {\n",
       "        vertical-align: top;\n",
       "    }\n",
       "\n",
       "    .dataframe thead th {\n",
       "        text-align: right;\n",
       "    }\n",
       "</style>\n",
       "<table border=\"1\" class=\"dataframe\">\n",
       "  <thead>\n",
       "    <tr style=\"text-align: right;\">\n",
       "      <th></th>\n",
       "      <th>Пол</th>\n",
       "      <th>Возраст</th>\n",
       "      <th>Зарплата</th>\n",
       "      <th>Члены семьи</th>\n",
       "    </tr>\n",
       "  </thead>\n",
       "  <tbody>\n",
       "    <tr>\n",
       "      <th>3369</th>\n",
       "      <td>181994.794388</td>\n",
       "      <td>240778.720900</td>\n",
       "      <td>224761.175140</td>\n",
       "      <td>150172.224043</td>\n",
       "    </tr>\n",
       "    <tr>\n",
       "      <th>1441</th>\n",
       "      <td>289424.523821</td>\n",
       "      <td>382942.827014</td>\n",
       "      <td>357396.137714</td>\n",
       "      <td>238791.772945</td>\n",
       "    </tr>\n",
       "    <tr>\n",
       "      <th>571</th>\n",
       "      <td>206552.517904</td>\n",
       "      <td>273284.581674</td>\n",
       "      <td>255067.675032</td>\n",
       "      <td>170423.196501</td>\n",
       "    </tr>\n",
       "    <tr>\n",
       "      <th>225</th>\n",
       "      <td>226658.368538</td>\n",
       "      <td>299885.298716</td>\n",
       "      <td>279896.997974</td>\n",
       "      <td>187012.505701</td>\n",
       "    </tr>\n",
       "    <tr>\n",
       "      <th>2558</th>\n",
       "      <td>254271.423423</td>\n",
       "      <td>336426.347061</td>\n",
       "      <td>313987.580343</td>\n",
       "      <td>209793.359853</td>\n",
       "    </tr>\n",
       "  </tbody>\n",
       "</table>\n",
       "</div>"
      ],
      "text/plain": [
       "                Пол        Возраст       Зарплата    Члены семьи\n",
       "3369  181994.794388  240778.720900  224761.175140  150172.224043\n",
       "1441  289424.523821  382942.827014  357396.137714  238791.772945\n",
       "571   206552.517904  273284.581674  255067.675032  170423.196501\n",
       "225   226658.368538  299885.298716  279896.997974  187012.505701\n",
       "2558  254271.423423  336426.347061  313987.580343  209793.359853"
      ]
     },
     "metadata": {},
     "output_type": "display_data"
    },
    {
     "data": {
      "text/html": [
       "<div>\n",
       "<style scoped>\n",
       "    .dataframe tbody tr th:only-of-type {\n",
       "        vertical-align: middle;\n",
       "    }\n",
       "\n",
       "    .dataframe tbody tr th {\n",
       "        vertical-align: top;\n",
       "    }\n",
       "\n",
       "    .dataframe thead th {\n",
       "        text-align: right;\n",
       "    }\n",
       "</style>\n",
       "<table border=\"1\" class=\"dataframe\">\n",
       "  <thead>\n",
       "    <tr style=\"text-align: right;\">\n",
       "      <th></th>\n",
       "      <th>Пол</th>\n",
       "      <th>Возраст</th>\n",
       "      <th>Зарплата</th>\n",
       "      <th>Члены семьи</th>\n",
       "    </tr>\n",
       "  </thead>\n",
       "  <tbody>\n",
       "    <tr>\n",
       "      <th>3183</th>\n",
       "      <td>196023.774030</td>\n",
       "      <td>259350.163537</td>\n",
       "      <td>242068.089550</td>\n",
       "      <td>161745.092195</td>\n",
       "    </tr>\n",
       "    <tr>\n",
       "      <th>1071</th>\n",
       "      <td>216679.431616</td>\n",
       "      <td>286666.309995</td>\n",
       "      <td>267591.095202</td>\n",
       "      <td>178790.877654</td>\n",
       "    </tr>\n",
       "    <tr>\n",
       "      <th>2640</th>\n",
       "      <td>211603.446561</td>\n",
       "      <td>279962.366903</td>\n",
       "      <td>261315.129894</td>\n",
       "      <td>174593.942134</td>\n",
       "    </tr>\n",
       "    <tr>\n",
       "      <th>2282</th>\n",
       "      <td>174856.579035</td>\n",
       "      <td>231355.979108</td>\n",
       "      <td>215919.365449</td>\n",
       "      <td>144265.088255</td>\n",
       "    </tr>\n",
       "    <tr>\n",
       "      <th>1595</th>\n",
       "      <td>201080.659012</td>\n",
       "      <td>266033.573480</td>\n",
       "      <td>248320.704679</td>\n",
       "      <td>165921.697367</td>\n",
       "    </tr>\n",
       "  </tbody>\n",
       "</table>\n",
       "</div>"
      ],
      "text/plain": [
       "                Пол        Возраст       Зарплата    Члены семьи\n",
       "3183  196023.774030  259350.163537  242068.089550  161745.092195\n",
       "1071  216679.431616  286666.309995  267591.095202  178790.877654\n",
       "2640  211603.446561  279962.366903  261315.129894  174593.942134\n",
       "2282  174856.579035  231355.979108  215919.365449  144265.088255\n",
       "1595  201080.659012  266033.573480  248320.704679  165921.697367"
      ]
     },
     "metadata": {},
     "output_type": "display_data"
    }
   ],
   "source": [
    "mod = modification(target.max(), features_train)\n",
    "modified_X, modified_X_test =  mod.transform(features_train, features_valid)\n",
    "display(modified_X.head(), modified_X_test.head())"
   ]
  },
  {
   "cell_type": "markdown",
   "metadata": {},
   "source": [
    "Ну а далее можно эти измененные данные кидать в топку класса с регрессией и расчетом метрик"
   ]
  },
  {
   "cell_type": "markdown",
   "metadata": {},
   "source": [
    "# Вывод"
   ]
  },
  {
   "cell_type": "markdown",
   "metadata": {},
   "source": [
    "## Чек-лист проверки"
   ]
  },
  {
   "cell_type": "markdown",
   "metadata": {},
   "source": [
    "### Промежуточный итог 1\n",
    "\n",
    "Мы загрузили датафрейм данных, осмотрели на пропуски, дубликаты, аномалии и прочую информацию. \n",
    "Из всего вышеперечисленного были только дубликаты (183), которые мы оставили на всякий случай.\n",
    "После этого мы разделили данные на признаки и целевой признак и тренировочную и валидационную выборки."
   ]
  },
  {
   "cell_type": "markdown",
   "metadata": {},
   "source": [
    "### Промежуточный итог 2\n",
    "Мы получили результаты метрик качества регрессии для данных без изменения и данных, умноженных на обратимую матрицу.\n",
    "После подведения всех итогов можно с уверенностью сказать, что значение метрик не меняется. Это происходит просто по свойствам транспонирования и обратного преобразования произведения матриц.\n",
    "\n",
    "**Рассмотрим сначала картину неизмененных данных. Минимизация идёт по w:**\n",
    "$$a = X*w$$\n",
    "$$w_{min} = (X^{T}*X)^{-1}*X^{T}*y$$\n",
    "Обратное преобразование произведения матриц даёт произведение обратных матриц:\n",
    "$$w_{min} = (X^{T})^{-1}*X^{-1}*X^{T}*y$$\n",
    "Ну а произведение обратной матрицы на саму себя даёт единичную матрицу, которая при произведение на матрицу даёт в результате эту же матрицу:\n",
    "$$w_{min} = E*X^{-1}*y$$\n",
    "$$w_{min} = X^{-1}*y$$\n",
    "Подставляем в формулу вектора предсказаний:\n",
    "$$a = X*X^{-1}*y = E*y = y$$\n",
    "\n",
    "\n",
    "**Рассмотрим же теперь данные, которые умножили на обратимую матрицу:**\n",
    "$$w{'}_{min} = [(X*A)^{T}*(X*A)]^{-1}*(X*A)^{T}*y$$\n",
    "Воспользуемся сочетательным свойством или ассоциативностью:\n",
    "$$ A (B C) = (A B) C = ABC $$\n",
    "Пользуемся тем же свойством транспонации:\n",
    "$$w{'}_{min} = [X^{T}*A^{T}*X*A]^{-1}*X^{T}*A^{T}*y$$\n",
    "$$w{'}_{min} = ([X^{T}*X*A^{T}]*A)^{-1}*X^{T}*A^{T}*y$$\n",
    "Ну и также раскрываем обратное преобразование:\n",
    "$$w{'}_{min} = [X^{T}*A^{T}*X]^{-1}*A^{-1}*X^{T}*A^{T}*y$$\n",
    "Немного поправим выражение внутри скобок:\n",
    "$$w{'}_{min} = [(X^{T}*X)*A^{T}]^{-1}*A^{-1}*X^{T}*A^{T}*y$$\n",
    "Далее снова раскроем обратное преобразование:\n",
    "$$w{'}_{min} = (X^{T}*X)^{-1}*(A^{T})^{-1}*A^{-1}*X^{T}*A^{T}*y$$\n",
    "$$w{'}_{min} = (X^{T}*X)^{-1}*A^{-1}*X^{T}*y$$\n",
    "Заметим, что эта формула для $w{'}_{min}$ очень похожа на $w_{min}$:\n",
    "$$w{'}_{min} = A^{-1}*w_{min} $$\n",
    "Тогда получим следующую формулу для предсказаний:\n",
    "$$a = X*A*w{'}_{min}*y$$\n",
    "$$a = X*A*A^{-1}*w_{min}$$\n",
    "$$a = X*E*w_{min} = X*w_{min}$$\n",
    "И эта формула уже идентичная предсказаниям на неизмененных данных\n",
    "\n",
    "Как видно, векторы предсказаний для неизмененной и измененной матриц полностью совпадают, что доказывает отсутствие влияния произведения признаков и обратимой матрицы на итоговый результат"
   ]
  },
  {
   "cell_type": "markdown",
   "metadata": {},
   "source": [
    "**Алгоритм**\n",
    "\n",
    "Исходя из всего вышеперечисленного можно выделить следующий алгоритм преобразования:\n",
    "1. Расчёт метрик точности $R^2$ и $MSE$ для исходных данных\n",
    "2. Получение матрицы данных $X$ размером ($ m \\times n $)\n",
    "3. Генерация рандомной матрицы $A$ размером ($ n \\times n $) (матрицу необходимо сохранить, чтобы получатель мог декодировать данные)\n",
    "4. Проверка матрицы $A$ на обратимость\n",
    "5. Умножение матрицы данных $X$ на рандомную матрицу `A` с получением измененной матрицы данных $X_i$ размером ($ m \\times n $)\n",
    "6. Расчёт метрик точности $R^2$ и $MSE$ для изменённых данных\n",
    "7. Получение вывода о проведённой операции"
   ]
  },
  {
   "cell_type": "markdown",
   "metadata": {},
   "source": [
    "**Обоснование**\n",
    "\n",
    "Опять же, обоснование выше: умножение на обратимую матрицу, на основании формулы предсказания линейной регрессии, не меняет предсказания регрессии, а значит, не меняются метрики качества, при этом данные визуально изменяются, что затрудняет их использование третьими лицами без наличия ключа (матрицы)"
   ]
  },
  {
   "cell_type": "markdown",
   "metadata": {},
   "source": [
    "## Итоговый итог\n",
    "Мы получили алгоритм преобразования данных клиентов, который не вредит качеству предсказаний модели линейной регрессии, при этом надежно защищает данные от посягательств (без ключа, т.е. матрицы, их не расшифровать)"
   ]
  },
  {
   "cell_type": "markdown",
   "metadata": {},
   "source": [
    "Поставьте 'x' в выполненных пунктах. Далее нажмите Shift+Enter."
   ]
  },
  {
   "cell_type": "markdown",
   "metadata": {},
   "source": [
    "- [x]  Jupyter Notebook открыт\n",
    "- [x]  Весь код выполняется без ошибок\n",
    "- [x]  Ячейки с кодом расположены в порядке исполнения\n",
    "- [x]  Выполнен шаг 1: данные загружены\n",
    "- [x]  Выполнен шаг 2: получен ответ на вопрос об умножении матриц\n",
    "    - [x]  Указан правильный вариант ответа\n",
    "    - [x]  Вариант обоснован\n",
    "- [x]  Выполнен шаг 3: предложен алгоритм преобразования\n",
    "    - [x]  Алгоритм описан\n",
    "    - [x]  Алгоритм обоснован\n",
    "- [x]  Выполнен шаг 4: алгоритм проверен\n",
    "    - [x]  Алгоритм реализован\n",
    "    - [x]  Проведено сравнение качества моделей до и после преобразования"
   ]
  }
 ],
 "metadata": {
  "ExecuteTimeLog": [
   {
    "duration": 3727,
    "start_time": "2023-08-13T03:04:34.150Z"
   },
   {
    "duration": 2057,
    "start_time": "2023-08-13T03:04:37.975Z"
   },
   {
    "duration": 261,
    "start_time": "2023-08-13T03:05:09.751Z"
   },
   {
    "duration": 86,
    "start_time": "2023-08-13T03:05:37.971Z"
   },
   {
    "duration": 8,
    "start_time": "2023-08-13T03:05:51.691Z"
   },
   {
    "duration": 2008,
    "start_time": "2023-08-13T03:05:55.789Z"
   },
   {
    "duration": 137,
    "start_time": "2023-08-13T03:06:18.477Z"
   },
   {
    "duration": 8,
    "start_time": "2023-08-13T03:06:24.885Z"
   },
   {
    "duration": 7,
    "start_time": "2023-08-13T03:06:33.925Z"
   },
   {
    "duration": 6,
    "start_time": "2023-08-13T03:06:41.006Z"
   },
   {
    "duration": 7,
    "start_time": "2023-08-13T03:06:45.465Z"
   },
   {
    "duration": 7,
    "start_time": "2023-08-13T03:06:54.884Z"
   },
   {
    "duration": 7,
    "start_time": "2023-08-13T03:06:58.970Z"
   },
   {
    "duration": 5,
    "start_time": "2023-08-13T03:07:11.144Z"
   },
   {
    "duration": 6,
    "start_time": "2023-08-13T03:08:34.762Z"
   },
   {
    "duration": 13,
    "start_time": "2023-08-13T03:08:40.217Z"
   },
   {
    "duration": 4,
    "start_time": "2023-08-13T03:08:44.459Z"
   },
   {
    "duration": 203,
    "start_time": "2023-08-13T03:08:49.945Z"
   },
   {
    "duration": 4,
    "start_time": "2023-08-13T03:09:02.751Z"
   },
   {
    "duration": 165,
    "start_time": "2023-08-13T03:09:07.413Z"
   },
   {
    "duration": 65,
    "start_time": "2023-08-13T03:09:12.336Z"
   },
   {
    "duration": 11,
    "start_time": "2023-08-13T03:09:22.965Z"
   },
   {
    "duration": 6,
    "start_time": "2023-08-13T03:09:26.747Z"
   },
   {
    "duration": 269,
    "start_time": "2023-08-13T03:09:30.211Z"
   },
   {
    "duration": 12,
    "start_time": "2023-08-13T03:12:29.259Z"
   },
   {
    "duration": 4,
    "start_time": "2023-08-13T03:12:32.947Z"
   },
   {
    "duration": 172,
    "start_time": "2023-08-13T03:12:39.329Z"
   },
   {
    "duration": 4,
    "start_time": "2023-08-13T03:12:48.160Z"
   },
   {
    "duration": 4,
    "start_time": "2023-08-13T03:13:01.560Z"
   },
   {
    "duration": 5,
    "start_time": "2023-08-13T03:13:14.726Z"
   },
   {
    "duration": 4,
    "start_time": "2023-08-13T03:13:25.529Z"
   },
   {
    "duration": 6,
    "start_time": "2023-08-13T03:13:31.070Z"
   },
   {
    "duration": 7,
    "start_time": "2023-08-13T03:13:47.764Z"
   },
   {
    "duration": 4,
    "start_time": "2023-08-13T03:13:57.401Z"
   },
   {
    "duration": 6,
    "start_time": "2023-08-13T03:14:07.452Z"
   },
   {
    "duration": 21,
    "start_time": "2023-08-13T03:14:22.304Z"
   },
   {
    "duration": 2411,
    "start_time": "2023-08-13T03:31:21.503Z"
   },
   {
    "duration": 1573,
    "start_time": "2023-08-13T03:31:23.917Z"
   },
   {
    "duration": 51,
    "start_time": "2023-08-13T03:31:25.491Z"
   },
   {
    "duration": 8,
    "start_time": "2023-08-13T03:31:25.544Z"
   },
   {
    "duration": 2146,
    "start_time": "2023-08-13T03:31:25.556Z"
   },
   {
    "duration": 21,
    "start_time": "2023-08-13T03:31:27.705Z"
   },
   {
    "duration": 7,
    "start_time": "2023-08-13T03:31:27.730Z"
   },
   {
    "duration": 28,
    "start_time": "2023-08-13T03:31:27.739Z"
   },
   {
    "duration": 57,
    "start_time": "2023-08-13T03:31:27.770Z"
   },
   {
    "duration": 17,
    "start_time": "2023-08-13T03:31:27.830Z"
   },
   {
    "duration": 15,
    "start_time": "2023-08-13T03:31:27.849Z"
   },
   {
    "duration": 21,
    "start_time": "2023-08-13T03:31:27.867Z"
   },
   {
    "duration": 67,
    "start_time": "2023-08-13T03:31:27.891Z"
   },
   {
    "duration": 42,
    "start_time": "2023-08-13T03:31:27.964Z"
   },
   {
    "duration": 31,
    "start_time": "2023-08-13T03:31:28.014Z"
   },
   {
    "duration": 240,
    "start_time": "2023-08-13T03:31:28.046Z"
   },
   {
    "duration": 21,
    "start_time": "2023-08-13T03:31:28.287Z"
   },
   {
    "duration": 39,
    "start_time": "2023-08-13T03:31:28.309Z"
   },
   {
    "duration": 64,
    "start_time": "2023-08-13T03:31:28.350Z"
   },
   {
    "duration": 86,
    "start_time": "2023-08-13T03:31:28.419Z"
   },
   {
    "duration": 241,
    "start_time": "2023-08-13T03:31:28.509Z"
   },
   {
    "duration": 10,
    "start_time": "2023-08-13T03:31:28.752Z"
   },
   {
    "duration": 8,
    "start_time": "2023-08-13T03:31:28.763Z"
   },
   {
    "duration": 6,
    "start_time": "2023-08-13T03:31:28.773Z"
   },
   {
    "duration": 32,
    "start_time": "2023-08-13T03:31:28.780Z"
   },
   {
    "duration": 8,
    "start_time": "2023-08-13T03:31:28.814Z"
   },
   {
    "duration": 77,
    "start_time": "2023-08-13T03:31:28.824Z"
   },
   {
    "duration": 23,
    "start_time": "2023-08-13T03:31:28.903Z"
   },
   {
    "duration": 24,
    "start_time": "2023-08-13T03:31:28.994Z"
   },
   {
    "duration": 18,
    "start_time": "2023-08-13T03:31:29.020Z"
   },
   {
    "duration": 13,
    "start_time": "2023-08-13T03:31:29.045Z"
   },
   {
    "duration": 61,
    "start_time": "2023-08-13T03:31:29.060Z"
   },
   {
    "duration": 2639,
    "start_time": "2023-08-13T03:36:08.731Z"
   },
   {
    "duration": 1660,
    "start_time": "2023-08-13T03:36:11.372Z"
   },
   {
    "duration": 42,
    "start_time": "2023-08-13T03:36:13.035Z"
   },
   {
    "duration": 7,
    "start_time": "2023-08-13T03:36:13.080Z"
   },
   {
    "duration": 2064,
    "start_time": "2023-08-13T03:36:13.088Z"
   },
   {
    "duration": 7,
    "start_time": "2023-08-13T03:36:15.154Z"
   },
   {
    "duration": 20,
    "start_time": "2023-08-13T03:36:15.163Z"
   },
   {
    "duration": 12,
    "start_time": "2023-08-13T03:36:15.198Z"
   },
   {
    "duration": 35,
    "start_time": "2023-08-13T03:36:15.212Z"
   },
   {
    "duration": 9,
    "start_time": "2023-08-13T03:36:15.250Z"
   },
   {
    "duration": 9,
    "start_time": "2023-08-13T03:36:15.261Z"
   },
   {
    "duration": 9,
    "start_time": "2023-08-13T03:36:15.271Z"
   },
   {
    "duration": 7,
    "start_time": "2023-08-13T03:36:15.282Z"
   },
   {
    "duration": 32,
    "start_time": "2023-08-13T03:36:15.290Z"
   },
   {
    "duration": 4,
    "start_time": "2023-08-13T03:36:15.324Z"
   },
   {
    "duration": 198,
    "start_time": "2023-08-13T03:36:15.330Z"
   },
   {
    "duration": 4,
    "start_time": "2023-08-13T03:36:15.530Z"
   },
   {
    "duration": 82,
    "start_time": "2023-08-13T03:36:15.535Z"
   },
   {
    "duration": 80,
    "start_time": "2023-08-13T03:36:15.619Z"
   },
   {
    "duration": 8,
    "start_time": "2023-08-13T03:36:15.701Z"
   },
   {
    "duration": 216,
    "start_time": "2023-08-13T03:36:15.714Z"
   },
   {
    "duration": 9,
    "start_time": "2023-08-13T03:36:15.932Z"
   },
   {
    "duration": 5,
    "start_time": "2023-08-13T03:36:15.942Z"
   },
   {
    "duration": 11,
    "start_time": "2023-08-13T03:36:15.949Z"
   },
   {
    "duration": 12,
    "start_time": "2023-08-13T03:36:15.962Z"
   },
   {
    "duration": 23,
    "start_time": "2023-08-13T03:36:15.976Z"
   },
   {
    "duration": 8,
    "start_time": "2023-08-13T03:36:16.001Z"
   },
   {
    "duration": 92,
    "start_time": "2023-08-13T03:36:16.017Z"
   },
   {
    "duration": 18,
    "start_time": "2023-08-13T03:36:16.112Z"
   },
   {
    "duration": 6,
    "start_time": "2023-08-13T03:36:16.131Z"
   },
   {
    "duration": 9,
    "start_time": "2023-08-13T03:36:16.139Z"
   },
   {
    "duration": 75,
    "start_time": "2023-08-13T03:36:16.150Z"
   },
   {
    "duration": 47,
    "start_time": "2023-08-13T20:04:51.939Z"
   },
   {
    "duration": 3160,
    "start_time": "2023-08-13T20:04:59.533Z"
   },
   {
    "duration": 1629,
    "start_time": "2023-08-13T20:05:02.696Z"
   },
   {
    "duration": 103,
    "start_time": "2023-08-13T20:05:04.327Z"
   },
   {
    "duration": 7,
    "start_time": "2023-08-13T20:05:04.432Z"
   },
   {
    "duration": 1775,
    "start_time": "2023-08-13T20:05:04.441Z"
   },
   {
    "duration": 7,
    "start_time": "2023-08-13T20:05:18.966Z"
   },
   {
    "duration": 8,
    "start_time": "2023-08-13T20:05:20.063Z"
   },
   {
    "duration": 6,
    "start_time": "2023-08-13T20:05:20.957Z"
   },
   {
    "duration": 6,
    "start_time": "2023-08-13T20:05:23.133Z"
   },
   {
    "duration": 5,
    "start_time": "2023-08-13T20:05:23.324Z"
   },
   {
    "duration": 4,
    "start_time": "2023-08-13T20:05:23.885Z"
   },
   {
    "duration": 4,
    "start_time": "2023-08-13T20:05:30.497Z"
   },
   {
    "duration": 12,
    "start_time": "2023-08-13T20:05:32.131Z"
   },
   {
    "duration": 4,
    "start_time": "2023-08-13T20:05:32.291Z"
   },
   {
    "duration": 152,
    "start_time": "2023-08-13T20:05:32.451Z"
   },
   {
    "duration": 4,
    "start_time": "2023-08-13T20:05:34.321Z"
   },
   {
    "duration": 19,
    "start_time": "2023-08-13T20:05:37.377Z"
   },
   {
    "duration": 8,
    "start_time": "2023-08-13T20:05:40.748Z"
   },
   {
    "duration": 4,
    "start_time": "2023-08-13T20:05:41.015Z"
   },
   {
    "duration": 180,
    "start_time": "2023-08-13T20:05:43.793Z"
   },
   {
    "duration": 2128,
    "start_time": "2023-08-13T20:51:25.586Z"
   },
   {
    "duration": 1419,
    "start_time": "2023-08-13T20:51:27.717Z"
   },
   {
    "duration": 41,
    "start_time": "2023-08-13T20:51:29.137Z"
   },
   {
    "duration": 7,
    "start_time": "2023-08-13T20:51:29.180Z"
   },
   {
    "duration": 1861,
    "start_time": "2023-08-13T20:51:29.189Z"
   },
   {
    "duration": 9,
    "start_time": "2023-08-13T20:51:31.060Z"
   },
   {
    "duration": 30,
    "start_time": "2023-08-13T20:51:31.071Z"
   },
   {
    "duration": 44,
    "start_time": "2023-08-13T20:51:31.103Z"
   },
   {
    "duration": 39,
    "start_time": "2023-08-13T20:51:31.149Z"
   },
   {
    "duration": 53,
    "start_time": "2023-08-13T20:51:31.190Z"
   },
   {
    "duration": 21,
    "start_time": "2023-08-13T20:51:31.245Z"
   },
   {
    "duration": 31,
    "start_time": "2023-08-13T20:51:31.268Z"
   },
   {
    "duration": 33,
    "start_time": "2023-08-13T20:51:31.302Z"
   },
   {
    "duration": 24,
    "start_time": "2023-08-13T20:51:31.339Z"
   },
   {
    "duration": 164,
    "start_time": "2023-08-13T20:51:31.365Z"
   },
   {
    "duration": 5,
    "start_time": "2023-08-13T20:51:31.532Z"
   },
   {
    "duration": 120,
    "start_time": "2023-08-13T20:51:31.540Z"
   },
   {
    "duration": 13,
    "start_time": "2023-08-13T20:51:31.661Z"
   },
   {
    "duration": 169,
    "start_time": "2023-08-13T20:51:31.676Z"
   },
   {
    "duration": 236,
    "start_time": "2023-08-13T20:51:31.847Z"
   },
   {
    "duration": 8,
    "start_time": "2023-08-13T20:51:32.085Z"
   },
   {
    "duration": 31,
    "start_time": "2023-08-13T20:51:32.095Z"
   },
   {
    "duration": 57,
    "start_time": "2023-08-13T20:51:32.128Z"
   },
   {
    "duration": 62,
    "start_time": "2023-08-13T20:51:32.188Z"
   },
   {
    "duration": 38,
    "start_time": "2023-08-13T20:51:32.252Z"
   },
   {
    "duration": 69,
    "start_time": "2023-08-13T20:51:32.292Z"
   },
   {
    "duration": 99,
    "start_time": "2023-08-13T20:51:32.363Z"
   },
   {
    "duration": 11,
    "start_time": "2023-08-13T20:51:32.464Z"
   },
   {
    "duration": 6,
    "start_time": "2023-08-13T20:51:32.477Z"
   },
   {
    "duration": 17,
    "start_time": "2023-08-13T20:51:32.484Z"
   },
   {
    "duration": 63,
    "start_time": "2023-08-13T20:51:32.503Z"
   },
   {
    "duration": 2360,
    "start_time": "2023-08-13T21:01:11.763Z"
   },
   {
    "duration": 6,
    "start_time": "2023-08-13T21:01:14.125Z"
   },
   {
    "duration": 51,
    "start_time": "2023-08-13T21:01:14.134Z"
   },
   {
    "duration": 9,
    "start_time": "2023-08-13T21:01:14.187Z"
   },
   {
    "duration": 1831,
    "start_time": "2023-08-13T21:01:14.199Z"
   },
   {
    "duration": 7,
    "start_time": "2023-08-13T21:01:16.032Z"
   },
   {
    "duration": 21,
    "start_time": "2023-08-13T21:01:16.060Z"
   },
   {
    "duration": 9,
    "start_time": "2023-08-13T21:01:16.083Z"
   },
   {
    "duration": 13,
    "start_time": "2023-08-13T21:01:16.094Z"
   },
   {
    "duration": 7,
    "start_time": "2023-08-13T21:01:16.112Z"
   },
   {
    "duration": 13,
    "start_time": "2023-08-13T21:01:16.121Z"
   },
   {
    "duration": 23,
    "start_time": "2023-08-13T21:01:16.136Z"
   },
   {
    "duration": 13,
    "start_time": "2023-08-13T21:01:16.161Z"
   },
   {
    "duration": 4,
    "start_time": "2023-08-13T21:01:16.177Z"
   },
   {
    "duration": 326,
    "start_time": "2023-08-13T21:01:16.183Z"
   },
   {
    "duration": 5,
    "start_time": "2023-08-13T21:01:16.511Z"
   },
   {
    "duration": 52,
    "start_time": "2023-08-13T21:01:16.518Z"
   },
   {
    "duration": 94,
    "start_time": "2023-08-13T21:01:16.573Z"
   },
   {
    "duration": 4,
    "start_time": "2023-08-13T21:01:16.673Z"
   },
   {
    "duration": 305,
    "start_time": "2023-08-13T21:01:16.679Z"
   },
   {
    "duration": 14,
    "start_time": "2023-08-13T21:01:16.987Z"
   },
   {
    "duration": 27,
    "start_time": "2023-08-13T21:01:17.003Z"
   },
   {
    "duration": 10,
    "start_time": "2023-08-13T21:01:17.033Z"
   },
   {
    "duration": 31,
    "start_time": "2023-08-13T21:01:17.045Z"
   },
   {
    "duration": 13,
    "start_time": "2023-08-13T21:01:17.079Z"
   },
   {
    "duration": 5,
    "start_time": "2023-08-13T21:01:17.095Z"
   },
   {
    "duration": 66,
    "start_time": "2023-08-13T21:01:17.103Z"
   },
   {
    "duration": 89,
    "start_time": "2023-08-13T21:01:17.175Z"
   },
   {
    "duration": 5,
    "start_time": "2023-08-13T21:01:17.268Z"
   },
   {
    "duration": 12,
    "start_time": "2023-08-13T21:01:17.275Z"
   },
   {
    "duration": 73,
    "start_time": "2023-08-13T21:01:17.290Z"
   },
   {
    "duration": 2185,
    "start_time": "2023-08-13T21:04:48.998Z"
   },
   {
    "duration": 1554,
    "start_time": "2023-08-13T21:04:51.186Z"
   },
   {
    "duration": 42,
    "start_time": "2023-08-13T21:04:52.742Z"
   },
   {
    "duration": 7,
    "start_time": "2023-08-13T21:04:52.786Z"
   },
   {
    "duration": 1919,
    "start_time": "2023-08-13T21:04:52.796Z"
   },
   {
    "duration": 7,
    "start_time": "2023-08-13T21:04:54.716Z"
   },
   {
    "duration": 65,
    "start_time": "2023-08-13T21:04:54.724Z"
   },
   {
    "duration": 35,
    "start_time": "2023-08-13T21:04:54.790Z"
   },
   {
    "duration": 72,
    "start_time": "2023-08-13T21:04:54.828Z"
   },
   {
    "duration": 30,
    "start_time": "2023-08-13T21:04:54.902Z"
   },
   {
    "duration": 64,
    "start_time": "2023-08-13T21:04:54.934Z"
   },
   {
    "duration": 36,
    "start_time": "2023-08-13T21:04:55.000Z"
   },
   {
    "duration": 71,
    "start_time": "2023-08-13T21:04:55.038Z"
   },
   {
    "duration": 31,
    "start_time": "2023-08-13T21:04:55.112Z"
   },
   {
    "duration": 226,
    "start_time": "2023-08-13T21:04:55.146Z"
   },
   {
    "duration": 5,
    "start_time": "2023-08-13T21:04:55.375Z"
   },
   {
    "duration": 59,
    "start_time": "2023-08-13T21:04:55.382Z"
   },
   {
    "duration": 16,
    "start_time": "2023-08-13T21:04:55.460Z"
   },
   {
    "duration": 84,
    "start_time": "2023-08-13T21:04:55.478Z"
   },
   {
    "duration": 234,
    "start_time": "2023-08-13T21:04:55.565Z"
   },
   {
    "duration": 11,
    "start_time": "2023-08-13T21:04:55.802Z"
   },
   {
    "duration": 6,
    "start_time": "2023-08-13T21:04:55.816Z"
   },
   {
    "duration": 16,
    "start_time": "2023-08-13T21:04:55.825Z"
   },
   {
    "duration": 16,
    "start_time": "2023-08-13T21:04:55.843Z"
   },
   {
    "duration": 20,
    "start_time": "2023-08-13T21:04:55.862Z"
   },
   {
    "duration": 75,
    "start_time": "2023-08-13T21:04:55.884Z"
   },
   {
    "duration": 8,
    "start_time": "2023-08-13T21:04:55.962Z"
   },
   {
    "duration": 87,
    "start_time": "2023-08-13T21:04:55.973Z"
   },
   {
    "duration": 5,
    "start_time": "2023-08-13T21:04:56.063Z"
   },
   {
    "duration": 16,
    "start_time": "2023-08-13T21:04:56.069Z"
   },
   {
    "duration": 79,
    "start_time": "2023-08-13T21:04:56.087Z"
   }
  ],
  "kernelspec": {
   "display_name": "Python 3 (ipykernel)",
   "language": "python",
   "name": "python3"
  },
  "language_info": {
   "codemirror_mode": {
    "name": "ipython",
    "version": 3
   },
   "file_extension": ".py",
   "mimetype": "text/x-python",
   "name": "python",
   "nbconvert_exporter": "python",
   "pygments_lexer": "ipython3",
   "version": "3.9.5"
  },
  "toc": {
   "base_numbering": 1,
   "nav_menu": {},
   "number_sections": true,
   "sideBar": true,
   "skip_h1_title": true,
   "title_cell": "Содержание",
   "title_sidebar": "Contents",
   "toc_cell": true,
   "toc_position": {},
   "toc_section_display": true,
   "toc_window_display": true
  }
 },
 "nbformat": 4,
 "nbformat_minor": 2
}
